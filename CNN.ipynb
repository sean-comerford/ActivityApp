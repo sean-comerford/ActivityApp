{
  "cells": [
    {
      "cell_type": "markdown",
      "metadata": {
        "id": "Rzd9Z9OZxNvd"
      },
      "source": [
        "# **Lab 3 - Activity Recognition with Machine Learning**\n",
        "\n",
        "This notebook implements a machine learning workflow to recognize different physical activities from Respeck sensor data. The dataset includes multiple 30-second recordings of various physical activities (e.g., ascending stairs, shuffle walking, sitting-standing) stored in separate CSV files for each activity.\n",
        "\n",
        "You will then use the model you develop here and deploy it inside your Android app for live classification.\n",
        "\n",
        "In this week, you will not have access to the full dataset as of yet. However, you can complete this lab by combining the data that you and your group mates have collected in Coursework 1 as proof-of-concept first for when you eventually receive the full dataset.\n"
      ]
    },
    {
      "cell_type": "markdown",
      "metadata": {
        "id": "fXyHZD1A0X7J"
      },
      "source": [
        "# Imports"
      ]
    },
    {
      "cell_type": "code",
      "execution_count": 11,
      "metadata": {
        "id": "s2B8Hymdj1Sg"
      },
      "outputs": [],
      "source": [
        "# Importing libraries that will be used\n",
        "import pandas as pd\n",
        "import numpy as np\n",
        "import glob\n",
        "import os\n",
        "from sklearn.model_selection import train_test_split\n",
        "from sklearn.preprocessing import OneHotEncoder\n",
        "import tensorflow as tf\n",
        "from tensorflow.keras.models import Sequential\n",
        "from tensorflow.keras.layers import Conv1D, MaxPooling1D, Flatten, Dense, Dropout\n",
        "from sklearn.metrics import classification_report"
      ]
    },
    {
      "cell_type": "markdown",
      "metadata": {
        "id": "icbrBf1Kl6vp"
      },
      "source": [
        "# Reading Files\n",
        "Reading files from your dataset"
      ]
    },
    {
      "cell_type": "code",
      "execution_count": 12,
      "metadata": {
        "id": "pTsJd33Kl44J"
      },
      "outputs": [],
      "source": [
        "# Put in the path of your dataset here\n",
        "your_dataset_path = \"./PDIoT2324/\""
      ]
    },
    {
      "cell_type": "markdown",
      "metadata": {
        "id": "gOTe3o9Il4ST"
      },
      "source": [
        "This line uses the glob module to find all file paths that match a specified pattern. The 'glob.glob()' function returns a list of file paths that match the given pattern. `your_dataset_path` should be the directory where your dataset files are located.\n",
        "\n",
        "The `*` is a wildcard character that matches any string of characters,  so this pattern retrieves all folders in the 'your_dataset_path' directory.\n",
        "\n",
        "Below is just an example of what your dataset folder can look like. You should refer to the Coursework 3 instructions on what classes your model(s) are expected to be able to classify. Within your dataset directory, there should be subfolders, each representing a class of activity."
      ]
    },
    {
      "cell_type": "code",
      "execution_count": 13,
      "metadata": {
        "colab": {
          "base_uri": "https://localhost:8080/"
        },
        "id": "-4izGxKkllz6",
        "outputId": "49f7031e-36ae-454a-a8dc-4a7e92243315"
      },
      "outputs": [
        {
          "data": {
            "text/plain": [
              "['./PDIoT2324\\\\Respeck', './PDIoT2324\\\\Thingy']"
            ]
          },
          "execution_count": 13,
          "metadata": {},
          "output_type": "execute_result"
        }
      ],
      "source": [
        "glob.glob(your_dataset_path + \"*\")"
      ]
    },
    {
      "cell_type": "markdown",
      "metadata": {
        "id": "Z3zJiRjym7LU"
      },
      "source": [
        "To see the files in each subfolder you can similarly do:"
      ]
    },
    {
      "cell_type": "code",
      "execution_count": 14,
      "metadata": {
        "colab": {
          "base_uri": "https://localhost:8080/"
        },
        "id": "TCS4lQgwnO9X",
        "outputId": "14dd9919-74f0-462f-e9a3-3122040278ce"
      },
      "outputs": [
        {
          "data": {
            "text/plain": [
              "[]"
            ]
          },
          "execution_count": 14,
          "metadata": {},
          "output_type": "execute_result"
        }
      ],
      "source": [
        "activity_folder = \"ascending_stairs\"\n",
        "glob.glob(your_dataset_path + \"/\"+activity_folder+\"/*\")"
      ]
    },
    {
      "cell_type": "markdown",
      "metadata": {
        "id": "w7eNuiHKmBuT"
      },
      "source": [
        "# Functions"
      ]
    },
    {
      "cell_type": "markdown",
      "metadata": {
        "id": "9zdg12YooOJF"
      },
      "source": [
        "## Load list of files in an activity folder"
      ]
    },
    {
      "cell_type": "code",
      "execution_count": 48,
      "metadata": {
        "id": "b_ZtuAb64ZsD"
      },
      "outputs": [],
      "source": [
        "def load_files_from_folder(folder_path):\n",
        "    \"\"\"\n",
        "    Load all CSV files from a folder and return a list of file paths.\n",
        "\n",
        "    Parameters:\n",
        "    folder_path (str): The path to the folder containing CSV files.\n",
        "\n",
        "    Returns:\n",
        "    list: A list of file paths for all CSV files in the folder.\n",
        "    \"\"\"\n",
        "\n",
        "    # Initialize an empty list to store the full file paths of the CSV files\n",
        "    file_paths = []\n",
        "\n",
        "    # Loop through all the files in the given folder\n",
        "    for file_name in os.listdir(folder_path):\n",
        "        # Check if the file has a .csv extension (ignores other files)\n",
        "        if file_name.endswith('.csv'):\n",
        "            # Construct the full file path by joining the folder path and the file name\n",
        "            full_file_path = os.path.join(folder_path, file_name)\n",
        "\n",
        "            # Append the full file path to the file_paths list\n",
        "            file_paths.append(full_file_path)\n",
        "\n",
        "    # Return the complete list of CSV file paths\n",
        "    return file_paths"
      ]
    },
    {
      "cell_type": "markdown",
      "metadata": {
        "id": "hAUGBeBBn_L8"
      },
      "source": [
        "## Train and test set split from list of files"
      ]
    },
    {
      "cell_type": "code",
      "execution_count": 49,
      "metadata": {
        "id": "2SzHoQz2NH3v"
      },
      "outputs": [],
      "source": [
        "def split_files(file_list, test_size=0.2):\n",
        "    \"\"\"\n",
        "    Split the list of files into training and test sets.\n",
        "\n",
        "    Parameters:\n",
        "    file_list (list): List of file paths to be split into train and test sets.\n",
        "    test_size (float): The proportion of files to allocate to the test set.\n",
        "                       Default is 0.2, meaning 20% of the files will be used for testing.\n",
        "\n",
        "    Returns:\n",
        "    tuple:\n",
        "        - train_files (list): List of file paths for the training set.\n",
        "        - test_files (list): List of file paths for the test set.\n",
        "    \"\"\"\n",
        "\n",
        "    # Split the file list into training and test sets using train_test_split from scikit-learn\n",
        "    # test_size defines the proportion of the data to use as the test set (default is 20%)\n",
        "    # shuffle=True ensures that the files are shuffled randomly before splitting\n",
        "    train_files, test_files = train_test_split(file_list, test_size=test_size, shuffle=True)\n",
        "\n",
        "    # Return the train and test file lists\n",
        "    return train_files, test_files"
      ]
    },
    {
      "cell_type": "markdown",
      "metadata": {
        "id": "_J7-zQgZzP19"
      },
      "source": [
        "## Sliding Window\n",
        "\n",
        "In time series Activity Recognition, a sliding window is a commonly used technique to segment continuous sensor data (such as accelerometer readings) into smaller, fixed-length overlapping or non-overlapping time intervals, or windows. Each window contains a sequence of sensor measurements that represent a short period of time, and this segmented data is used to extract features or make predictions about the activity happening within that window.\n",
        "\n",
        "### Key Concepts of a Sliding Window\n",
        "1.   **Window Size:** This refers to the length of each segment or window, typically defined in terms of the number of time steps or the duration (e.g., 2 seconds). The window size should be chosen carefully to capture enough information about the activity without making the window too large.\n",
        "2.   **Step Size:** The step size determines how far the window moves forward after each step. If the step size is smaller than the window size, the windows will overlap. For example, if the window size is 5 seconds and the step size is 2 seconds, there will be a 3-second overlap between consecutive windows. Overlapping windows provide more data for analysis and can help smooth out predictions by capturing transitional activities.\n",
        "3.   **Non-Overlapping Windows:** If the step size is equal to the window size, the windows do not overlap. This method provides distinct segments of data but may miss transitional phases between activities.\n",
        "\n",
        "### Why Sliding Windows for Activity Recognition?\n",
        "\n",
        "* Segmentation of Continuous Data: Activity recognition systems work with continuous streams of sensor data, and the sliding window helps segment these into manageable pieces to classify activities within specific intervals.\n",
        "\n",
        "* Context Capturing: Human activities are often complex and spread across time. By using a sliding window, you can capture context across a short duration, which may include transitions or small fluctuations in the activity (e.g., a person moving from sitting to standing).\n",
        "\n",
        "* Feature Extraction: Within each window, features such as mean, variance, frequency domain features, etc., can be extracted to help classify the activity.\n",
        "\n",
        "* Real-Time Recognition: In real-time systems, the sliding window allows for continuous monitoring and updating of predictions as new data arrives.\n",
        "\n"
      ]
    },
    {
      "cell_type": "code",
      "execution_count": 50,
      "metadata": {
        "id": "u3SuHww6MpEx"
      },
      "outputs": [],
      "source": [
        "def load_and_apply_sliding_windows(file_paths, window_size, step_size, label):\n",
        "    \"\"\"\n",
        "    Load the data from each file, apply sliding windows, and return the windows and labels.\n",
        "\n",
        "    Parameters:\n",
        "    file_paths (list): List of file paths to CSV files. Each file contains sensor data (e.g., accelerometer, gyroscope).\n",
        "    window_size (int): The size of each sliding window (number of time steps).\n",
        "    step_size (int): The step size (stride) between consecutive windows.\n",
        "    label (int or str): The label for the activity corresponding to the folder.\n",
        "                        This label will be assigned to each sliding window extracted from the data.\n",
        "\n",
        "    Returns:\n",
        "    tuple:\n",
        "        - windows (numpy.ndarray): A 3D array of sliding windows, where each window has the shape\n",
        "                                   (num_windows, window_size, num_features).\n",
        "        - labels (numpy.ndarray): A 1D array of labels, where each label corresponds to a sliding window.\n",
        "    \"\"\"\n",
        "    # Initialize lists to store sliding windows and their corresponding labels\n",
        "    windows = []\n",
        "    labels = []\n",
        "\n",
        "    # Loop through each file in the provided file paths\n",
        "    for file_path in file_paths:\n",
        "        # Load the CSV file into a pandas DataFrame\n",
        "        data = pd.read_csv(file_path)\n",
        "\n",
        "        # Select the columns containing the necessary sensor data (acceleration and gyroscope readings)\n",
        "        # These columns might vary depending on your dataset's structure\n",
        "        data = data[['accel_x', 'accel_y', 'accel_z', 'gyro_x', 'gyro_y', 'gyro_z']]\n",
        "\n",
        "        # Convert the DataFrame into a numpy array for faster processing in the sliding window operation\n",
        "        data = data.to_numpy()\n",
        "\n",
        "        # Get the number of samples (rows) and features (columns) in the data\n",
        "        num_samples, num_features = data.shape\n",
        "\n",
        "        # Apply sliding windows to the data\n",
        "        # The range function defines the start of each window, moving step_size increments at a time\n",
        "        for i in range(0, num_samples - window_size + 1, step_size):\n",
        "            # Extract a window of size 'window_size' from the current position 'i'\n",
        "            window = data[i:i + window_size, :]\n",
        "\n",
        "            # Append the window to the windows list\n",
        "            windows.append(window)\n",
        "\n",
        "            # Assign the activity label to the window and append it to the labels list\n",
        "            labels.append(label)\n",
        "\n",
        "    # Convert the lists of windows and labels into numpy arrays for efficient numerical operations\n",
        "    return np.array(windows), np.array(labels)"
      ]
    },
    {
      "cell_type": "markdown",
      "metadata": {
        "id": "9-Ku5P4Lm8QA"
      },
      "source": [
        "## Load and Split Train Test for Each Activity Folder\n",
        "\n",
        "This function processes the sensor data for a specific activity, such as 'walking' or 'running', stored in its respective folder. It splits the data into training and testing sets, applies sliding windows, and labels the windows with the corresponding activity. This function can be used repeatedly for each activity to process and prepare data for training and evaluation."
      ]
    },
    {
      "cell_type": "code",
      "execution_count": 51,
      "metadata": {
        "id": "zBVvTBi7N_fh"
      },
      "outputs": [],
      "source": [
        "def process_activity(activity, label, dataset_path, window_size=50, step_size=50, test_size=0.2):\n",
        "    \"\"\"\n",
        "    Processes an activity folder by loading the file list, splitting them into\n",
        "    train and test sets, and applying sliding windows to the files.\n",
        "\n",
        "    Args:\n",
        "        activity (str): Name of the activity (folder name). This refers to the specific physical activity\n",
        "                        like 'walking', 'running', etc.\n",
        "        label (int): Numeric label corresponding to the activity, used for classification.\n",
        "        dataset_path (str): Base path where the activity folders are located.\n",
        "        window_size (int): Size of the sliding window, i.e., the number of time steps included in each window.\n",
        "                           Default is 50.\n",
        "        step_size (int): Step size for the sliding window, i.e., how far the window moves along the data.\n",
        "                         Default is 50 (no overlap between windows).\n",
        "        test_size (float): Proportion of files to use for testing. Default is 0.2, meaning 20% of files will\n",
        "                           be allocated to the test set.\n",
        "\n",
        "    Returns:\n",
        "        tuple:\n",
        "            - train_windows (numpy.ndarray): Sliding windows from the training files.\n",
        "            - train_labels (numpy.ndarray): Corresponding labels for the training windows.\n",
        "            - test_windows (numpy.ndarray): Sliding windows from the test files.\n",
        "            - test_labels (numpy.ndarray): Corresponding labels for the test windows.\n",
        "    \"\"\"\n",
        "    # Construct the full folder path where the activity files are stored\n",
        "    folder_path = os.path.join(dataset_path, activity)\n",
        "\n",
        "    # Load all CSV file paths for the given activity from the folder\n",
        "    file_list = load_files_from_folder(folder_path)\n",
        "\n",
        "    # Split the file list into training and testing sets\n",
        "    # train_files: files used for training\n",
        "    # test_files: files used for testing\n",
        "    train_files, test_files = split_files(file_list, test_size=test_size)\n",
        "\n",
        "    # Apply sliding windows to the training files\n",
        "    # The function 'load_and_apply_sliding_windows' returns the sliding windows (segments) and their corresponding labels\n",
        "    train_windows, train_labels = load_and_apply_sliding_windows(train_files, window_size, step_size, label)\n",
        "\n",
        "    # Apply sliding windows to the testing files\n",
        "    test_windows, test_labels = load_and_apply_sliding_windows(test_files, window_size, step_size, label)\n",
        "\n",
        "    # Return the sliding windows and their labels for both training and testing sets\n",
        "    return train_windows, train_labels, test_windows, test_labels"
      ]
    },
    {
      "cell_type": "markdown",
      "metadata": {
        "id": "Vv2TUL_Tnnxu"
      },
      "source": [
        "## Combine Data\n",
        "The function combines the sliding window data and their corresponding labels from multiple activities (e.g., walking, running, etc.) into single arrays."
      ]
    },
    {
      "cell_type": "code",
      "execution_count": 52,
      "metadata": {
        "id": "au6dRWtmmig7"
      },
      "outputs": [],
      "source": [
        "def combine_data(train_test_data, data_type):\n",
        "    \"\"\"\n",
        "    Combines the sliding windows and labels from all activities into a single\n",
        "    array for either training or testing.\n",
        "\n",
        "    Args:\n",
        "        train_test_data (dict): Dictionary containing the sliding window data for all activities.\n",
        "                                Each key in the dictionary corresponds to an activity, and the value is another\n",
        "                                dictionary with the keys 'train_windows', 'train_labels', 'test_windows', 'test_labels'.\n",
        "        data_type (str): Either 'train' or 'test' to specify which data to combine (e.g., 'train_windows' or 'test_windows').\n",
        "\n",
        "    Returns:\n",
        "        tuple:\n",
        "            - windows (numpy.ndarray): Concatenated windows from all activities for either training or testing.\n",
        "            - labels (numpy.ndarray): Concatenated labels corresponding to the windows from all activities.\n",
        "    \"\"\"\n",
        "\n",
        "    # Extract the list of sliding windows for the specified data type (either 'train' or 'test') from each activity\n",
        "    # For example, if data_type is 'train', it extracts 'train_windows' for all activities\n",
        "    windows_list = [train_test_data[activity][f'{data_type}_windows'] for activity in train_test_data]\n",
        "\n",
        "    # Similarly, extract the list of labels corresponding to the windows for each activity\n",
        "    labels_list = [train_test_data[activity][f'{data_type}_labels'] for activity in train_test_data]\n",
        "\n",
        "    # Concatenate all the sliding windows into a single numpy array along the first axis (rows)\n",
        "    # This creates one large array of windows from all the activities combined\n",
        "    concatenated_windows = np.concatenate(windows_list, axis=0)\n",
        "\n",
        "    # Concatenate all the labels into a single numpy array along the first axis (rows)\n",
        "    # The labels are now aligned with the concatenated windows\n",
        "    concatenated_labels = np.concatenate(labels_list, axis=0)\n",
        "\n",
        "    # Return the concatenated windows and labels as a tuple\n",
        "    return concatenated_windows, concatenated_labels"
      ]
    },
    {
      "cell_type": "markdown",
      "metadata": {
        "id": "_Wv1PuOLgUV8"
      },
      "source": [
        "## 1D CNN Model\n",
        "\n",
        "This function, `build_1d_cnn_model`, creates and compiles a 1D Convolutional Neural Network (CNN) for multi-class classification tasks.\n",
        "\n",
        "### Function Overview\n",
        "\n",
        "Input Parameters\n",
        "* `input_shape`: Specifies the shape of the input data. It represents (timesteps, features), where timesteps refer to the length of the time series (e.g., 50 windows), and features represent the number of measurements in each time step (e.g., accelerometer readings).\n",
        "* `num_classes`: The number of output classes for the classification problem. For example, if you're classifying six different activities, num_classes would be 6.\n",
        "\n",
        "Returns\n",
        "* The function returns a compiled 1D CNN model that is ready to be trained on your data.\n",
        "\n",
        "<hr>\n",
        "\n",
        "### Function Breakdown\n",
        "1.   Model Initialization:\n",
        "    * `model = Sequential()`: Initializes a Sequential model, which means layers will be stacked on top of each other in a linear fashion.\n",
        "2.   First Convolutional Layer\n",
        "    * `Conv1D(filters=64, kernel_size=3, activation='relu', input_shape=input_shape)`\n",
        "        * This is the first 1D convolutional layer\n",
        "        * `filters=64`: The layer applies 64 filters (or kernels) over the input data.\n",
        "        * `kernel_size=3`: Each filter will cover 3 timesteps at a time (a window of 3).\n",
        "        * `activation='relu'`: The Rectified Linear Unit (ReLU) activation function introduces non-linearity and helps the model learn complex patterns.\n",
        "        * `input_shape=input_shape`: Specifies the shape of the input data.\n",
        "    * `MaxPooling1D(pool_size=2)`: This pooling layer reduces the dimensionality of the data by taking the maximum value from each 2-timestep window (`pool_size=2`). This helps reduce computational complexity and captures the most important features.\n",
        "3. Second Convolutional Layer:\n",
        "    * `Conv1D(filters=128, kernel_size=3, activation='relu')`\n",
        "        * This is the second convolutional layer, similar to the first, but with 128 filters, which allow the network to learn more complex features from the data.\n",
        "        * `kernel_size=3` and activation='relu' function in the same way as the first Conv1D layer.\n",
        "    * `MaxPooling1D(pool_size=2)`: Another pooling layer to downsample the output, further reducing the data’s dimensionality.\n",
        "4. Flattening Layer:\n",
        "    * `Flattening`: Converts the 2D output of the convolutional and pooling layers into a 1D vector. This is necessary because the next layer is fully connected, and it requires a 1D input.\n",
        "5. Fully Connected Layer:\n",
        "    * `Dense(128, activation='relu')`: This is a fully connected layer with 128 units/neurons. Each neuron is connected to every input from the flattened output. The ReLU activation function is used again to introduce non-linearity and help the model learn complex relationships.\n",
        "6. Dropout Layer:\n",
        "    * `Dropout(0.5)`: This layer randomly sets 50% of the neurons to zero during training to prevent overfitting. It helps the model generalize better to unseen data.\n",
        "7. Output Layer:\n",
        "    * `Dense(num_classes, activation='softmax')`: This is the output layer with num_classes neurons, one for each class in the classification problem. The softmax activation function ensures the output values represent probabilities that sum to 1, useful for multi-class classification.\n",
        "8. Compiling the model\n",
        "    * model.compile(optimizer='adam', loss='categorical_crossentropy', metrics=['accuracy']):\n",
        "        * Optimizer: 'adam': Adam is an optimization algorithm that adjusts the learning rate during training to improve performance.\n",
        "        * Loss: 'categorical_crossentropy': This loss function is used for multi-class classification problems where the target variable is one-hot encoded (i.e., represented as a vector of 0s and 1s).\n",
        "        * Metrics: ['accuracy']: The accuracy metric is used to evaluate the model’s performance during training and testing.\n"
      ]
    },
    {
      "cell_type": "code",
      "execution_count": 10,
      "metadata": {
        "id": "sCOkh99EOg8t"
      },
      "outputs": [],
      "source": [
        "def build_1d_cnn_model(input_shape, num_classes):\n",
        "    \"\"\"\n",
        "    Builds and compiles a 1D CNN model for multi-class classification.\n",
        "\n",
        "    Args:\n",
        "        input_shape (tuple): The shape of the input data (timesteps, features).\n",
        "        num_classes (int): The number of output classes.\n",
        "\n",
        "    Returns:\n",
        "        model (Sequential): Compiled 1D CNN model.\n",
        "    \"\"\"\n",
        "    model = Sequential()\n",
        "\n",
        "    # First Conv1D layer\n",
        "    # You can try experimenting with different filters, kernel_size values and activiation functions\n",
        "    model.add(Conv1D(filters=64, kernel_size=3, activation='relu', input_shape=input_shape))\n",
        "    model.add(MaxPooling1D(pool_size=2))\n",
        "\n",
        "    # Second Conv1D layer\n",
        "    # You can try experimenting with different filters, kernel_size values and activiation functions\n",
        "    model.add(Conv1D(filters=128, kernel_size=3, activation='relu'))\n",
        "    model.add(MaxPooling1D(pool_size=2))\n",
        "\n",
        "    # Flatten the output from the convolutional layers\n",
        "    model.add(Flatten())\n",
        "\n",
        "    # Fully connected layer\n",
        "    model.add(Dense(128, activation='relu'))\n",
        "\n",
        "    # Dropout layer for regularization\n",
        "    # You can try experimenting with different dropout rates\n",
        "    model.add(Dropout(0.5))\n",
        "\n",
        "    # Output layer with softmax for multi-class classification\n",
        "    model.add(Dense(num_classes, activation='softmax'))\n",
        "\n",
        "    # Compile the model\n",
        "    model.compile(optimizer='adam', loss='categorical_crossentropy', metrics=['accuracy'])\n",
        "\n",
        "    #  Prints a detailed summary of the model, showing the layers, their output shapes, and the number of trainable parameters\n",
        "    model.summary()\n",
        "\n",
        "    return model"
      ]
    },
    {
      "cell_type": "markdown",
      "metadata": {
        "id": "HurfE6lmOjQT"
      },
      "source": [
        "# Classification Pipeline"
      ]
    },
    {
      "cell_type": "markdown",
      "metadata": {
        "id": "DLs1eacYoa_S"
      },
      "source": [
        "## Step 1: Prepare and Preprocess the Data"
      ]
    },
    {
      "cell_type": "code",
      "execution_count": 54,
      "metadata": {
        "id": "QTzHon1EoiEK"
      },
      "outputs": [],
      "source": [
        "# Define activity folders and corresponding labels\n",
        "# Each key is the name of the physical activity, and the corresponding value is the numeric label\n",
        "# These labels will be used as the target variable for classification.\n",
        "activities = {\n",
        "    'ascending_stairs': 0,\n",
        "    'shuffle_walking': 1,\n",
        "    'sitting_standing': 2,\n",
        "    'misc_movement': 3,\n",
        "    'normal_walking': 4,\n",
        "    'lying_down_back': 5,\n",
        "    'lying_down_left': 6,\n",
        "    'lying_down_right': 7,\n",
        "    'lying_down_stomach': 8,\n",
        "    'descending_stairs': 9,\n",
        "    'normal_running': 10\n",
        "}"
      ]
    },
    {
      "cell_type": "code",
      "execution_count": 55,
      "metadata": {
        "id": "2FqqaaX2o1YW"
      },
      "outputs": [],
      "source": [
        "# Dictionary to store sliding windows and labels for both train and test sets for each activity\n",
        "# This will hold the training and test data after processing each activity.\n",
        "train_test_data = {}\n",
        "\n",
        "# Loop through each activity folder and process the data\n",
        "# Note, if you have large amounts of data, this step may take a while\n",
        "for activity, label in activities.items():\n",
        "    # Initialize an empty dictionary for each activity to store train and test windows and labels\n",
        "    train_test_data[activity] = {}\n",
        "\n",
        "    # Call process_activity() to process the data for the current activity folder\n",
        "    # It loads the data, applies sliding windows, splits it into train and test sets,\n",
        "    # and returns the respective sliding windows and labels for both sets.\n",
        "    (train_test_data[activity]['train_windows'], train_test_data[activity]['train_labels'],\n",
        "     train_test_data[activity]['test_windows'], train_test_data[activity]['test_labels']) = process_activity(\n",
        "        activity, label, your_dataset_path)\n",
        "\n",
        "# Explanation:\n",
        "    # - 'train_windows' and 'train_labels' store the windows and labels from the training files.\n",
        "    # - 'test_windows' and 'test_labels' store the windows and labels from the test files.\n",
        "    # - `your_dataset_path` should be replaced with the actual path to your dataset.\n",
        "    # - `process_activity` handles all the steps of loading data, splitting it, and applying sliding windows."
      ]
    },
    {
      "cell_type": "markdown",
      "metadata": {
        "id": "TdGR352hph4X"
      },
      "source": [
        "Now that each activity has been processed and stored in train_test_data, we need to combine the sliding windows and labels from all activities into unified arrays (one for training and one for testing) for model training."
      ]
    },
    {
      "cell_type": "code",
      "execution_count": 56,
      "metadata": {
        "id": "OtpVBr4Fpq_8"
      },
      "outputs": [],
      "source": [
        "# Combine the sliding windows and labels for the training data from all activities\n",
        "# The combine_data() function concatenates the windows and labels across activities\n",
        "X_train, y_train = combine_data(train_test_data, 'train')\n",
        "\n",
        "# Combine the sliding windows and labels for the test data from all activities\n",
        "X_test, y_test = combine_data(train_test_data, 'test')\n",
        "\n",
        "# Explanation:\n",
        "# - `combine_data()` takes in the `train_test_data` dictionary and the data type ('train' or 'test') to specify\n",
        "#   whether we are combining training or testing data.\n",
        "# - It retrieves and concatenates the windows and labels from all activities into single arrays\n",
        "#   (`X_train` and `y_train` for training, `X_test` and `y_test` for testing).\n",
        "# - `X_train` and `X_test` are 3D arrays of sliding windows (shape: num_windows, window_size, num_features).\n",
        "# - `y_train` and `y_test` are 1D arrays containing the activity labels corresponding to each window."
      ]
    },
    {
      "cell_type": "code",
      "execution_count": 57,
      "metadata": {
        "colab": {
          "base_uri": "https://localhost:8080/"
        },
        "id": "ymA3yh7YFKix",
        "outputId": "3682e518-cfe7-454a-e719-664a4c435732"
      },
      "outputs": [
        {
          "name": "stdout",
          "output_type": "stream",
          "text": [
            "X_train shape: (2373, 50, 6), y_train shape: (2373,)\n",
            "X_test shape: (593, 50, 6), y_test shape: (593,)\n"
          ]
        }
      ],
      "source": [
        "# Print the shapes of the training and test arrays to verify that everything has been combined correctly\n",
        "print(f\"X_train shape: {X_train.shape}, y_train shape: {y_train.shape}\")\n",
        "print(f\"X_test shape: {X_test.shape}, y_test shape: {y_test.shape}\")"
      ]
    },
    {
      "cell_type": "markdown",
      "metadata": {
        "id": "1yQGU1vwIQdz"
      },
      "source": [
        "### One-Hot Encode Labels (for multi-class classification)\n",
        "If you have more than two classes, you'll need to one-hot encode the labels, especially if your model will use categorical cross-entropy loss.\n",
        "\n",
        "One-Hot Encoding converts categorical labels into binary vectors (one-hot encoded format). Each class label is represented as a binary vector with 1 for the correct class and 0 for others. This is necessary for training models that use categorical_crossentropy as the loss function, such as a neural network."
      ]
    },
    {
      "cell_type": "code",
      "execution_count": 58,
      "metadata": {
        "id": "9b2J1EVdHj0U"
      },
      "outputs": [],
      "source": [
        "# Initialize the OneHotEncoder\n",
        "encoder = OneHotEncoder(sparse_output=False)\n",
        "\n",
        "# Reshape y_train to a 2D array to meet the input format requirements of OneHotEncoder\n",
        "# - y_train is originally a 1D array of labels (shape: [num_samples]), but OneHotEncoder expects a 2D array of shape (num_samples, 1).\n",
        "# - reshape(-1, 1): The -1 means 'infer the correct size based on the other dimensions' (i.e., it adapts based on the length of y_train).\n",
        "# OneHotEncoder will then create a binary vector for each label.\n",
        "y_train_one_hot = encoder.fit_transform(y_train.reshape(-1, 1))\n",
        "\n",
        "# Apply the same transformation to the test labels (y_test)\n",
        "# - Since the encoder is already fitted on the training data, we use transform() for the test set.\n",
        "# - Reshape y_test to (num_samples, 1) for compatibility with the encoder.\n",
        "y_test_one_hot = encoder.transform(y_test.reshape(-1, 1))\n",
        "\n",
        "# Explanation:\n",
        "# - y_train_one_hot and y_test_one_hot are now 2D arrays where each row is a one-hot encoded binary vector corresponding to a class label.\n",
        "# - The number of columns in the one-hot encoded labels equals the number of unique classes (activities).\n",
        "# For example, if there are 6 unique activities, the encoded vector will have 6 elements, with a '1' indicating the correct class."
      ]
    },
    {
      "cell_type": "code",
      "execution_count": 59,
      "metadata": {
        "colab": {
          "base_uri": "https://localhost:8080/"
        },
        "id": "AlnbOVr0rDbV",
        "outputId": "98ddbd62-4d6c-41ba-ac94-00d74a30f3c4"
      },
      "outputs": [
        {
          "name": "stdout",
          "output_type": "stream",
          "text": [
            "y_train_one_hot shape: (2373, 7), y_test_one_hot shape: (593, 7)\n"
          ]
        }
      ],
      "source": [
        "# Print the shapes of the one-hot encoded labels to verify that the transformation was successful\n",
        "print(f\"y_train_one_hot shape: {y_train_one_hot.shape}, y_test_one_hot shape: {y_test_one_hot.shape}\")\n",
        "\n",
        "# Explanation of shapes:\n",
        "# - The shape of y_train_one_hot will be (num_samples, num_classes), where:\n",
        "#     - num_samples is the number of training windows.\n",
        "#     - num_classes is the number of unique activities (the length of the one-hot vectors).\n",
        "# - Similarly, y_test_one_hot will have the same number of columns (num_classes) as y_train_one_hot but will have fewer rows (corresponding to the number of test windows)."
      ]
    },
    {
      "cell_type": "markdown",
      "metadata": {
        "id": "fEhUxZzzJzzI"
      },
      "source": [
        "## Step 2: Build the 1D-CNN Model\n",
        "Call our `build_1d_cnn_model` functionto build our model"
      ]
    },
    {
      "cell_type": "code",
      "execution_count": 60,
      "metadata": {
        "colab": {
          "base_uri": "https://localhost:8080/",
          "height": 441
        },
        "id": "4sDZWZH_KKBD",
        "outputId": "12cc6048-0921-414c-d2d7-b8d5268a8196"
      },
      "outputs": [
        {
          "name": "stderr",
          "output_type": "stream",
          "text": [
            "/usr/local/lib/python3.10/dist-packages/keras/src/layers/convolutional/base_conv.py:107: UserWarning: Do not pass an `input_shape`/`input_dim` argument to a layer. When using Sequential models, prefer using an `Input(shape)` object as the first layer in the model instead.\n",
            "  super().__init__(activity_regularizer=activity_regularizer, **kwargs)\n"
          ]
        },
        {
          "data": {
            "text/html": [
              "<pre style=\"white-space:pre;overflow-x:auto;line-height:normal;font-family:Menlo,'DejaVu Sans Mono',consolas,'Courier New',monospace\"><span style=\"font-weight: bold\">Model: \"sequential_2\"</span>\n",
              "</pre>\n"
            ],
            "text/plain": [
              "\u001b[1mModel: \"sequential_2\"\u001b[0m\n"
            ]
          },
          "metadata": {},
          "output_type": "display_data"
        },
        {
          "data": {
            "text/html": [
              "<pre style=\"white-space:pre;overflow-x:auto;line-height:normal;font-family:Menlo,'DejaVu Sans Mono',consolas,'Courier New',monospace\">┏━━━━━━━━━━━━━━━━━━━━━━━━━━━━━━━━━━━━━━┳━━━━━━━━━━━━━━━━━━━━━━━━━━━━━┳━━━━━━━━━━━━━━━━━┓\n",
              "┃<span style=\"font-weight: bold\"> Layer (type)                         </span>┃<span style=\"font-weight: bold\"> Output Shape                </span>┃<span style=\"font-weight: bold\">         Param # </span>┃\n",
              "┡━━━━━━━━━━━━━━━━━━━━━━━━━━━━━━━━━━━━━━╇━━━━━━━━━━━━━━━━━━━━━━━━━━━━━╇━━━━━━━━━━━━━━━━━┩\n",
              "│ conv1d_4 (<span style=\"color: #0087ff; text-decoration-color: #0087ff\">Conv1D</span>)                    │ (<span style=\"color: #00d7ff; text-decoration-color: #00d7ff\">None</span>, <span style=\"color: #00af00; text-decoration-color: #00af00\">48</span>, <span style=\"color: #00af00; text-decoration-color: #00af00\">64</span>)              │           <span style=\"color: #00af00; text-decoration-color: #00af00\">1,216</span> │\n",
              "├──────────────────────────────────────┼─────────────────────────────┼─────────────────┤\n",
              "│ max_pooling1d_4 (<span style=\"color: #0087ff; text-decoration-color: #0087ff\">MaxPooling1D</span>)       │ (<span style=\"color: #00d7ff; text-decoration-color: #00d7ff\">None</span>, <span style=\"color: #00af00; text-decoration-color: #00af00\">24</span>, <span style=\"color: #00af00; text-decoration-color: #00af00\">64</span>)              │               <span style=\"color: #00af00; text-decoration-color: #00af00\">0</span> │\n",
              "├──────────────────────────────────────┼─────────────────────────────┼─────────────────┤\n",
              "│ conv1d_5 (<span style=\"color: #0087ff; text-decoration-color: #0087ff\">Conv1D</span>)                    │ (<span style=\"color: #00d7ff; text-decoration-color: #00d7ff\">None</span>, <span style=\"color: #00af00; text-decoration-color: #00af00\">22</span>, <span style=\"color: #00af00; text-decoration-color: #00af00\">128</span>)             │          <span style=\"color: #00af00; text-decoration-color: #00af00\">24,704</span> │\n",
              "├──────────────────────────────────────┼─────────────────────────────┼─────────────────┤\n",
              "│ max_pooling1d_5 (<span style=\"color: #0087ff; text-decoration-color: #0087ff\">MaxPooling1D</span>)       │ (<span style=\"color: #00d7ff; text-decoration-color: #00d7ff\">None</span>, <span style=\"color: #00af00; text-decoration-color: #00af00\">11</span>, <span style=\"color: #00af00; text-decoration-color: #00af00\">128</span>)             │               <span style=\"color: #00af00; text-decoration-color: #00af00\">0</span> │\n",
              "├──────────────────────────────────────┼─────────────────────────────┼─────────────────┤\n",
              "│ flatten_2 (<span style=\"color: #0087ff; text-decoration-color: #0087ff\">Flatten</span>)                  │ (<span style=\"color: #00d7ff; text-decoration-color: #00d7ff\">None</span>, <span style=\"color: #00af00; text-decoration-color: #00af00\">1408</span>)                │               <span style=\"color: #00af00; text-decoration-color: #00af00\">0</span> │\n",
              "├──────────────────────────────────────┼─────────────────────────────┼─────────────────┤\n",
              "│ dense_4 (<span style=\"color: #0087ff; text-decoration-color: #0087ff\">Dense</span>)                      │ (<span style=\"color: #00d7ff; text-decoration-color: #00d7ff\">None</span>, <span style=\"color: #00af00; text-decoration-color: #00af00\">128</span>)                 │         <span style=\"color: #00af00; text-decoration-color: #00af00\">180,352</span> │\n",
              "├──────────────────────────────────────┼─────────────────────────────┼─────────────────┤\n",
              "│ dropout_2 (<span style=\"color: #0087ff; text-decoration-color: #0087ff\">Dropout</span>)                  │ (<span style=\"color: #00d7ff; text-decoration-color: #00d7ff\">None</span>, <span style=\"color: #00af00; text-decoration-color: #00af00\">128</span>)                 │               <span style=\"color: #00af00; text-decoration-color: #00af00\">0</span> │\n",
              "├──────────────────────────────────────┼─────────────────────────────┼─────────────────┤\n",
              "│ dense_5 (<span style=\"color: #0087ff; text-decoration-color: #0087ff\">Dense</span>)                      │ (<span style=\"color: #00d7ff; text-decoration-color: #00d7ff\">None</span>, <span style=\"color: #00af00; text-decoration-color: #00af00\">7</span>)                   │             <span style=\"color: #00af00; text-decoration-color: #00af00\">903</span> │\n",
              "└──────────────────────────────────────┴─────────────────────────────┴─────────────────┘\n",
              "</pre>\n"
            ],
            "text/plain": [
              "┏━━━━━━━━━━━━━━━━━━━━━━━━━━━━━━━━━━━━━━┳━━━━━━━━━━━━━━━━━━━━━━━━━━━━━┳━━━━━━━━━━━━━━━━━┓\n",
              "┃\u001b[1m \u001b[0m\u001b[1mLayer (type)                        \u001b[0m\u001b[1m \u001b[0m┃\u001b[1m \u001b[0m\u001b[1mOutput Shape               \u001b[0m\u001b[1m \u001b[0m┃\u001b[1m \u001b[0m\u001b[1m        Param #\u001b[0m\u001b[1m \u001b[0m┃\n",
              "┡━━━━━━━━━━━━━━━━━━━━━━━━━━━━━━━━━━━━━━╇━━━━━━━━━━━━━━━━━━━━━━━━━━━━━╇━━━━━━━━━━━━━━━━━┩\n",
              "│ conv1d_4 (\u001b[38;5;33mConv1D\u001b[0m)                    │ (\u001b[38;5;45mNone\u001b[0m, \u001b[38;5;34m48\u001b[0m, \u001b[38;5;34m64\u001b[0m)              │           \u001b[38;5;34m1,216\u001b[0m │\n",
              "├──────────────────────────────────────┼─────────────────────────────┼─────────────────┤\n",
              "│ max_pooling1d_4 (\u001b[38;5;33mMaxPooling1D\u001b[0m)       │ (\u001b[38;5;45mNone\u001b[0m, \u001b[38;5;34m24\u001b[0m, \u001b[38;5;34m64\u001b[0m)              │               \u001b[38;5;34m0\u001b[0m │\n",
              "├──────────────────────────────────────┼─────────────────────────────┼─────────────────┤\n",
              "│ conv1d_5 (\u001b[38;5;33mConv1D\u001b[0m)                    │ (\u001b[38;5;45mNone\u001b[0m, \u001b[38;5;34m22\u001b[0m, \u001b[38;5;34m128\u001b[0m)             │          \u001b[38;5;34m24,704\u001b[0m │\n",
              "├──────────────────────────────────────┼─────────────────────────────┼─────────────────┤\n",
              "│ max_pooling1d_5 (\u001b[38;5;33mMaxPooling1D\u001b[0m)       │ (\u001b[38;5;45mNone\u001b[0m, \u001b[38;5;34m11\u001b[0m, \u001b[38;5;34m128\u001b[0m)             │               \u001b[38;5;34m0\u001b[0m │\n",
              "├──────────────────────────────────────┼─────────────────────────────┼─────────────────┤\n",
              "│ flatten_2 (\u001b[38;5;33mFlatten\u001b[0m)                  │ (\u001b[38;5;45mNone\u001b[0m, \u001b[38;5;34m1408\u001b[0m)                │               \u001b[38;5;34m0\u001b[0m │\n",
              "├──────────────────────────────────────┼─────────────────────────────┼─────────────────┤\n",
              "│ dense_4 (\u001b[38;5;33mDense\u001b[0m)                      │ (\u001b[38;5;45mNone\u001b[0m, \u001b[38;5;34m128\u001b[0m)                 │         \u001b[38;5;34m180,352\u001b[0m │\n",
              "├──────────────────────────────────────┼─────────────────────────────┼─────────────────┤\n",
              "│ dropout_2 (\u001b[38;5;33mDropout\u001b[0m)                  │ (\u001b[38;5;45mNone\u001b[0m, \u001b[38;5;34m128\u001b[0m)                 │               \u001b[38;5;34m0\u001b[0m │\n",
              "├──────────────────────────────────────┼─────────────────────────────┼─────────────────┤\n",
              "│ dense_5 (\u001b[38;5;33mDense\u001b[0m)                      │ (\u001b[38;5;45mNone\u001b[0m, \u001b[38;5;34m7\u001b[0m)                   │             \u001b[38;5;34m903\u001b[0m │\n",
              "└──────────────────────────────────────┴─────────────────────────────┴─────────────────┘\n"
            ]
          },
          "metadata": {},
          "output_type": "display_data"
        },
        {
          "data": {
            "text/html": [
              "<pre style=\"white-space:pre;overflow-x:auto;line-height:normal;font-family:Menlo,'DejaVu Sans Mono',consolas,'Courier New',monospace\"><span style=\"font-weight: bold\"> Total params: </span><span style=\"color: #00af00; text-decoration-color: #00af00\">207,175</span> (809.28 KB)\n",
              "</pre>\n"
            ],
            "text/plain": [
              "\u001b[1m Total params: \u001b[0m\u001b[38;5;34m207,175\u001b[0m (809.28 KB)\n"
            ]
          },
          "metadata": {},
          "output_type": "display_data"
        },
        {
          "data": {
            "text/html": [
              "<pre style=\"white-space:pre;overflow-x:auto;line-height:normal;font-family:Menlo,'DejaVu Sans Mono',consolas,'Courier New',monospace\"><span style=\"font-weight: bold\"> Trainable params: </span><span style=\"color: #00af00; text-decoration-color: #00af00\">207,175</span> (809.28 KB)\n",
              "</pre>\n"
            ],
            "text/plain": [
              "\u001b[1m Trainable params: \u001b[0m\u001b[38;5;34m207,175\u001b[0m (809.28 KB)\n"
            ]
          },
          "metadata": {},
          "output_type": "display_data"
        },
        {
          "data": {
            "text/html": [
              "<pre style=\"white-space:pre;overflow-x:auto;line-height:normal;font-family:Menlo,'DejaVu Sans Mono',consolas,'Courier New',monospace\"><span style=\"font-weight: bold\"> Non-trainable params: </span><span style=\"color: #00af00; text-decoration-color: #00af00\">0</span> (0.00 B)\n",
              "</pre>\n"
            ],
            "text/plain": [
              "\u001b[1m Non-trainable params: \u001b[0m\u001b[38;5;34m0\u001b[0m (0.00 B)\n"
            ]
          },
          "metadata": {},
          "output_type": "display_data"
        }
      ],
      "source": [
        "# Determine the input shape for the model\n",
        "input_shape = (X_train.shape[1], X_train.shape[2])\n",
        "\n",
        "# Determine the number of output classes (num_classes)\n",
        "num_classes = y_train_one_hot.shape[1]\n",
        "\n",
        "# Build and compile the model\n",
        "# The function will return a compiled model ready for training\n",
        "model = build_1d_cnn_model(input_shape, num_classes)"
      ]
    },
    {
      "cell_type": "markdown",
      "metadata": {
        "id": "q1-SHEmtKM0D"
      },
      "source": [
        "## Step 3: Train the CNN Model\n",
        "\n",
        "Train the 1D CNN model using the training data and validate on the test data. The model will learn to map input sliding windows to their corresponding activity labels.\n",
        "\n",
        "`model.fit()` is used to train the neural network model. It takes several parameters:\n",
        "* `X_train`: The input training data (sliding windows), with shape (num_samples, window_size, num_features).\n",
        "* `y_train_one_hot`: The corresponding one-hot encoded labels for the training data, with shape (num_samples, num_classes).\n",
        "* `epochs`: Number of times the entire training dataset is passed through the model. You can try adjusting the number of epochs and compare the difference in model performance. In this case, we are training for 20 epochs, meaning the model will see the entire training set 20 times.\n",
        "* `batch_size`: Number of samples processed before the model's weights are updated. Here, the batch size is set to 32, meaning the model will process 32 samples at a time before updating its parameters.\n",
        "* `validation_data`: This parameter allows us to evaluate the model's performance on the test data after each epoch.\n",
        "*`(X_test, y_test_one_hot)`: These are the input test data and corresponding one-hot encoded test labels."
      ]
    },
    {
      "cell_type": "code",
      "execution_count": 61,
      "metadata": {
        "colab": {
          "base_uri": "https://localhost:8080/"
        },
        "id": "b4zICRasKPsT",
        "outputId": "c2c4bde2-1417-4c96-e25b-8e4f3d039bf9"
      },
      "outputs": [
        {
          "name": "stdout",
          "output_type": "stream",
          "text": [
            "Epoch 1/20\n",
            "\u001b[1m75/75\u001b[0m \u001b[32m━━━━━━━━━━━━━━━━━━━━\u001b[0m\u001b[37m\u001b[0m \u001b[1m3s\u001b[0m 14ms/step - accuracy: 0.2916 - loss: 3.5136 - val_accuracy: 0.5700 - val_loss: 1.2785\n",
            "Epoch 2/20\n",
            "\u001b[1m75/75\u001b[0m \u001b[32m━━━━━━━━━━━━━━━━━━━━\u001b[0m\u001b[37m\u001b[0m \u001b[1m1s\u001b[0m 11ms/step - accuracy: 0.6244 - loss: 1.0355 - val_accuracy: 0.6459 - val_loss: 0.8199\n",
            "Epoch 3/20\n",
            "\u001b[1m75/75\u001b[0m \u001b[32m━━━━━━━━━━━━━━━━━━━━\u001b[0m\u001b[37m\u001b[0m \u001b[1m1s\u001b[0m 11ms/step - accuracy: 0.6613 - loss: 0.7829 - val_accuracy: 0.6779 - val_loss: 0.7408\n",
            "Epoch 4/20\n",
            "\u001b[1m75/75\u001b[0m \u001b[32m━━━━━━━━━━━━━━━━━━━━\u001b[0m\u001b[37m\u001b[0m \u001b[1m1s\u001b[0m 11ms/step - accuracy: 0.7004 - loss: 0.6805 - val_accuracy: 0.6914 - val_loss: 0.7500\n",
            "Epoch 5/20\n",
            "\u001b[1m75/75\u001b[0m \u001b[32m━━━━━━━━━━━━━━━━━━━━\u001b[0m\u001b[37m\u001b[0m \u001b[1m1s\u001b[0m 13ms/step - accuracy: 0.7310 - loss: 0.6749 - val_accuracy: 0.7133 - val_loss: 0.7356\n",
            "Epoch 6/20\n",
            "\u001b[1m75/75\u001b[0m \u001b[32m━━━━━━━━━━━━━━━━━━━━\u001b[0m\u001b[37m\u001b[0m \u001b[1m1s\u001b[0m 14ms/step - accuracy: 0.7844 - loss: 0.5560 - val_accuracy: 0.6948 - val_loss: 0.8141\n",
            "Epoch 7/20\n",
            "\u001b[1m75/75\u001b[0m \u001b[32m━━━━━━━━━━━━━━━━━━━━\u001b[0m\u001b[37m\u001b[0m \u001b[1m1s\u001b[0m 19ms/step - accuracy: 0.7814 - loss: 0.5342 - val_accuracy: 0.7420 - val_loss: 0.7454\n",
            "Epoch 8/20\n",
            "\u001b[1m75/75\u001b[0m \u001b[32m━━━━━━━━━━━━━━━━━━━━\u001b[0m\u001b[37m\u001b[0m \u001b[1m2s\u001b[0m 18ms/step - accuracy: 0.8299 - loss: 0.4619 - val_accuracy: 0.7133 - val_loss: 0.9317\n",
            "Epoch 9/20\n",
            "\u001b[1m75/75\u001b[0m \u001b[32m━━━━━━━━━━━━━━━━━━━━\u001b[0m\u001b[37m\u001b[0m \u001b[1m1s\u001b[0m 12ms/step - accuracy: 0.8285 - loss: 0.4432 - val_accuracy: 0.7622 - val_loss: 0.8849\n",
            "Epoch 10/20\n",
            "\u001b[1m75/75\u001b[0m \u001b[32m━━━━━━━━━━━━━━━━━━━━\u001b[0m\u001b[37m\u001b[0m \u001b[1m1s\u001b[0m 11ms/step - accuracy: 0.8590 - loss: 0.3871 - val_accuracy: 0.7791 - val_loss: 0.8676\n",
            "Epoch 11/20\n",
            "\u001b[1m75/75\u001b[0m \u001b[32m━━━━━━━━━━━━━━━━━━━━\u001b[0m\u001b[37m\u001b[0m \u001b[1m1s\u001b[0m 11ms/step - accuracy: 0.8894 - loss: 0.3156 - val_accuracy: 0.7858 - val_loss: 0.9271\n",
            "Epoch 12/20\n",
            "\u001b[1m75/75\u001b[0m \u001b[32m━━━━━━━━━━━━━━━━━━━━\u001b[0m\u001b[37m\u001b[0m \u001b[1m1s\u001b[0m 11ms/step - accuracy: 0.9094 - loss: 0.2798 - val_accuracy: 0.7487 - val_loss: 1.1829\n",
            "Epoch 13/20\n",
            "\u001b[1m75/75\u001b[0m \u001b[32m━━━━━━━━━━━━━━━━━━━━\u001b[0m\u001b[37m\u001b[0m \u001b[1m1s\u001b[0m 11ms/step - accuracy: 0.9087 - loss: 0.2552 - val_accuracy: 0.7690 - val_loss: 1.0072\n",
            "Epoch 14/20\n",
            "\u001b[1m75/75\u001b[0m \u001b[32m━━━━━━━━━━━━━━━━━━━━\u001b[0m\u001b[37m\u001b[0m \u001b[1m1s\u001b[0m 11ms/step - accuracy: 0.9206 - loss: 0.2186 - val_accuracy: 0.7589 - val_loss: 0.9830\n",
            "Epoch 15/20\n",
            "\u001b[1m75/75\u001b[0m \u001b[32m━━━━━━━━━━━━━━━━━━━━\u001b[0m\u001b[37m\u001b[0m \u001b[1m1s\u001b[0m 11ms/step - accuracy: 0.9424 - loss: 0.1776 - val_accuracy: 0.7841 - val_loss: 1.0281\n",
            "Epoch 16/20\n",
            "\u001b[1m75/75\u001b[0m \u001b[32m━━━━━━━━━━━━━━━━━━━━\u001b[0m\u001b[37m\u001b[0m \u001b[1m1s\u001b[0m 12ms/step - accuracy: 0.9391 - loss: 0.1692 - val_accuracy: 0.7791 - val_loss: 1.0904\n",
            "Epoch 17/20\n",
            "\u001b[1m75/75\u001b[0m \u001b[32m━━━━━━━━━━━━━━━━━━━━\u001b[0m\u001b[37m\u001b[0m \u001b[1m1s\u001b[0m 11ms/step - accuracy: 0.9490 - loss: 0.1490 - val_accuracy: 0.7673 - val_loss: 0.9980\n",
            "Epoch 18/20\n",
            "\u001b[1m75/75\u001b[0m \u001b[32m━━━━━━━━━━━━━━━━━━━━\u001b[0m\u001b[37m\u001b[0m \u001b[1m1s\u001b[0m 14ms/step - accuracy: 0.9464 - loss: 0.1412 - val_accuracy: 0.7774 - val_loss: 1.2541\n",
            "Epoch 19/20\n",
            "\u001b[1m75/75\u001b[0m \u001b[32m━━━━━━━━━━━━━━━━━━━━\u001b[0m\u001b[37m\u001b[0m \u001b[1m1s\u001b[0m 18ms/step - accuracy: 0.9620 - loss: 0.1137 - val_accuracy: 0.7740 - val_loss: 1.1743\n",
            "Epoch 20/20\n",
            "\u001b[1m75/75\u001b[0m \u001b[32m━━━━━━━━━━━━━━━━━━━━\u001b[0m\u001b[37m\u001b[0m \u001b[1m2s\u001b[0m 17ms/step - accuracy: 0.9567 - loss: 0.1195 - val_accuracy: 0.7723 - val_loss: 1.2128\n"
          ]
        }
      ],
      "source": [
        "history = model.fit(X_train, y_train_one_hot,\n",
        "                    epochs=20,         # Train the model for 20 epochs\n",
        "                    batch_size=32,     # Use a batch size of 32\n",
        "                    validation_data=(X_test, y_test_one_hot))  # Validate on the test set after each epoch"
      ]
    },
    {
      "cell_type": "markdown",
      "metadata": {
        "id": "TrSPBPh4KcBn"
      },
      "source": [
        "## Step 4: Evaluate the Model\n",
        "After training, you can evaluate the model on the test set:"
      ]
    },
    {
      "cell_type": "code",
      "execution_count": 62,
      "metadata": {
        "colab": {
          "base_uri": "https://localhost:8080/"
        },
        "id": "UB2Bi7ieKelv",
        "outputId": "de615d87-81e5-45df-f50b-60b21139fdd0"
      },
      "outputs": [
        {
          "name": "stdout",
          "output_type": "stream",
          "text": [
            "\u001b[1m19/19\u001b[0m \u001b[32m━━━━━━━━━━━━━━━━━━━━\u001b[0m\u001b[37m\u001b[0m \u001b[1m0s\u001b[0m 8ms/step\n",
            "              precision    recall  f1-score   support\n",
            "\n",
            "           0     0.4545    0.5833    0.5109        60\n",
            "           1     0.5176    0.7333    0.6069        60\n",
            "           2     1.0000    1.0000    1.0000       118\n",
            "           3     0.7167    0.7288    0.7227        59\n",
            "           4     0.6471    0.3729    0.4731        59\n",
            "           5     1.0000    1.0000    1.0000       180\n",
            "           6     0.4103    0.2807    0.3333        57\n",
            "\n",
            "    accuracy                         0.7723       593\n",
            "   macro avg     0.6780    0.6713    0.6639       593\n",
            "weighted avg     0.7760    0.7723    0.7666       593\n",
            "\n"
          ]
        }
      ],
      "source": [
        "# Get predicted probabilities for the test set\n",
        "y_pred_probs = model.predict(X_test)\n",
        "\n",
        "# Convert the predicted probabilities to class labels (taking the argmax of the probabilities)\n",
        "y_pred_classes = np.argmax(y_pred_probs, axis=1)\n",
        "\n",
        "# Convert the true test labels from one-hot encoding back to class labels\n",
        "y_true_classes = np.argmax(y_test_one_hot, axis=1)\n",
        "\n",
        "# Generate the classification report\n",
        "report = classification_report(y_true_classes, y_pred_classes, digits=4)\n",
        "\n",
        "# Print the classification report\n",
        "print(report)"
      ]
    },
    {
      "cell_type": "markdown",
      "metadata": {
        "id": "3QXKh8ritRbw"
      },
      "source": [
        "As you can see from the model performance results, the classification performance isn't exactly impressive. For Coursework 3, your group should explore and experiment with various models, parameters, and techniques in order to improve your model's performance."
      ]
    },
    {
      "cell_type": "markdown",
      "metadata": {
        "id": "iHNzGOHDtnQ4"
      },
      "source": [
        "# Exporting your model to TFLite\n",
        "\n",
        "You can use the TFLiteConverter class provided by TensorFlow to convert your trained model into the TensorFlow Lite format. We export models to TensorFlow Lite (TFLite) for several reasons, primarily because TFLite is designed for deployment on edge devices, such as mobile phones, embedded systems, IoT devices, and microcontrollers, where computational resources and power are limited. This is necessary as you will be running your ML models on your Android devices to perform live classification."
      ]
    },
    {
      "cell_type": "code",
      "execution_count": 63,
      "metadata": {
        "colab": {
          "base_uri": "https://localhost:8080/"
        },
        "id": "3_QKoJtmufDa",
        "outputId": "48d281ab-4ed3-4ee1-fd47-30f7f4c10b96"
      },
      "outputs": [
        {
          "name": "stdout",
          "output_type": "stream",
          "text": [
            "Saved artifact at '/tmp/tmp4gyehid9'. The following endpoints are available:\n",
            "\n",
            "* Endpoint 'serve'\n",
            "  args_0 (POSITIONAL_ONLY): TensorSpec(shape=(None, 50, 6), dtype=tf.float32, name='keras_tensor_74')\n",
            "Output Type:\n",
            "  TensorSpec(shape=(None, 7), dtype=tf.float32, name=None)\n",
            "Captures:\n",
            "  132889844347856: TensorSpec(shape=(), dtype=tf.resource, name=None)\n",
            "  132889845628992: TensorSpec(shape=(), dtype=tf.resource, name=None)\n",
            "  132889845745440: TensorSpec(shape=(), dtype=tf.resource, name=None)\n",
            "  132889845748432: TensorSpec(shape=(), dtype=tf.resource, name=None)\n",
            "  132889845754768: TensorSpec(shape=(), dtype=tf.resource, name=None)\n",
            "  132889845758288: TensorSpec(shape=(), dtype=tf.resource, name=None)\n",
            "  132889845757584: TensorSpec(shape=(), dtype=tf.resource, name=None)\n",
            "  132889845944336: TensorSpec(shape=(), dtype=tf.resource, name=None)\n",
            "Model successfully exported to model.tflite\n"
          ]
        }
      ],
      "source": [
        "# Convert the trained Keras model to TensorFlow Lite format\n",
        "converter = tf.lite.TFLiteConverter.from_keras_model(model)  # model is your trained Keras model\n",
        "tflite_model = converter.convert()\n",
        "\n",
        "# Save the converted model to a .tflite file\n",
        "with open('model.tflite', 'wb') as f:\n",
        "    f.write(tflite_model)\n",
        "\n",
        "print(\"Model successfully exported to model.tflite\")"
      ]
    },
    {
      "cell_type": "markdown",
      "metadata": {
        "id": "FGOj682D0PfS"
      },
      "source": [
        "# Good job!\n",
        "This is the end of Lab 3. In the next lab, you will focus on deploying your machine learning model onto your Android App in order to classify activities in real-time."
      ]
    }
  ],
  "metadata": {
    "colab": {
      "provenance": []
    },
    "kernelspec": {
      "display_name": "pdiot",
      "language": "python",
      "name": "python3"
    },
    "language_info": {
      "codemirror_mode": {
        "name": "ipython",
        "version": 3
      },
      "file_extension": ".py",
      "mimetype": "text/x-python",
      "name": "python",
      "nbconvert_exporter": "python",
      "pygments_lexer": "ipython3",
      "version": "3.12.5"
    }
  },
  "nbformat": 4,
  "nbformat_minor": 0
}
