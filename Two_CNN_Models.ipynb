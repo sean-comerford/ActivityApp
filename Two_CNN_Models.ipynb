{
 "cells": [
  {
   "cell_type": "markdown",
   "metadata": {
    "id": "Rzd9Z9OZxNvd"
   },
   "source": [
    "# **Lab 3 - Activity Recognition with Machine Learning**\n",
    "\n",
    "This notebook implements a machine learning workflow to recognize different physical activities from Respeck sensor data. The dataset includes multiple 30-second recordings of various physical activities (e.g., ascending stairs, shuffle walking, sitting-standing) stored in separate CSV files for each activity.\n",
    "\n",
    "You will then use the model you develop here and deploy it inside your Android app for live classification.\n",
    "\n",
    "In this week, you will not have access to the full dataset as of yet. However, you can complete this lab by combining the data that you and your group mates have collected in Coursework 1 as proof-of-concept first for when you eventually receive the full dataset.\n"
   ]
  },
  {
   "cell_type": "markdown",
   "metadata": {
    "id": "fXyHZD1A0X7J"
   },
   "source": [
    "# Imports"
   ]
  },
  {
   "cell_type": "code",
   "execution_count": 25,
   "metadata": {
    "id": "s2B8Hymdj1Sg"
   },
   "outputs": [],
   "source": [
    "# Importing libraries that will be used\n",
    "import pandas as pd\n",
    "import numpy as np\n",
    "import glob\n",
    "import os\n",
    "from sklearn.model_selection import train_test_split\n",
    "from sklearn.preprocessing import OneHotEncoder\n",
    "import tensorflow as tf\n",
    "from tensorflow.keras.models import Sequential\n",
    "from tensorflow.keras.layers import Conv1D, MaxPooling1D, Flatten, Dense, Dropout, Input, LSTM, Attention\n",
    "from tensorflow.keras.models import Model\n",
    "from sklearn.utils import resample\n",
    "from tensorflow.keras.regularizers import l2\n",
    "from sklearn.metrics import classification_report, accuracy_score, confusion_matrix, ConfusionMatrixDisplay\n",
    "from sklearn.model_selection import KFold"
   ]
  },
  {
   "cell_type": "markdown",
   "metadata": {
    "id": "icbrBf1Kl6vp"
   },
   "source": [
    "# Reading Files\n",
    "Reading files from your dataset"
   ]
  },
  {
   "cell_type": "code",
   "execution_count": 26,
   "metadata": {},
   "outputs": [
    {
     "name": "stdout",
     "output_type": "stream",
     "text": [
      "c:\\Users\\seanc\\OneDrive - University of Edinburgh\\Semester 1\\PDIOT\\CW3\\ActivityApp\n"
     ]
    }
   ],
   "source": [
    "import os\n",
    "\n",
    "# Print the current working directory\n",
    "print(os.getcwd())"
   ]
  },
  {
   "cell_type": "code",
   "execution_count": 27,
   "metadata": {
    "id": "pTsJd33Kl44J"
   },
   "outputs": [],
   "source": [
    "# Path to Respeck data\n",
    "your_dataset_path = \"./PDIoT2324/Respeck/\""
   ]
  },
  {
   "cell_type": "markdown",
   "metadata": {
    "id": "gOTe3o9Il4ST"
   },
   "source": [
    "This line uses the glob module to find all file paths that match a specified pattern. The 'glob.glob()' function returns a list of file paths that match the given pattern. `your_dataset_path` should be the directory where your dataset files are located.\n",
    "\n",
    "The `*` is a wildcard character that matches any string of characters,  so this pattern retrieves all folders in the 'your_dataset_path' directory.\n",
    "\n",
    "Below is just an example of what your dataset folder can look like. You should refer to the Coursework 3 instructions on what classes your model(s) are expected to be able to classify. Within your dataset directory, there should be subfolders, each representing a class of activity."
   ]
  },
  {
   "cell_type": "code",
   "execution_count": 28,
   "metadata": {
    "colab": {
     "base_uri": "https://localhost:8080/"
    },
    "id": "-4izGxKkllz6",
    "outputId": "49f7031e-36ae-454a-a8dc-4a7e92243315"
   },
   "outputs": [
    {
     "data": {
      "text/plain": [
       "['./PDIoT2324/Respeck\\\\00_Respeck_Descending stairs_Normal.csv',\n",
       " './PDIoT2324/Respeck\\\\00_Respeck_Lying down back_Coughing.csv',\n",
       " './PDIoT2324/Respeck\\\\00_Respeck_Lying down back_Hyperventilating.csv',\n",
       " './PDIoT2324/Respeck\\\\00_Respeck_Lying down back_Laughing.csv',\n",
       " './PDIoT2324/Respeck\\\\00_Respeck_Lying down back_Normal.csv',\n",
       " './PDIoT2324/Respeck\\\\00_Respeck_Lying down back_Singing.csv',\n",
       " './PDIoT2324/Respeck\\\\00_Respeck_Lying down back_Talking.csv',\n",
       " './PDIoT2324/Respeck\\\\00_Respeck_Lying down on left_Coughing.csv',\n",
       " './PDIoT2324/Respeck\\\\00_Respeck_Lying down on left_Hyperventilating.csv',\n",
       " './PDIoT2324/Respeck\\\\00_Respeck_Lying down on left_Laughing.csv',\n",
       " './PDIoT2324/Respeck\\\\00_Respeck_Lying down on left_Normal.csv',\n",
       " './PDIoT2324/Respeck\\\\00_Respeck_Lying down on left_Singing.csv',\n",
       " './PDIoT2324/Respeck\\\\00_Respeck_Lying down on left_Talking.csv',\n",
       " './PDIoT2324/Respeck\\\\00_Respeck_Lying down on stomach_Coughing.csv',\n",
       " './PDIoT2324/Respeck\\\\00_Respeck_Lying down on stomach_Hyperventilating.csv',\n",
       " './PDIoT2324/Respeck\\\\00_Respeck_Lying down on stomach_Laughing.csv',\n",
       " './PDIoT2324/Respeck\\\\00_Respeck_Lying down on stomach_Normal.csv',\n",
       " './PDIoT2324/Respeck\\\\00_Respeck_Lying down on stomach_Singing.csv',\n",
       " './PDIoT2324/Respeck\\\\00_Respeck_Lying down on stomach_Talking.csv',\n",
       " './PDIoT2324/Respeck\\\\00_Respeck_Lying down right_Coughing.csv',\n",
       " './PDIoT2324/Respeck\\\\00_Respeck_Lying down right_Hyperventilating.csv',\n",
       " './PDIoT2324/Respeck\\\\00_Respeck_Lying down right_Laughing.csv',\n",
       " './PDIoT2324/Respeck\\\\00_Respeck_Lying down right_Normal.csv',\n",
       " './PDIoT2324/Respeck\\\\00_Respeck_Lying down right_Singing.csv',\n",
       " './PDIoT2324/Respeck\\\\00_Respeck_Lying down right_Talking.csv',\n",
       " './PDIoT2324/Respeck\\\\00_Respeck_Miscellaneous movements_Normal.csv',\n",
       " './PDIoT2324/Respeck\\\\00_Respeck_Normal walking_Normal.csv',\n",
       " './PDIoT2324/Respeck\\\\00_Respeck_Running_Normal.csv',\n",
       " './PDIoT2324/Respeck\\\\00_Respeck_Shuffle walking_Normal.csv',\n",
       " './PDIoT2324/Respeck\\\\00_Respeck_Sitting_Coughing.csv',\n",
       " './PDIoT2324/Respeck\\\\00_Respeck_Sitting_Eating.csv',\n",
       " './PDIoT2324/Respeck\\\\00_Respeck_Sitting_Laughing.csv',\n",
       " './PDIoT2324/Respeck\\\\00_Respeck_Sitting_Normal.csv',\n",
       " './PDIoT2324/Respeck\\\\00_Respeck_Sitting_Singing.csv',\n",
       " './PDIoT2324/Respeck\\\\00_Respeck_Sitting_Talking.csv',\n",
       " './PDIoT2324/Respeck\\\\00_Respeck_Standing_Coughing.csv',\n",
       " './PDIoT2324/Respeck\\\\00_Respeck_Standing_Eating.csv',\n",
       " './PDIoT2324/Respeck\\\\00_Respeck_Standing_Hyperventilating.csv',\n",
       " './PDIoT2324/Respeck\\\\00_Respeck_Standing_Laughing.csv',\n",
       " './PDIoT2324/Respeck\\\\00_Respeck_Standing_Normal.csv',\n",
       " './PDIoT2324/Respeck\\\\00_Respeck_Standing_Singing.csv',\n",
       " './PDIoT2324/Respeck\\\\00_Respeck_Standing_Talking.csv',\n",
       " './PDIoT2324/Respeck\\\\02_Respeck_Ascending stairs_Normal.csv',\n",
       " './PDIoT2324/Respeck\\\\02_Respeck_Descending stairs_Normal.csv',\n",
       " './PDIoT2324/Respeck\\\\02_Respeck_Lying down back_Coughing.csv',\n",
       " './PDIoT2324/Respeck\\\\02_Respeck_Lying down back_Hyperventilating.csv',\n",
       " './PDIoT2324/Respeck\\\\02_Respeck_Lying down back_Laughing.csv',\n",
       " './PDIoT2324/Respeck\\\\02_Respeck_Lying down back_Normal.csv',\n",
       " './PDIoT2324/Respeck\\\\02_Respeck_Lying down back_Singing.csv',\n",
       " './PDIoT2324/Respeck\\\\02_Respeck_Lying down back_Talking.csv',\n",
       " './PDIoT2324/Respeck\\\\02_Respeck_Lying down on left_Coughing.csv',\n",
       " './PDIoT2324/Respeck\\\\02_Respeck_Lying down on left_Hyperventilating.csv',\n",
       " './PDIoT2324/Respeck\\\\02_Respeck_Lying down on left_Laughing.csv',\n",
       " './PDIoT2324/Respeck\\\\02_Respeck_Lying down on left_Normal.csv',\n",
       " './PDIoT2324/Respeck\\\\02_Respeck_Lying down on left_Singing.csv',\n",
       " './PDIoT2324/Respeck\\\\02_Respeck_Lying down on left_Talking.csv',\n",
       " './PDIoT2324/Respeck\\\\02_Respeck_Lying down on stomach_Coughing.csv',\n",
       " './PDIoT2324/Respeck\\\\02_Respeck_Lying down on stomach_Hyperventilating.csv',\n",
       " './PDIoT2324/Respeck\\\\02_Respeck_Lying down on stomach_Laughing.csv',\n",
       " './PDIoT2324/Respeck\\\\02_Respeck_Lying down on stomach_Normal.csv',\n",
       " './PDIoT2324/Respeck\\\\02_Respeck_Lying down on stomach_Singing.csv',\n",
       " './PDIoT2324/Respeck\\\\02_Respeck_Lying down on stomach_Talking.csv',\n",
       " './PDIoT2324/Respeck\\\\02_Respeck_Lying down right_Coughing.csv',\n",
       " './PDIoT2324/Respeck\\\\02_Respeck_Lying down right_Hyperventilating.csv',\n",
       " './PDIoT2324/Respeck\\\\02_Respeck_Lying down right_Laughing.csv',\n",
       " './PDIoT2324/Respeck\\\\02_Respeck_Lying down right_Normal.csv',\n",
       " './PDIoT2324/Respeck\\\\02_Respeck_Lying down right_Singing.csv',\n",
       " './PDIoT2324/Respeck\\\\02_Respeck_Lying down right_Talking.csv',\n",
       " './PDIoT2324/Respeck\\\\02_Respeck_Miscellaneous movements_Normal.csv',\n",
       " './PDIoT2324/Respeck\\\\02_Respeck_Normal walking_Normal.csv',\n",
       " './PDIoT2324/Respeck\\\\02_Respeck_Running_Normal.csv',\n",
       " './PDIoT2324/Respeck\\\\02_Respeck_Shuffle walking_Normal.csv',\n",
       " './PDIoT2324/Respeck\\\\02_Respeck_Sitting_Coughing.csv',\n",
       " './PDIoT2324/Respeck\\\\02_Respeck_Sitting_Eating.csv',\n",
       " './PDIoT2324/Respeck\\\\02_Respeck_Sitting_Hyperventilating.csv',\n",
       " './PDIoT2324/Respeck\\\\02_Respeck_Sitting_Laughing.csv',\n",
       " './PDIoT2324/Respeck\\\\02_Respeck_Sitting_Normal.csv',\n",
       " './PDIoT2324/Respeck\\\\02_Respeck_Sitting_Singing.csv',\n",
       " './PDIoT2324/Respeck\\\\02_Respeck_Sitting_Talking.csv',\n",
       " './PDIoT2324/Respeck\\\\02_Respeck_Standing_Coughing.csv',\n",
       " './PDIoT2324/Respeck\\\\02_Respeck_Standing_Eating.csv',\n",
       " './PDIoT2324/Respeck\\\\02_Respeck_Standing_Hyperventilating.csv',\n",
       " './PDIoT2324/Respeck\\\\02_Respeck_Standing_Laughing.csv',\n",
       " './PDIoT2324/Respeck\\\\02_Respeck_Standing_Normal.csv',\n",
       " './PDIoT2324/Respeck\\\\02_Respeck_Standing_Singing.csv',\n",
       " './PDIoT2324/Respeck\\\\02_Respeck_Standing_Talking.csv',\n",
       " './PDIoT2324/Respeck\\\\03_Respeck_Ascending stairs_Normal.csv',\n",
       " './PDIoT2324/Respeck\\\\03_Respeck_Descending stairs_Normal.csv',\n",
       " './PDIoT2324/Respeck\\\\03_Respeck_Lying down back_Coughing.csv',\n",
       " './PDIoT2324/Respeck\\\\03_Respeck_Lying down back_Hyperventilating.csv',\n",
       " './PDIoT2324/Respeck\\\\03_Respeck_Lying down back_Laughing.csv',\n",
       " './PDIoT2324/Respeck\\\\03_Respeck_Lying down back_Normal.csv',\n",
       " './PDIoT2324/Respeck\\\\03_Respeck_Lying down back_Singing.csv',\n",
       " './PDIoT2324/Respeck\\\\03_Respeck_Lying down back_Talking.csv',\n",
       " './PDIoT2324/Respeck\\\\03_Respeck_Lying down on left_Coughing.csv',\n",
       " './PDIoT2324/Respeck\\\\03_Respeck_Lying down on left_Hyperventilating.csv',\n",
       " './PDIoT2324/Respeck\\\\03_Respeck_Lying down on left_Laughing.csv',\n",
       " './PDIoT2324/Respeck\\\\03_Respeck_Lying down on left_Normal.csv',\n",
       " './PDIoT2324/Respeck\\\\03_Respeck_Lying down on left_Singing.csv',\n",
       " './PDIoT2324/Respeck\\\\03_Respeck_Lying down on left_Talking.csv',\n",
       " './PDIoT2324/Respeck\\\\03_Respeck_Lying down on stomach_Coughing.csv',\n",
       " './PDIoT2324/Respeck\\\\03_Respeck_Lying down on stomach_Hyperventilating.csv',\n",
       " './PDIoT2324/Respeck\\\\03_Respeck_Lying down on stomach_Laughing.csv',\n",
       " './PDIoT2324/Respeck\\\\03_Respeck_Lying down on stomach_Normal.csv',\n",
       " './PDIoT2324/Respeck\\\\03_Respeck_Lying down on stomach_Singing.csv',\n",
       " './PDIoT2324/Respeck\\\\03_Respeck_Lying down on stomach_Talking.csv',\n",
       " './PDIoT2324/Respeck\\\\03_Respeck_Lying down right_Coughing.csv',\n",
       " './PDIoT2324/Respeck\\\\03_Respeck_Lying down right_Hyperventilating.csv',\n",
       " './PDIoT2324/Respeck\\\\03_Respeck_Lying down right_Laughing.csv',\n",
       " './PDIoT2324/Respeck\\\\03_Respeck_Lying down right_Normal.csv',\n",
       " './PDIoT2324/Respeck\\\\03_Respeck_Lying down right_Singing.csv',\n",
       " './PDIoT2324/Respeck\\\\03_Respeck_Lying down right_Talking.csv',\n",
       " './PDIoT2324/Respeck\\\\03_Respeck_Miscellaneous movements_Normal.csv',\n",
       " './PDIoT2324/Respeck\\\\03_Respeck_Normal walking_Normal.csv',\n",
       " './PDIoT2324/Respeck\\\\03_Respeck_Running_Normal.csv',\n",
       " './PDIoT2324/Respeck\\\\03_Respeck_Shuffle walking_Normal.csv',\n",
       " './PDIoT2324/Respeck\\\\03_Respeck_Sitting_Coughing.csv',\n",
       " './PDIoT2324/Respeck\\\\03_Respeck_Sitting_Eating.csv',\n",
       " './PDIoT2324/Respeck\\\\03_Respeck_Sitting_Hyperventilating.csv',\n",
       " './PDIoT2324/Respeck\\\\03_Respeck_Sitting_Laughing.csv',\n",
       " './PDIoT2324/Respeck\\\\03_Respeck_Sitting_Normal.csv',\n",
       " './PDIoT2324/Respeck\\\\03_Respeck_Sitting_Singing.csv',\n",
       " './PDIoT2324/Respeck\\\\03_Respeck_Sitting_Talking.csv',\n",
       " './PDIoT2324/Respeck\\\\03_Respeck_Standing_Coughing.csv',\n",
       " './PDIoT2324/Respeck\\\\03_Respeck_Standing_Eating.csv',\n",
       " './PDIoT2324/Respeck\\\\03_Respeck_Standing_Hyperventilating.csv',\n",
       " './PDIoT2324/Respeck\\\\03_Respeck_Standing_Laughing.csv',\n",
       " './PDIoT2324/Respeck\\\\03_Respeck_Standing_Normal.csv',\n",
       " './PDIoT2324/Respeck\\\\03_Respeck_Standing_Singing.csv',\n",
       " './PDIoT2324/Respeck\\\\03_Respeck_Standing_Talking.csv',\n",
       " './PDIoT2324/Respeck\\\\04_Respeck_Ascending stairs_Normal.csv',\n",
       " './PDIoT2324/Respeck\\\\04_Respeck_Descending stairs_Normal.csv',\n",
       " './PDIoT2324/Respeck\\\\04_Respeck_Lying down back_Hyperventilating.csv',\n",
       " './PDIoT2324/Respeck\\\\04_Respeck_Lying down back_Normal.csv',\n",
       " './PDIoT2324/Respeck\\\\04_Respeck_Lying down back_Singing.csv',\n",
       " './PDIoT2324/Respeck\\\\04_Respeck_Lying down back_Talking.csv',\n",
       " './PDIoT2324/Respeck\\\\04_Respeck_Lying down on left_Normal.csv',\n",
       " './PDIoT2324/Respeck\\\\04_Respeck_Lying down on left_Singing.csv',\n",
       " './PDIoT2324/Respeck\\\\04_Respeck_Lying down on left_Talking.csv',\n",
       " './PDIoT2324/Respeck\\\\04_Respeck_Lying down on stomach_Coughing.csv',\n",
       " './PDIoT2324/Respeck\\\\04_Respeck_Lying down on stomach_Normal.csv',\n",
       " './PDIoT2324/Respeck\\\\04_Respeck_Lying down on stomach_Talking.csv',\n",
       " './PDIoT2324/Respeck\\\\04_Respeck_Lying down right_Singing.csv',\n",
       " './PDIoT2324/Respeck\\\\04_Respeck_Normal walking_Normal.csv',\n",
       " './PDIoT2324/Respeck\\\\04_Respeck_Running_Normal.csv',\n",
       " './PDIoT2324/Respeck\\\\04_Respeck_Shuffle walking_Normal.csv',\n",
       " './PDIoT2324/Respeck\\\\04_Respeck_Sitting_Eating.csv',\n",
       " './PDIoT2324/Respeck\\\\04_Respeck_Sitting_Hyperventilating.csv',\n",
       " './PDIoT2324/Respeck\\\\04_Respeck_Sitting_Laughing.csv',\n",
       " './PDIoT2324/Respeck\\\\04_Respeck_Sitting_Normal.csv',\n",
       " './PDIoT2324/Respeck\\\\04_Respeck_Standing_Coughing.csv',\n",
       " './PDIoT2324/Respeck\\\\04_Respeck_Standing_Eating.csv',\n",
       " './PDIoT2324/Respeck\\\\04_Respeck_Standing_Normal.csv',\n",
       " './PDIoT2324/Respeck\\\\04_Respeck_Standing_Singing.csv',\n",
       " './PDIoT2324/Respeck\\\\04_Respeck_Standing_Talking.csv',\n",
       " './PDIoT2324/Respeck\\\\05_Respeck_Ascending stairs_Normal.csv',\n",
       " './PDIoT2324/Respeck\\\\05_Respeck_Descending stairs_Normal.csv',\n",
       " './PDIoT2324/Respeck\\\\05_Respeck_Lying down on left_Hyperventilating.csv',\n",
       " './PDIoT2324/Respeck\\\\05_Respeck_Lying down on left_Normal.csv',\n",
       " './PDIoT2324/Respeck\\\\05_Respeck_Lying down on stomach_Hyperventilating.csv',\n",
       " './PDIoT2324/Respeck\\\\05_Respeck_Lying down on stomach_Normal.csv',\n",
       " './PDIoT2324/Respeck\\\\05_Respeck_Sitting_Hyperventilating.csv',\n",
       " './PDIoT2324/Respeck\\\\05_Respeck_Sitting_Normal.csv',\n",
       " './PDIoT2324/Respeck\\\\05_Respeck_Sitting_Talking.csv',\n",
       " './PDIoT2324/Respeck\\\\05_Respeck_Standing_Eating.csv',\n",
       " './PDIoT2324/Respeck\\\\05_Respeck_Standing_Singing.csv',\n",
       " './PDIoT2324/Respeck\\\\07_Respeck_Lying down back_Coughing.csv',\n",
       " './PDIoT2324/Respeck\\\\07_Respeck_Lying down on stomach_Coughing.csv',\n",
       " './PDIoT2324/Respeck\\\\07_Respeck_Sitting_Coughing.csv',\n",
       " './PDIoT2324/Respeck\\\\07_Respeck_Sitting_Eating.csv',\n",
       " './PDIoT2324/Respeck\\\\07_Respeck_Sitting_Normal.csv',\n",
       " './PDIoT2324/Respeck\\\\07_Respeck_Standing_Eating.csv',\n",
       " './PDIoT2324/Respeck\\\\07_Respeck_Standing_Singing.csv',\n",
       " './PDIoT2324/Respeck\\\\08_Respeck_Lying down on stomach_Normal.csv',\n",
       " './PDIoT2324/Respeck\\\\08_Respeck_Lying down on stomach_Talking.csv',\n",
       " './PDIoT2324/Respeck\\\\08_Respeck_Lying down right_Hyperventilating.csv',\n",
       " './PDIoT2324/Respeck\\\\09_Respeck_Ascending stairs_Normal.csv',\n",
       " './PDIoT2324/Respeck\\\\09_Respeck_Descending stairs_Normal.csv',\n",
       " './PDIoT2324/Respeck\\\\09_Respeck_Lying down back_Coughing.csv',\n",
       " './PDIoT2324/Respeck\\\\09_Respeck_Lying down back_Hyperventilating.csv',\n",
       " './PDIoT2324/Respeck\\\\09_Respeck_Lying down back_Laughing.csv',\n",
       " './PDIoT2324/Respeck\\\\09_Respeck_Lying down back_Normal.csv',\n",
       " './PDIoT2324/Respeck\\\\09_Respeck_Lying down back_Singing.csv',\n",
       " './PDIoT2324/Respeck\\\\09_Respeck_Lying down back_Talking.csv',\n",
       " './PDIoT2324/Respeck\\\\09_Respeck_Lying down on left_Coughing.csv',\n",
       " './PDIoT2324/Respeck\\\\09_Respeck_Lying down on left_Hyperventilating.csv',\n",
       " './PDIoT2324/Respeck\\\\09_Respeck_Lying down on left_Laughing.csv',\n",
       " './PDIoT2324/Respeck\\\\09_Respeck_Lying down on left_Normal.csv',\n",
       " './PDIoT2324/Respeck\\\\09_Respeck_Lying down on left_Singing.csv',\n",
       " './PDIoT2324/Respeck\\\\09_Respeck_Lying down on left_Talking.csv',\n",
       " './PDIoT2324/Respeck\\\\09_Respeck_Lying down on stomach_Coughing.csv',\n",
       " './PDIoT2324/Respeck\\\\09_Respeck_Lying down on stomach_Hyperventilating.csv',\n",
       " './PDIoT2324/Respeck\\\\09_Respeck_Lying down on stomach_Laughing.csv',\n",
       " './PDIoT2324/Respeck\\\\09_Respeck_Lying down on stomach_Normal.csv',\n",
       " './PDIoT2324/Respeck\\\\09_Respeck_Lying down on stomach_Singing.csv',\n",
       " './PDIoT2324/Respeck\\\\09_Respeck_Lying down on stomach_Talking.csv',\n",
       " './PDIoT2324/Respeck\\\\09_Respeck_Lying down right_Coughing.csv',\n",
       " './PDIoT2324/Respeck\\\\09_Respeck_Lying down right_Hyperventilating.csv',\n",
       " './PDIoT2324/Respeck\\\\09_Respeck_Lying down right_Laughing.csv',\n",
       " './PDIoT2324/Respeck\\\\09_Respeck_Lying down right_Normal.csv',\n",
       " './PDIoT2324/Respeck\\\\09_Respeck_Lying down right_Singing.csv',\n",
       " './PDIoT2324/Respeck\\\\09_Respeck_Lying down right_Talking.csv',\n",
       " './PDIoT2324/Respeck\\\\09_Respeck_Miscellaneous movements_Normal.csv',\n",
       " './PDIoT2324/Respeck\\\\09_Respeck_Normal walking_Normal.csv',\n",
       " './PDIoT2324/Respeck\\\\09_Respeck_Running_Normal.csv',\n",
       " './PDIoT2324/Respeck\\\\09_Respeck_Shuffle walking_Normal.csv',\n",
       " './PDIoT2324/Respeck\\\\09_Respeck_Sitting_Coughing.csv',\n",
       " './PDIoT2324/Respeck\\\\09_Respeck_Sitting_Eating.csv',\n",
       " './PDIoT2324/Respeck\\\\09_Respeck_Sitting_Hyperventilating.csv',\n",
       " './PDIoT2324/Respeck\\\\09_Respeck_Sitting_Laughing.csv',\n",
       " './PDIoT2324/Respeck\\\\09_Respeck_Sitting_Normal.csv',\n",
       " './PDIoT2324/Respeck\\\\09_Respeck_Sitting_Singing.csv',\n",
       " './PDIoT2324/Respeck\\\\09_Respeck_Sitting_Talking.csv',\n",
       " './PDIoT2324/Respeck\\\\09_Respeck_Standing_Coughing.csv',\n",
       " './PDIoT2324/Respeck\\\\09_Respeck_Standing_Eating.csv',\n",
       " './PDIoT2324/Respeck\\\\09_Respeck_Standing_Laughing.csv',\n",
       " './PDIoT2324/Respeck\\\\09_Respeck_Standing_Normal.csv',\n",
       " './PDIoT2324/Respeck\\\\09_Respeck_Standing_Singing.csv',\n",
       " './PDIoT2324/Respeck\\\\09_Respeck_Standing_Talking.csv',\n",
       " './PDIoT2324/Respeck\\\\10_Respeck_Ascending stairs_Normal.csv',\n",
       " './PDIoT2324/Respeck\\\\10_Respeck_Descending stairs_Normal.csv',\n",
       " './PDIoT2324/Respeck\\\\10_Respeck_Lying down back_Coughing.csv',\n",
       " './PDIoT2324/Respeck\\\\10_Respeck_Lying down back_Hyperventilating.csv',\n",
       " './PDIoT2324/Respeck\\\\10_Respeck_Lying down back_Laughing.csv',\n",
       " './PDIoT2324/Respeck\\\\10_Respeck_Lying down back_Normal.csv',\n",
       " './PDIoT2324/Respeck\\\\10_Respeck_Lying down back_Singing.csv',\n",
       " './PDIoT2324/Respeck\\\\10_Respeck_Lying down back_Talking.csv',\n",
       " './PDIoT2324/Respeck\\\\10_Respeck_Lying down on left_Coughing.csv',\n",
       " './PDIoT2324/Respeck\\\\10_Respeck_Lying down on left_Hyperventilating.csv',\n",
       " './PDIoT2324/Respeck\\\\10_Respeck_Lying down on left_Laughing.csv',\n",
       " './PDIoT2324/Respeck\\\\10_Respeck_Lying down on left_Normal.csv',\n",
       " './PDIoT2324/Respeck\\\\10_Respeck_Lying down on left_Singing.csv',\n",
       " './PDIoT2324/Respeck\\\\10_Respeck_Lying down on left_Talking.csv',\n",
       " './PDIoT2324/Respeck\\\\10_Respeck_Lying down on stomach_Coughing.csv',\n",
       " './PDIoT2324/Respeck\\\\10_Respeck_Lying down on stomach_Hyperventilating.csv',\n",
       " './PDIoT2324/Respeck\\\\10_Respeck_Lying down on stomach_Laughing.csv',\n",
       " './PDIoT2324/Respeck\\\\10_Respeck_Lying down on stomach_Normal.csv',\n",
       " './PDIoT2324/Respeck\\\\10_Respeck_Lying down on stomach_Singing.csv',\n",
       " './PDIoT2324/Respeck\\\\10_Respeck_Lying down on stomach_Talking.csv',\n",
       " './PDIoT2324/Respeck\\\\10_Respeck_Lying down right_Coughing.csv',\n",
       " './PDIoT2324/Respeck\\\\10_Respeck_Lying down right_Hyperventilating.csv',\n",
       " './PDIoT2324/Respeck\\\\10_Respeck_Lying down right_Laughing.csv',\n",
       " './PDIoT2324/Respeck\\\\10_Respeck_Lying down right_Normal.csv',\n",
       " './PDIoT2324/Respeck\\\\10_Respeck_Lying down right_Singing.csv',\n",
       " './PDIoT2324/Respeck\\\\10_Respeck_Lying down right_Talking.csv',\n",
       " './PDIoT2324/Respeck\\\\10_Respeck_Miscellaneous movements_Normal.csv',\n",
       " './PDIoT2324/Respeck\\\\10_Respeck_Normal walking_Normal.csv',\n",
       " './PDIoT2324/Respeck\\\\10_Respeck_Running_Normal.csv',\n",
       " './PDIoT2324/Respeck\\\\10_Respeck_Shuffle walking_Normal.csv',\n",
       " './PDIoT2324/Respeck\\\\10_Respeck_Sitting_Coughing.csv',\n",
       " './PDIoT2324/Respeck\\\\10_Respeck_Sitting_Eating.csv',\n",
       " './PDIoT2324/Respeck\\\\10_Respeck_Sitting_Hyperventilating.csv',\n",
       " './PDIoT2324/Respeck\\\\10_Respeck_Sitting_Laughing.csv',\n",
       " './PDIoT2324/Respeck\\\\10_Respeck_Sitting_Normal.csv',\n",
       " './PDIoT2324/Respeck\\\\10_Respeck_Sitting_Singing.csv',\n",
       " './PDIoT2324/Respeck\\\\10_Respeck_Sitting_Talking.csv',\n",
       " './PDIoT2324/Respeck\\\\10_Respeck_Standing_Coughing.csv',\n",
       " './PDIoT2324/Respeck\\\\10_Respeck_Standing_Eating.csv',\n",
       " './PDIoT2324/Respeck\\\\10_Respeck_Standing_Hyperventilating.csv',\n",
       " './PDIoT2324/Respeck\\\\10_Respeck_Standing_Laughing.csv',\n",
       " './PDIoT2324/Respeck\\\\10_Respeck_Standing_Normal.csv',\n",
       " './PDIoT2324/Respeck\\\\10_Respeck_Standing_Singing.csv',\n",
       " './PDIoT2324/Respeck\\\\10_Respeck_Standing_Talking.csv',\n",
       " './PDIoT2324/Respeck\\\\11_Respeck_Ascending stairs_Normal.csv',\n",
       " './PDIoT2324/Respeck\\\\11_Respeck_Descending stairs_Normal.csv',\n",
       " './PDIoT2324/Respeck\\\\11_Respeck_Lying down right_Singing.csv',\n",
       " './PDIoT2324/Respeck\\\\11_Respeck_Running_Normal.csv',\n",
       " './PDIoT2324/Respeck\\\\11_Respeck_Sitting_Normal.csv',\n",
       " './PDIoT2324/Respeck\\\\12_Respeck_Ascending stairs_Normal.csv',\n",
       " './PDIoT2324/Respeck\\\\12_Respeck_Descending stairs_Normal.csv',\n",
       " './PDIoT2324/Respeck\\\\12_Respeck_Lying down back_Coughing.csv',\n",
       " './PDIoT2324/Respeck\\\\12_Respeck_Lying down back_Hyperventilating.csv',\n",
       " './PDIoT2324/Respeck\\\\12_Respeck_Lying down back_Laughing.csv',\n",
       " './PDIoT2324/Respeck\\\\12_Respeck_Lying down back_Normal.csv',\n",
       " './PDIoT2324/Respeck\\\\12_Respeck_Lying down back_Singing.csv',\n",
       " './PDIoT2324/Respeck\\\\12_Respeck_Lying down back_Talking.csv',\n",
       " './PDIoT2324/Respeck\\\\12_Respeck_Lying down on left_Coughing.csv',\n",
       " './PDIoT2324/Respeck\\\\12_Respeck_Lying down on left_Hyperventilating.csv',\n",
       " './PDIoT2324/Respeck\\\\12_Respeck_Lying down on left_Laughing.csv',\n",
       " './PDIoT2324/Respeck\\\\12_Respeck_Lying down on left_Normal.csv',\n",
       " './PDIoT2324/Respeck\\\\12_Respeck_Lying down on left_Singing.csv',\n",
       " './PDIoT2324/Respeck\\\\12_Respeck_Lying down on left_Talking.csv',\n",
       " './PDIoT2324/Respeck\\\\12_Respeck_Lying down on stomach_Coughing.csv',\n",
       " './PDIoT2324/Respeck\\\\12_Respeck_Lying down on stomach_Hyperventilating.csv',\n",
       " './PDIoT2324/Respeck\\\\12_Respeck_Lying down on stomach_Laughing.csv',\n",
       " './PDIoT2324/Respeck\\\\12_Respeck_Lying down on stomach_Normal.csv',\n",
       " './PDIoT2324/Respeck\\\\12_Respeck_Lying down on stomach_Singing.csv',\n",
       " './PDIoT2324/Respeck\\\\12_Respeck_Lying down on stomach_Talking.csv',\n",
       " './PDIoT2324/Respeck\\\\12_Respeck_Lying down right_Coughing.csv',\n",
       " './PDIoT2324/Respeck\\\\12_Respeck_Lying down right_Hyperventilating.csv',\n",
       " './PDIoT2324/Respeck\\\\12_Respeck_Lying down right_Laughing.csv',\n",
       " './PDIoT2324/Respeck\\\\12_Respeck_Lying down right_Normal.csv',\n",
       " './PDIoT2324/Respeck\\\\12_Respeck_Lying down right_Singing.csv',\n",
       " './PDIoT2324/Respeck\\\\12_Respeck_Lying down right_Talking.csv',\n",
       " './PDIoT2324/Respeck\\\\12_Respeck_Miscellaneous movements_Normal.csv',\n",
       " './PDIoT2324/Respeck\\\\12_Respeck_Normal walking_Normal.csv',\n",
       " './PDIoT2324/Respeck\\\\12_Respeck_Running_Normal.csv',\n",
       " './PDIoT2324/Respeck\\\\12_Respeck_Shuffle walking_Normal.csv',\n",
       " './PDIoT2324/Respeck\\\\12_Respeck_Sitting_Coughing.csv',\n",
       " './PDIoT2324/Respeck\\\\12_Respeck_Sitting_Eating.csv',\n",
       " './PDIoT2324/Respeck\\\\12_Respeck_Sitting_Hyperventilating.csv',\n",
       " './PDIoT2324/Respeck\\\\12_Respeck_Sitting_Laughing.csv',\n",
       " './PDIoT2324/Respeck\\\\12_Respeck_Sitting_Normal.csv',\n",
       " './PDIoT2324/Respeck\\\\12_Respeck_Sitting_Singing.csv',\n",
       " './PDIoT2324/Respeck\\\\12_Respeck_Sitting_Talking.csv',\n",
       " './PDIoT2324/Respeck\\\\12_Respeck_Standing_Coughing.csv',\n",
       " './PDIoT2324/Respeck\\\\12_Respeck_Standing_Eating.csv',\n",
       " './PDIoT2324/Respeck\\\\12_Respeck_Standing_Hyperventilating.csv',\n",
       " './PDIoT2324/Respeck\\\\12_Respeck_Standing_Laughing.csv',\n",
       " './PDIoT2324/Respeck\\\\12_Respeck_Standing_Normal.csv',\n",
       " './PDIoT2324/Respeck\\\\12_Respeck_Standing_Singing.csv',\n",
       " './PDIoT2324/Respeck\\\\12_Respeck_Standing_Talking.csv',\n",
       " './PDIoT2324/Respeck\\\\13_Respeck_Ascending stairs_Normal.csv',\n",
       " './PDIoT2324/Respeck\\\\13_Respeck_Descending stairs_Normal.csv',\n",
       " './PDIoT2324/Respeck\\\\13_Respeck_Lying down back_Coughing.csv',\n",
       " './PDIoT2324/Respeck\\\\13_Respeck_Lying down back_Hyperventilating.csv',\n",
       " './PDIoT2324/Respeck\\\\13_Respeck_Lying down back_Laughing.csv',\n",
       " './PDIoT2324/Respeck\\\\13_Respeck_Lying down back_Normal.csv',\n",
       " './PDIoT2324/Respeck\\\\13_Respeck_Lying down back_Singing.csv',\n",
       " './PDIoT2324/Respeck\\\\13_Respeck_Lying down back_Talking.csv',\n",
       " './PDIoT2324/Respeck\\\\13_Respeck_Lying down on left_Coughing.csv',\n",
       " './PDIoT2324/Respeck\\\\13_Respeck_Lying down on left_Hyperventilating.csv',\n",
       " './PDIoT2324/Respeck\\\\13_Respeck_Lying down on left_Laughing.csv',\n",
       " './PDIoT2324/Respeck\\\\13_Respeck_Lying down on left_Singing.csv',\n",
       " './PDIoT2324/Respeck\\\\13_Respeck_Lying down on left_Talking.csv',\n",
       " './PDIoT2324/Respeck\\\\13_Respeck_Lying down on stomach_Coughing.csv',\n",
       " './PDIoT2324/Respeck\\\\13_Respeck_Lying down on stomach_Hyperventilating.csv',\n",
       " './PDIoT2324/Respeck\\\\13_Respeck_Lying down on stomach_Laughing.csv',\n",
       " './PDIoT2324/Respeck\\\\13_Respeck_Lying down on stomach_Normal.csv',\n",
       " './PDIoT2324/Respeck\\\\13_Respeck_Lying down on stomach_Singing.csv',\n",
       " './PDIoT2324/Respeck\\\\13_Respeck_Lying down on stomach_Talking.csv',\n",
       " './PDIoT2324/Respeck\\\\13_Respeck_Lying down right_Coughing.csv',\n",
       " './PDIoT2324/Respeck\\\\13_Respeck_Lying down right_Hyperventilating.csv',\n",
       " './PDIoT2324/Respeck\\\\13_Respeck_Lying down right_Laughing.csv',\n",
       " './PDIoT2324/Respeck\\\\13_Respeck_Lying down right_Normal.csv',\n",
       " './PDIoT2324/Respeck\\\\13_Respeck_Lying down right_Singing.csv',\n",
       " './PDIoT2324/Respeck\\\\13_Respeck_Lying down right_Talking.csv',\n",
       " './PDIoT2324/Respeck\\\\13_Respeck_Miscellaneous movements_Normal.csv',\n",
       " './PDIoT2324/Respeck\\\\13_Respeck_Normal walking_Normal.csv',\n",
       " './PDIoT2324/Respeck\\\\13_Respeck_Running_Normal.csv',\n",
       " './PDIoT2324/Respeck\\\\13_Respeck_Shuffle walking_Normal.csv',\n",
       " './PDIoT2324/Respeck\\\\13_Respeck_Sitting_Coughing.csv',\n",
       " './PDIoT2324/Respeck\\\\13_Respeck_Sitting_Eating.csv',\n",
       " './PDIoT2324/Respeck\\\\13_Respeck_Sitting_Hyperventilating.csv',\n",
       " './PDIoT2324/Respeck\\\\13_Respeck_Sitting_Laughing.csv',\n",
       " './PDIoT2324/Respeck\\\\13_Respeck_Sitting_Normal.csv',\n",
       " './PDIoT2324/Respeck\\\\13_Respeck_Sitting_Singing.csv',\n",
       " './PDIoT2324/Respeck\\\\13_Respeck_Sitting_Talking.csv',\n",
       " './PDIoT2324/Respeck\\\\13_Respeck_Standing_Coughing.csv',\n",
       " './PDIoT2324/Respeck\\\\13_Respeck_Standing_Eating.csv',\n",
       " './PDIoT2324/Respeck\\\\13_Respeck_Standing_Hyperventilating.csv',\n",
       " './PDIoT2324/Respeck\\\\13_Respeck_Standing_Laughing.csv',\n",
       " './PDIoT2324/Respeck\\\\13_Respeck_Standing_Normal.csv',\n",
       " './PDIoT2324/Respeck\\\\13_Respeck_Standing_Singing.csv',\n",
       " './PDIoT2324/Respeck\\\\13_Respeck_Standing_Talking.csv',\n",
       " './PDIoT2324/Respeck\\\\14_Respeck_Ascending stairs_Normal.csv',\n",
       " './PDIoT2324/Respeck\\\\14_Respeck_Descending stairs_Normal.csv',\n",
       " './PDIoT2324/Respeck\\\\14_Respeck_Lying down back_Coughing.csv',\n",
       " './PDIoT2324/Respeck\\\\14_Respeck_Lying down back_Hyperventilating.csv',\n",
       " './PDIoT2324/Respeck\\\\14_Respeck_Lying down back_Laughing.csv',\n",
       " './PDIoT2324/Respeck\\\\14_Respeck_Lying down back_Normal.csv',\n",
       " './PDIoT2324/Respeck\\\\14_Respeck_Lying down back_Singing.csv',\n",
       " './PDIoT2324/Respeck\\\\14_Respeck_Lying down back_Talking.csv',\n",
       " './PDIoT2324/Respeck\\\\14_Respeck_Lying down on left_Coughing.csv',\n",
       " './PDIoT2324/Respeck\\\\14_Respeck_Lying down on left_Hyperventilating.csv',\n",
       " './PDIoT2324/Respeck\\\\14_Respeck_Lying down on left_Laughing.csv',\n",
       " './PDIoT2324/Respeck\\\\14_Respeck_Lying down on left_Normal.csv',\n",
       " './PDIoT2324/Respeck\\\\14_Respeck_Lying down on left_Singing.csv',\n",
       " './PDIoT2324/Respeck\\\\14_Respeck_Lying down on left_Talking.csv',\n",
       " './PDIoT2324/Respeck\\\\14_Respeck_Lying down on stomach_Coughing.csv',\n",
       " './PDIoT2324/Respeck\\\\14_Respeck_Lying down on stomach_Hyperventilating.csv',\n",
       " './PDIoT2324/Respeck\\\\14_Respeck_Lying down on stomach_Laughing.csv',\n",
       " './PDIoT2324/Respeck\\\\14_Respeck_Lying down on stomach_Normal.csv',\n",
       " './PDIoT2324/Respeck\\\\14_Respeck_Lying down on stomach_Singing.csv',\n",
       " './PDIoT2324/Respeck\\\\14_Respeck_Lying down on stomach_Talking.csv',\n",
       " './PDIoT2324/Respeck\\\\14_Respeck_Lying down right_Coughing.csv',\n",
       " './PDIoT2324/Respeck\\\\14_Respeck_Lying down right_Hyperventilating.csv',\n",
       " './PDIoT2324/Respeck\\\\14_Respeck_Lying down right_Laughing.csv',\n",
       " './PDIoT2324/Respeck\\\\14_Respeck_Lying down right_Normal.csv',\n",
       " './PDIoT2324/Respeck\\\\14_Respeck_Lying down right_Singing.csv',\n",
       " './PDIoT2324/Respeck\\\\14_Respeck_Lying down right_Talking.csv',\n",
       " './PDIoT2324/Respeck\\\\14_Respeck_Miscellaneous movements_Normal.csv',\n",
       " './PDIoT2324/Respeck\\\\14_Respeck_Normal walking_Normal.csv',\n",
       " './PDIoT2324/Respeck\\\\14_Respeck_Running_Normal.csv',\n",
       " './PDIoT2324/Respeck\\\\14_Respeck_Shuffle walking_Normal.csv',\n",
       " './PDIoT2324/Respeck\\\\14_Respeck_Sitting_Coughing.csv',\n",
       " './PDIoT2324/Respeck\\\\14_Respeck_Sitting_Eating.csv',\n",
       " './PDIoT2324/Respeck\\\\14_Respeck_Sitting_Hyperventilating.csv',\n",
       " './PDIoT2324/Respeck\\\\14_Respeck_Sitting_Laughing.csv',\n",
       " './PDIoT2324/Respeck\\\\14_Respeck_Sitting_Normal.csv',\n",
       " './PDIoT2324/Respeck\\\\14_Respeck_Sitting_Singing.csv',\n",
       " './PDIoT2324/Respeck\\\\14_Respeck_Sitting_Talking.csv',\n",
       " './PDIoT2324/Respeck\\\\14_Respeck_Standing_Coughing.csv',\n",
       " './PDIoT2324/Respeck\\\\14_Respeck_Standing_Eating.csv',\n",
       " './PDIoT2324/Respeck\\\\14_Respeck_Standing_Hyperventilating.csv',\n",
       " './PDIoT2324/Respeck\\\\14_Respeck_Standing_Laughing.csv',\n",
       " './PDIoT2324/Respeck\\\\14_Respeck_Standing_Normal.csv',\n",
       " './PDIoT2324/Respeck\\\\14_Respeck_Standing_Singing.csv',\n",
       " './PDIoT2324/Respeck\\\\14_Respeck_Standing_Talking.csv',\n",
       " './PDIoT2324/Respeck\\\\16_Respeck_Ascending stairs_Normal.csv',\n",
       " './PDIoT2324/Respeck\\\\16_Respeck_Descending stairs_Normal.csv',\n",
       " './PDIoT2324/Respeck\\\\16_Respeck_Lying down back_Coughing.csv',\n",
       " './PDIoT2324/Respeck\\\\16_Respeck_Lying down back_Hyperventilating.csv',\n",
       " './PDIoT2324/Respeck\\\\16_Respeck_Lying down back_Laughing.csv',\n",
       " './PDIoT2324/Respeck\\\\16_Respeck_Lying down back_Normal.csv',\n",
       " './PDIoT2324/Respeck\\\\16_Respeck_Lying down back_Singing.csv',\n",
       " './PDIoT2324/Respeck\\\\16_Respeck_Lying down back_Talking.csv',\n",
       " './PDIoT2324/Respeck\\\\16_Respeck_Lying down on left_Coughing.csv',\n",
       " './PDIoT2324/Respeck\\\\16_Respeck_Lying down on left_Hyperventilating.csv',\n",
       " './PDIoT2324/Respeck\\\\16_Respeck_Lying down on left_Laughing.csv',\n",
       " './PDIoT2324/Respeck\\\\16_Respeck_Lying down on left_Normal.csv',\n",
       " './PDIoT2324/Respeck\\\\16_Respeck_Lying down on left_Singing.csv',\n",
       " './PDIoT2324/Respeck\\\\16_Respeck_Lying down on left_Talking.csv',\n",
       " './PDIoT2324/Respeck\\\\16_Respeck_Lying down on stomach_Coughing.csv',\n",
       " './PDIoT2324/Respeck\\\\16_Respeck_Lying down on stomach_Hyperventilating.csv',\n",
       " './PDIoT2324/Respeck\\\\16_Respeck_Lying down on stomach_Laughing.csv',\n",
       " './PDIoT2324/Respeck\\\\16_Respeck_Lying down on stomach_Normal.csv',\n",
       " './PDIoT2324/Respeck\\\\16_Respeck_Lying down on stomach_Singing.csv',\n",
       " './PDIoT2324/Respeck\\\\16_Respeck_Lying down on stomach_Talking.csv',\n",
       " './PDIoT2324/Respeck\\\\16_Respeck_Lying down right_Coughing.csv',\n",
       " './PDIoT2324/Respeck\\\\16_Respeck_Lying down right_Hyperventilating.csv',\n",
       " './PDIoT2324/Respeck\\\\16_Respeck_Lying down right_Laughing.csv',\n",
       " './PDIoT2324/Respeck\\\\16_Respeck_Lying down right_Normal.csv',\n",
       " './PDIoT2324/Respeck\\\\16_Respeck_Lying down right_Singing.csv',\n",
       " './PDIoT2324/Respeck\\\\16_Respeck_Lying down right_Talking.csv',\n",
       " './PDIoT2324/Respeck\\\\16_Respeck_Miscellaneous movements_Normal.csv',\n",
       " './PDIoT2324/Respeck\\\\16_Respeck_Normal walking_Normal.csv',\n",
       " './PDIoT2324/Respeck\\\\16_Respeck_Running_Normal.csv',\n",
       " './PDIoT2324/Respeck\\\\16_Respeck_Shuffle walking_Normal.csv',\n",
       " './PDIoT2324/Respeck\\\\16_Respeck_Sitting_Coughing.csv',\n",
       " './PDIoT2324/Respeck\\\\16_Respeck_Sitting_Eating.csv',\n",
       " './PDIoT2324/Respeck\\\\16_Respeck_Sitting_Hyperventilating.csv',\n",
       " './PDIoT2324/Respeck\\\\16_Respeck_Sitting_Laughing.csv',\n",
       " './PDIoT2324/Respeck\\\\16_Respeck_Sitting_Normal.csv',\n",
       " './PDIoT2324/Respeck\\\\16_Respeck_Sitting_Singing.csv',\n",
       " './PDIoT2324/Respeck\\\\16_Respeck_Sitting_Talking.csv',\n",
       " './PDIoT2324/Respeck\\\\16_Respeck_Standing_Coughing.csv',\n",
       " './PDIoT2324/Respeck\\\\16_Respeck_Standing_Eating.csv',\n",
       " './PDIoT2324/Respeck\\\\16_Respeck_Standing_Hyperventilating.csv',\n",
       " './PDIoT2324/Respeck\\\\16_Respeck_Standing_Laughing.csv',\n",
       " './PDIoT2324/Respeck\\\\16_Respeck_Standing_Normal.csv',\n",
       " './PDIoT2324/Respeck\\\\16_Respeck_Standing_Singing.csv',\n",
       " './PDIoT2324/Respeck\\\\16_Respeck_Standing_Talking.csv',\n",
       " './PDIoT2324/Respeck\\\\17_Respeck_Ascending stairs_Normal.csv',\n",
       " './PDIoT2324/Respeck\\\\17_Respeck_Descending stairs_Normal.csv',\n",
       " './PDIoT2324/Respeck\\\\17_Respeck_Lying down back_Normal.csv',\n",
       " './PDIoT2324/Respeck\\\\17_Respeck_Lying down on left_Normal.csv',\n",
       " './PDIoT2324/Respeck\\\\17_Respeck_Lying down on stomach_Hyperventilating.csv',\n",
       " './PDIoT2324/Respeck\\\\17_Respeck_Lying down right_Normal.csv',\n",
       " './PDIoT2324/Respeck\\\\17_Respeck_Sitting_Singing.csv',\n",
       " './PDIoT2324/Respeck\\\\17_Respeck_Standing_Eating.csv',\n",
       " './PDIoT2324/Respeck\\\\17_Respeck_Standing_Normal.csv',\n",
       " './PDIoT2324/Respeck\\\\18_Respeck_Ascending stairs_Normal.csv',\n",
       " './PDIoT2324/Respeck\\\\18_Respeck_Descending stairs_Normal.csv',\n",
       " './PDIoT2324/Respeck\\\\18_Respeck_Lying down back_Coughing.csv',\n",
       " './PDIoT2324/Respeck\\\\18_Respeck_Lying down back_Hyperventilating.csv',\n",
       " './PDIoT2324/Respeck\\\\18_Respeck_Lying down back_Laughing.csv',\n",
       " './PDIoT2324/Respeck\\\\18_Respeck_Lying down back_Normal.csv',\n",
       " './PDIoT2324/Respeck\\\\18_Respeck_Lying down back_Singing.csv',\n",
       " './PDIoT2324/Respeck\\\\18_Respeck_Lying down back_Talking.csv',\n",
       " './PDIoT2324/Respeck\\\\18_Respeck_Lying down on left_Coughing.csv',\n",
       " './PDIoT2324/Respeck\\\\18_Respeck_Lying down on left_Hyperventilating.csv',\n",
       " './PDIoT2324/Respeck\\\\18_Respeck_Lying down on left_Laughing.csv',\n",
       " './PDIoT2324/Respeck\\\\18_Respeck_Lying down on left_Normal.csv',\n",
       " './PDIoT2324/Respeck\\\\18_Respeck_Lying down on left_Singing.csv',\n",
       " './PDIoT2324/Respeck\\\\18_Respeck_Lying down on left_Talking.csv',\n",
       " './PDIoT2324/Respeck\\\\18_Respeck_Lying down on stomach_Coughing.csv',\n",
       " './PDIoT2324/Respeck\\\\18_Respeck_Lying down on stomach_Hyperventilating.csv',\n",
       " './PDIoT2324/Respeck\\\\18_Respeck_Lying down on stomach_Laughing.csv',\n",
       " './PDIoT2324/Respeck\\\\18_Respeck_Lying down on stomach_Normal.csv',\n",
       " './PDIoT2324/Respeck\\\\18_Respeck_Lying down on stomach_Singing.csv',\n",
       " './PDIoT2324/Respeck\\\\18_Respeck_Lying down on stomach_Talking.csv',\n",
       " './PDIoT2324/Respeck\\\\18_Respeck_Lying down right_Coughing.csv',\n",
       " './PDIoT2324/Respeck\\\\18_Respeck_Lying down right_Hyperventilating.csv',\n",
       " './PDIoT2324/Respeck\\\\18_Respeck_Lying down right_Laughing.csv',\n",
       " './PDIoT2324/Respeck\\\\18_Respeck_Lying down right_Normal.csv',\n",
       " './PDIoT2324/Respeck\\\\18_Respeck_Lying down right_Singing.csv',\n",
       " './PDIoT2324/Respeck\\\\18_Respeck_Lying down right_Talking.csv',\n",
       " './PDIoT2324/Respeck\\\\18_Respeck_Miscellaneous movements_Normal.csv',\n",
       " './PDIoT2324/Respeck\\\\18_Respeck_Normal walking_Normal.csv',\n",
       " './PDIoT2324/Respeck\\\\18_Respeck_Running_Normal.csv',\n",
       " './PDIoT2324/Respeck\\\\18_Respeck_Shuffle walking_Normal.csv',\n",
       " './PDIoT2324/Respeck\\\\18_Respeck_Sitting_Coughing.csv',\n",
       " './PDIoT2324/Respeck\\\\18_Respeck_Sitting_Eating.csv',\n",
       " './PDIoT2324/Respeck\\\\18_Respeck_Sitting_Hyperventilating.csv',\n",
       " './PDIoT2324/Respeck\\\\18_Respeck_Sitting_Laughing.csv',\n",
       " './PDIoT2324/Respeck\\\\18_Respeck_Sitting_Normal.csv',\n",
       " './PDIoT2324/Respeck\\\\18_Respeck_Sitting_Singing.csv',\n",
       " './PDIoT2324/Respeck\\\\18_Respeck_Sitting_Talking.csv',\n",
       " './PDIoT2324/Respeck\\\\18_Respeck_Standing_Coughing.csv',\n",
       " './PDIoT2324/Respeck\\\\18_Respeck_Standing_Eating.csv',\n",
       " './PDIoT2324/Respeck\\\\18_Respeck_Standing_Hyperventilating.csv',\n",
       " './PDIoT2324/Respeck\\\\18_Respeck_Standing_Laughing.csv',\n",
       " './PDIoT2324/Respeck\\\\18_Respeck_Standing_Normal.csv',\n",
       " './PDIoT2324/Respeck\\\\18_Respeck_Standing_Singing.csv',\n",
       " './PDIoT2324/Respeck\\\\18_Respeck_Standing_Talking.csv',\n",
       " './PDIoT2324/Respeck\\\\19_Respeck_Ascending stairs_Normal.csv',\n",
       " './PDIoT2324/Respeck\\\\19_Respeck_Descending stairs_Normal.csv',\n",
       " './PDIoT2324/Respeck\\\\19_Respeck_Lying down back_Coughing.csv',\n",
       " './PDIoT2324/Respeck\\\\19_Respeck_Lying down back_Hyperventilating.csv',\n",
       " './PDIoT2324/Respeck\\\\19_Respeck_Lying down back_Laughing.csv',\n",
       " './PDIoT2324/Respeck\\\\19_Respeck_Lying down back_Normal.csv',\n",
       " './PDIoT2324/Respeck\\\\19_Respeck_Lying down on left_Coughing.csv',\n",
       " './PDIoT2324/Respeck\\\\19_Respeck_Lying down on left_Hyperventilating.csv',\n",
       " './PDIoT2324/Respeck\\\\19_Respeck_Lying down on left_Normal.csv',\n",
       " './PDIoT2324/Respeck\\\\19_Respeck_Lying down on stomach_Coughing.csv',\n",
       " './PDIoT2324/Respeck\\\\19_Respeck_Lying down on stomach_Hyperventilating.csv',\n",
       " './PDIoT2324/Respeck\\\\19_Respeck_Lying down on stomach_Normal.csv',\n",
       " './PDIoT2324/Respeck\\\\19_Respeck_Lying down right_Hyperventilating.csv',\n",
       " './PDIoT2324/Respeck\\\\19_Respeck_Lying down right_Normal.csv',\n",
       " './PDIoT2324/Respeck\\\\19_Respeck_Lying down right_Talking.csv',\n",
       " './PDIoT2324/Respeck\\\\19_Respeck_Miscellaneous movements_Normal.csv',\n",
       " './PDIoT2324/Respeck\\\\19_Respeck_Normal walking_Normal.csv',\n",
       " './PDIoT2324/Respeck\\\\19_Respeck_Running_Normal.csv',\n",
       " './PDIoT2324/Respeck\\\\19_Respeck_Shuffle walking_Normal.csv',\n",
       " './PDIoT2324/Respeck\\\\19_Respeck_Sitting_Coughing.csv',\n",
       " './PDIoT2324/Respeck\\\\19_Respeck_Sitting_Hyperventilating.csv',\n",
       " './PDIoT2324/Respeck\\\\19_Respeck_Sitting_Normal.csv',\n",
       " './PDIoT2324/Respeck\\\\19_Respeck_Standing_Coughing.csv',\n",
       " './PDIoT2324/Respeck\\\\19_Respeck_Standing_Eating.csv',\n",
       " './PDIoT2324/Respeck\\\\19_Respeck_Standing_Hyperventilating.csv',\n",
       " './PDIoT2324/Respeck\\\\20_Respeck_Lying down back_Laughing.csv',\n",
       " './PDIoT2324/Respeck\\\\20_Respeck_Lying down right_Coughing.csv',\n",
       " './PDIoT2324/Respeck\\\\20_Respeck_Lying down right_Singing.csv',\n",
       " './PDIoT2324/Respeck\\\\20_Respeck_Miscellaneous movements_Normal.csv',\n",
       " './PDIoT2324/Respeck\\\\20_Respeck_Sitting_Singing.csv',\n",
       " './PDIoT2324/Respeck\\\\21_Respeck_Ascending stairs_Normal.csv',\n",
       " './PDIoT2324/Respeck\\\\21_Respeck_Descending stairs_Normal.csv',\n",
       " './PDIoT2324/Respeck\\\\21_Respeck_Lying down back_Normal.csv',\n",
       " './PDIoT2324/Respeck\\\\21_Respeck_Lying down on stomach_Normal.csv',\n",
       " './PDIoT2324/Respeck\\\\21_Respeck_Lying down right_Normal.csv',\n",
       " './PDIoT2324/Respeck\\\\21_Respeck_Miscellaneous movements_Normal.csv',\n",
       " './PDIoT2324/Respeck\\\\21_Respeck_Normal walking_Normal.csv',\n",
       " './PDIoT2324/Respeck\\\\21_Respeck_Running_Normal.csv',\n",
       " './PDIoT2324/Respeck\\\\21_Respeck_Shuffle walking_Normal.csv',\n",
       " './PDIoT2324/Respeck\\\\21_Respeck_Sitting_Normal.csv',\n",
       " './PDIoT2324/Respeck\\\\21_Respeck_Sitting_Talking.csv',\n",
       " './PDIoT2324/Respeck\\\\21_Respeck_Standing_Eating.csv',\n",
       " './PDIoT2324/Respeck\\\\21_Respeck_Standing_Normal.csv',\n",
       " './PDIoT2324/Respeck\\\\22_Respeck_Ascending stairs_Normal.csv',\n",
       " './PDIoT2324/Respeck\\\\22_Respeck_Descending stairs_Normal.csv',\n",
       " './PDIoT2324/Respeck\\\\22_Respeck_Lying down back_Normal.csv',\n",
       " './PDIoT2324/Respeck\\\\22_Respeck_Lying down on left_Normal.csv',\n",
       " './PDIoT2324/Respeck\\\\22_Respeck_Lying down on stomach_Hyperventilating.csv',\n",
       " './PDIoT2324/Respeck\\\\22_Respeck_Lying down on stomach_Normal.csv',\n",
       " './PDIoT2324/Respeck\\\\22_Respeck_Lying down right_Normal.csv',\n",
       " './PDIoT2324/Respeck\\\\22_Respeck_Miscellaneous movements_Normal.csv',\n",
       " './PDIoT2324/Respeck\\\\22_Respeck_Normal walking_Normal.csv',\n",
       " './PDIoT2324/Respeck\\\\22_Respeck_Running_Normal.csv',\n",
       " './PDIoT2324/Respeck\\\\22_Respeck_Shuffle walking_Normal.csv',\n",
       " './PDIoT2324/Respeck\\\\22_Respeck_Sitting_Eating.csv',\n",
       " './PDIoT2324/Respeck\\\\22_Respeck_Sitting_Hyperventilating.csv',\n",
       " './PDIoT2324/Respeck\\\\22_Respeck_Sitting_Normal.csv',\n",
       " './PDIoT2324/Respeck\\\\22_Respeck_Standing_Normal.csv',\n",
       " './PDIoT2324/Respeck\\\\25_Respeck_Ascending stairs_Normal.csv',\n",
       " './PDIoT2324/Respeck\\\\25_Respeck_Descending stairs_Normal.csv',\n",
       " './PDIoT2324/Respeck\\\\25_Respeck_Lying down back_Coughing.csv',\n",
       " './PDIoT2324/Respeck\\\\25_Respeck_Lying down back_Hyperventilating.csv',\n",
       " './PDIoT2324/Respeck\\\\25_Respeck_Lying down back_Laughing.csv',\n",
       " './PDIoT2324/Respeck\\\\25_Respeck_Lying down back_Normal.csv',\n",
       " './PDIoT2324/Respeck\\\\25_Respeck_Lying down back_Singing.csv',\n",
       " './PDIoT2324/Respeck\\\\25_Respeck_Lying down back_Talking.csv',\n",
       " './PDIoT2324/Respeck\\\\25_Respeck_Lying down on left_Coughing.csv',\n",
       " './PDIoT2324/Respeck\\\\25_Respeck_Lying down on left_Hyperventilating.csv',\n",
       " './PDIoT2324/Respeck\\\\25_Respeck_Lying down on left_Laughing.csv',\n",
       " './PDIoT2324/Respeck\\\\25_Respeck_Lying down on left_Normal.csv',\n",
       " './PDIoT2324/Respeck\\\\25_Respeck_Lying down on left_Singing.csv',\n",
       " './PDIoT2324/Respeck\\\\25_Respeck_Lying down on left_Talking.csv',\n",
       " './PDIoT2324/Respeck\\\\25_Respeck_Lying down on stomach_Coughing.csv',\n",
       " './PDIoT2324/Respeck\\\\25_Respeck_Lying down on stomach_Hyperventilating.csv',\n",
       " './PDIoT2324/Respeck\\\\25_Respeck_Lying down on stomach_Laughing.csv',\n",
       " './PDIoT2324/Respeck\\\\25_Respeck_Lying down on stomach_Normal.csv',\n",
       " './PDIoT2324/Respeck\\\\25_Respeck_Lying down on stomach_Singing.csv',\n",
       " './PDIoT2324/Respeck\\\\25_Respeck_Lying down on stomach_Talking.csv',\n",
       " './PDIoT2324/Respeck\\\\25_Respeck_Lying down right_Coughing.csv',\n",
       " './PDIoT2324/Respeck\\\\25_Respeck_Lying down right_Hyperventilating.csv',\n",
       " './PDIoT2324/Respeck\\\\25_Respeck_Lying down right_Laughing.csv',\n",
       " './PDIoT2324/Respeck\\\\25_Respeck_Lying down right_Normal.csv',\n",
       " './PDIoT2324/Respeck\\\\25_Respeck_Lying down right_Singing.csv',\n",
       " './PDIoT2324/Respeck\\\\25_Respeck_Lying down right_Talking.csv',\n",
       " './PDIoT2324/Respeck\\\\25_Respeck_Miscellaneous movements_Normal.csv',\n",
       " './PDIoT2324/Respeck\\\\25_Respeck_Normal walking_Normal.csv',\n",
       " './PDIoT2324/Respeck\\\\25_Respeck_Running_Normal.csv',\n",
       " './PDIoT2324/Respeck\\\\25_Respeck_Shuffle walking_Normal.csv',\n",
       " './PDIoT2324/Respeck\\\\25_Respeck_Sitting_Coughing.csv',\n",
       " './PDIoT2324/Respeck\\\\25_Respeck_Sitting_Eating.csv',\n",
       " './PDIoT2324/Respeck\\\\25_Respeck_Sitting_Hyperventilating.csv',\n",
       " './PDIoT2324/Respeck\\\\25_Respeck_Sitting_Laughing.csv',\n",
       " './PDIoT2324/Respeck\\\\25_Respeck_Sitting_Normal.csv',\n",
       " './PDIoT2324/Respeck\\\\25_Respeck_Sitting_Singing.csv',\n",
       " './PDIoT2324/Respeck\\\\25_Respeck_Sitting_Talking.csv',\n",
       " './PDIoT2324/Respeck\\\\25_Respeck_Standing_Coughing.csv',\n",
       " './PDIoT2324/Respeck\\\\25_Respeck_Standing_Eating.csv',\n",
       " './PDIoT2324/Respeck\\\\25_Respeck_Standing_Hyperventilating.csv',\n",
       " './PDIoT2324/Respeck\\\\25_Respeck_Standing_Laughing.csv',\n",
       " './PDIoT2324/Respeck\\\\25_Respeck_Standing_Singing.csv',\n",
       " './PDIoT2324/Respeck\\\\25_Respeck_Standing_Talking.csv',\n",
       " './PDIoT2324/Respeck\\\\27_Respeck_Ascending stairs_Normal.csv',\n",
       " './PDIoT2324/Respeck\\\\27_Respeck_Descending stairs_Normal.csv',\n",
       " './PDIoT2324/Respeck\\\\27_Respeck_Lying down back_Coughing.csv',\n",
       " './PDIoT2324/Respeck\\\\27_Respeck_Lying down back_Hyperventilating.csv',\n",
       " './PDIoT2324/Respeck\\\\27_Respeck_Lying down back_Laughing.csv',\n",
       " './PDIoT2324/Respeck\\\\27_Respeck_Lying down back_Normal.csv',\n",
       " './PDIoT2324/Respeck\\\\27_Respeck_Lying down back_Singing.csv',\n",
       " './PDIoT2324/Respeck\\\\27_Respeck_Lying down back_Talking.csv',\n",
       " './PDIoT2324/Respeck\\\\27_Respeck_Lying down on left_Coughing.csv',\n",
       " './PDIoT2324/Respeck\\\\27_Respeck_Lying down on left_Hyperventilating.csv',\n",
       " './PDIoT2324/Respeck\\\\27_Respeck_Lying down on left_Laughing.csv',\n",
       " './PDIoT2324/Respeck\\\\27_Respeck_Lying down on left_Normal.csv',\n",
       " './PDIoT2324/Respeck\\\\27_Respeck_Lying down on left_Singing.csv',\n",
       " './PDIoT2324/Respeck\\\\27_Respeck_Lying down on left_Talking.csv',\n",
       " './PDIoT2324/Respeck\\\\27_Respeck_Lying down on stomach_Coughing.csv',\n",
       " './PDIoT2324/Respeck\\\\27_Respeck_Lying down on stomach_Hyperventilating.csv',\n",
       " './PDIoT2324/Respeck\\\\27_Respeck_Lying down on stomach_Laughing.csv',\n",
       " './PDIoT2324/Respeck\\\\27_Respeck_Lying down on stomach_Normal.csv',\n",
       " './PDIoT2324/Respeck\\\\27_Respeck_Lying down right_Coughing.csv',\n",
       " './PDIoT2324/Respeck\\\\27_Respeck_Lying down right_Talking.csv',\n",
       " './PDIoT2324/Respeck\\\\27_Respeck_Miscellaneous movements_Normal.csv',\n",
       " './PDIoT2324/Respeck\\\\27_Respeck_Running_Normal.csv',\n",
       " './PDIoT2324/Respeck\\\\27_Respeck_Sitting_Coughing.csv',\n",
       " './PDIoT2324/Respeck\\\\27_Respeck_Standing_Singing.csv',\n",
       " './PDIoT2324/Respeck\\\\28_Respeck_Ascending stairs_Normal.csv',\n",
       " './PDIoT2324/Respeck\\\\28_Respeck_Descending stairs_Normal.csv',\n",
       " './PDIoT2324/Respeck\\\\28_Respeck_Lying down on left_Coughing.csv',\n",
       " './PDIoT2324/Respeck\\\\28_Respeck_Lying down on left_Hyperventilating.csv',\n",
       " './PDIoT2324/Respeck\\\\28_Respeck_Lying down on stomach_Coughing.csv',\n",
       " './PDIoT2324/Respeck\\\\28_Respeck_Miscellaneous movements_Normal.csv',\n",
       " './PDIoT2324/Respeck\\\\28_Respeck_Running_Normal.csv',\n",
       " './PDIoT2324/Respeck\\\\28_Respeck_Sitting_Coughing.csv',\n",
       " './PDIoT2324/Respeck\\\\28_Respeck_Sitting_Hyperventilating.csv',\n",
       " './PDIoT2324/Respeck\\\\29_Respeck_Ascending stairs_Normal.csv',\n",
       " './PDIoT2324/Respeck\\\\29_Respeck_Descending stairs_Normal.csv',\n",
       " './PDIoT2324/Respeck\\\\29_Respeck_Lying down back_Coughing.csv',\n",
       " './PDIoT2324/Respeck\\\\29_Respeck_Lying down back_Hyperventilating.csv',\n",
       " './PDIoT2324/Respeck\\\\29_Respeck_Lying down back_Laughing.csv',\n",
       " './PDIoT2324/Respeck\\\\29_Respeck_Lying down back_Normal.csv',\n",
       " './PDIoT2324/Respeck\\\\29_Respeck_Lying down back_Singing.csv',\n",
       " './PDIoT2324/Respeck\\\\29_Respeck_Lying down back_Talking.csv',\n",
       " './PDIoT2324/Respeck\\\\29_Respeck_Lying down on left_Coughing.csv',\n",
       " './PDIoT2324/Respeck\\\\29_Respeck_Lying down on left_Hyperventilating.csv',\n",
       " './PDIoT2324/Respeck\\\\29_Respeck_Lying down on left_Laughing.csv',\n",
       " './PDIoT2324/Respeck\\\\29_Respeck_Lying down on left_Normal.csv',\n",
       " './PDIoT2324/Respeck\\\\29_Respeck_Lying down on left_Singing.csv',\n",
       " './PDIoT2324/Respeck\\\\29_Respeck_Lying down on left_Talking.csv',\n",
       " './PDIoT2324/Respeck\\\\29_Respeck_Lying down on stomach_Coughing.csv',\n",
       " './PDIoT2324/Respeck\\\\29_Respeck_Lying down on stomach_Hyperventilating.csv',\n",
       " './PDIoT2324/Respeck\\\\29_Respeck_Lying down on stomach_Laughing.csv',\n",
       " './PDIoT2324/Respeck\\\\29_Respeck_Lying down on stomach_Normal.csv',\n",
       " './PDIoT2324/Respeck\\\\29_Respeck_Lying down on stomach_Singing.csv',\n",
       " './PDIoT2324/Respeck\\\\29_Respeck_Lying down on stomach_Talking.csv',\n",
       " './PDIoT2324/Respeck\\\\29_Respeck_Lying down right_Coughing.csv',\n",
       " './PDIoT2324/Respeck\\\\29_Respeck_Lying down right_Hyperventilating.csv',\n",
       " './PDIoT2324/Respeck\\\\29_Respeck_Lying down right_Laughing.csv',\n",
       " './PDIoT2324/Respeck\\\\29_Respeck_Lying down right_Normal.csv',\n",
       " './PDIoT2324/Respeck\\\\29_Respeck_Lying down right_Singing.csv',\n",
       " './PDIoT2324/Respeck\\\\29_Respeck_Lying down right_Talking.csv',\n",
       " './PDIoT2324/Respeck\\\\29_Respeck_Miscellaneous movements_Normal.csv',\n",
       " './PDIoT2324/Respeck\\\\29_Respeck_Normal walking_Normal.csv',\n",
       " './PDIoT2324/Respeck\\\\29_Respeck_Running_Normal.csv',\n",
       " './PDIoT2324/Respeck\\\\29_Respeck_Shuffle walking_Normal.csv',\n",
       " './PDIoT2324/Respeck\\\\29_Respeck_Sitting_Coughing.csv',\n",
       " './PDIoT2324/Respeck\\\\29_Respeck_Sitting_Eating.csv',\n",
       " './PDIoT2324/Respeck\\\\29_Respeck_Sitting_Hyperventilating.csv',\n",
       " './PDIoT2324/Respeck\\\\29_Respeck_Sitting_Laughing.csv',\n",
       " './PDIoT2324/Respeck\\\\29_Respeck_Sitting_Normal.csv',\n",
       " './PDIoT2324/Respeck\\\\29_Respeck_Sitting_Singing.csv',\n",
       " './PDIoT2324/Respeck\\\\29_Respeck_Sitting_Talking.csv',\n",
       " './PDIoT2324/Respeck\\\\29_Respeck_Standing_Coughing.csv',\n",
       " './PDIoT2324/Respeck\\\\29_Respeck_Standing_Eating.csv',\n",
       " './PDIoT2324/Respeck\\\\29_Respeck_Standing_Hyperventilating.csv',\n",
       " './PDIoT2324/Respeck\\\\29_Respeck_Standing_Laughing.csv',\n",
       " './PDIoT2324/Respeck\\\\29_Respeck_Standing_Normal.csv',\n",
       " './PDIoT2324/Respeck\\\\29_Respeck_Standing_Singing.csv',\n",
       " './PDIoT2324/Respeck\\\\29_Respeck_Standing_Talking.csv',\n",
       " './PDIoT2324/Respeck\\\\30_Respeck_Ascending stairs_Normal.csv',\n",
       " './PDIoT2324/Respeck\\\\30_Respeck_Descending stairs_Normal.csv',\n",
       " './PDIoT2324/Respeck\\\\30_Respeck_Lying down back_Coughing.csv',\n",
       " './PDIoT2324/Respeck\\\\30_Respeck_Lying down back_Hyperventilating.csv',\n",
       " './PDIoT2324/Respeck\\\\30_Respeck_Lying down back_Laughing.csv',\n",
       " './PDIoT2324/Respeck\\\\30_Respeck_Lying down back_Normal.csv',\n",
       " './PDIoT2324/Respeck\\\\30_Respeck_Lying down back_Singing.csv',\n",
       " './PDIoT2324/Respeck\\\\30_Respeck_Lying down back_Talking.csv',\n",
       " './PDIoT2324/Respeck\\\\30_Respeck_Lying down on left_Coughing.csv',\n",
       " './PDIoT2324/Respeck\\\\30_Respeck_Lying down on left_Hyperventilating.csv',\n",
       " './PDIoT2324/Respeck\\\\30_Respeck_Lying down on left_Laughing.csv',\n",
       " './PDIoT2324/Respeck\\\\30_Respeck_Lying down on left_Normal.csv',\n",
       " './PDIoT2324/Respeck\\\\30_Respeck_Lying down on left_Singing.csv',\n",
       " './PDIoT2324/Respeck\\\\30_Respeck_Lying down on left_Talking.csv',\n",
       " './PDIoT2324/Respeck\\\\30_Respeck_Lying down on stomach_Coughing.csv',\n",
       " './PDIoT2324/Respeck\\\\30_Respeck_Lying down on stomach_Hyperventilating.csv',\n",
       " './PDIoT2324/Respeck\\\\30_Respeck_Lying down on stomach_Laughing.csv',\n",
       " './PDIoT2324/Respeck\\\\30_Respeck_Lying down on stomach_Normal.csv',\n",
       " './PDIoT2324/Respeck\\\\30_Respeck_Lying down on stomach_Singing.csv',\n",
       " './PDIoT2324/Respeck\\\\30_Respeck_Lying down on stomach_Talking.csv',\n",
       " './PDIoT2324/Respeck\\\\30_Respeck_Lying down right_Coughing.csv',\n",
       " './PDIoT2324/Respeck\\\\30_Respeck_Lying down right_Hyperventilating.csv',\n",
       " './PDIoT2324/Respeck\\\\30_Respeck_Lying down right_Laughing.csv',\n",
       " './PDIoT2324/Respeck\\\\30_Respeck_Lying down right_Normal.csv',\n",
       " './PDIoT2324/Respeck\\\\30_Respeck_Lying down right_Singing.csv',\n",
       " './PDIoT2324/Respeck\\\\30_Respeck_Lying down right_Talking.csv',\n",
       " './PDIoT2324/Respeck\\\\30_Respeck_Miscellaneous movements_Normal.csv',\n",
       " './PDIoT2324/Respeck\\\\30_Respeck_Normal walking_Normal.csv',\n",
       " './PDIoT2324/Respeck\\\\30_Respeck_Running_Normal.csv',\n",
       " './PDIoT2324/Respeck\\\\30_Respeck_Shuffle walking_Normal.csv',\n",
       " './PDIoT2324/Respeck\\\\30_Respeck_Sitting_Coughing.csv',\n",
       " './PDIoT2324/Respeck\\\\30_Respeck_Sitting_Eating.csv',\n",
       " './PDIoT2324/Respeck\\\\30_Respeck_Sitting_Hyperventilating.csv',\n",
       " './PDIoT2324/Respeck\\\\30_Respeck_Sitting_Laughing.csv',\n",
       " './PDIoT2324/Respeck\\\\30_Respeck_Sitting_Singing.csv',\n",
       " './PDIoT2324/Respeck\\\\30_Respeck_Sitting_Talking.csv',\n",
       " './PDIoT2324/Respeck\\\\30_Respeck_Standing_Coughing.csv',\n",
       " './PDIoT2324/Respeck\\\\30_Respeck_Standing_Eating.csv',\n",
       " './PDIoT2324/Respeck\\\\30_Respeck_Standing_Hyperventilating.csv',\n",
       " './PDIoT2324/Respeck\\\\30_Respeck_Standing_Laughing.csv',\n",
       " './PDIoT2324/Respeck\\\\30_Respeck_Standing_Normal.csv',\n",
       " './PDIoT2324/Respeck\\\\30_Respeck_Standing_Singing.csv',\n",
       " './PDIoT2324/Respeck\\\\30_Respeck_Standing_Talking.csv',\n",
       " './PDIoT2324/Respeck\\\\31_Respeck_Ascending stairs_Normal.csv',\n",
       " './PDIoT2324/Respeck\\\\31_Respeck_Descending stairs_Normal.csv',\n",
       " './PDIoT2324/Respeck\\\\31_Respeck_Lying down back_Coughing.csv',\n",
       " './PDIoT2324/Respeck\\\\31_Respeck_Lying down back_Hyperventilating.csv',\n",
       " './PDIoT2324/Respeck\\\\31_Respeck_Lying down back_Laughing.csv',\n",
       " './PDIoT2324/Respeck\\\\31_Respeck_Lying down back_Normal.csv',\n",
       " './PDIoT2324/Respeck\\\\31_Respeck_Lying down back_Singing.csv',\n",
       " './PDIoT2324/Respeck\\\\31_Respeck_Lying down back_Talking.csv',\n",
       " './PDIoT2324/Respeck\\\\31_Respeck_Lying down on left_Coughing.csv',\n",
       " './PDIoT2324/Respeck\\\\31_Respeck_Lying down on left_Hyperventilating.csv',\n",
       " './PDIoT2324/Respeck\\\\31_Respeck_Lying down on left_Laughing.csv',\n",
       " './PDIoT2324/Respeck\\\\31_Respeck_Lying down on left_Normal.csv',\n",
       " './PDIoT2324/Respeck\\\\31_Respeck_Lying down on left_Singing.csv',\n",
       " './PDIoT2324/Respeck\\\\31_Respeck_Lying down on left_Talking.csv',\n",
       " './PDIoT2324/Respeck\\\\31_Respeck_Lying down on stomach_Coughing.csv',\n",
       " './PDIoT2324/Respeck\\\\31_Respeck_Lying down on stomach_Hyperventilating.csv',\n",
       " './PDIoT2324/Respeck\\\\31_Respeck_Lying down on stomach_Laughing.csv',\n",
       " './PDIoT2324/Respeck\\\\31_Respeck_Lying down on stomach_Normal.csv',\n",
       " './PDIoT2324/Respeck\\\\31_Respeck_Lying down on stomach_Singing.csv',\n",
       " './PDIoT2324/Respeck\\\\31_Respeck_Lying down on stomach_Talking.csv',\n",
       " './PDIoT2324/Respeck\\\\31_Respeck_Lying down right_Coughing.csv',\n",
       " './PDIoT2324/Respeck\\\\31_Respeck_Lying down right_Hyperventilating.csv',\n",
       " './PDIoT2324/Respeck\\\\31_Respeck_Lying down right_Laughing.csv',\n",
       " './PDIoT2324/Respeck\\\\31_Respeck_Lying down right_Normal.csv',\n",
       " './PDIoT2324/Respeck\\\\31_Respeck_Lying down right_Singing.csv',\n",
       " './PDIoT2324/Respeck\\\\31_Respeck_Lying down right_Talking.csv',\n",
       " './PDIoT2324/Respeck\\\\31_Respeck_Miscellaneous movements_Normal.csv',\n",
       " './PDIoT2324/Respeck\\\\31_Respeck_Normal walking_Normal.csv',\n",
       " './PDIoT2324/Respeck\\\\31_Respeck_Running_Normal.csv',\n",
       " './PDIoT2324/Respeck\\\\31_Respeck_Shuffle walking_Normal.csv',\n",
       " './PDIoT2324/Respeck\\\\31_Respeck_Sitting_Coughing.csv',\n",
       " './PDIoT2324/Respeck\\\\31_Respeck_Sitting_Eating.csv',\n",
       " './PDIoT2324/Respeck\\\\31_Respeck_Sitting_Hyperventilating.csv',\n",
       " './PDIoT2324/Respeck\\\\31_Respeck_Sitting_Laughing.csv',\n",
       " './PDIoT2324/Respeck\\\\31_Respeck_Sitting_Normal.csv',\n",
       " './PDIoT2324/Respeck\\\\31_Respeck_Sitting_Singing.csv',\n",
       " './PDIoT2324/Respeck\\\\31_Respeck_Sitting_Talking.csv',\n",
       " './PDIoT2324/Respeck\\\\31_Respeck_Standing_Coughing.csv',\n",
       " './PDIoT2324/Respeck\\\\31_Respeck_Standing_Eating.csv',\n",
       " './PDIoT2324/Respeck\\\\31_Respeck_Standing_Hyperventilating.csv',\n",
       " './PDIoT2324/Respeck\\\\31_Respeck_Standing_Laughing.csv',\n",
       " './PDIoT2324/Respeck\\\\31_Respeck_Standing_Normal.csv',\n",
       " './PDIoT2324/Respeck\\\\31_Respeck_Standing_Singing.csv',\n",
       " './PDIoT2324/Respeck\\\\31_Respeck_Standing_Talking.csv',\n",
       " './PDIoT2324/Respeck\\\\32_Respeck_Ascending stairs_Normal.csv',\n",
       " './PDIoT2324/Respeck\\\\32_Respeck_Descending stairs_Normal.csv',\n",
       " './PDIoT2324/Respeck\\\\33_Respeck_Ascending stairs_Normal.csv',\n",
       " './PDIoT2324/Respeck\\\\33_Respeck_Descending stairs_Normal.csv',\n",
       " './PDIoT2324/Respeck\\\\33_Respeck_Lying down back_Coughing.csv',\n",
       " './PDIoT2324/Respeck\\\\33_Respeck_Lying down back_Hyperventilating.csv',\n",
       " './PDIoT2324/Respeck\\\\33_Respeck_Lying down back_Laughing.csv',\n",
       " './PDIoT2324/Respeck\\\\33_Respeck_Lying down back_Normal.csv',\n",
       " './PDIoT2324/Respeck\\\\33_Respeck_Lying down back_Singing.csv',\n",
       " './PDIoT2324/Respeck\\\\33_Respeck_Lying down back_Talking.csv',\n",
       " './PDIoT2324/Respeck\\\\33_Respeck_Lying down on left_Coughing.csv',\n",
       " './PDIoT2324/Respeck\\\\33_Respeck_Lying down on left_Hyperventilating.csv',\n",
       " './PDIoT2324/Respeck\\\\33_Respeck_Lying down on left_Laughing.csv',\n",
       " './PDIoT2324/Respeck\\\\33_Respeck_Lying down on left_Normal.csv',\n",
       " './PDIoT2324/Respeck\\\\33_Respeck_Lying down on left_Singing.csv',\n",
       " './PDIoT2324/Respeck\\\\33_Respeck_Lying down on left_Talking.csv',\n",
       " './PDIoT2324/Respeck\\\\33_Respeck_Lying down on stomach_Coughing.csv',\n",
       " './PDIoT2324/Respeck\\\\33_Respeck_Lying down on stomach_Hyperventilating.csv',\n",
       " './PDIoT2324/Respeck\\\\33_Respeck_Lying down on stomach_Laughing.csv',\n",
       " './PDIoT2324/Respeck\\\\33_Respeck_Lying down on stomach_Normal.csv',\n",
       " './PDIoT2324/Respeck\\\\33_Respeck_Lying down on stomach_Singing.csv',\n",
       " './PDIoT2324/Respeck\\\\33_Respeck_Lying down on stomach_Talking.csv',\n",
       " './PDIoT2324/Respeck\\\\33_Respeck_Lying down right_Coughing.csv',\n",
       " './PDIoT2324/Respeck\\\\33_Respeck_Lying down right_Hyperventilating.csv',\n",
       " './PDIoT2324/Respeck\\\\33_Respeck_Lying down right_Laughing.csv',\n",
       " './PDIoT2324/Respeck\\\\33_Respeck_Lying down right_Normal.csv',\n",
       " './PDIoT2324/Respeck\\\\33_Respeck_Lying down right_Singing.csv',\n",
       " './PDIoT2324/Respeck\\\\33_Respeck_Lying down right_Talking.csv',\n",
       " './PDIoT2324/Respeck\\\\33_Respeck_Miscellaneous movements_Normal.csv',\n",
       " './PDIoT2324/Respeck\\\\33_Respeck_Normal walking_Normal.csv',\n",
       " './PDIoT2324/Respeck\\\\33_Respeck_Running_Normal.csv',\n",
       " './PDIoT2324/Respeck\\\\33_Respeck_Shuffle walking_Normal.csv',\n",
       " './PDIoT2324/Respeck\\\\33_Respeck_Sitting_Coughing.csv',\n",
       " './PDIoT2324/Respeck\\\\33_Respeck_Sitting_Eating.csv',\n",
       " './PDIoT2324/Respeck\\\\33_Respeck_Sitting_Hyperventilating.csv',\n",
       " './PDIoT2324/Respeck\\\\33_Respeck_Sitting_Laughing.csv',\n",
       " './PDIoT2324/Respeck\\\\33_Respeck_Sitting_Normal.csv',\n",
       " './PDIoT2324/Respeck\\\\33_Respeck_Sitting_Singing.csv',\n",
       " './PDIoT2324/Respeck\\\\33_Respeck_Sitting_Talking.csv',\n",
       " './PDIoT2324/Respeck\\\\33_Respeck_Standing_Coughing.csv',\n",
       " './PDIoT2324/Respeck\\\\33_Respeck_Standing_Eating.csv',\n",
       " './PDIoT2324/Respeck\\\\33_Respeck_Standing_Hyperventilating.csv',\n",
       " './PDIoT2324/Respeck\\\\33_Respeck_Standing_Laughing.csv',\n",
       " './PDIoT2324/Respeck\\\\33_Respeck_Standing_Normal.csv',\n",
       " './PDIoT2324/Respeck\\\\33_Respeck_Standing_Singing.csv',\n",
       " './PDIoT2324/Respeck\\\\33_Respeck_Standing_Talking.csv',\n",
       " './PDIoT2324/Respeck\\\\34_Respeck_Ascending stairs_Normal.csv',\n",
       " './PDIoT2324/Respeck\\\\34_Respeck_Descending stairs_Normal.csv',\n",
       " './PDIoT2324/Respeck\\\\34_Respeck_Lying down back_Coughing.csv',\n",
       " './PDIoT2324/Respeck\\\\34_Respeck_Lying down back_Hyperventilating.csv',\n",
       " './PDIoT2324/Respeck\\\\34_Respeck_Lying down back_Laughing.csv',\n",
       " './PDIoT2324/Respeck\\\\34_Respeck_Lying down back_Normal.csv',\n",
       " './PDIoT2324/Respeck\\\\34_Respeck_Lying down back_Singing.csv',\n",
       " './PDIoT2324/Respeck\\\\34_Respeck_Lying down back_Talking.csv',\n",
       " './PDIoT2324/Respeck\\\\34_Respeck_Lying down on left_Coughing.csv',\n",
       " './PDIoT2324/Respeck\\\\34_Respeck_Lying down on left_Hyperventilating.csv',\n",
       " './PDIoT2324/Respeck\\\\34_Respeck_Lying down on left_Laughing.csv',\n",
       " './PDIoT2324/Respeck\\\\34_Respeck_Lying down on left_Normal.csv',\n",
       " './PDIoT2324/Respeck\\\\34_Respeck_Lying down on left_Singing.csv',\n",
       " './PDIoT2324/Respeck\\\\34_Respeck_Lying down on left_Talking.csv',\n",
       " './PDIoT2324/Respeck\\\\34_Respeck_Lying down on stomach_Hyperventilating.csv',\n",
       " './PDIoT2324/Respeck\\\\34_Respeck_Lying down on stomach_Laughing.csv',\n",
       " './PDIoT2324/Respeck\\\\34_Respeck_Lying down on stomach_Normal.csv',\n",
       " './PDIoT2324/Respeck\\\\34_Respeck_Lying down on stomach_Singing.csv',\n",
       " './PDIoT2324/Respeck\\\\34_Respeck_Lying down on stomach_Talking.csv',\n",
       " './PDIoT2324/Respeck\\\\34_Respeck_Lying down right_Hyperventilating.csv',\n",
       " './PDIoT2324/Respeck\\\\34_Respeck_Lying down right_Laughing.csv',\n",
       " './PDIoT2324/Respeck\\\\34_Respeck_Lying down right_Normal.csv',\n",
       " './PDIoT2324/Respeck\\\\34_Respeck_Lying down right_Singing.csv',\n",
       " './PDIoT2324/Respeck\\\\34_Respeck_Lying down right_Talking.csv',\n",
       " './PDIoT2324/Respeck\\\\34_Respeck_Miscellaneous movements_Normal.csv',\n",
       " './PDIoT2324/Respeck\\\\34_Respeck_Normal walking_Normal.csv',\n",
       " './PDIoT2324/Respeck\\\\34_Respeck_Running_Normal.csv',\n",
       " './PDIoT2324/Respeck\\\\34_Respeck_Shuffle walking_Normal.csv',\n",
       " './PDIoT2324/Respeck\\\\34_Respeck_Sitting_Coughing.csv',\n",
       " './PDIoT2324/Respeck\\\\34_Respeck_Sitting_Eating.csv',\n",
       " './PDIoT2324/Respeck\\\\34_Respeck_Sitting_Hyperventilating.csv',\n",
       " './PDIoT2324/Respeck\\\\34_Respeck_Sitting_Laughing.csv',\n",
       " './PDIoT2324/Respeck\\\\34_Respeck_Sitting_Normal.csv',\n",
       " './PDIoT2324/Respeck\\\\34_Respeck_Sitting_Singing.csv',\n",
       " './PDIoT2324/Respeck\\\\34_Respeck_Sitting_Talking.csv',\n",
       " './PDIoT2324/Respeck\\\\34_Respeck_Standing_Coughing.csv',\n",
       " './PDIoT2324/Respeck\\\\34_Respeck_Standing_Eating.csv',\n",
       " './PDIoT2324/Respeck\\\\34_Respeck_Standing_Hyperventilating.csv',\n",
       " './PDIoT2324/Respeck\\\\34_Respeck_Standing_Laughing.csv',\n",
       " './PDIoT2324/Respeck\\\\34_Respeck_Standing_Normal.csv',\n",
       " './PDIoT2324/Respeck\\\\34_Respeck_Standing_Singing.csv',\n",
       " './PDIoT2324/Respeck\\\\34_Respeck_Standing_Talking.csv',\n",
       " './PDIoT2324/Respeck\\\\35_Respeck_Ascending stairs_Normal.csv',\n",
       " './PDIoT2324/Respeck\\\\35_Respeck_Descending stairs_Normal.csv',\n",
       " './PDIoT2324/Respeck\\\\35_Respeck_Lying down back_Coughing.csv',\n",
       " './PDIoT2324/Respeck\\\\35_Respeck_Lying down back_Hyperventilating.csv',\n",
       " './PDIoT2324/Respeck\\\\35_Respeck_Lying down back_Laughing.csv',\n",
       " './PDIoT2324/Respeck\\\\35_Respeck_Lying down back_Singing.csv',\n",
       " './PDIoT2324/Respeck\\\\35_Respeck_Lying down back_Talking.csv',\n",
       " './PDIoT2324/Respeck\\\\35_Respeck_Lying down on left_Coughing.csv',\n",
       " './PDIoT2324/Respeck\\\\35_Respeck_Lying down on left_Hyperventilating.csv',\n",
       " './PDIoT2324/Respeck\\\\35_Respeck_Lying down on left_Laughing.csv',\n",
       " './PDIoT2324/Respeck\\\\35_Respeck_Lying down on left_Normal.csv',\n",
       " './PDIoT2324/Respeck\\\\35_Respeck_Lying down on left_Singing.csv',\n",
       " './PDIoT2324/Respeck\\\\35_Respeck_Lying down on left_Talking.csv',\n",
       " './PDIoT2324/Respeck\\\\35_Respeck_Lying down on stomach_Coughing.csv',\n",
       " './PDIoT2324/Respeck\\\\35_Respeck_Lying down on stomach_Hyperventilating.csv',\n",
       " './PDIoT2324/Respeck\\\\35_Respeck_Lying down on stomach_Laughing.csv',\n",
       " './PDIoT2324/Respeck\\\\35_Respeck_Lying down on stomach_Normal.csv',\n",
       " './PDIoT2324/Respeck\\\\35_Respeck_Lying down on stomach_Singing.csv',\n",
       " './PDIoT2324/Respeck\\\\35_Respeck_Lying down on stomach_Talking.csv',\n",
       " './PDIoT2324/Respeck\\\\35_Respeck_Lying down right_Coughing.csv',\n",
       " './PDIoT2324/Respeck\\\\35_Respeck_Lying down right_Hyperventilating.csv',\n",
       " './PDIoT2324/Respeck\\\\35_Respeck_Lying down right_Laughing.csv',\n",
       " './PDIoT2324/Respeck\\\\35_Respeck_Lying down right_Normal.csv',\n",
       " './PDIoT2324/Respeck\\\\35_Respeck_Lying down right_Singing.csv',\n",
       " './PDIoT2324/Respeck\\\\35_Respeck_Lying down right_Talking.csv',\n",
       " './PDIoT2324/Respeck\\\\35_Respeck_Miscellaneous movements_Normal.csv',\n",
       " './PDIoT2324/Respeck\\\\35_Respeck_Normal walking_Normal.csv',\n",
       " './PDIoT2324/Respeck\\\\35_Respeck_Running_Normal.csv',\n",
       " './PDIoT2324/Respeck\\\\35_Respeck_Shuffle walking_Normal.csv',\n",
       " './PDIoT2324/Respeck\\\\35_Respeck_Sitting_Coughing.csv',\n",
       " './PDIoT2324/Respeck\\\\35_Respeck_Sitting_Eating.csv',\n",
       " './PDIoT2324/Respeck\\\\35_Respeck_Sitting_Hyperventilating.csv',\n",
       " './PDIoT2324/Respeck\\\\35_Respeck_Sitting_Laughing.csv',\n",
       " './PDIoT2324/Respeck\\\\35_Respeck_Sitting_Normal.csv',\n",
       " './PDIoT2324/Respeck\\\\35_Respeck_Sitting_Singing.csv',\n",
       " './PDIoT2324/Respeck\\\\35_Respeck_Sitting_Talking.csv',\n",
       " './PDIoT2324/Respeck\\\\35_Respeck_Standing_Coughing.csv',\n",
       " './PDIoT2324/Respeck\\\\35_Respeck_Standing_Eating.csv',\n",
       " './PDIoT2324/Respeck\\\\35_Respeck_Standing_Hyperventilating.csv',\n",
       " './PDIoT2324/Respeck\\\\35_Respeck_Standing_Laughing.csv',\n",
       " './PDIoT2324/Respeck\\\\35_Respeck_Standing_Normal.csv',\n",
       " './PDIoT2324/Respeck\\\\35_Respeck_Standing_Singing.csv',\n",
       " './PDIoT2324/Respeck\\\\35_Respeck_Standing_Talking.csv',\n",
       " './PDIoT2324/Respeck\\\\36_Respeck_Ascending stairs_Normal.csv',\n",
       " './PDIoT2324/Respeck\\\\36_Respeck_Descending stairs_Normal.csv',\n",
       " './PDIoT2324/Respeck\\\\36_Respeck_Lying down back_Coughing.csv',\n",
       " './PDIoT2324/Respeck\\\\36_Respeck_Lying down back_Hyperventilating.csv',\n",
       " './PDIoT2324/Respeck\\\\36_Respeck_Lying down back_Laughing.csv',\n",
       " './PDIoT2324/Respeck\\\\36_Respeck_Lying down back_Normal.csv',\n",
       " './PDIoT2324/Respeck\\\\36_Respeck_Lying down back_Singing.csv',\n",
       " './PDIoT2324/Respeck\\\\36_Respeck_Lying down back_Talking.csv',\n",
       " './PDIoT2324/Respeck\\\\36_Respeck_Lying down on left_Coughing.csv',\n",
       " './PDIoT2324/Respeck\\\\36_Respeck_Lying down on left_Hyperventilating.csv',\n",
       " './PDIoT2324/Respeck\\\\36_Respeck_Lying down on left_Laughing.csv',\n",
       " './PDIoT2324/Respeck\\\\36_Respeck_Lying down on left_Normal.csv',\n",
       " './PDIoT2324/Respeck\\\\36_Respeck_Lying down on left_Singing.csv',\n",
       " './PDIoT2324/Respeck\\\\36_Respeck_Lying down on left_Talking.csv',\n",
       " './PDIoT2324/Respeck\\\\36_Respeck_Lying down on stomach_Coughing.csv',\n",
       " './PDIoT2324/Respeck\\\\36_Respeck_Lying down on stomach_Hyperventilating.csv',\n",
       " './PDIoT2324/Respeck\\\\36_Respeck_Lying down on stomach_Laughing.csv',\n",
       " './PDIoT2324/Respeck\\\\36_Respeck_Lying down on stomach_Normal.csv',\n",
       " './PDIoT2324/Respeck\\\\36_Respeck_Lying down on stomach_Singing.csv',\n",
       " './PDIoT2324/Respeck\\\\36_Respeck_Lying down on stomach_Talking.csv',\n",
       " './PDIoT2324/Respeck\\\\36_Respeck_Lying down right_Coughing.csv',\n",
       " './PDIoT2324/Respeck\\\\36_Respeck_Lying down right_Hyperventilating.csv',\n",
       " './PDIoT2324/Respeck\\\\36_Respeck_Lying down right_Laughing.csv',\n",
       " './PDIoT2324/Respeck\\\\36_Respeck_Lying down right_Normal.csv',\n",
       " './PDIoT2324/Respeck\\\\36_Respeck_Lying down right_Singing.csv',\n",
       " './PDIoT2324/Respeck\\\\36_Respeck_Lying down right_Talking.csv',\n",
       " './PDIoT2324/Respeck\\\\36_Respeck_Miscellaneous movements_Normal.csv',\n",
       " './PDIoT2324/Respeck\\\\36_Respeck_Normal walking_Normal.csv',\n",
       " './PDIoT2324/Respeck\\\\36_Respeck_Shuffle walking_Normal.csv',\n",
       " './PDIoT2324/Respeck\\\\36_Respeck_Sitting_Coughing.csv',\n",
       " './PDIoT2324/Respeck\\\\36_Respeck_Sitting_Eating.csv',\n",
       " './PDIoT2324/Respeck\\\\36_Respeck_Sitting_Hyperventilating.csv',\n",
       " './PDIoT2324/Respeck\\\\36_Respeck_Sitting_Laughing.csv',\n",
       " './PDIoT2324/Respeck\\\\36_Respeck_Sitting_Normal.csv',\n",
       " './PDIoT2324/Respeck\\\\36_Respeck_Sitting_Singing.csv',\n",
       " './PDIoT2324/Respeck\\\\36_Respeck_Sitting_Talking.csv',\n",
       " './PDIoT2324/Respeck\\\\36_Respeck_Standing_Coughing.csv',\n",
       " './PDIoT2324/Respeck\\\\36_Respeck_Standing_Eating.csv',\n",
       " './PDIoT2324/Respeck\\\\36_Respeck_Standing_Hyperventilating.csv',\n",
       " './PDIoT2324/Respeck\\\\36_Respeck_Standing_Laughing.csv',\n",
       " './PDIoT2324/Respeck\\\\36_Respeck_Standing_Normal.csv',\n",
       " './PDIoT2324/Respeck\\\\36_Respeck_Standing_Singing.csv',\n",
       " './PDIoT2324/Respeck\\\\36_Respeck_Standing_Talking.csv',\n",
       " './PDIoT2324/Respeck\\\\37_Respeck_Ascending stairs_Normal.csv',\n",
       " './PDIoT2324/Respeck\\\\37_Respeck_Descending stairs_Normal.csv',\n",
       " './PDIoT2324/Respeck\\\\37_Respeck_Lying down back_Coughing.csv',\n",
       " './PDIoT2324/Respeck\\\\37_Respeck_Lying down back_Hyperventilating.csv',\n",
       " './PDIoT2324/Respeck\\\\37_Respeck_Lying down back_Laughing.csv',\n",
       " './PDIoT2324/Respeck\\\\37_Respeck_Lying down back_Normal.csv',\n",
       " './PDIoT2324/Respeck\\\\37_Respeck_Lying down back_Singing.csv',\n",
       " './PDIoT2324/Respeck\\\\37_Respeck_Lying down back_Talking.csv',\n",
       " './PDIoT2324/Respeck\\\\37_Respeck_Lying down on left_Coughing.csv',\n",
       " './PDIoT2324/Respeck\\\\37_Respeck_Lying down on left_Hyperventilating.csv',\n",
       " './PDIoT2324/Respeck\\\\37_Respeck_Lying down on left_Laughing.csv',\n",
       " './PDIoT2324/Respeck\\\\37_Respeck_Lying down on left_Normal.csv',\n",
       " './PDIoT2324/Respeck\\\\37_Respeck_Lying down on left_Talking.csv',\n",
       " './PDIoT2324/Respeck\\\\37_Respeck_Lying down on stomach_Coughing.csv',\n",
       " './PDIoT2324/Respeck\\\\37_Respeck_Lying down on stomach_Hyperventilating.csv',\n",
       " './PDIoT2324/Respeck\\\\37_Respeck_Lying down on stomach_Laughing.csv',\n",
       " './PDIoT2324/Respeck\\\\37_Respeck_Lying down on stomach_Normal.csv',\n",
       " './PDIoT2324/Respeck\\\\37_Respeck_Lying down on stomach_Singing.csv',\n",
       " './PDIoT2324/Respeck\\\\37_Respeck_Lying down on stomach_Talking.csv',\n",
       " './PDIoT2324/Respeck\\\\37_Respeck_Lying down right_Coughing.csv',\n",
       " './PDIoT2324/Respeck\\\\37_Respeck_Lying down right_Hyperventilating.csv',\n",
       " './PDIoT2324/Respeck\\\\37_Respeck_Lying down right_Laughing.csv',\n",
       " './PDIoT2324/Respeck\\\\37_Respeck_Lying down right_Normal.csv',\n",
       " './PDIoT2324/Respeck\\\\37_Respeck_Lying down right_Singing.csv',\n",
       " './PDIoT2324/Respeck\\\\37_Respeck_Lying down right_Talking.csv',\n",
       " './PDIoT2324/Respeck\\\\37_Respeck_Miscellaneous movements_Normal.csv',\n",
       " './PDIoT2324/Respeck\\\\37_Respeck_Normal walking_Normal.csv',\n",
       " './PDIoT2324/Respeck\\\\37_Respeck_Running_Normal.csv',\n",
       " './PDIoT2324/Respeck\\\\37_Respeck_Shuffle walking_Normal.csv',\n",
       " './PDIoT2324/Respeck\\\\37_Respeck_Sitting_Coughing.csv',\n",
       " './PDIoT2324/Respeck\\\\37_Respeck_Sitting_Eating.csv',\n",
       " './PDIoT2324/Respeck\\\\37_Respeck_Sitting_Hyperventilating.csv',\n",
       " './PDIoT2324/Respeck\\\\37_Respeck_Sitting_Laughing.csv',\n",
       " './PDIoT2324/Respeck\\\\37_Respeck_Sitting_Normal.csv',\n",
       " './PDIoT2324/Respeck\\\\37_Respeck_Sitting_Singing.csv',\n",
       " './PDIoT2324/Respeck\\\\37_Respeck_Sitting_Talking.csv',\n",
       " './PDIoT2324/Respeck\\\\37_Respeck_Standing_Coughing.csv',\n",
       " './PDIoT2324/Respeck\\\\37_Respeck_Standing_Eating.csv',\n",
       " './PDIoT2324/Respeck\\\\37_Respeck_Standing_Hyperventilating.csv',\n",
       " './PDIoT2324/Respeck\\\\37_Respeck_Standing_Laughing.csv',\n",
       " './PDIoT2324/Respeck\\\\37_Respeck_Standing_Normal.csv',\n",
       " './PDIoT2324/Respeck\\\\37_Respeck_Standing_Singing.csv',\n",
       " './PDIoT2324/Respeck\\\\37_Respeck_Standing_Talking.csv',\n",
       " './PDIoT2324/Respeck\\\\38_Respeck_Ascending stairs_Normal.csv',\n",
       " './PDIoT2324/Respeck\\\\38_Respeck_Descending stairs_Normal.csv',\n",
       " './PDIoT2324/Respeck\\\\38_Respeck_Lying down back_Coughing.csv',\n",
       " './PDIoT2324/Respeck\\\\38_Respeck_Lying down back_Hyperventilating.csv',\n",
       " './PDIoT2324/Respeck\\\\38_Respeck_Lying down back_Laughing.csv',\n",
       " './PDIoT2324/Respeck\\\\38_Respeck_Lying down back_Normal.csv',\n",
       " './PDIoT2324/Respeck\\\\38_Respeck_Lying down back_Singing.csv',\n",
       " './PDIoT2324/Respeck\\\\38_Respeck_Lying down back_Talking.csv',\n",
       " './PDIoT2324/Respeck\\\\38_Respeck_Lying down on left_Coughing.csv',\n",
       " './PDIoT2324/Respeck\\\\38_Respeck_Lying down on left_Hyperventilating.csv',\n",
       " './PDIoT2324/Respeck\\\\38_Respeck_Lying down on left_Laughing.csv',\n",
       " './PDIoT2324/Respeck\\\\38_Respeck_Lying down on left_Normal.csv',\n",
       " './PDIoT2324/Respeck\\\\38_Respeck_Lying down on left_Singing.csv',\n",
       " './PDIoT2324/Respeck\\\\38_Respeck_Lying down on left_Talking.csv',\n",
       " './PDIoT2324/Respeck\\\\38_Respeck_Lying down on stomach_Coughing.csv',\n",
       " './PDIoT2324/Respeck\\\\38_Respeck_Lying down on stomach_Hyperventilating.csv',\n",
       " './PDIoT2324/Respeck\\\\38_Respeck_Lying down on stomach_Laughing.csv',\n",
       " './PDIoT2324/Respeck\\\\38_Respeck_Lying down on stomach_Normal.csv',\n",
       " './PDIoT2324/Respeck\\\\38_Respeck_Lying down on stomach_Singing.csv',\n",
       " './PDIoT2324/Respeck\\\\38_Respeck_Lying down on stomach_Talking.csv',\n",
       " './PDIoT2324/Respeck\\\\38_Respeck_Lying down right_Coughing.csv',\n",
       " './PDIoT2324/Respeck\\\\38_Respeck_Lying down right_Hyperventilating.csv',\n",
       " ...]"
      ]
     },
     "execution_count": 28,
     "metadata": {},
     "output_type": "execute_result"
    }
   ],
   "source": [
    "glob.glob(your_dataset_path + \"/*\")"
   ]
  },
  {
   "cell_type": "markdown",
   "metadata": {
    "id": "Z3zJiRjym7LU"
   },
   "source": [
    "To see the files in each subfolder you can similarly do:"
   ]
  },
  {
   "cell_type": "markdown",
   "metadata": {
    "id": "w7eNuiHKmBuT"
   },
   "source": [
    "# Functions"
   ]
  },
  {
   "cell_type": "markdown",
   "metadata": {
    "id": "9zdg12YooOJF"
   },
   "source": [
    "## Load list of files in an activity folder"
   ]
  },
  {
   "cell_type": "code",
   "execution_count": 29,
   "metadata": {},
   "outputs": [],
   "source": [
    "activities = {\n",
    "    'ascending': 0,\n",
    "    'shuffleWalking': 1,\n",
    "    'sittingStanding': 2,\n",
    "    'miscMovement': 3,\n",
    "    'normalWalking': 4,\n",
    "    'lyingBack': 5,\n",
    "    'lyingLeft': 6,\n",
    "    'lyingRight': 7,\n",
    "    'lyingStomach': 8,\n",
    "    'descending': 9,\n",
    "    'running': 10\n",
    "}\n",
    "\n",
    "social_signals = {\n",
    "    'breathingNormal': 0,\n",
    "    'coughing': 1,\n",
    "    'hyperventilating': 2,\n",
    "    'other': 3\n",
    "}\n",
    "\n",
    "\n",
    "activity_labels = list(activities.keys())\n",
    "social_signal_labels = list(social_signals.keys())"
   ]
  },
  {
   "cell_type": "code",
   "execution_count": 30,
   "metadata": {
    "id": "b_ZtuAb64ZsD"
   },
   "outputs": [],
   "source": [
    "def load_files_from_folder(folder_path):\n",
    "    \"\"\"\n",
    "    Load all CSV files from a folder and return a list of file paths.\n",
    "\n",
    "    Parameters:\n",
    "    folder_path (str): The path to the folder containing CSV files.\n",
    "\n",
    "    Returns:\n",
    "    list: A list of file paths for all CSV files in the folder.\n",
    "    \"\"\"\n",
    "\n",
    "    # Initialize an empty list to store the full file paths of the CSV files\n",
    "    file_paths = []\n",
    "\n",
    "    # Loop through all the files in the given folder\n",
    "    for file_name in os.listdir(folder_path):\n",
    "        # Check if the file has a .csv extension (ignores other files)\n",
    "        if file_name.endswith('.csv'):\n",
    "            # Construct the full file path by joining the folder path and the file name\n",
    "            full_file_path = os.path.join(folder_path, file_name)\n",
    "\n",
    "            # Append the full file path to the file_paths list\n",
    "            file_paths.append(full_file_path)\n",
    "\n",
    "    # Return the complete list of CSV file paths\n",
    "    return file_paths"
   ]
  },
  {
   "cell_type": "code",
   "execution_count": 31,
   "metadata": {},
   "outputs": [],
   "source": [
    "# Function to extract either the activity or the social signal label from the file name\n",
    "def extract_task(file_name, task):\n",
    "    \"\"\"\n",
    "    Extract the activity or social signal label from a file name.\n",
    "\n",
    "    Parameters:\n",
    "    file_name (str): The name of the file containing the label.\n",
    "    task (str): The task to extract from the file name (e.g., 'activity' or 'social_signal').\n",
    "\n",
    "    Returns:\n",
    "    str: The extracted label from the file name.\n",
    "    \"\"\"\n",
    "\n",
    "    # Split the file name by underscores to extract different parts\n",
    "    file_parts = file_name.split('_')\n",
    "\n",
    "    # Check if the task is 'activity'\n",
    "    if task == 'activity':\n",
    "        # The activity label is the second part of the file name\n",
    "        label = file_parts[2]\n",
    "    # Check if the task is 'social_signal'\n",
    "    elif task == 'social_signal':\n",
    "        # The social signal label is the third part of the file name\n",
    "        label = file_parts[3].split(\".\")[0]\n",
    "\n",
    "    if label == \"sitting\" or label == \"standing\" or label == \"Sitting\" or label == \"Standing\":\n",
    "        label = \"sittingStanding\"\n",
    "    \n",
    "    # For processing the 2024_2025 dataset which has different naming\n",
    "    if label == \"Descending stairs\":\n",
    "        label = \"descending\"\n",
    "    \n",
    "    if label == \"Ascending stairs\":\n",
    "        label = \"ascending\"\n",
    "    \n",
    "    if label == \"Lying down back\":\n",
    "        label = \"lyingBack\"\n",
    "    \n",
    "    if label == \"Lying down on left\":\n",
    "        label = \"lyingLeft\"\n",
    "    \n",
    "    if label == \"Lying down on stomach\":\n",
    "        label = \"lyingStomach\"\n",
    "    \n",
    "    if label == \"Lying down right\":\n",
    "        label = \"lyingRight\"\n",
    "\n",
    "    if label == \"Miscellaneous movements\":\n",
    "        label = \"miscMovement\"\n",
    "\n",
    "    if label == \"Normal walking\":\n",
    "        label = \"normalWalking\"\n",
    "\n",
    "    if label == \"Running\":\n",
    "        label = \"running\"\n",
    "\n",
    "    if label == \"Shuffle walking\":\n",
    "        label = \"shuffleWalking\"\n",
    "\n",
    "    if label == \"Normal\":\n",
    "        label = \"breathingNormal\"\n",
    "    \n",
    "    if label == \"Hyperventilating\":\n",
    "        label = \"hyperventilating\"\n",
    "\n",
    "    if label == \"Coughing\":\n",
    "        label = \"coughing\"\n",
    "\n",
    "    if label == \"laughing\" or label == \"talking\" or label == \"eating\" or label == \"singing\" or label == \"Laughing\" or label == \"Talking\" or label == \"Eating\" or label == \"Singing\":\n",
    "        label = \"other\"\n",
    "\n",
    "    if task == \"activity\":\n",
    "        label = activities[label]\n",
    "    else:\n",
    "        label = social_signals[label]\n",
    "    # Return the extracted label\n",
    "    return label\n"
   ]
  },
  {
   "cell_type": "markdown",
   "metadata": {
    "id": "hAUGBeBBn_L8"
   },
   "source": [
    "## Train and test set split from list of files"
   ]
  },
  {
   "cell_type": "code",
   "execution_count": 32,
   "metadata": {
    "id": "2SzHoQz2NH3v"
   },
   "outputs": [],
   "source": [
    "def split_files(file_list, test_size=0.2):\n",
    "    \"\"\"\n",
    "    Split the list of files into training and test sets.\n",
    "\n",
    "    Parameters:\n",
    "    file_list (list): List of file paths to be split into train and test sets.\n",
    "    test_size (float): The proportion of files to allocate to the test set.\n",
    "                       Default is 0.2, meaning 20% of the files will be used for testing.\n",
    "\n",
    "    Returns:\n",
    "    tuple:\n",
    "        - train_files (list): List of file paths for the training set.\n",
    "        - test_files (list): List of file paths for the test set.\n",
    "    \"\"\"\n",
    "\n",
    "    # Split the file list into training and test sets using train_test_split from scikit-learn\n",
    "    # test_size defines the proportion of the data to use as the test set (default is 20%)\n",
    "    # shuffle=True ensures that the files are shuffled randomly before splitting\n",
    "    train_files, test_files = train_test_split(file_list, test_size=test_size, shuffle=True)\n",
    "\n",
    "    # Return the train and test file lists\n",
    "    return train_files, test_files"
   ]
  },
  {
   "cell_type": "markdown",
   "metadata": {
    "id": "_J7-zQgZzP19"
   },
   "source": [
    "## Sliding Window\n",
    "\n",
    "In time series Activity Recognition, a sliding window is a commonly used technique to segment continuous sensor data (such as accelerometer readings) into smaller, fixed-length overlapping or non-overlapping time intervals, or windows. Each window contains a sequence of sensor measurements that represent a short period of time, and this segmented data is used to extract features or make predictions about the activity happening within that window.\n",
    "\n",
    "### Key Concepts of a Sliding Window\n",
    "1.   **Window Size:** This refers to the length of each segment or window, typically defined in terms of the number of time steps or the duration (e.g., 2 seconds). The window size should be chosen carefully to capture enough information about the activity without making the window too large.\n",
    "2.   **Step Size:** The step size determines how far the window moves forward after each step. If the step size is smaller than the window size, the windows will overlap. For example, if the window size is 5 seconds and the step size is 2 seconds, there will be a 3-second overlap between consecutive windows. Overlapping windows provide more data for analysis and can help smooth out predictions by capturing transitional activities.\n",
    "3.   **Non-Overlapping Windows:** If the step size is equal to the window size, the windows do not overlap. This method provides distinct segments of data but may miss transitional phases between activities.\n",
    "\n",
    "### Why Sliding Windows for Activity Recognition?\n",
    "\n",
    "* Segmentation of Continuous Data: Activity recognition systems work with continuous streams of sensor data, and the sliding window helps segment these into manageable pieces to classify activities within specific intervals.\n",
    "\n",
    "* Context Capturing: Human activities are often complex and spread across time. By using a sliding window, you can capture context across a short duration, which may include transitions or small fluctuations in the activity (e.g., a person moving from sitting to standing).\n",
    "\n",
    "* Feature Extraction: Within each window, features such as mean, variance, frequency domain features, etc., can be extracted to help classify the activity.\n",
    "\n",
    "* Real-Time Recognition: In real-time systems, the sliding window allows for continuous monitoring and updating of predictions as new data arrives.\n",
    "\n"
   ]
  },
  {
   "cell_type": "code",
   "execution_count": 33,
   "metadata": {
    "id": "u3SuHww6MpEx"
   },
   "outputs": [],
   "source": [
    "def load_and_apply_sliding_windows(file_paths, window_size, step_size, task):\n",
    "    \"\"\"\n",
    "    Load the data from each file, apply sliding windows, and return the windows and labels.\n",
    "\n",
    "    Parameters:\n",
    "    file_paths (list): List of file paths to CSV files. Each file contains sensor data (e.g., accelerometer, gyroscope).\n",
    "    window_size (int): The size of each sliding window (number of time steps).\n",
    "    step_size (int): The step size (stride) between consecutive windows.\n",
    "    label (int or str): The label for the activity corresponding to the folder.\n",
    "                        This label will be assigned to each sliding window extracted from the data.\n",
    "\n",
    "    Returns:\n",
    "    tuple:\n",
    "        - windows (numpy.ndarray): A 3D array of sliding windows, where each window has the shape\n",
    "                                   (num_windows, window_size, num_features).\n",
    "        - labels (numpy.ndarray): A 1D array of labels, where each label corresponds to a sliding window.\n",
    "    \"\"\"\n",
    "    # Initialize lists to store sliding windows and their corresponding labels\n",
    "    windows = []\n",
    "    labels = []\n",
    "\n",
    "    # Loop through each file in the provided file paths\n",
    "    for file_path in file_paths:\n",
    "        label = extract_task(file_path, task)\n",
    "        # Load the CSV file into a pandas DataFrame\n",
    "        data = pd.read_csv(file_path)\n",
    "\n",
    "        # Select the columns containing the necessary sensor data (acceleration and gyroscope readings)\n",
    "        # These columns might vary depending on your dataset's structure\n",
    "        data = data[['accel_x', 'accel_y', 'accel_z']]\n",
    "\n",
    "        # Convert the DataFrame into a numpy array for faster processing in the sliding window operation\n",
    "        data = data.to_numpy()\n",
    "\n",
    "        # Get the number of samples (rows) and features (columns) in the data\n",
    "        num_samples, num_features = data.shape\n",
    "\n",
    "        # Apply sliding windows to the data\n",
    "        # The range function defines the start of each window, moving step_size increments at a time\n",
    "        for i in range(0, num_samples - window_size + 1, step_size):\n",
    "            # Extract a window of size 'window_size' from the current position 'i'\n",
    "            window = data[i:i + window_size, :]\n",
    "\n",
    "            # Append the window to the windows list\n",
    "            windows.append(window)\n",
    "\n",
    "            # Assign the activity label to the window and append it to the labels list\n",
    "            labels.append(label)\n",
    "\n",
    "    # Convert the lists of windows and labels into numpy arrays for efficient numerical operations\n",
    "    return np.array(windows), np.array(labels)"
   ]
  },
  {
   "cell_type": "markdown",
   "metadata": {
    "id": "9-Ku5P4Lm8QA"
   },
   "source": [
    "## Load and Split Train Test for Each Activity Folder\n",
    "\n",
    "This function processes the sensor data for a specific activity, such as 'walking' or 'running', stored in its respective folder. It splits the data into training and testing sets, applies sliding windows, and labels the windows with the corresponding activity. This function can be used repeatedly for each activity to process and prepare data for training and evaluation."
   ]
  },
  {
   "cell_type": "code",
   "execution_count": 34,
   "metadata": {
    "id": "zBVvTBi7N_fh"
   },
   "outputs": [],
   "source": [
    "def process_task(task, label_list, dataset_path, window_size, step_size, test_size=0.2):\n",
    "    \"\"\"\n",
    "    Processes an activity folder by loading the file list, splitting them into\n",
    "    train and test sets, and applying sliding windows to the files.\n",
    "\n",
    "    Args:\n",
    "        activity (str): Name of the activity (folder name). This refers to the specific physical activity\n",
    "                        like 'walking', 'running', etc.\n",
    "        label (int): Numeric label corresponding to the activity, used for classification.\n",
    "        dataset_path (str): Base path where the activity folders are located.\n",
    "        window_size (int): Size of the sliding window, i.e., the number of time steps included in each window.\n",
    "                           Default is 50.\n",
    "        step_size (int): Step size for the sliding window, i.e., how far the window moves along the data.\n",
    "                         Default is 50 (no overlap between windows).\n",
    "        test_size (float): Proportion of files to use for testing. Default is 0.2, meaning 20% of files will\n",
    "                           be allocated to the test set.\n",
    "\n",
    "    Returns:\n",
    "        tuple:\n",
    "            - train_windows (numpy.ndarray): Sliding windows from the training files.\n",
    "            - train_labels (numpy.ndarray): Corresponding labels for the training windows.\n",
    "            - test_windows (numpy.ndarray): Sliding windows from the test files.\n",
    "            - test_labels (numpy.ndarray): Corresponding labels for the test windows.\n",
    "    \"\"\"\n",
    "\n",
    "    # Load all CSV file paths for the given activity from the folder\n",
    "    file_list = load_files_from_folder(dataset_path)\n",
    "\n",
    "    # Split the file list into training and testing sets\n",
    "    # train_files: files used for training\n",
    "    # test_files: files used for testing\n",
    "    #train_files, test_files = split_files(file_list, task, test_size=test_size)\n",
    "    \n",
    "    # Apply sliding windows to the training files\n",
    "    # The function 'load_and_apply_sliding_windows' returns the sliding windows (segments) and their corresponding labels\n",
    "    windows, labels = load_and_apply_sliding_windows(file_list, window_size, step_size, task)\n",
    "\n",
    "    # Apply sliding windows to the testing files\n",
    "    #test_windows, test_labels = load_and_apply_sliding_windows(test_files, window_size, step_size, task)\n",
    "\n",
    "    # Return the sliding windows and their labels for both training and testing sets\n",
    "    return windows, labels"
   ]
  },
  {
   "cell_type": "markdown",
   "metadata": {
    "id": "Vv2TUL_Tnnxu"
   },
   "source": [
    "## Combine Data\n",
    "The function combines the sliding window data and their corresponding labels from multiple activities (e.g., walking, running, etc.) into single arrays."
   ]
  },
  {
   "cell_type": "code",
   "execution_count": 35,
   "metadata": {
    "id": "au6dRWtmmig7"
   },
   "outputs": [],
   "source": [
    "def combine_data(train_test_data, data_type):\n",
    "    \"\"\"\n",
    "    Combines the sliding windows and labels from all activities into a single\n",
    "    array for either training or testing.\n",
    "\n",
    "    Args:\n",
    "        train_test_data (dict): Dictionary containing the sliding window data for all activities.\n",
    "                                Each key in the dictionary corresponds to an activity, and the value is another\n",
    "                                dictionary with the keys 'train_windows', 'train_labels', 'test_windows', 'test_labels'.\n",
    "        data_type (str): Either 'train' or 'test' to specify which data to combine (e.g., 'train_windows' or 'test_windows').\n",
    "\n",
    "    Returns:\n",
    "        tuple:\n",
    "            - windows (numpy.ndarray): Concatenated windows from all activities for either training or testing.\n",
    "            - labels (numpy.ndarray): Concatenated labels corresponding to the windows from all activities.\n",
    "    \"\"\"\n",
    "\n",
    "    # Extract the list of sliding windows for the specified data type (either 'train' or 'test') from each activity\n",
    "    # For example, if data_type is 'train', it extracts 'train_windows' for all activities\n",
    "    windows_list = [train_test_data[activity][f'{data_type}_windows'] for activity in train_test_data]\n",
    "\n",
    "    # Similarly, extract the list of labels corresponding to the windows for each activity\n",
    "    labels_list = [train_test_data[activity][f'{data_type}_labels'] for activity in train_test_data]\n",
    "\n",
    "    # Concatenate all the sliding windows into a single numpy array along the first axis (rows)\n",
    "    # This creates one large array of windows from all the activities combined\n",
    "    concatenated_windows = np.concatenate(windows_list, axis=0)\n",
    "\n",
    "    # Concatenate all the labels into a single numpy array along the first axis (rows)\n",
    "    # The labels are now aligned with the concatenated windows\n",
    "    concatenated_labels = np.concatenate(labels_list, axis=0)\n",
    "\n",
    "    # Return the concatenated windows and labels as a tuple\n",
    "    return concatenated_windows, concatenated_labels"
   ]
  },
  {
   "cell_type": "markdown",
   "metadata": {
    "id": "_Wv1PuOLgUV8"
   },
   "source": [
    "## 1D CNN Model\n",
    "\n",
    "This function, `build_1d_cnn_model`, creates and compiles a 1D Convolutional Neural Network (CNN) for multi-class classification tasks.\n",
    "\n",
    "### Function Overview\n",
    "\n",
    "Input Parameters\n",
    "* `input_shape`: Specifies the shape of the input data. It represents (timesteps, features), where timesteps refer to the length of the time series (e.g., 50 windows), and features represent the number of measurements in each time step (e.g., accelerometer readings).\n",
    "* `num_classes`: The number of output classes for the classification problem. For example, if you're classifying six different activities, num_classes would be 6.\n",
    "\n",
    "Returns\n",
    "* The function returns a compiled 1D CNN model that is ready to be trained on your data.\n",
    "\n",
    "<hr>\n",
    "\n",
    "### Function Breakdown\n",
    "1.   Model Initialization:\n",
    "    * `model = Sequential()`: Initializes a Sequential model, which means layers will be stacked on top of each other in a linear fashion.\n",
    "2.   First Convolutional Layer\n",
    "    * `Conv1D(filters=64, kernel_size=3, activation='relu', input_shape=input_shape)`\n",
    "        * This is the first 1D convolutional layer\n",
    "        * `filters=64`: The layer applies 64 filters (or kernels) over the input data.\n",
    "        * `kernel_size=3`: Each filter will cover 3 timesteps at a time (a window of 3).\n",
    "        * `activation='relu'`: The Rectified Linear Unit (ReLU) activation function introduces non-linearity and helps the model learn complex patterns.\n",
    "        * `input_shape=input_shape`: Specifies the shape of the input data.\n",
    "    * `MaxPooling1D(pool_size=2)`: This pooling layer reduces the dimensionality of the data by taking the maximum value from each 2-timestep window (`pool_size=2`). This helps reduce computational complexity and captures the most important features.\n",
    "3. Second Convolutional Layer:\n",
    "    * `Conv1D(filters=128, kernel_size=3, activation='relu')`\n",
    "        * This is the second convolutional layer, similar to the first, but with 128 filters, which allow the network to learn more complex features from the data.\n",
    "        * `kernel_size=3` and activation='relu' function in the same way as the first Conv1D layer.\n",
    "    * `MaxPooling1D(pool_size=2)`: Another pooling layer to downsample the output, further reducing the data’s dimensionality.\n",
    "4. Flattening Layer:\n",
    "    * `Flattening`: Converts the 2D output of the convolutional and pooling layers into a 1D vector. This is necessary because the next layer is fully connected, and it requires a 1D input.\n",
    "5. Fully Connected Layer:\n",
    "    * `Dense(128, activation='relu')`: This is a fully connected layer with 128 units/neurons. Each neuron is connected to every input from the flattened output. The ReLU activation function is used again to introduce non-linearity and help the model learn complex relationships.\n",
    "6. Dropout Layer:\n",
    "    * `Dropout(0.5)`: This layer randomly sets 50% of the neurons to zero during training to prevent overfitting. It helps the model generalize better to unseen data.\n",
    "7. Output Layer:\n",
    "    * `Dense(num_classes, activation='softmax')`: This is the output layer with num_classes neurons, one for each class in the classification problem. The softmax activation function ensures the output values represent probabilities that sum to 1, useful for multi-class classification.\n",
    "8. Compiling the model\n",
    "    * model.compile(optimizer='adam', loss='categorical_crossentropy', metrics=['accuracy']):\n",
    "        * Optimizer: 'adam': Adam is an optimization algorithm that adjusts the learning rate during training to improve performance.\n",
    "        * Loss: 'categorical_crossentropy': This loss function is used for multi-class classification problems where the target variable is one-hot encoded (i.e., represented as a vector of 0s and 1s).\n",
    "        * Metrics: ['accuracy']: The accuracy metric is used to evaluate the model’s performance during training and testing.\n"
   ]
  },
  {
   "cell_type": "code",
   "execution_count": null,
   "metadata": {
    "id": "sCOkh99EOg8t"
   },
   "outputs": [],
   "source": [
    "def build_1d_cnn_model(input_shape, num_classes):\n",
    "    \"\"\"\n",
    "    Builds and compiles a 1D CNN model for multi-class classification.\n",
    "\n",
    "    Args:\n",
    "        input_shape (tuple): The shape of the input data (timesteps, features).\n",
    "        num_classes (int): The number of output classes.\n",
    "\n",
    "    Returns:\n",
    "        model (Sequential): Compiled 1D CNN model.\n",
    "    \"\"\"\n",
    "    model = Sequential()\n",
    "\n",
    "    # First Conv1D layer\n",
    "    # You can try experimenting with different filters, kernel_size values and activiation functions\n",
    "    model.add(Conv1D(filters=64, kernel_size=3, activation='relu', input_shape=input_shape))\n",
    "    model.add(MaxPooling1D(pool_size=2))\n",
    "\n",
    "    # Second Conv1D layer\n",
    "    # You can try experimenting with different filters, kernel_size values and activiation functions\n",
    "    model.add(Conv1D(filters=128, kernel_size=3, activation='relu'))\n",
    "    model.add(MaxPooling1D(pool_size=2))\n",
    "\n",
    "    # Third Conv1D layer\n",
    "    model.add(Conv1D(filters=256, kernel_size=3, activation='relu'))\n",
    "    model.add(MaxPooling1D(pool_size=2))\n",
    "\n",
    "    # Flatten the output from the convolutional layers\n",
    "    model.add(Flatten())\n",
    "\n",
    "    # Fully connected layer\n",
    "    model.add(Dense(128, activation='relu'))\n",
    "\n",
    "    # Dropout layer for regularization\n",
    "    # You can try experimenting with different dropout rates\n",
    "    model.add(Dropout(0.3))\n",
    "\n",
    "    # Output layer with softmax for multi-class classification\n",
    "    model.add(Dense(num_classes, activation='softmax'))\n",
    "\n",
    "    # Compile the model\n",
    "    model.compile(optimizer='adam', loss='categorical_crossentropy', metrics=['accuracy'])\n",
    "\n",
    "    #  Prints a detailed summary of the model, showing the layers, their output shapes, and the number of trainable parameters\n",
    "    model.summary()\n",
    "    return model"
   ]
  },
  {
   "cell_type": "markdown",
   "metadata": {
    "id": "HurfE6lmOjQT"
   },
   "source": [
    "# Classification Pipeline"
   ]
  },
  {
   "cell_type": "markdown",
   "metadata": {
    "id": "DLs1eacYoa_S"
   },
   "source": [
    "## Step 1: Prepare and Preprocess the Data"
   ]
  },
  {
   "cell_type": "code",
   "execution_count": 101,
   "metadata": {
    "id": "2FqqaaX2o1YW"
   },
   "outputs": [
    {
     "name": "stdout",
     "output_type": "stream",
     "text": [
      "Length of data for social signal windows: 302909 with 4 different labels, labels are [0 0 0 ... 3 3 3]\n",
      "X_social_signal shape: (302909, 200, 3), y_social_signal shape: (302909,)\n"
     ]
    }
   ],
   "source": [
    "# Create the sliding windows and labels for the activity and social signal tasks\n",
    "#X_activity, y_activity = process_task(\"activity\", activity_labels, your_dataset_path, window_size=100, step_size=50)\n",
    "X_social_signal, y_social_signal = process_task(\"social_signal\", social_signal_labels, your_dataset_path, window_size=200, step_size=10)\n",
    "\n",
    "#print(f\"Length of data for activity windows: {len(X_activity)} with {len(set(y_activity))} different labels, labels are {y_activity}\")\n",
    "print(f\"Length of data for social signal windows: {len(X_social_signal)} with {len(set(y_social_signal))} different labels, labels are {y_social_signal}\")\n",
    "\n",
    "#print(f\"X_activity shape: {X_activity.shape}, y_activity shape: {y_activity.shape}\")\n",
    "print(f\"X_social_signal shape: {X_social_signal.shape}, y_social_signal shape: {y_social_signal.shape}\")\n"
   ]
  },
  {
   "cell_type": "markdown",
   "metadata": {
    "id": "TdGR352hph4X"
   },
   "source": [
    "Now that each activity has been processed and stored in train_test_data, we need to combine the sliding windows and labels from all activities into unified arrays (one for training and one for testing) for model training."
   ]
  },
  {
   "cell_type": "markdown",
   "metadata": {
    "id": "1yQGU1vwIQdz"
   },
   "source": [
    "### One-Hot Encode Labels (for multi-class classification)\n",
    "If you have more than two classes, you'll need to one-hot encode the labels, especially if your model will use categorical cross-entropy loss.\n",
    "\n",
    "One-Hot Encoding converts categorical labels into binary vectors (one-hot encoded format). Each class label is represented as a binary vector with 1 for the correct class and 0 for others. This is necessary for training models that use categorical_crossentropy as the loss function, such as a neural network."
   ]
  },
  {
   "cell_type": "code",
   "execution_count": 102,
   "metadata": {
    "id": "9b2J1EVdHj0U"
   },
   "outputs": [],
   "source": [
    "# Initialise the OneHotEncoder\n",
    "encoder = OneHotEncoder(sparse_output=False)\n",
    "\n",
    "# Fit the OneHotEncoder on the training activity labels and transform them to one-hot encoded format\n",
    "#y_activity_one_hot = encoder.fit_transform(y_activity.reshape(-1, 1))\n",
    "\n",
    "y_social_signal_one_hot = encoder.fit_transform(y_social_signal.reshape(-1, 1))\n",
    "\n",
    "# Transform the test activity labels to one-hot encoded format using the already fitted encoder\n",
    "\n",
    "\n",
    "# Explanation:\n",
    "# - y_train_activity_one_hot, y_train_social_signal_one_hot, y_test_activity_one_hot and y_test_social_signal_one_hot are now 2D arrays where each row is a one-hot encoded binary vector corresponding to a class label.\n",
    "# - The number of columns in the one-hot encoded labels equals the number of unique classes (activities).\n",
    "# For example, if there are 6 unique activities, the encoded vector will have 6 elements, with a '1' indicating the correct class."
   ]
  },
  {
   "cell_type": "code",
   "execution_count": 103,
   "metadata": {
    "colab": {
     "base_uri": "https://localhost:8080/"
    },
    "id": "AlnbOVr0rDbV",
    "outputId": "98ddbd62-4d6c-41ba-ac94-00d74a30f3c4"
   },
   "outputs": [
    {
     "name": "stdout",
     "output_type": "stream",
     "text": [
      "y_social_signal_one_hot shape: (302909, 4)\n"
     ]
    }
   ],
   "source": [
    "# Print the shapes of the one-hot encoded labels to verify that the transformation was successful\n",
    "#print(f\"y_activity_one_hot shape: {y_activity_one_hot.shape}\")\n",
    "print(f\"y_social_signal_one_hot shape: {y_social_signal_one_hot.shape}\")\n",
    "\n",
    "# Explanation of shapes:\n",
    "# - The shape of y_train_activity_one_hot will be (num_samples, num_classes), where:\n",
    "#     - num_samples is the number of training windows.\n",
    "#     - num_classes is the number of unique activities (the length of the one-hot vectors).\n",
    "# - Similarly, y_test_activity_one_hot will have the same number of columns (num_classes) as y_train_activity_one_hot but will have fewer rows (corresponding to the number of test windows)."
   ]
  },
  {
   "cell_type": "markdown",
   "metadata": {
    "id": "fEhUxZzzJzzI"
   },
   "source": [
    "## Step 2: Build the 1D-CNN Model\n",
    "Call our `build_1d_cnn_model` functionto build our model"
   ]
  },
  {
   "cell_type": "code",
   "execution_count": 104,
   "metadata": {
    "colab": {
     "base_uri": "https://localhost:8080/",
     "height": 441
    },
    "id": "4sDZWZH_KKBD",
    "outputId": "12cc6048-0921-414c-d2d7-b8d5268a8196"
   },
   "outputs": [
    {
     "name": "stdout",
     "output_type": "stream",
     "text": [
      "Input shape for the social signal model: (200, 3)\n"
     ]
    }
   ],
   "source": [
    "# Determine the input shape for the model\n",
    "#input_shape_activity = (X_activity.shape[1], X_activity.shape[2])\n",
    "#print(f\"Input shape for the activity model: {input_shape_activity}\")\n",
    "\n",
    "input_shape_social_signal = (X_social_signal.shape[1], X_social_signal.shape[2])\n",
    "print(f\"Input shape for the social signal model: {input_shape_social_signal}\")\n",
    "\n",
    "# Determine the number of output classes (num_classes)\n",
    "num_activity_classes = y_activity_one_hot.shape[1]\n",
    "num_social_signal_classes = y_social_signal_one_hot.shape[1]\n",
    "\n",
    "# Build and compile the model\n",
    "# The function will return a compiled model ready for training\n",
    "#activity_model = build_1d_cnn_model(input_shape_activity, num_activity_classes)\n",
    "#social_signal_model = build_1d_cnn_model(input_shape_social_signal, num_social_signal_classes)"
   ]
  },
  {
   "cell_type": "markdown",
   "metadata": {
    "id": "q1-SHEmtKM0D"
   },
   "source": [
    "## Step 3: Train the CNN Model\n",
    "\n",
    "Train the 1D CNN model using the training data and validate on the test data. The model will learn to map input sliding windows to their corresponding activity labels.\n",
    "\n",
    "`model.fit()` is used to train the neural network model. It takes several parameters:\n",
    "* `X_train`: The input training data (sliding windows), with shape (num_samples, window_size, num_features).\n",
    "* `y_train_one_hot`: The corresponding one-hot encoded labels for the training data, with shape (num_samples, num_classes).\n",
    "* `epochs`: Number of times the entire training dataset is passed through the model. You can try adjusting the number of epochs and compare the difference in model performance. In this case, we are training for 20 epochs, meaning the model will see the entire training set 20 times.\n",
    "* `batch_size`: Number of samples processed before the model's weights are updated. Here, the batch size is set to 32, meaning the model will process 32 samples at a time before updating its parameters.\n",
    "* `validation_data`: This parameter allows us to evaluate the model's performance on the test data after each epoch.\n",
    "*`(X_test, y_test_one_hot)`: These are the input test data and corresponding one-hot encoded test labels."
   ]
  },
  {
   "cell_type": "code",
   "execution_count": 105,
   "metadata": {},
   "outputs": [],
   "source": [
    "# Set up KFold cross-validation\n",
    "kfold = KFold(n_splits=5, shuffle=True, random_state=42)\n",
    "\n",
    "# Initialise lists to store the accuracy of each fold\n",
    "activity_accuracy_list = []\n",
    "social_signal_accuracy_list = []\n",
    "\n",
    "# Initialize lists to store the recall for each class for all folds\n",
    "recall_per_class_per_fold_social_signal = {i: [] for i in range(num_social_signal_classes)}\n",
    "recall_per_class_per_fold_activity = {i: [] for i in range(num_activity_classes)}\n",
    "\n",
    "\n",
    "# Initialise lists to store the true and predicted labels for social signals for all folds\n",
    "all_y_true_social_signal = []\n",
    "all_y_pred_social_signal = []\n",
    "\n",
    "# Initialise lists to store the true and predicted labels for activities for all folds\n",
    "all_y_true_activity = []\n",
    "all_y_pred_activity = []\n"
   ]
  },
  {
   "cell_type": "code",
   "execution_count": 106,
   "metadata": {},
   "outputs": [
    {
     "name": "stdout",
     "output_type": "stream",
     "text": [
      "Training social signal model for fold 1\n"
     ]
    },
    {
     "name": "stderr",
     "output_type": "stream",
     "text": [
      "c:\\Users\\seanc\\miniconda3\\envs\\pdiot\\Lib\\site-packages\\keras\\src\\layers\\convolutional\\base_conv.py:107: UserWarning: Do not pass an `input_shape`/`input_dim` argument to a layer. When using Sequential models, prefer using an `Input(shape)` object as the first layer in the model instead.\n",
      "  super().__init__(activity_regularizer=activity_regularizer, **kwargs)\n"
     ]
    },
    {
     "data": {
      "text/html": [
       "<pre style=\"white-space:pre;overflow-x:auto;line-height:normal;font-family:Menlo,'DejaVu Sans Mono',consolas,'Courier New',monospace\"><span style=\"font-weight: bold\">Model: \"sequential_51\"</span>\n",
       "</pre>\n"
      ],
      "text/plain": [
       "\u001b[1mModel: \"sequential_51\"\u001b[0m\n"
      ]
     },
     "metadata": {},
     "output_type": "display_data"
    },
    {
     "data": {
      "text/html": [
       "<pre style=\"white-space:pre;overflow-x:auto;line-height:normal;font-family:Menlo,'DejaVu Sans Mono',consolas,'Courier New',monospace\">┏━━━━━━━━━━━━━━━━━━━━━━━━━━━━━━━━━┳━━━━━━━━━━━━━━━━━━━━━━━━┳━━━━━━━━━━━━━━━┓\n",
       "┃<span style=\"font-weight: bold\"> Layer (type)                    </span>┃<span style=\"font-weight: bold\"> Output Shape           </span>┃<span style=\"font-weight: bold\">       Param # </span>┃\n",
       "┡━━━━━━━━━━━━━━━━━━━━━━━━━━━━━━━━━╇━━━━━━━━━━━━━━━━━━━━━━━━╇━━━━━━━━━━━━━━━┩\n",
       "│ conv1d_153 (<span style=\"color: #0087ff; text-decoration-color: #0087ff\">Conv1D</span>)             │ (<span style=\"color: #00d7ff; text-decoration-color: #00d7ff\">None</span>, <span style=\"color: #00af00; text-decoration-color: #00af00\">198</span>, <span style=\"color: #00af00; text-decoration-color: #00af00\">64</span>)        │           <span style=\"color: #00af00; text-decoration-color: #00af00\">640</span> │\n",
       "├─────────────────────────────────┼────────────────────────┼───────────────┤\n",
       "│ max_pooling1d_153               │ (<span style=\"color: #00d7ff; text-decoration-color: #00d7ff\">None</span>, <span style=\"color: #00af00; text-decoration-color: #00af00\">99</span>, <span style=\"color: #00af00; text-decoration-color: #00af00\">64</span>)         │             <span style=\"color: #00af00; text-decoration-color: #00af00\">0</span> │\n",
       "│ (<span style=\"color: #0087ff; text-decoration-color: #0087ff\">MaxPooling1D</span>)                  │                        │               │\n",
       "├─────────────────────────────────┼────────────────────────┼───────────────┤\n",
       "│ conv1d_154 (<span style=\"color: #0087ff; text-decoration-color: #0087ff\">Conv1D</span>)             │ (<span style=\"color: #00d7ff; text-decoration-color: #00d7ff\">None</span>, <span style=\"color: #00af00; text-decoration-color: #00af00\">97</span>, <span style=\"color: #00af00; text-decoration-color: #00af00\">128</span>)        │        <span style=\"color: #00af00; text-decoration-color: #00af00\">24,704</span> │\n",
       "├─────────────────────────────────┼────────────────────────┼───────────────┤\n",
       "│ max_pooling1d_154               │ (<span style=\"color: #00d7ff; text-decoration-color: #00d7ff\">None</span>, <span style=\"color: #00af00; text-decoration-color: #00af00\">48</span>, <span style=\"color: #00af00; text-decoration-color: #00af00\">128</span>)        │             <span style=\"color: #00af00; text-decoration-color: #00af00\">0</span> │\n",
       "│ (<span style=\"color: #0087ff; text-decoration-color: #0087ff\">MaxPooling1D</span>)                  │                        │               │\n",
       "├─────────────────────────────────┼────────────────────────┼───────────────┤\n",
       "│ conv1d_155 (<span style=\"color: #0087ff; text-decoration-color: #0087ff\">Conv1D</span>)             │ (<span style=\"color: #00d7ff; text-decoration-color: #00d7ff\">None</span>, <span style=\"color: #00af00; text-decoration-color: #00af00\">46</span>, <span style=\"color: #00af00; text-decoration-color: #00af00\">256</span>)        │        <span style=\"color: #00af00; text-decoration-color: #00af00\">98,560</span> │\n",
       "├─────────────────────────────────┼────────────────────────┼───────────────┤\n",
       "│ max_pooling1d_155               │ (<span style=\"color: #00d7ff; text-decoration-color: #00d7ff\">None</span>, <span style=\"color: #00af00; text-decoration-color: #00af00\">23</span>, <span style=\"color: #00af00; text-decoration-color: #00af00\">256</span>)        │             <span style=\"color: #00af00; text-decoration-color: #00af00\">0</span> │\n",
       "│ (<span style=\"color: #0087ff; text-decoration-color: #0087ff\">MaxPooling1D</span>)                  │                        │               │\n",
       "├─────────────────────────────────┼────────────────────────┼───────────────┤\n",
       "│ flatten_51 (<span style=\"color: #0087ff; text-decoration-color: #0087ff\">Flatten</span>)            │ (<span style=\"color: #00d7ff; text-decoration-color: #00d7ff\">None</span>, <span style=\"color: #00af00; text-decoration-color: #00af00\">5888</span>)           │             <span style=\"color: #00af00; text-decoration-color: #00af00\">0</span> │\n",
       "├─────────────────────────────────┼────────────────────────┼───────────────┤\n",
       "│ dense_102 (<span style=\"color: #0087ff; text-decoration-color: #0087ff\">Dense</span>)               │ (<span style=\"color: #00d7ff; text-decoration-color: #00d7ff\">None</span>, <span style=\"color: #00af00; text-decoration-color: #00af00\">128</span>)            │       <span style=\"color: #00af00; text-decoration-color: #00af00\">753,792</span> │\n",
       "├─────────────────────────────────┼────────────────────────┼───────────────┤\n",
       "│ dropout_51 (<span style=\"color: #0087ff; text-decoration-color: #0087ff\">Dropout</span>)            │ (<span style=\"color: #00d7ff; text-decoration-color: #00d7ff\">None</span>, <span style=\"color: #00af00; text-decoration-color: #00af00\">128</span>)            │             <span style=\"color: #00af00; text-decoration-color: #00af00\">0</span> │\n",
       "├─────────────────────────────────┼────────────────────────┼───────────────┤\n",
       "│ dense_103 (<span style=\"color: #0087ff; text-decoration-color: #0087ff\">Dense</span>)               │ (<span style=\"color: #00d7ff; text-decoration-color: #00d7ff\">None</span>, <span style=\"color: #00af00; text-decoration-color: #00af00\">4</span>)              │           <span style=\"color: #00af00; text-decoration-color: #00af00\">516</span> │\n",
       "└─────────────────────────────────┴────────────────────────┴───────────────┘\n",
       "</pre>\n"
      ],
      "text/plain": [
       "┏━━━━━━━━━━━━━━━━━━━━━━━━━━━━━━━━━┳━━━━━━━━━━━━━━━━━━━━━━━━┳━━━━━━━━━━━━━━━┓\n",
       "┃\u001b[1m \u001b[0m\u001b[1mLayer (type)                   \u001b[0m\u001b[1m \u001b[0m┃\u001b[1m \u001b[0m\u001b[1mOutput Shape          \u001b[0m\u001b[1m \u001b[0m┃\u001b[1m \u001b[0m\u001b[1m      Param #\u001b[0m\u001b[1m \u001b[0m┃\n",
       "┡━━━━━━━━━━━━━━━━━━━━━━━━━━━━━━━━━╇━━━━━━━━━━━━━━━━━━━━━━━━╇━━━━━━━━━━━━━━━┩\n",
       "│ conv1d_153 (\u001b[38;5;33mConv1D\u001b[0m)             │ (\u001b[38;5;45mNone\u001b[0m, \u001b[38;5;34m198\u001b[0m, \u001b[38;5;34m64\u001b[0m)        │           \u001b[38;5;34m640\u001b[0m │\n",
       "├─────────────────────────────────┼────────────────────────┼───────────────┤\n",
       "│ max_pooling1d_153               │ (\u001b[38;5;45mNone\u001b[0m, \u001b[38;5;34m99\u001b[0m, \u001b[38;5;34m64\u001b[0m)         │             \u001b[38;5;34m0\u001b[0m │\n",
       "│ (\u001b[38;5;33mMaxPooling1D\u001b[0m)                  │                        │               │\n",
       "├─────────────────────────────────┼────────────────────────┼───────────────┤\n",
       "│ conv1d_154 (\u001b[38;5;33mConv1D\u001b[0m)             │ (\u001b[38;5;45mNone\u001b[0m, \u001b[38;5;34m97\u001b[0m, \u001b[38;5;34m128\u001b[0m)        │        \u001b[38;5;34m24,704\u001b[0m │\n",
       "├─────────────────────────────────┼────────────────────────┼───────────────┤\n",
       "│ max_pooling1d_154               │ (\u001b[38;5;45mNone\u001b[0m, \u001b[38;5;34m48\u001b[0m, \u001b[38;5;34m128\u001b[0m)        │             \u001b[38;5;34m0\u001b[0m │\n",
       "│ (\u001b[38;5;33mMaxPooling1D\u001b[0m)                  │                        │               │\n",
       "├─────────────────────────────────┼────────────────────────┼───────────────┤\n",
       "│ conv1d_155 (\u001b[38;5;33mConv1D\u001b[0m)             │ (\u001b[38;5;45mNone\u001b[0m, \u001b[38;5;34m46\u001b[0m, \u001b[38;5;34m256\u001b[0m)        │        \u001b[38;5;34m98,560\u001b[0m │\n",
       "├─────────────────────────────────┼────────────────────────┼───────────────┤\n",
       "│ max_pooling1d_155               │ (\u001b[38;5;45mNone\u001b[0m, \u001b[38;5;34m23\u001b[0m, \u001b[38;5;34m256\u001b[0m)        │             \u001b[38;5;34m0\u001b[0m │\n",
       "│ (\u001b[38;5;33mMaxPooling1D\u001b[0m)                  │                        │               │\n",
       "├─────────────────────────────────┼────────────────────────┼───────────────┤\n",
       "│ flatten_51 (\u001b[38;5;33mFlatten\u001b[0m)            │ (\u001b[38;5;45mNone\u001b[0m, \u001b[38;5;34m5888\u001b[0m)           │             \u001b[38;5;34m0\u001b[0m │\n",
       "├─────────────────────────────────┼────────────────────────┼───────────────┤\n",
       "│ dense_102 (\u001b[38;5;33mDense\u001b[0m)               │ (\u001b[38;5;45mNone\u001b[0m, \u001b[38;5;34m128\u001b[0m)            │       \u001b[38;5;34m753,792\u001b[0m │\n",
       "├─────────────────────────────────┼────────────────────────┼───────────────┤\n",
       "│ dropout_51 (\u001b[38;5;33mDropout\u001b[0m)            │ (\u001b[38;5;45mNone\u001b[0m, \u001b[38;5;34m128\u001b[0m)            │             \u001b[38;5;34m0\u001b[0m │\n",
       "├─────────────────────────────────┼────────────────────────┼───────────────┤\n",
       "│ dense_103 (\u001b[38;5;33mDense\u001b[0m)               │ (\u001b[38;5;45mNone\u001b[0m, \u001b[38;5;34m4\u001b[0m)              │           \u001b[38;5;34m516\u001b[0m │\n",
       "└─────────────────────────────────┴────────────────────────┴───────────────┘\n"
      ]
     },
     "metadata": {},
     "output_type": "display_data"
    },
    {
     "data": {
      "text/html": [
       "<pre style=\"white-space:pre;overflow-x:auto;line-height:normal;font-family:Menlo,'DejaVu Sans Mono',consolas,'Courier New',monospace\"><span style=\"font-weight: bold\"> Total params: </span><span style=\"color: #00af00; text-decoration-color: #00af00\">878,212</span> (3.35 MB)\n",
       "</pre>\n"
      ],
      "text/plain": [
       "\u001b[1m Total params: \u001b[0m\u001b[38;5;34m878,212\u001b[0m (3.35 MB)\n"
      ]
     },
     "metadata": {},
     "output_type": "display_data"
    },
    {
     "data": {
      "text/html": [
       "<pre style=\"white-space:pre;overflow-x:auto;line-height:normal;font-family:Menlo,'DejaVu Sans Mono',consolas,'Courier New',monospace\"><span style=\"font-weight: bold\"> Trainable params: </span><span style=\"color: #00af00; text-decoration-color: #00af00\">878,212</span> (3.35 MB)\n",
       "</pre>\n"
      ],
      "text/plain": [
       "\u001b[1m Trainable params: \u001b[0m\u001b[38;5;34m878,212\u001b[0m (3.35 MB)\n"
      ]
     },
     "metadata": {},
     "output_type": "display_data"
    },
    {
     "data": {
      "text/html": [
       "<pre style=\"white-space:pre;overflow-x:auto;line-height:normal;font-family:Menlo,'DejaVu Sans Mono',consolas,'Courier New',monospace\"><span style=\"font-weight: bold\"> Non-trainable params: </span><span style=\"color: #00af00; text-decoration-color: #00af00\">0</span> (0.00 B)\n",
       "</pre>\n"
      ],
      "text/plain": [
       "\u001b[1m Non-trainable params: \u001b[0m\u001b[38;5;34m0\u001b[0m (0.00 B)\n"
      ]
     },
     "metadata": {},
     "output_type": "display_data"
    },
    {
     "name": "stdout",
     "output_type": "stream",
     "text": [
      "Epoch 1/5\n",
      "\u001b[1m2674/3787\u001b[0m \u001b[32m━━━━━━━━━━━━━━\u001b[0m\u001b[37m━━━━━━\u001b[0m \u001b[1m42s\u001b[0m 39ms/step - accuracy: 0.6015 - loss: 0.9467"
     ]
    },
    {
     "ename": "KeyboardInterrupt",
     "evalue": "",
     "output_type": "error",
     "traceback": [
      "\u001b[1;31m---------------------------------------------------------------------------\u001b[0m",
      "\u001b[1;31mKeyboardInterrupt\u001b[0m                         Traceback (most recent call last)",
      "Cell \u001b[1;32mIn[106], line 14\u001b[0m\n\u001b[0;32m     11\u001b[0m \u001b[38;5;66;03m# Reinitialise the social signal model for each fold\u001b[39;00m\n\u001b[0;32m     12\u001b[0m social_signal_model \u001b[38;5;241m=\u001b[39m build_1d_cnn_model(input_shape_social_signal, num_social_signal_classes)\n\u001b[1;32m---> 14\u001b[0m history \u001b[38;5;241m=\u001b[39m \u001b[43msocial_signal_model\u001b[49m\u001b[38;5;241;43m.\u001b[39;49m\u001b[43mfit\u001b[49m\u001b[43m(\u001b[49m\u001b[43mX_train_fold_social_signal\u001b[49m\u001b[43m,\u001b[49m\u001b[43m \u001b[49m\u001b[43my_train_fold_social_signal\u001b[49m\u001b[43m,\u001b[49m\n\u001b[0;32m     15\u001b[0m \u001b[43m                                    \u001b[49m\u001b[43mepochs\u001b[49m\u001b[38;5;241;43m=\u001b[39;49m\u001b[38;5;241;43m5\u001b[39;49m\u001b[43m,\u001b[49m\u001b[43m \u001b[49m\u001b[43mbatch_size\u001b[49m\u001b[38;5;241;43m=\u001b[39;49m\u001b[38;5;241;43m64\u001b[39;49m\u001b[43m,\u001b[49m\n\u001b[0;32m     16\u001b[0m \u001b[43m                                    \u001b[49m\u001b[43mvalidation_data\u001b[49m\u001b[38;5;241;43m=\u001b[39;49m\u001b[43m(\u001b[49m\u001b[43mX_val_fold_social_signal\u001b[49m\u001b[43m,\u001b[49m\u001b[43m \u001b[49m\u001b[43my_val_fold_social_signal\u001b[49m\u001b[43m)\u001b[49m\u001b[43m,\u001b[49m\n\u001b[0;32m     17\u001b[0m \u001b[43m                                    \u001b[49m\u001b[43mverbose\u001b[49m\u001b[38;5;241;43m=\u001b[39;49m\u001b[38;5;241;43m1\u001b[39;49m\u001b[43m)\u001b[49m\n\u001b[0;32m     19\u001b[0m y_pred_probs_social_signal \u001b[38;5;241m=\u001b[39m social_signal_model\u001b[38;5;241m.\u001b[39mpredict(X_val_fold_social_signal)\n\u001b[0;32m     20\u001b[0m y_pred_social_signal \u001b[38;5;241m=\u001b[39m np\u001b[38;5;241m.\u001b[39margmax(y_pred_probs_social_signal, axis\u001b[38;5;241m=\u001b[39m\u001b[38;5;241m1\u001b[39m)\n",
      "File \u001b[1;32mc:\\Users\\seanc\\miniconda3\\envs\\pdiot\\Lib\\site-packages\\keras\\src\\utils\\traceback_utils.py:117\u001b[0m, in \u001b[0;36mfilter_traceback.<locals>.error_handler\u001b[1;34m(*args, **kwargs)\u001b[0m\n\u001b[0;32m    115\u001b[0m filtered_tb \u001b[38;5;241m=\u001b[39m \u001b[38;5;28;01mNone\u001b[39;00m\n\u001b[0;32m    116\u001b[0m \u001b[38;5;28;01mtry\u001b[39;00m:\n\u001b[1;32m--> 117\u001b[0m     \u001b[38;5;28;01mreturn\u001b[39;00m \u001b[43mfn\u001b[49m\u001b[43m(\u001b[49m\u001b[38;5;241;43m*\u001b[39;49m\u001b[43margs\u001b[49m\u001b[43m,\u001b[49m\u001b[43m \u001b[49m\u001b[38;5;241;43m*\u001b[39;49m\u001b[38;5;241;43m*\u001b[39;49m\u001b[43mkwargs\u001b[49m\u001b[43m)\u001b[49m\n\u001b[0;32m    118\u001b[0m \u001b[38;5;28;01mexcept\u001b[39;00m \u001b[38;5;167;01mException\u001b[39;00m \u001b[38;5;28;01mas\u001b[39;00m e:\n\u001b[0;32m    119\u001b[0m     filtered_tb \u001b[38;5;241m=\u001b[39m _process_traceback_frames(e\u001b[38;5;241m.\u001b[39m__traceback__)\n",
      "File \u001b[1;32mc:\\Users\\seanc\\miniconda3\\envs\\pdiot\\Lib\\site-packages\\keras\\src\\backend\\tensorflow\\trainer.py:320\u001b[0m, in \u001b[0;36mTensorFlowTrainer.fit\u001b[1;34m(self, x, y, batch_size, epochs, verbose, callbacks, validation_split, validation_data, shuffle, class_weight, sample_weight, initial_epoch, steps_per_epoch, validation_steps, validation_batch_size, validation_freq)\u001b[0m\n\u001b[0;32m    318\u001b[0m \u001b[38;5;28;01mfor\u001b[39;00m step, iterator \u001b[38;5;129;01min\u001b[39;00m epoch_iterator\u001b[38;5;241m.\u001b[39menumerate_epoch():\n\u001b[0;32m    319\u001b[0m     callbacks\u001b[38;5;241m.\u001b[39mon_train_batch_begin(step)\n\u001b[1;32m--> 320\u001b[0m     logs \u001b[38;5;241m=\u001b[39m \u001b[38;5;28;43mself\u001b[39;49m\u001b[38;5;241;43m.\u001b[39;49m\u001b[43mtrain_function\u001b[49m\u001b[43m(\u001b[49m\u001b[43miterator\u001b[49m\u001b[43m)\u001b[49m\n\u001b[0;32m    321\u001b[0m     logs \u001b[38;5;241m=\u001b[39m \u001b[38;5;28mself\u001b[39m\u001b[38;5;241m.\u001b[39m_pythonify_logs(logs)\n\u001b[0;32m    322\u001b[0m     callbacks\u001b[38;5;241m.\u001b[39mon_train_batch_end(step, logs)\n",
      "File \u001b[1;32mc:\\Users\\seanc\\miniconda3\\envs\\pdiot\\Lib\\site-packages\\tensorflow\\python\\util\\traceback_utils.py:150\u001b[0m, in \u001b[0;36mfilter_traceback.<locals>.error_handler\u001b[1;34m(*args, **kwargs)\u001b[0m\n\u001b[0;32m    148\u001b[0m filtered_tb \u001b[38;5;241m=\u001b[39m \u001b[38;5;28;01mNone\u001b[39;00m\n\u001b[0;32m    149\u001b[0m \u001b[38;5;28;01mtry\u001b[39;00m:\n\u001b[1;32m--> 150\u001b[0m   \u001b[38;5;28;01mreturn\u001b[39;00m \u001b[43mfn\u001b[49m\u001b[43m(\u001b[49m\u001b[38;5;241;43m*\u001b[39;49m\u001b[43margs\u001b[49m\u001b[43m,\u001b[49m\u001b[43m \u001b[49m\u001b[38;5;241;43m*\u001b[39;49m\u001b[38;5;241;43m*\u001b[39;49m\u001b[43mkwargs\u001b[49m\u001b[43m)\u001b[49m\n\u001b[0;32m    151\u001b[0m \u001b[38;5;28;01mexcept\u001b[39;00m \u001b[38;5;167;01mException\u001b[39;00m \u001b[38;5;28;01mas\u001b[39;00m e:\n\u001b[0;32m    152\u001b[0m   filtered_tb \u001b[38;5;241m=\u001b[39m _process_traceback_frames(e\u001b[38;5;241m.\u001b[39m__traceback__)\n",
      "File \u001b[1;32mc:\\Users\\seanc\\miniconda3\\envs\\pdiot\\Lib\\site-packages\\tensorflow\\python\\eager\\polymorphic_function\\polymorphic_function.py:833\u001b[0m, in \u001b[0;36mFunction.__call__\u001b[1;34m(self, *args, **kwds)\u001b[0m\n\u001b[0;32m    830\u001b[0m compiler \u001b[38;5;241m=\u001b[39m \u001b[38;5;124m\"\u001b[39m\u001b[38;5;124mxla\u001b[39m\u001b[38;5;124m\"\u001b[39m \u001b[38;5;28;01mif\u001b[39;00m \u001b[38;5;28mself\u001b[39m\u001b[38;5;241m.\u001b[39m_jit_compile \u001b[38;5;28;01melse\u001b[39;00m \u001b[38;5;124m\"\u001b[39m\u001b[38;5;124mnonXla\u001b[39m\u001b[38;5;124m\"\u001b[39m\n\u001b[0;32m    832\u001b[0m \u001b[38;5;28;01mwith\u001b[39;00m OptionalXlaContext(\u001b[38;5;28mself\u001b[39m\u001b[38;5;241m.\u001b[39m_jit_compile):\n\u001b[1;32m--> 833\u001b[0m   result \u001b[38;5;241m=\u001b[39m \u001b[38;5;28;43mself\u001b[39;49m\u001b[38;5;241;43m.\u001b[39;49m\u001b[43m_call\u001b[49m\u001b[43m(\u001b[49m\u001b[38;5;241;43m*\u001b[39;49m\u001b[43margs\u001b[49m\u001b[43m,\u001b[49m\u001b[43m \u001b[49m\u001b[38;5;241;43m*\u001b[39;49m\u001b[38;5;241;43m*\u001b[39;49m\u001b[43mkwds\u001b[49m\u001b[43m)\u001b[49m\n\u001b[0;32m    835\u001b[0m new_tracing_count \u001b[38;5;241m=\u001b[39m \u001b[38;5;28mself\u001b[39m\u001b[38;5;241m.\u001b[39mexperimental_get_tracing_count()\n\u001b[0;32m    836\u001b[0m without_tracing \u001b[38;5;241m=\u001b[39m (tracing_count \u001b[38;5;241m==\u001b[39m new_tracing_count)\n",
      "File \u001b[1;32mc:\\Users\\seanc\\miniconda3\\envs\\pdiot\\Lib\\site-packages\\tensorflow\\python\\eager\\polymorphic_function\\polymorphic_function.py:878\u001b[0m, in \u001b[0;36mFunction._call\u001b[1;34m(self, *args, **kwds)\u001b[0m\n\u001b[0;32m    875\u001b[0m \u001b[38;5;28mself\u001b[39m\u001b[38;5;241m.\u001b[39m_lock\u001b[38;5;241m.\u001b[39mrelease()\n\u001b[0;32m    876\u001b[0m \u001b[38;5;66;03m# In this case we have not created variables on the first call. So we can\u001b[39;00m\n\u001b[0;32m    877\u001b[0m \u001b[38;5;66;03m# run the first trace but we should fail if variables are created.\u001b[39;00m\n\u001b[1;32m--> 878\u001b[0m results \u001b[38;5;241m=\u001b[39m \u001b[43mtracing_compilation\u001b[49m\u001b[38;5;241;43m.\u001b[39;49m\u001b[43mcall_function\u001b[49m\u001b[43m(\u001b[49m\n\u001b[0;32m    879\u001b[0m \u001b[43m    \u001b[49m\u001b[43margs\u001b[49m\u001b[43m,\u001b[49m\u001b[43m \u001b[49m\u001b[43mkwds\u001b[49m\u001b[43m,\u001b[49m\u001b[43m \u001b[49m\u001b[38;5;28;43mself\u001b[39;49m\u001b[38;5;241;43m.\u001b[39;49m\u001b[43m_variable_creation_config\u001b[49m\n\u001b[0;32m    880\u001b[0m \u001b[43m\u001b[49m\u001b[43m)\u001b[49m\n\u001b[0;32m    881\u001b[0m \u001b[38;5;28;01mif\u001b[39;00m \u001b[38;5;28mself\u001b[39m\u001b[38;5;241m.\u001b[39m_created_variables:\n\u001b[0;32m    882\u001b[0m   \u001b[38;5;28;01mraise\u001b[39;00m \u001b[38;5;167;01mValueError\u001b[39;00m(\u001b[38;5;124m\"\u001b[39m\u001b[38;5;124mCreating variables on a non-first call to a function\u001b[39m\u001b[38;5;124m\"\u001b[39m\n\u001b[0;32m    883\u001b[0m                    \u001b[38;5;124m\"\u001b[39m\u001b[38;5;124m decorated with tf.function.\u001b[39m\u001b[38;5;124m\"\u001b[39m)\n",
      "File \u001b[1;32mc:\\Users\\seanc\\miniconda3\\envs\\pdiot\\Lib\\site-packages\\tensorflow\\python\\eager\\polymorphic_function\\tracing_compilation.py:139\u001b[0m, in \u001b[0;36mcall_function\u001b[1;34m(args, kwargs, tracing_options)\u001b[0m\n\u001b[0;32m    137\u001b[0m bound_args \u001b[38;5;241m=\u001b[39m function\u001b[38;5;241m.\u001b[39mfunction_type\u001b[38;5;241m.\u001b[39mbind(\u001b[38;5;241m*\u001b[39margs, \u001b[38;5;241m*\u001b[39m\u001b[38;5;241m*\u001b[39mkwargs)\n\u001b[0;32m    138\u001b[0m flat_inputs \u001b[38;5;241m=\u001b[39m function\u001b[38;5;241m.\u001b[39mfunction_type\u001b[38;5;241m.\u001b[39munpack_inputs(bound_args)\n\u001b[1;32m--> 139\u001b[0m \u001b[38;5;28;01mreturn\u001b[39;00m \u001b[43mfunction\u001b[49m\u001b[38;5;241;43m.\u001b[39;49m\u001b[43m_call_flat\u001b[49m\u001b[43m(\u001b[49m\u001b[43m  \u001b[49m\u001b[38;5;66;43;03m# pylint: disable=protected-access\u001b[39;49;00m\n\u001b[0;32m    140\u001b[0m \u001b[43m    \u001b[49m\u001b[43mflat_inputs\u001b[49m\u001b[43m,\u001b[49m\u001b[43m \u001b[49m\u001b[43mcaptured_inputs\u001b[49m\u001b[38;5;241;43m=\u001b[39;49m\u001b[43mfunction\u001b[49m\u001b[38;5;241;43m.\u001b[39;49m\u001b[43mcaptured_inputs\u001b[49m\n\u001b[0;32m    141\u001b[0m \u001b[43m\u001b[49m\u001b[43m)\u001b[49m\n",
      "File \u001b[1;32mc:\\Users\\seanc\\miniconda3\\envs\\pdiot\\Lib\\site-packages\\tensorflow\\python\\eager\\polymorphic_function\\concrete_function.py:1322\u001b[0m, in \u001b[0;36mConcreteFunction._call_flat\u001b[1;34m(self, tensor_inputs, captured_inputs)\u001b[0m\n\u001b[0;32m   1318\u001b[0m possible_gradient_type \u001b[38;5;241m=\u001b[39m gradients_util\u001b[38;5;241m.\u001b[39mPossibleTapeGradientTypes(args)\n\u001b[0;32m   1319\u001b[0m \u001b[38;5;28;01mif\u001b[39;00m (possible_gradient_type \u001b[38;5;241m==\u001b[39m gradients_util\u001b[38;5;241m.\u001b[39mPOSSIBLE_GRADIENT_TYPES_NONE\n\u001b[0;32m   1320\u001b[0m     \u001b[38;5;129;01mand\u001b[39;00m executing_eagerly):\n\u001b[0;32m   1321\u001b[0m   \u001b[38;5;66;03m# No tape is watching; skip to running the function.\u001b[39;00m\n\u001b[1;32m-> 1322\u001b[0m   \u001b[38;5;28;01mreturn\u001b[39;00m \u001b[38;5;28;43mself\u001b[39;49m\u001b[38;5;241;43m.\u001b[39;49m\u001b[43m_inference_function\u001b[49m\u001b[38;5;241;43m.\u001b[39;49m\u001b[43mcall_preflattened\u001b[49m\u001b[43m(\u001b[49m\u001b[43margs\u001b[49m\u001b[43m)\u001b[49m\n\u001b[0;32m   1323\u001b[0m forward_backward \u001b[38;5;241m=\u001b[39m \u001b[38;5;28mself\u001b[39m\u001b[38;5;241m.\u001b[39m_select_forward_and_backward_functions(\n\u001b[0;32m   1324\u001b[0m     args,\n\u001b[0;32m   1325\u001b[0m     possible_gradient_type,\n\u001b[0;32m   1326\u001b[0m     executing_eagerly)\n\u001b[0;32m   1327\u001b[0m forward_function, args_with_tangents \u001b[38;5;241m=\u001b[39m forward_backward\u001b[38;5;241m.\u001b[39mforward()\n",
      "File \u001b[1;32mc:\\Users\\seanc\\miniconda3\\envs\\pdiot\\Lib\\site-packages\\tensorflow\\python\\eager\\polymorphic_function\\atomic_function.py:216\u001b[0m, in \u001b[0;36mAtomicFunction.call_preflattened\u001b[1;34m(self, args)\u001b[0m\n\u001b[0;32m    214\u001b[0m \u001b[38;5;28;01mdef\u001b[39;00m \u001b[38;5;21mcall_preflattened\u001b[39m(\u001b[38;5;28mself\u001b[39m, args: Sequence[core\u001b[38;5;241m.\u001b[39mTensor]) \u001b[38;5;241m-\u001b[39m\u001b[38;5;241m>\u001b[39m Any:\n\u001b[0;32m    215\u001b[0m \u001b[38;5;250m  \u001b[39m\u001b[38;5;124;03m\"\"\"Calls with flattened tensor inputs and returns the structured output.\"\"\"\u001b[39;00m\n\u001b[1;32m--> 216\u001b[0m   flat_outputs \u001b[38;5;241m=\u001b[39m \u001b[38;5;28;43mself\u001b[39;49m\u001b[38;5;241;43m.\u001b[39;49m\u001b[43mcall_flat\u001b[49m\u001b[43m(\u001b[49m\u001b[38;5;241;43m*\u001b[39;49m\u001b[43margs\u001b[49m\u001b[43m)\u001b[49m\n\u001b[0;32m    217\u001b[0m   \u001b[38;5;28;01mreturn\u001b[39;00m \u001b[38;5;28mself\u001b[39m\u001b[38;5;241m.\u001b[39mfunction_type\u001b[38;5;241m.\u001b[39mpack_output(flat_outputs)\n",
      "File \u001b[1;32mc:\\Users\\seanc\\miniconda3\\envs\\pdiot\\Lib\\site-packages\\tensorflow\\python\\eager\\polymorphic_function\\atomic_function.py:251\u001b[0m, in \u001b[0;36mAtomicFunction.call_flat\u001b[1;34m(self, *args)\u001b[0m\n\u001b[0;32m    249\u001b[0m \u001b[38;5;28;01mwith\u001b[39;00m record\u001b[38;5;241m.\u001b[39mstop_recording():\n\u001b[0;32m    250\u001b[0m   \u001b[38;5;28;01mif\u001b[39;00m \u001b[38;5;28mself\u001b[39m\u001b[38;5;241m.\u001b[39m_bound_context\u001b[38;5;241m.\u001b[39mexecuting_eagerly():\n\u001b[1;32m--> 251\u001b[0m     outputs \u001b[38;5;241m=\u001b[39m \u001b[38;5;28;43mself\u001b[39;49m\u001b[38;5;241;43m.\u001b[39;49m\u001b[43m_bound_context\u001b[49m\u001b[38;5;241;43m.\u001b[39;49m\u001b[43mcall_function\u001b[49m\u001b[43m(\u001b[49m\n\u001b[0;32m    252\u001b[0m \u001b[43m        \u001b[49m\u001b[38;5;28;43mself\u001b[39;49m\u001b[38;5;241;43m.\u001b[39;49m\u001b[43mname\u001b[49m\u001b[43m,\u001b[49m\n\u001b[0;32m    253\u001b[0m \u001b[43m        \u001b[49m\u001b[38;5;28;43mlist\u001b[39;49m\u001b[43m(\u001b[49m\u001b[43margs\u001b[49m\u001b[43m)\u001b[49m\u001b[43m,\u001b[49m\n\u001b[0;32m    254\u001b[0m \u001b[43m        \u001b[49m\u001b[38;5;28;43mlen\u001b[39;49m\u001b[43m(\u001b[49m\u001b[38;5;28;43mself\u001b[39;49m\u001b[38;5;241;43m.\u001b[39;49m\u001b[43mfunction_type\u001b[49m\u001b[38;5;241;43m.\u001b[39;49m\u001b[43mflat_outputs\u001b[49m\u001b[43m)\u001b[49m\u001b[43m,\u001b[49m\n\u001b[0;32m    255\u001b[0m \u001b[43m    \u001b[49m\u001b[43m)\u001b[49m\n\u001b[0;32m    256\u001b[0m   \u001b[38;5;28;01melse\u001b[39;00m:\n\u001b[0;32m    257\u001b[0m     outputs \u001b[38;5;241m=\u001b[39m make_call_op_in_graph(\n\u001b[0;32m    258\u001b[0m         \u001b[38;5;28mself\u001b[39m,\n\u001b[0;32m    259\u001b[0m         \u001b[38;5;28mlist\u001b[39m(args),\n\u001b[0;32m    260\u001b[0m         \u001b[38;5;28mself\u001b[39m\u001b[38;5;241m.\u001b[39m_bound_context\u001b[38;5;241m.\u001b[39mfunction_call_options\u001b[38;5;241m.\u001b[39mas_attrs(),\n\u001b[0;32m    261\u001b[0m     )\n",
      "File \u001b[1;32mc:\\Users\\seanc\\miniconda3\\envs\\pdiot\\Lib\\site-packages\\tensorflow\\python\\eager\\context.py:1552\u001b[0m, in \u001b[0;36mContext.call_function\u001b[1;34m(self, name, tensor_inputs, num_outputs)\u001b[0m\n\u001b[0;32m   1550\u001b[0m cancellation_context \u001b[38;5;241m=\u001b[39m cancellation\u001b[38;5;241m.\u001b[39mcontext()\n\u001b[0;32m   1551\u001b[0m \u001b[38;5;28;01mif\u001b[39;00m cancellation_context \u001b[38;5;129;01mis\u001b[39;00m \u001b[38;5;28;01mNone\u001b[39;00m:\n\u001b[1;32m-> 1552\u001b[0m   outputs \u001b[38;5;241m=\u001b[39m \u001b[43mexecute\u001b[49m\u001b[38;5;241;43m.\u001b[39;49m\u001b[43mexecute\u001b[49m\u001b[43m(\u001b[49m\n\u001b[0;32m   1553\u001b[0m \u001b[43m      \u001b[49m\u001b[43mname\u001b[49m\u001b[38;5;241;43m.\u001b[39;49m\u001b[43mdecode\u001b[49m\u001b[43m(\u001b[49m\u001b[38;5;124;43m\"\u001b[39;49m\u001b[38;5;124;43mutf-8\u001b[39;49m\u001b[38;5;124;43m\"\u001b[39;49m\u001b[43m)\u001b[49m\u001b[43m,\u001b[49m\n\u001b[0;32m   1554\u001b[0m \u001b[43m      \u001b[49m\u001b[43mnum_outputs\u001b[49m\u001b[38;5;241;43m=\u001b[39;49m\u001b[43mnum_outputs\u001b[49m\u001b[43m,\u001b[49m\n\u001b[0;32m   1555\u001b[0m \u001b[43m      \u001b[49m\u001b[43minputs\u001b[49m\u001b[38;5;241;43m=\u001b[39;49m\u001b[43mtensor_inputs\u001b[49m\u001b[43m,\u001b[49m\n\u001b[0;32m   1556\u001b[0m \u001b[43m      \u001b[49m\u001b[43mattrs\u001b[49m\u001b[38;5;241;43m=\u001b[39;49m\u001b[43mattrs\u001b[49m\u001b[43m,\u001b[49m\n\u001b[0;32m   1557\u001b[0m \u001b[43m      \u001b[49m\u001b[43mctx\u001b[49m\u001b[38;5;241;43m=\u001b[39;49m\u001b[38;5;28;43mself\u001b[39;49m\u001b[43m,\u001b[49m\n\u001b[0;32m   1558\u001b[0m \u001b[43m  \u001b[49m\u001b[43m)\u001b[49m\n\u001b[0;32m   1559\u001b[0m \u001b[38;5;28;01melse\u001b[39;00m:\n\u001b[0;32m   1560\u001b[0m   outputs \u001b[38;5;241m=\u001b[39m execute\u001b[38;5;241m.\u001b[39mexecute_with_cancellation(\n\u001b[0;32m   1561\u001b[0m       name\u001b[38;5;241m.\u001b[39mdecode(\u001b[38;5;124m\"\u001b[39m\u001b[38;5;124mutf-8\u001b[39m\u001b[38;5;124m\"\u001b[39m),\n\u001b[0;32m   1562\u001b[0m       num_outputs\u001b[38;5;241m=\u001b[39mnum_outputs,\n\u001b[1;32m   (...)\u001b[0m\n\u001b[0;32m   1566\u001b[0m       cancellation_manager\u001b[38;5;241m=\u001b[39mcancellation_context,\n\u001b[0;32m   1567\u001b[0m   )\n",
      "File \u001b[1;32mc:\\Users\\seanc\\miniconda3\\envs\\pdiot\\Lib\\site-packages\\tensorflow\\python\\eager\\execute.py:53\u001b[0m, in \u001b[0;36mquick_execute\u001b[1;34m(op_name, num_outputs, inputs, attrs, ctx, name)\u001b[0m\n\u001b[0;32m     51\u001b[0m \u001b[38;5;28;01mtry\u001b[39;00m:\n\u001b[0;32m     52\u001b[0m   ctx\u001b[38;5;241m.\u001b[39mensure_initialized()\n\u001b[1;32m---> 53\u001b[0m   tensors \u001b[38;5;241m=\u001b[39m \u001b[43mpywrap_tfe\u001b[49m\u001b[38;5;241;43m.\u001b[39;49m\u001b[43mTFE_Py_Execute\u001b[49m\u001b[43m(\u001b[49m\u001b[43mctx\u001b[49m\u001b[38;5;241;43m.\u001b[39;49m\u001b[43m_handle\u001b[49m\u001b[43m,\u001b[49m\u001b[43m \u001b[49m\u001b[43mdevice_name\u001b[49m\u001b[43m,\u001b[49m\u001b[43m \u001b[49m\u001b[43mop_name\u001b[49m\u001b[43m,\u001b[49m\n\u001b[0;32m     54\u001b[0m \u001b[43m                                      \u001b[49m\u001b[43minputs\u001b[49m\u001b[43m,\u001b[49m\u001b[43m \u001b[49m\u001b[43mattrs\u001b[49m\u001b[43m,\u001b[49m\u001b[43m \u001b[49m\u001b[43mnum_outputs\u001b[49m\u001b[43m)\u001b[49m\n\u001b[0;32m     55\u001b[0m \u001b[38;5;28;01mexcept\u001b[39;00m core\u001b[38;5;241m.\u001b[39m_NotOkStatusException \u001b[38;5;28;01mas\u001b[39;00m e:\n\u001b[0;32m     56\u001b[0m   \u001b[38;5;28;01mif\u001b[39;00m name \u001b[38;5;129;01mis\u001b[39;00m \u001b[38;5;129;01mnot\u001b[39;00m \u001b[38;5;28;01mNone\u001b[39;00m:\n",
      "\u001b[1;31mKeyboardInterrupt\u001b[0m: "
     ]
    }
   ],
   "source": [
    "fold_no = 1\n",
    "\n",
    "# Train and Evaluate social signal model\n",
    "for train_index, val_index in kfold.split(X_social_signal):\n",
    "    print(f\"Training social signal model for fold {fold_no}\")\n",
    "\n",
    "    # Split the data for this fold\n",
    "    X_train_fold_social_signal, X_val_fold_social_signal = X_social_signal[train_index], X_social_signal[val_index]\n",
    "    y_train_fold_social_signal, y_val_fold_social_signal = y_social_signal_one_hot[train_index], y_social_signal_one_hot[val_index]\n",
    "\n",
    "    # Reinitialise the social signal model for each fold\n",
    "    social_signal_model = build_1d_cnn_model(input_shape_social_signal, num_social_signal_classes)\n",
    "\n",
    "    history = social_signal_model.fit(X_train_fold_social_signal, y_train_fold_social_signal,\n",
    "                                        epochs=5, batch_size=64,\n",
    "                                        validation_data=(X_val_fold_social_signal, y_val_fold_social_signal),\n",
    "                                        verbose=1)\n",
    "    \n",
    "    y_pred_probs_social_signal = social_signal_model.predict(X_val_fold_social_signal)\n",
    "    y_pred_social_signal = np.argmax(y_pred_probs_social_signal, axis=1)\n",
    "    y_true_social_signal = np.argmax(y_val_fold_social_signal, axis=1)\n",
    "\n",
    "    social_signal_report = classification_report(y_true_social_signal, y_pred_social_signal, output_dict=True)\n",
    "    for i in range(num_social_signal_classes):\n",
    "        recall_per_class_per_fold_social_signal[i].append(social_signal_report[str(i)]['recall'])\n",
    "\n",
    "    social_signal_accuracy_list.append(accuracy_score(y_true_social_signal, y_pred_social_signal))\n",
    "\n",
    "    # Collect predictions and true social signal labels for confusion matrix\n",
    "    all_y_true_social_signal.extend(y_true_social_signal)\n",
    "    all_y_pred_social_signal.extend(y_pred_social_signal)\n",
    "\n",
    "    print(f\"Completed training and evaluation for fold {fold_no}\")\n",
    "\n",
    "    # Print recall for each class after each fold\n",
    "    for i in range(num_social_signal_classes):\n",
    "        print(f\"Recall for class {i} after fold {fold_no}: {recall_per_class_per_fold_social_signal[i][-1]:.4f}\")\n",
    "\n",
    "    fold_no += 1\n",
    "\n",
    "average_social_signal_accuracy = np.mean(social_signal_accuracy_list)\n",
    "print(f\"Average accuracy for social signal model: {average_social_signal_accuracy:.4f}\")\n",
    "\n",
    "average_recall_per_class_social_signal = {i: np.mean(recall_per_class_per_fold_social_signal[i]) for i in range(num_social_signal_classes)}\n",
    "\n",
    "for i in range(num_social_signal_classes):\n",
    "    print(f\"The 5-fold cross validation recall of class {i} is {average_recall_per_class_social_signal[i]:.4f}\")"
   ]
  },
  {
   "cell_type": "markdown",
   "metadata": {},
   "source": [
    "# Social signal confusion matrix"
   ]
  },
  {
   "cell_type": "code",
   "execution_count": null,
   "metadata": {},
   "outputs": [
    {
     "data": {
      "text/plain": [
       "<sklearn.metrics._plot.confusion_matrix.ConfusionMatrixDisplay at 0x13e33e60200>"
      ]
     },
     "execution_count": 87,
     "metadata": {},
     "output_type": "execute_result"
    },
    {
     "data": {
      "image/png": "[encoded data removed]",
      "text/plain": [
       "<Figure size 640x480 with 2 Axes>"
      ]
     },
     "metadata": {},
     "output_type": "display_data"
    }
   ],
   "source": [
    " # Convert the lists for the confusion matrix to numpy arrays\n",
    "all_y_true_social_signal = np.array(all_y_true_social_signal)\n",
    "all_y_pred_social_signal = np.array(all_y_pred_social_signal)\n",
    "\n",
    "# Generate confusion matrix\n",
    "cm = confusion_matrix(all_y_true_social_signal, all_y_pred_social_signal)\n",
    "ConfusionMatrixDisplay(cm, display_labels=['Normal', 'Coughing', 'Hypervent', 'Other']).plot()"
   ]
  },
  {
   "cell_type": "code",
   "execution_count": null,
   "metadata": {
    "colab": {
     "base_uri": "https://localhost:8080/"
    },
    "id": "b4zICRasKPsT",
    "outputId": "c2c4bde2-1417-4c96-e25b-8e4f3d039bf9"
   },
   "outputs": [
    {
     "name": "stdout",
     "output_type": "stream",
     "text": [
      "Training activity model for fold 1\n"
     ]
    },
    {
     "name": "stderr",
     "output_type": "stream",
     "text": [
      "c:\\Users\\seanc\\miniconda3\\envs\\pdiot\\Lib\\site-packages\\keras\\src\\layers\\convolutional\\base_conv.py:107: UserWarning: Do not pass an `input_shape`/`input_dim` argument to a layer. When using Sequential models, prefer using an `Input(shape)` object as the first layer in the model instead.\n",
      "  super().__init__(activity_regularizer=activity_regularizer, **kwargs)\n"
     ]
    },
    {
     "data": {
      "text/html": [
       "<pre style=\"white-space:pre;overflow-x:auto;line-height:normal;font-family:Menlo,'DejaVu Sans Mono',consolas,'Courier New',monospace\"><span style=\"font-weight: bold\">Model: \"sequential_45\"</span>\n",
       "</pre>\n"
      ],
      "text/plain": [
       "\u001b[1mModel: \"sequential_45\"\u001b[0m\n"
      ]
     },
     "metadata": {},
     "output_type": "display_data"
    },
    {
     "data": {
      "text/html": [
       "<pre style=\"white-space:pre;overflow-x:auto;line-height:normal;font-family:Menlo,'DejaVu Sans Mono',consolas,'Courier New',monospace\">┏━━━━━━━━━━━━━━━━━━━━━━━━━━━━━━━━━┳━━━━━━━━━━━━━━━━━━━━━━━━┳━━━━━━━━━━━━━━━┓\n",
       "┃<span style=\"font-weight: bold\"> Layer (type)                    </span>┃<span style=\"font-weight: bold\"> Output Shape           </span>┃<span style=\"font-weight: bold\">       Param # </span>┃\n",
       "┡━━━━━━━━━━━━━━━━━━━━━━━━━━━━━━━━━╇━━━━━━━━━━━━━━━━━━━━━━━━╇━━━━━━━━━━━━━━━┩\n",
       "│ conv1d_135 (<span style=\"color: #0087ff; text-decoration-color: #0087ff\">Conv1D</span>)             │ (<span style=\"color: #00d7ff; text-decoration-color: #00d7ff\">None</span>, <span style=\"color: #00af00; text-decoration-color: #00af00\">98</span>, <span style=\"color: #00af00; text-decoration-color: #00af00\">64</span>)         │           <span style=\"color: #00af00; text-decoration-color: #00af00\">640</span> │\n",
       "├─────────────────────────────────┼────────────────────────┼───────────────┤\n",
       "│ max_pooling1d_135               │ (<span style=\"color: #00d7ff; text-decoration-color: #00d7ff\">None</span>, <span style=\"color: #00af00; text-decoration-color: #00af00\">49</span>, <span style=\"color: #00af00; text-decoration-color: #00af00\">64</span>)         │             <span style=\"color: #00af00; text-decoration-color: #00af00\">0</span> │\n",
       "│ (<span style=\"color: #0087ff; text-decoration-color: #0087ff\">MaxPooling1D</span>)                  │                        │               │\n",
       "├─────────────────────────────────┼────────────────────────┼───────────────┤\n",
       "│ conv1d_136 (<span style=\"color: #0087ff; text-decoration-color: #0087ff\">Conv1D</span>)             │ (<span style=\"color: #00d7ff; text-decoration-color: #00d7ff\">None</span>, <span style=\"color: #00af00; text-decoration-color: #00af00\">47</span>, <span style=\"color: #00af00; text-decoration-color: #00af00\">128</span>)        │        <span style=\"color: #00af00; text-decoration-color: #00af00\">24,704</span> │\n",
       "├─────────────────────────────────┼────────────────────────┼───────────────┤\n",
       "│ max_pooling1d_136               │ (<span style=\"color: #00d7ff; text-decoration-color: #00d7ff\">None</span>, <span style=\"color: #00af00; text-decoration-color: #00af00\">23</span>, <span style=\"color: #00af00; text-decoration-color: #00af00\">128</span>)        │             <span style=\"color: #00af00; text-decoration-color: #00af00\">0</span> │\n",
       "│ (<span style=\"color: #0087ff; text-decoration-color: #0087ff\">MaxPooling1D</span>)                  │                        │               │\n",
       "├─────────────────────────────────┼────────────────────────┼───────────────┤\n",
       "│ conv1d_137 (<span style=\"color: #0087ff; text-decoration-color: #0087ff\">Conv1D</span>)             │ (<span style=\"color: #00d7ff; text-decoration-color: #00d7ff\">None</span>, <span style=\"color: #00af00; text-decoration-color: #00af00\">21</span>, <span style=\"color: #00af00; text-decoration-color: #00af00\">256</span>)        │        <span style=\"color: #00af00; text-decoration-color: #00af00\">98,560</span> │\n",
       "├─────────────────────────────────┼────────────────────────┼───────────────┤\n",
       "│ max_pooling1d_137               │ (<span style=\"color: #00d7ff; text-decoration-color: #00d7ff\">None</span>, <span style=\"color: #00af00; text-decoration-color: #00af00\">10</span>, <span style=\"color: #00af00; text-decoration-color: #00af00\">256</span>)        │             <span style=\"color: #00af00; text-decoration-color: #00af00\">0</span> │\n",
       "│ (<span style=\"color: #0087ff; text-decoration-color: #0087ff\">MaxPooling1D</span>)                  │                        │               │\n",
       "├─────────────────────────────────┼────────────────────────┼───────────────┤\n",
       "│ flatten_45 (<span style=\"color: #0087ff; text-decoration-color: #0087ff\">Flatten</span>)            │ (<span style=\"color: #00d7ff; text-decoration-color: #00d7ff\">None</span>, <span style=\"color: #00af00; text-decoration-color: #00af00\">2560</span>)           │             <span style=\"color: #00af00; text-decoration-color: #00af00\">0</span> │\n",
       "├─────────────────────────────────┼────────────────────────┼───────────────┤\n",
       "│ dense_90 (<span style=\"color: #0087ff; text-decoration-color: #0087ff\">Dense</span>)                │ (<span style=\"color: #00d7ff; text-decoration-color: #00d7ff\">None</span>, <span style=\"color: #00af00; text-decoration-color: #00af00\">128</span>)            │       <span style=\"color: #00af00; text-decoration-color: #00af00\">327,808</span> │\n",
       "├─────────────────────────────────┼────────────────────────┼───────────────┤\n",
       "│ dropout_45 (<span style=\"color: #0087ff; text-decoration-color: #0087ff\">Dropout</span>)            │ (<span style=\"color: #00d7ff; text-decoration-color: #00d7ff\">None</span>, <span style=\"color: #00af00; text-decoration-color: #00af00\">128</span>)            │             <span style=\"color: #00af00; text-decoration-color: #00af00\">0</span> │\n",
       "├─────────────────────────────────┼────────────────────────┼───────────────┤\n",
       "│ dense_91 (<span style=\"color: #0087ff; text-decoration-color: #0087ff\">Dense</span>)                │ (<span style=\"color: #00d7ff; text-decoration-color: #00d7ff\">None</span>, <span style=\"color: #00af00; text-decoration-color: #00af00\">11</span>)             │         <span style=\"color: #00af00; text-decoration-color: #00af00\">1,419</span> │\n",
       "└─────────────────────────────────┴────────────────────────┴───────────────┘\n",
       "</pre>\n"
      ],
      "text/plain": [
       "┏━━━━━━━━━━━━━━━━━━━━━━━━━━━━━━━━━┳━━━━━━━━━━━━━━━━━━━━━━━━┳━━━━━━━━━━━━━━━┓\n",
       "┃\u001b[1m \u001b[0m\u001b[1mLayer (type)                   \u001b[0m\u001b[1m \u001b[0m┃\u001b[1m \u001b[0m\u001b[1mOutput Shape          \u001b[0m\u001b[1m \u001b[0m┃\u001b[1m \u001b[0m\u001b[1m      Param #\u001b[0m\u001b[1m \u001b[0m┃\n",
       "┡━━━━━━━━━━━━━━━━━━━━━━━━━━━━━━━━━╇━━━━━━━━━━━━━━━━━━━━━━━━╇━━━━━━━━━━━━━━━┩\n",
       "│ conv1d_135 (\u001b[38;5;33mConv1D\u001b[0m)             │ (\u001b[38;5;45mNone\u001b[0m, \u001b[38;5;34m98\u001b[0m, \u001b[38;5;34m64\u001b[0m)         │           \u001b[38;5;34m640\u001b[0m │\n",
       "├─────────────────────────────────┼────────────────────────┼───────────────┤\n",
       "│ max_pooling1d_135               │ (\u001b[38;5;45mNone\u001b[0m, \u001b[38;5;34m49\u001b[0m, \u001b[38;5;34m64\u001b[0m)         │             \u001b[38;5;34m0\u001b[0m │\n",
       "│ (\u001b[38;5;33mMaxPooling1D\u001b[0m)                  │                        │               │\n",
       "├─────────────────────────────────┼────────────────────────┼───────────────┤\n",
       "│ conv1d_136 (\u001b[38;5;33mConv1D\u001b[0m)             │ (\u001b[38;5;45mNone\u001b[0m, \u001b[38;5;34m47\u001b[0m, \u001b[38;5;34m128\u001b[0m)        │        \u001b[38;5;34m24,704\u001b[0m │\n",
       "├─────────────────────────────────┼────────────────────────┼───────────────┤\n",
       "│ max_pooling1d_136               │ (\u001b[38;5;45mNone\u001b[0m, \u001b[38;5;34m23\u001b[0m, \u001b[38;5;34m128\u001b[0m)        │             \u001b[38;5;34m0\u001b[0m │\n",
       "│ (\u001b[38;5;33mMaxPooling1D\u001b[0m)                  │                        │               │\n",
       "├─────────────────────────────────┼────────────────────────┼───────────────┤\n",
       "│ conv1d_137 (\u001b[38;5;33mConv1D\u001b[0m)             │ (\u001b[38;5;45mNone\u001b[0m, \u001b[38;5;34m21\u001b[0m, \u001b[38;5;34m256\u001b[0m)        │        \u001b[38;5;34m98,560\u001b[0m │\n",
       "├─────────────────────────────────┼────────────────────────┼───────────────┤\n",
       "│ max_pooling1d_137               │ (\u001b[38;5;45mNone\u001b[0m, \u001b[38;5;34m10\u001b[0m, \u001b[38;5;34m256\u001b[0m)        │             \u001b[38;5;34m0\u001b[0m │\n",
       "│ (\u001b[38;5;33mMaxPooling1D\u001b[0m)                  │                        │               │\n",
       "├─────────────────────────────────┼────────────────────────┼───────────────┤\n",
       "│ flatten_45 (\u001b[38;5;33mFlatten\u001b[0m)            │ (\u001b[38;5;45mNone\u001b[0m, \u001b[38;5;34m2560\u001b[0m)           │             \u001b[38;5;34m0\u001b[0m │\n",
       "├─────────────────────────────────┼────────────────────────┼───────────────┤\n",
       "│ dense_90 (\u001b[38;5;33mDense\u001b[0m)                │ (\u001b[38;5;45mNone\u001b[0m, \u001b[38;5;34m128\u001b[0m)            │       \u001b[38;5;34m327,808\u001b[0m │\n",
       "├─────────────────────────────────┼────────────────────────┼───────────────┤\n",
       "│ dropout_45 (\u001b[38;5;33mDropout\u001b[0m)            │ (\u001b[38;5;45mNone\u001b[0m, \u001b[38;5;34m128\u001b[0m)            │             \u001b[38;5;34m0\u001b[0m │\n",
       "├─────────────────────────────────┼────────────────────────┼───────────────┤\n",
       "│ dense_91 (\u001b[38;5;33mDense\u001b[0m)                │ (\u001b[38;5;45mNone\u001b[0m, \u001b[38;5;34m11\u001b[0m)             │         \u001b[38;5;34m1,419\u001b[0m │\n",
       "└─────────────────────────────────┴────────────────────────┴───────────────┘\n"
      ]
     },
     "metadata": {},
     "output_type": "display_data"
    },
    {
     "data": {
      "text/html": [
       "<pre style=\"white-space:pre;overflow-x:auto;line-height:normal;font-family:Menlo,'DejaVu Sans Mono',consolas,'Courier New',monospace\"><span style=\"font-weight: bold\"> Total params: </span><span style=\"color: #00af00; text-decoration-color: #00af00\">453,131</span> (1.73 MB)\n",
       "</pre>\n"
      ],
      "text/plain": [
       "\u001b[1m Total params: \u001b[0m\u001b[38;5;34m453,131\u001b[0m (1.73 MB)\n"
      ]
     },
     "metadata": {},
     "output_type": "display_data"
    },
    {
     "data": {
      "text/html": [
       "<pre style=\"white-space:pre;overflow-x:auto;line-height:normal;font-family:Menlo,'DejaVu Sans Mono',consolas,'Courier New',monospace\"><span style=\"font-weight: bold\"> Trainable params: </span><span style=\"color: #00af00; text-decoration-color: #00af00\">453,131</span> (1.73 MB)\n",
       "</pre>\n"
      ],
      "text/plain": [
       "\u001b[1m Trainable params: \u001b[0m\u001b[38;5;34m453,131\u001b[0m (1.73 MB)\n"
      ]
     },
     "metadata": {},
     "output_type": "display_data"
    },
    {
     "data": {
      "text/html": [
       "<pre style=\"white-space:pre;overflow-x:auto;line-height:normal;font-family:Menlo,'DejaVu Sans Mono',consolas,'Courier New',monospace\"><span style=\"font-weight: bold\"> Non-trainable params: </span><span style=\"color: #00af00; text-decoration-color: #00af00\">0</span> (0.00 B)\n",
       "</pre>\n"
      ],
      "text/plain": [
       "\u001b[1m Non-trainable params: \u001b[0m\u001b[38;5;34m0\u001b[0m (0.00 B)\n"
      ]
     },
     "metadata": {},
     "output_type": "display_data"
    },
    {
     "name": "stdout",
     "output_type": "stream",
     "text": [
      "Epoch 1/10\n",
      "\u001b[1m930/930\u001b[0m \u001b[32m━━━━━━━━━━━━━━━━━━━━\u001b[0m\u001b[37m\u001b[0m \u001b[1m12s\u001b[0m 12ms/step - accuracy: 0.8501 - loss: 0.5513 - val_accuracy: 0.9195 - val_loss: 0.2651\n",
      "Epoch 2/10\n",
      "\u001b[1m930/930\u001b[0m \u001b[32m━━━━━━━━━━━━━━━━━━━━\u001b[0m\u001b[37m\u001b[0m \u001b[1m11s\u001b[0m 12ms/step - accuracy: 0.9253 - loss: 0.2623 - val_accuracy: 0.9396 - val_loss: 0.2140\n",
      "Epoch 3/10\n",
      "\u001b[1m930/930\u001b[0m \u001b[32m━━━━━━━━━━━━━━━━━━━━\u001b[0m\u001b[37m\u001b[0m \u001b[1m10s\u001b[0m 11ms/step - accuracy: 0.9417 - loss: 0.2081 - val_accuracy: 0.9505 - val_loss: 0.1848\n",
      "Epoch 4/10\n",
      "\u001b[1m930/930\u001b[0m \u001b[32m━━━━━━━━━━━━━━━━━━━━\u001b[0m\u001b[37m\u001b[0m \u001b[1m10s\u001b[0m 11ms/step - accuracy: 0.9505 - loss: 0.1775 - val_accuracy: 0.9542 - val_loss: 0.1747\n",
      "Epoch 5/10\n",
      "\u001b[1m930/930\u001b[0m \u001b[32m━━━━━━━━━━━━━━━━━━━━\u001b[0m\u001b[37m\u001b[0m \u001b[1m10s\u001b[0m 11ms/step - accuracy: 0.9560 - loss: 0.1600 - val_accuracy: 0.9545 - val_loss: 0.1612\n",
      "Epoch 6/10\n",
      "\u001b[1m930/930\u001b[0m \u001b[32m━━━━━━━━━━━━━━━━━━━━\u001b[0m\u001b[37m\u001b[0m \u001b[1m11s\u001b[0m 12ms/step - accuracy: 0.9596 - loss: 0.1464 - val_accuracy: 0.9591 - val_loss: 0.1498\n",
      "Epoch 7/10\n",
      "\u001b[1m930/930\u001b[0m \u001b[32m━━━━━━━━━━━━━━━━━━━━\u001b[0m\u001b[37m\u001b[0m \u001b[1m11s\u001b[0m 12ms/step - accuracy: 0.9598 - loss: 0.1449 - val_accuracy: 0.9611 - val_loss: 0.1484\n",
      "Epoch 8/10\n",
      "\u001b[1m930/930\u001b[0m \u001b[32m━━━━━━━━━━━━━━━━━━━━\u001b[0m\u001b[37m\u001b[0m \u001b[1m11s\u001b[0m 12ms/step - accuracy: 0.9633 - loss: 0.1292 - val_accuracy: 0.9600 - val_loss: 0.1382\n",
      "Epoch 9/10\n",
      "\u001b[1m930/930\u001b[0m \u001b[32m━━━━━━━━━━━━━━━━━━━━\u001b[0m\u001b[37m\u001b[0m \u001b[1m11s\u001b[0m 11ms/step - accuracy: 0.9665 - loss: 0.1190 - val_accuracy: 0.9660 - val_loss: 0.1299\n",
      "Epoch 10/10\n",
      "\u001b[1m930/930\u001b[0m \u001b[32m━━━━━━━━━━━━━━━━━━━━\u001b[0m\u001b[37m\u001b[0m \u001b[1m11s\u001b[0m 12ms/step - accuracy: 0.9676 - loss: 0.1169 - val_accuracy: 0.9640 - val_loss: 0.1335\n",
      "\u001b[1m465/465\u001b[0m \u001b[32m━━━━━━━━━━━━━━━━━━━━\u001b[0m\u001b[37m\u001b[0m \u001b[1m2s\u001b[0m 4ms/step\n",
      "Completed training and evaluation for fold 1\n",
      "Recall for class 0 after fold 1: 0.9062\n",
      "Recall for class 1 after fold 1: 0.8923\n",
      "Recall for class 2 after fold 1: 0.9849\n",
      "Recall for class 3 after fold 1: 0.7988\n",
      "Recall for class 4 after fold 1: 0.9065\n",
      "Recall for class 5 after fold 1: 0.9655\n",
      "Recall for class 6 after fold 1: 0.9584\n",
      "Recall for class 7 after fold 1: 0.9515\n",
      "Recall for class 8 after fold 1: 0.9850\n",
      "Recall for class 9 after fold 1: 0.9665\n",
      "Recall for class 10 after fold 1: 0.9915\n",
      "Training activity model for fold 2\n"
     ]
    },
    {
     "name": "stderr",
     "output_type": "stream",
     "text": [
      "c:\\Users\\seanc\\miniconda3\\envs\\pdiot\\Lib\\site-packages\\keras\\src\\layers\\convolutional\\base_conv.py:107: UserWarning: Do not pass an `input_shape`/`input_dim` argument to a layer. When using Sequential models, prefer using an `Input(shape)` object as the first layer in the model instead.\n",
      "  super().__init__(activity_regularizer=activity_regularizer, **kwargs)\n"
     ]
    },
    {
     "data": {
      "text/html": [
       "<pre style=\"white-space:pre;overflow-x:auto;line-height:normal;font-family:Menlo,'DejaVu Sans Mono',consolas,'Courier New',monospace\"><span style=\"font-weight: bold\">Model: \"sequential_46\"</span>\n",
       "</pre>\n"
      ],
      "text/plain": [
       "\u001b[1mModel: \"sequential_46\"\u001b[0m\n"
      ]
     },
     "metadata": {},
     "output_type": "display_data"
    },
    {
     "data": {
      "text/html": [
       "<pre style=\"white-space:pre;overflow-x:auto;line-height:normal;font-family:Menlo,'DejaVu Sans Mono',consolas,'Courier New',monospace\">┏━━━━━━━━━━━━━━━━━━━━━━━━━━━━━━━━━┳━━━━━━━━━━━━━━━━━━━━━━━━┳━━━━━━━━━━━━━━━┓\n",
       "┃<span style=\"font-weight: bold\"> Layer (type)                    </span>┃<span style=\"font-weight: bold\"> Output Shape           </span>┃<span style=\"font-weight: bold\">       Param # </span>┃\n",
       "┡━━━━━━━━━━━━━━━━━━━━━━━━━━━━━━━━━╇━━━━━━━━━━━━━━━━━━━━━━━━╇━━━━━━━━━━━━━━━┩\n",
       "│ conv1d_138 (<span style=\"color: #0087ff; text-decoration-color: #0087ff\">Conv1D</span>)             │ (<span style=\"color: #00d7ff; text-decoration-color: #00d7ff\">None</span>, <span style=\"color: #00af00; text-decoration-color: #00af00\">98</span>, <span style=\"color: #00af00; text-decoration-color: #00af00\">64</span>)         │           <span style=\"color: #00af00; text-decoration-color: #00af00\">640</span> │\n",
       "├─────────────────────────────────┼────────────────────────┼───────────────┤\n",
       "│ max_pooling1d_138               │ (<span style=\"color: #00d7ff; text-decoration-color: #00d7ff\">None</span>, <span style=\"color: #00af00; text-decoration-color: #00af00\">49</span>, <span style=\"color: #00af00; text-decoration-color: #00af00\">64</span>)         │             <span style=\"color: #00af00; text-decoration-color: #00af00\">0</span> │\n",
       "│ (<span style=\"color: #0087ff; text-decoration-color: #0087ff\">MaxPooling1D</span>)                  │                        │               │\n",
       "├─────────────────────────────────┼────────────────────────┼───────────────┤\n",
       "│ conv1d_139 (<span style=\"color: #0087ff; text-decoration-color: #0087ff\">Conv1D</span>)             │ (<span style=\"color: #00d7ff; text-decoration-color: #00d7ff\">None</span>, <span style=\"color: #00af00; text-decoration-color: #00af00\">47</span>, <span style=\"color: #00af00; text-decoration-color: #00af00\">128</span>)        │        <span style=\"color: #00af00; text-decoration-color: #00af00\">24,704</span> │\n",
       "├─────────────────────────────────┼────────────────────────┼───────────────┤\n",
       "│ max_pooling1d_139               │ (<span style=\"color: #00d7ff; text-decoration-color: #00d7ff\">None</span>, <span style=\"color: #00af00; text-decoration-color: #00af00\">23</span>, <span style=\"color: #00af00; text-decoration-color: #00af00\">128</span>)        │             <span style=\"color: #00af00; text-decoration-color: #00af00\">0</span> │\n",
       "│ (<span style=\"color: #0087ff; text-decoration-color: #0087ff\">MaxPooling1D</span>)                  │                        │               │\n",
       "├─────────────────────────────────┼────────────────────────┼───────────────┤\n",
       "│ conv1d_140 (<span style=\"color: #0087ff; text-decoration-color: #0087ff\">Conv1D</span>)             │ (<span style=\"color: #00d7ff; text-decoration-color: #00d7ff\">None</span>, <span style=\"color: #00af00; text-decoration-color: #00af00\">21</span>, <span style=\"color: #00af00; text-decoration-color: #00af00\">256</span>)        │        <span style=\"color: #00af00; text-decoration-color: #00af00\">98,560</span> │\n",
       "├─────────────────────────────────┼────────────────────────┼───────────────┤\n",
       "│ max_pooling1d_140               │ (<span style=\"color: #00d7ff; text-decoration-color: #00d7ff\">None</span>, <span style=\"color: #00af00; text-decoration-color: #00af00\">10</span>, <span style=\"color: #00af00; text-decoration-color: #00af00\">256</span>)        │             <span style=\"color: #00af00; text-decoration-color: #00af00\">0</span> │\n",
       "│ (<span style=\"color: #0087ff; text-decoration-color: #0087ff\">MaxPooling1D</span>)                  │                        │               │\n",
       "├─────────────────────────────────┼────────────────────────┼───────────────┤\n",
       "│ flatten_46 (<span style=\"color: #0087ff; text-decoration-color: #0087ff\">Flatten</span>)            │ (<span style=\"color: #00d7ff; text-decoration-color: #00d7ff\">None</span>, <span style=\"color: #00af00; text-decoration-color: #00af00\">2560</span>)           │             <span style=\"color: #00af00; text-decoration-color: #00af00\">0</span> │\n",
       "├─────────────────────────────────┼────────────────────────┼───────────────┤\n",
       "│ dense_92 (<span style=\"color: #0087ff; text-decoration-color: #0087ff\">Dense</span>)                │ (<span style=\"color: #00d7ff; text-decoration-color: #00d7ff\">None</span>, <span style=\"color: #00af00; text-decoration-color: #00af00\">128</span>)            │       <span style=\"color: #00af00; text-decoration-color: #00af00\">327,808</span> │\n",
       "├─────────────────────────────────┼────────────────────────┼───────────────┤\n",
       "│ dropout_46 (<span style=\"color: #0087ff; text-decoration-color: #0087ff\">Dropout</span>)            │ (<span style=\"color: #00d7ff; text-decoration-color: #00d7ff\">None</span>, <span style=\"color: #00af00; text-decoration-color: #00af00\">128</span>)            │             <span style=\"color: #00af00; text-decoration-color: #00af00\">0</span> │\n",
       "├─────────────────────────────────┼────────────────────────┼───────────────┤\n",
       "│ dense_93 (<span style=\"color: #0087ff; text-decoration-color: #0087ff\">Dense</span>)                │ (<span style=\"color: #00d7ff; text-decoration-color: #00d7ff\">None</span>, <span style=\"color: #00af00; text-decoration-color: #00af00\">11</span>)             │         <span style=\"color: #00af00; text-decoration-color: #00af00\">1,419</span> │\n",
       "└─────────────────────────────────┴────────────────────────┴───────────────┘\n",
       "</pre>\n"
      ],
      "text/plain": [
       "┏━━━━━━━━━━━━━━━━━━━━━━━━━━━━━━━━━┳━━━━━━━━━━━━━━━━━━━━━━━━┳━━━━━━━━━━━━━━━┓\n",
       "┃\u001b[1m \u001b[0m\u001b[1mLayer (type)                   \u001b[0m\u001b[1m \u001b[0m┃\u001b[1m \u001b[0m\u001b[1mOutput Shape          \u001b[0m\u001b[1m \u001b[0m┃\u001b[1m \u001b[0m\u001b[1m      Param #\u001b[0m\u001b[1m \u001b[0m┃\n",
       "┡━━━━━━━━━━━━━━━━━━━━━━━━━━━━━━━━━╇━━━━━━━━━━━━━━━━━━━━━━━━╇━━━━━━━━━━━━━━━┩\n",
       "│ conv1d_138 (\u001b[38;5;33mConv1D\u001b[0m)             │ (\u001b[38;5;45mNone\u001b[0m, \u001b[38;5;34m98\u001b[0m, \u001b[38;5;34m64\u001b[0m)         │           \u001b[38;5;34m640\u001b[0m │\n",
       "├─────────────────────────────────┼────────────────────────┼───────────────┤\n",
       "│ max_pooling1d_138               │ (\u001b[38;5;45mNone\u001b[0m, \u001b[38;5;34m49\u001b[0m, \u001b[38;5;34m64\u001b[0m)         │             \u001b[38;5;34m0\u001b[0m │\n",
       "│ (\u001b[38;5;33mMaxPooling1D\u001b[0m)                  │                        │               │\n",
       "├─────────────────────────────────┼────────────────────────┼───────────────┤\n",
       "│ conv1d_139 (\u001b[38;5;33mConv1D\u001b[0m)             │ (\u001b[38;5;45mNone\u001b[0m, \u001b[38;5;34m47\u001b[0m, \u001b[38;5;34m128\u001b[0m)        │        \u001b[38;5;34m24,704\u001b[0m │\n",
       "├─────────────────────────────────┼────────────────────────┼───────────────┤\n",
       "│ max_pooling1d_139               │ (\u001b[38;5;45mNone\u001b[0m, \u001b[38;5;34m23\u001b[0m, \u001b[38;5;34m128\u001b[0m)        │             \u001b[38;5;34m0\u001b[0m │\n",
       "│ (\u001b[38;5;33mMaxPooling1D\u001b[0m)                  │                        │               │\n",
       "├─────────────────────────────────┼────────────────────────┼───────────────┤\n",
       "│ conv1d_140 (\u001b[38;5;33mConv1D\u001b[0m)             │ (\u001b[38;5;45mNone\u001b[0m, \u001b[38;5;34m21\u001b[0m, \u001b[38;5;34m256\u001b[0m)        │        \u001b[38;5;34m98,560\u001b[0m │\n",
       "├─────────────────────────────────┼────────────────────────┼───────────────┤\n",
       "│ max_pooling1d_140               │ (\u001b[38;5;45mNone\u001b[0m, \u001b[38;5;34m10\u001b[0m, \u001b[38;5;34m256\u001b[0m)        │             \u001b[38;5;34m0\u001b[0m │\n",
       "│ (\u001b[38;5;33mMaxPooling1D\u001b[0m)                  │                        │               │\n",
       "├─────────────────────────────────┼────────────────────────┼───────────────┤\n",
       "│ flatten_46 (\u001b[38;5;33mFlatten\u001b[0m)            │ (\u001b[38;5;45mNone\u001b[0m, \u001b[38;5;34m2560\u001b[0m)           │             \u001b[38;5;34m0\u001b[0m │\n",
       "├─────────────────────────────────┼────────────────────────┼───────────────┤\n",
       "│ dense_92 (\u001b[38;5;33mDense\u001b[0m)                │ (\u001b[38;5;45mNone\u001b[0m, \u001b[38;5;34m128\u001b[0m)            │       \u001b[38;5;34m327,808\u001b[0m │\n",
       "├─────────────────────────────────┼────────────────────────┼───────────────┤\n",
       "│ dropout_46 (\u001b[38;5;33mDropout\u001b[0m)            │ (\u001b[38;5;45mNone\u001b[0m, \u001b[38;5;34m128\u001b[0m)            │             \u001b[38;5;34m0\u001b[0m │\n",
       "├─────────────────────────────────┼────────────────────────┼───────────────┤\n",
       "│ dense_93 (\u001b[38;5;33mDense\u001b[0m)                │ (\u001b[38;5;45mNone\u001b[0m, \u001b[38;5;34m11\u001b[0m)             │         \u001b[38;5;34m1,419\u001b[0m │\n",
       "└─────────────────────────────────┴────────────────────────┴───────────────┘\n"
      ]
     },
     "metadata": {},
     "output_type": "display_data"
    },
    {
     "data": {
      "text/html": [
       "<pre style=\"white-space:pre;overflow-x:auto;line-height:normal;font-family:Menlo,'DejaVu Sans Mono',consolas,'Courier New',monospace\"><span style=\"font-weight: bold\"> Total params: </span><span style=\"color: #00af00; text-decoration-color: #00af00\">453,131</span> (1.73 MB)\n",
       "</pre>\n"
      ],
      "text/plain": [
       "\u001b[1m Total params: \u001b[0m\u001b[38;5;34m453,131\u001b[0m (1.73 MB)\n"
      ]
     },
     "metadata": {},
     "output_type": "display_data"
    },
    {
     "data": {
      "text/html": [
       "<pre style=\"white-space:pre;overflow-x:auto;line-height:normal;font-family:Menlo,'DejaVu Sans Mono',consolas,'Courier New',monospace\"><span style=\"font-weight: bold\"> Trainable params: </span><span style=\"color: #00af00; text-decoration-color: #00af00\">453,131</span> (1.73 MB)\n",
       "</pre>\n"
      ],
      "text/plain": [
       "\u001b[1m Trainable params: \u001b[0m\u001b[38;5;34m453,131\u001b[0m (1.73 MB)\n"
      ]
     },
     "metadata": {},
     "output_type": "display_data"
    },
    {
     "data": {
      "text/html": [
       "<pre style=\"white-space:pre;overflow-x:auto;line-height:normal;font-family:Menlo,'DejaVu Sans Mono',consolas,'Courier New',monospace\"><span style=\"font-weight: bold\"> Non-trainable params: </span><span style=\"color: #00af00; text-decoration-color: #00af00\">0</span> (0.00 B)\n",
       "</pre>\n"
      ],
      "text/plain": [
       "\u001b[1m Non-trainable params: \u001b[0m\u001b[38;5;34m0\u001b[0m (0.00 B)\n"
      ]
     },
     "metadata": {},
     "output_type": "display_data"
    },
    {
     "name": "stdout",
     "output_type": "stream",
     "text": [
      "Epoch 1/10\n",
      "\u001b[1m930/930\u001b[0m \u001b[32m━━━━━━━━━━━━━━━━━━━━\u001b[0m\u001b[37m\u001b[0m \u001b[1m12s\u001b[0m 12ms/step - accuracy: 0.8580 - loss: 0.5570 - val_accuracy: 0.9207 - val_loss: 0.2692\n",
      "Epoch 2/10\n",
      "\u001b[1m930/930\u001b[0m \u001b[32m━━━━━━━━━━━━━━━━━━━━\u001b[0m\u001b[37m\u001b[0m \u001b[1m12s\u001b[0m 12ms/step - accuracy: 0.9252 - loss: 0.2675 - val_accuracy: 0.9373 - val_loss: 0.2237\n",
      "Epoch 3/10\n",
      "\u001b[1m930/930\u001b[0m \u001b[32m━━━━━━━━━━━━━━━━━━━━\u001b[0m\u001b[37m\u001b[0m \u001b[1m11s\u001b[0m 11ms/step - accuracy: 0.9397 - loss: 0.2176 - val_accuracy: 0.9525 - val_loss: 0.1761\n",
      "Epoch 4/10\n",
      "\u001b[1m930/930\u001b[0m \u001b[32m━━━━━━━━━━━━━━━━━━━━\u001b[0m\u001b[37m\u001b[0m \u001b[1m11s\u001b[0m 11ms/step - accuracy: 0.9484 - loss: 0.1882 - val_accuracy: 0.9504 - val_loss: 0.1760\n",
      "Epoch 5/10\n",
      "\u001b[1m930/930\u001b[0m \u001b[32m━━━━━━━━━━━━━━━━━━━━\u001b[0m\u001b[37m\u001b[0m \u001b[1m10s\u001b[0m 11ms/step - accuracy: 0.9529 - loss: 0.1706 - val_accuracy: 0.9509 - val_loss: 0.1697\n",
      "Epoch 6/10\n",
      "\u001b[1m930/930\u001b[0m \u001b[32m━━━━━━━━━━━━━━━━━━━━\u001b[0m\u001b[37m\u001b[0m \u001b[1m10s\u001b[0m 11ms/step - accuracy: 0.9563 - loss: 0.1579 - val_accuracy: 0.9554 - val_loss: 0.1543\n",
      "Epoch 7/10\n",
      "\u001b[1m930/930\u001b[0m \u001b[32m━━━━━━━━━━━━━━━━━━━━\u001b[0m\u001b[37m\u001b[0m \u001b[1m11s\u001b[0m 12ms/step - accuracy: 0.9609 - loss: 0.1410 - val_accuracy: 0.9601 - val_loss: 0.1428\n",
      "Epoch 8/10\n",
      "\u001b[1m930/930\u001b[0m \u001b[32m━━━━━━━━━━━━━━━━━━━━\u001b[0m\u001b[37m\u001b[0m \u001b[1m10s\u001b[0m 11ms/step - accuracy: 0.9635 - loss: 0.1305 - val_accuracy: 0.9628 - val_loss: 0.1328\n",
      "Epoch 9/10\n",
      "\u001b[1m930/930\u001b[0m \u001b[32m━━━━━━━━━━━━━━━━━━━━\u001b[0m\u001b[37m\u001b[0m \u001b[1m11s\u001b[0m 12ms/step - accuracy: 0.9670 - loss: 0.1228 - val_accuracy: 0.9670 - val_loss: 0.1206\n",
      "Epoch 10/10\n",
      "\u001b[1m930/930\u001b[0m \u001b[32m━━━━━━━━━━━━━━━━━━━━\u001b[0m\u001b[37m\u001b[0m \u001b[1m11s\u001b[0m 12ms/step - accuracy: 0.9681 - loss: 0.1151 - val_accuracy: 0.9661 - val_loss: 0.1254\n",
      "\u001b[1m465/465\u001b[0m \u001b[32m━━━━━━━━━━━━━━━━━━━━\u001b[0m\u001b[37m\u001b[0m \u001b[1m2s\u001b[0m 4ms/step\n",
      "Completed training and evaluation for fold 2\n",
      "Recall for class 0 after fold 2: 0.9395\n",
      "Recall for class 1 after fold 2: 0.7963\n",
      "Recall for class 2 after fold 2: 0.9890\n",
      "Recall for class 3 after fold 2: 0.8618\n",
      "Recall for class 4 after fold 2: 0.9062\n",
      "Recall for class 5 after fold 2: 0.9718\n",
      "Recall for class 6 after fold 2: 0.9585\n",
      "Recall for class 7 after fold 2: 0.9635\n",
      "Recall for class 8 after fold 2: 0.9761\n",
      "Recall for class 9 after fold 2: 0.9472\n",
      "Recall for class 10 after fold 2: 0.9936\n",
      "Training activity model for fold 3\n"
     ]
    },
    {
     "name": "stderr",
     "output_type": "stream",
     "text": [
      "c:\\Users\\seanc\\miniconda3\\envs\\pdiot\\Lib\\site-packages\\keras\\src\\layers\\convolutional\\base_conv.py:107: UserWarning: Do not pass an `input_shape`/`input_dim` argument to a layer. When using Sequential models, prefer using an `Input(shape)` object as the first layer in the model instead.\n",
      "  super().__init__(activity_regularizer=activity_regularizer, **kwargs)\n"
     ]
    },
    {
     "data": {
      "text/html": [
       "<pre style=\"white-space:pre;overflow-x:auto;line-height:normal;font-family:Menlo,'DejaVu Sans Mono',consolas,'Courier New',monospace\"><span style=\"font-weight: bold\">Model: \"sequential_47\"</span>\n",
       "</pre>\n"
      ],
      "text/plain": [
       "\u001b[1mModel: \"sequential_47\"\u001b[0m\n"
      ]
     },
     "metadata": {},
     "output_type": "display_data"
    },
    {
     "data": {
      "text/html": [
       "<pre style=\"white-space:pre;overflow-x:auto;line-height:normal;font-family:Menlo,'DejaVu Sans Mono',consolas,'Courier New',monospace\">┏━━━━━━━━━━━━━━━━━━━━━━━━━━━━━━━━━┳━━━━━━━━━━━━━━━━━━━━━━━━┳━━━━━━━━━━━━━━━┓\n",
       "┃<span style=\"font-weight: bold\"> Layer (type)                    </span>┃<span style=\"font-weight: bold\"> Output Shape           </span>┃<span style=\"font-weight: bold\">       Param # </span>┃\n",
       "┡━━━━━━━━━━━━━━━━━━━━━━━━━━━━━━━━━╇━━━━━━━━━━━━━━━━━━━━━━━━╇━━━━━━━━━━━━━━━┩\n",
       "│ conv1d_141 (<span style=\"color: #0087ff; text-decoration-color: #0087ff\">Conv1D</span>)             │ (<span style=\"color: #00d7ff; text-decoration-color: #00d7ff\">None</span>, <span style=\"color: #00af00; text-decoration-color: #00af00\">98</span>, <span style=\"color: #00af00; text-decoration-color: #00af00\">64</span>)         │           <span style=\"color: #00af00; text-decoration-color: #00af00\">640</span> │\n",
       "├─────────────────────────────────┼────────────────────────┼───────────────┤\n",
       "│ max_pooling1d_141               │ (<span style=\"color: #00d7ff; text-decoration-color: #00d7ff\">None</span>, <span style=\"color: #00af00; text-decoration-color: #00af00\">49</span>, <span style=\"color: #00af00; text-decoration-color: #00af00\">64</span>)         │             <span style=\"color: #00af00; text-decoration-color: #00af00\">0</span> │\n",
       "│ (<span style=\"color: #0087ff; text-decoration-color: #0087ff\">MaxPooling1D</span>)                  │                        │               │\n",
       "├─────────────────────────────────┼────────────────────────┼───────────────┤\n",
       "│ conv1d_142 (<span style=\"color: #0087ff; text-decoration-color: #0087ff\">Conv1D</span>)             │ (<span style=\"color: #00d7ff; text-decoration-color: #00d7ff\">None</span>, <span style=\"color: #00af00; text-decoration-color: #00af00\">47</span>, <span style=\"color: #00af00; text-decoration-color: #00af00\">128</span>)        │        <span style=\"color: #00af00; text-decoration-color: #00af00\">24,704</span> │\n",
       "├─────────────────────────────────┼────────────────────────┼───────────────┤\n",
       "│ max_pooling1d_142               │ (<span style=\"color: #00d7ff; text-decoration-color: #00d7ff\">None</span>, <span style=\"color: #00af00; text-decoration-color: #00af00\">23</span>, <span style=\"color: #00af00; text-decoration-color: #00af00\">128</span>)        │             <span style=\"color: #00af00; text-decoration-color: #00af00\">0</span> │\n",
       "│ (<span style=\"color: #0087ff; text-decoration-color: #0087ff\">MaxPooling1D</span>)                  │                        │               │\n",
       "├─────────────────────────────────┼────────────────────────┼───────────────┤\n",
       "│ conv1d_143 (<span style=\"color: #0087ff; text-decoration-color: #0087ff\">Conv1D</span>)             │ (<span style=\"color: #00d7ff; text-decoration-color: #00d7ff\">None</span>, <span style=\"color: #00af00; text-decoration-color: #00af00\">21</span>, <span style=\"color: #00af00; text-decoration-color: #00af00\">256</span>)        │        <span style=\"color: #00af00; text-decoration-color: #00af00\">98,560</span> │\n",
       "├─────────────────────────────────┼────────────────────────┼───────────────┤\n",
       "│ max_pooling1d_143               │ (<span style=\"color: #00d7ff; text-decoration-color: #00d7ff\">None</span>, <span style=\"color: #00af00; text-decoration-color: #00af00\">10</span>, <span style=\"color: #00af00; text-decoration-color: #00af00\">256</span>)        │             <span style=\"color: #00af00; text-decoration-color: #00af00\">0</span> │\n",
       "│ (<span style=\"color: #0087ff; text-decoration-color: #0087ff\">MaxPooling1D</span>)                  │                        │               │\n",
       "├─────────────────────────────────┼────────────────────────┼───────────────┤\n",
       "│ flatten_47 (<span style=\"color: #0087ff; text-decoration-color: #0087ff\">Flatten</span>)            │ (<span style=\"color: #00d7ff; text-decoration-color: #00d7ff\">None</span>, <span style=\"color: #00af00; text-decoration-color: #00af00\">2560</span>)           │             <span style=\"color: #00af00; text-decoration-color: #00af00\">0</span> │\n",
       "├─────────────────────────────────┼────────────────────────┼───────────────┤\n",
       "│ dense_94 (<span style=\"color: #0087ff; text-decoration-color: #0087ff\">Dense</span>)                │ (<span style=\"color: #00d7ff; text-decoration-color: #00d7ff\">None</span>, <span style=\"color: #00af00; text-decoration-color: #00af00\">128</span>)            │       <span style=\"color: #00af00; text-decoration-color: #00af00\">327,808</span> │\n",
       "├─────────────────────────────────┼────────────────────────┼───────────────┤\n",
       "│ dropout_47 (<span style=\"color: #0087ff; text-decoration-color: #0087ff\">Dropout</span>)            │ (<span style=\"color: #00d7ff; text-decoration-color: #00d7ff\">None</span>, <span style=\"color: #00af00; text-decoration-color: #00af00\">128</span>)            │             <span style=\"color: #00af00; text-decoration-color: #00af00\">0</span> │\n",
       "├─────────────────────────────────┼────────────────────────┼───────────────┤\n",
       "│ dense_95 (<span style=\"color: #0087ff; text-decoration-color: #0087ff\">Dense</span>)                │ (<span style=\"color: #00d7ff; text-decoration-color: #00d7ff\">None</span>, <span style=\"color: #00af00; text-decoration-color: #00af00\">11</span>)             │         <span style=\"color: #00af00; text-decoration-color: #00af00\">1,419</span> │\n",
       "└─────────────────────────────────┴────────────────────────┴───────────────┘\n",
       "</pre>\n"
      ],
      "text/plain": [
       "┏━━━━━━━━━━━━━━━━━━━━━━━━━━━━━━━━━┳━━━━━━━━━━━━━━━━━━━━━━━━┳━━━━━━━━━━━━━━━┓\n",
       "┃\u001b[1m \u001b[0m\u001b[1mLayer (type)                   \u001b[0m\u001b[1m \u001b[0m┃\u001b[1m \u001b[0m\u001b[1mOutput Shape          \u001b[0m\u001b[1m \u001b[0m┃\u001b[1m \u001b[0m\u001b[1m      Param #\u001b[0m\u001b[1m \u001b[0m┃\n",
       "┡━━━━━━━━━━━━━━━━━━━━━━━━━━━━━━━━━╇━━━━━━━━━━━━━━━━━━━━━━━━╇━━━━━━━━━━━━━━━┩\n",
       "│ conv1d_141 (\u001b[38;5;33mConv1D\u001b[0m)             │ (\u001b[38;5;45mNone\u001b[0m, \u001b[38;5;34m98\u001b[0m, \u001b[38;5;34m64\u001b[0m)         │           \u001b[38;5;34m640\u001b[0m │\n",
       "├─────────────────────────────────┼────────────────────────┼───────────────┤\n",
       "│ max_pooling1d_141               │ (\u001b[38;5;45mNone\u001b[0m, \u001b[38;5;34m49\u001b[0m, \u001b[38;5;34m64\u001b[0m)         │             \u001b[38;5;34m0\u001b[0m │\n",
       "│ (\u001b[38;5;33mMaxPooling1D\u001b[0m)                  │                        │               │\n",
       "├─────────────────────────────────┼────────────────────────┼───────────────┤\n",
       "│ conv1d_142 (\u001b[38;5;33mConv1D\u001b[0m)             │ (\u001b[38;5;45mNone\u001b[0m, \u001b[38;5;34m47\u001b[0m, \u001b[38;5;34m128\u001b[0m)        │        \u001b[38;5;34m24,704\u001b[0m │\n",
       "├─────────────────────────────────┼────────────────────────┼───────────────┤\n",
       "│ max_pooling1d_142               │ (\u001b[38;5;45mNone\u001b[0m, \u001b[38;5;34m23\u001b[0m, \u001b[38;5;34m128\u001b[0m)        │             \u001b[38;5;34m0\u001b[0m │\n",
       "│ (\u001b[38;5;33mMaxPooling1D\u001b[0m)                  │                        │               │\n",
       "├─────────────────────────────────┼────────────────────────┼───────────────┤\n",
       "│ conv1d_143 (\u001b[38;5;33mConv1D\u001b[0m)             │ (\u001b[38;5;45mNone\u001b[0m, \u001b[38;5;34m21\u001b[0m, \u001b[38;5;34m256\u001b[0m)        │        \u001b[38;5;34m98,560\u001b[0m │\n",
       "├─────────────────────────────────┼────────────────────────┼───────────────┤\n",
       "│ max_pooling1d_143               │ (\u001b[38;5;45mNone\u001b[0m, \u001b[38;5;34m10\u001b[0m, \u001b[38;5;34m256\u001b[0m)        │             \u001b[38;5;34m0\u001b[0m │\n",
       "│ (\u001b[38;5;33mMaxPooling1D\u001b[0m)                  │                        │               │\n",
       "├─────────────────────────────────┼────────────────────────┼───────────────┤\n",
       "│ flatten_47 (\u001b[38;5;33mFlatten\u001b[0m)            │ (\u001b[38;5;45mNone\u001b[0m, \u001b[38;5;34m2560\u001b[0m)           │             \u001b[38;5;34m0\u001b[0m │\n",
       "├─────────────────────────────────┼────────────────────────┼───────────────┤\n",
       "│ dense_94 (\u001b[38;5;33mDense\u001b[0m)                │ (\u001b[38;5;45mNone\u001b[0m, \u001b[38;5;34m128\u001b[0m)            │       \u001b[38;5;34m327,808\u001b[0m │\n",
       "├─────────────────────────────────┼────────────────────────┼───────────────┤\n",
       "│ dropout_47 (\u001b[38;5;33mDropout\u001b[0m)            │ (\u001b[38;5;45mNone\u001b[0m, \u001b[38;5;34m128\u001b[0m)            │             \u001b[38;5;34m0\u001b[0m │\n",
       "├─────────────────────────────────┼────────────────────────┼───────────────┤\n",
       "│ dense_95 (\u001b[38;5;33mDense\u001b[0m)                │ (\u001b[38;5;45mNone\u001b[0m, \u001b[38;5;34m11\u001b[0m)             │         \u001b[38;5;34m1,419\u001b[0m │\n",
       "└─────────────────────────────────┴────────────────────────┴───────────────┘\n"
      ]
     },
     "metadata": {},
     "output_type": "display_data"
    },
    {
     "data": {
      "text/html": [
       "<pre style=\"white-space:pre;overflow-x:auto;line-height:normal;font-family:Menlo,'DejaVu Sans Mono',consolas,'Courier New',monospace\"><span style=\"font-weight: bold\"> Total params: </span><span style=\"color: #00af00; text-decoration-color: #00af00\">453,131</span> (1.73 MB)\n",
       "</pre>\n"
      ],
      "text/plain": [
       "\u001b[1m Total params: \u001b[0m\u001b[38;5;34m453,131\u001b[0m (1.73 MB)\n"
      ]
     },
     "metadata": {},
     "output_type": "display_data"
    },
    {
     "data": {
      "text/html": [
       "<pre style=\"white-space:pre;overflow-x:auto;line-height:normal;font-family:Menlo,'DejaVu Sans Mono',consolas,'Courier New',monospace\"><span style=\"font-weight: bold\"> Trainable params: </span><span style=\"color: #00af00; text-decoration-color: #00af00\">453,131</span> (1.73 MB)\n",
       "</pre>\n"
      ],
      "text/plain": [
       "\u001b[1m Trainable params: \u001b[0m\u001b[38;5;34m453,131\u001b[0m (1.73 MB)\n"
      ]
     },
     "metadata": {},
     "output_type": "display_data"
    },
    {
     "data": {
      "text/html": [
       "<pre style=\"white-space:pre;overflow-x:auto;line-height:normal;font-family:Menlo,'DejaVu Sans Mono',consolas,'Courier New',monospace\"><span style=\"font-weight: bold\"> Non-trainable params: </span><span style=\"color: #00af00; text-decoration-color: #00af00\">0</span> (0.00 B)\n",
       "</pre>\n"
      ],
      "text/plain": [
       "\u001b[1m Non-trainable params: \u001b[0m\u001b[38;5;34m0\u001b[0m (0.00 B)\n"
      ]
     },
     "metadata": {},
     "output_type": "display_data"
    },
    {
     "name": "stdout",
     "output_type": "stream",
     "text": [
      "Epoch 1/10\n",
      "\u001b[1m930/930\u001b[0m \u001b[32m━━━━━━━━━━━━━━━━━━━━\u001b[0m\u001b[37m\u001b[0m \u001b[1m12s\u001b[0m 11ms/step - accuracy: 0.8533 - loss: 0.5506 - val_accuracy: 0.9095 - val_loss: 0.2855\n",
      "Epoch 2/10\n",
      "\u001b[1m930/930\u001b[0m \u001b[32m━━━━━━━━━━━━━━━━━━━━\u001b[0m\u001b[37m\u001b[0m \u001b[1m10s\u001b[0m 11ms/step - accuracy: 0.9217 - loss: 0.2767 - val_accuracy: 0.9341 - val_loss: 0.2258\n",
      "Epoch 3/10\n",
      "\u001b[1m930/930\u001b[0m \u001b[32m━━━━━━━━━━━━━━━━━━━━\u001b[0m\u001b[37m\u001b[0m \u001b[1m10s\u001b[0m 11ms/step - accuracy: 0.9416 - loss: 0.2170 - val_accuracy: 0.9419 - val_loss: 0.2063\n",
      "Epoch 4/10\n",
      "\u001b[1m930/930\u001b[0m \u001b[32m━━━━━━━━━━━━━━━━━━━━\u001b[0m\u001b[37m\u001b[0m \u001b[1m11s\u001b[0m 11ms/step - accuracy: 0.9498 - loss: 0.1839 - val_accuracy: 0.9490 - val_loss: 0.1769\n",
      "Epoch 5/10\n",
      "\u001b[1m930/930\u001b[0m \u001b[32m━━━━━━━━━━━━━━━━━━━━\u001b[0m\u001b[37m\u001b[0m \u001b[1m10s\u001b[0m 11ms/step - accuracy: 0.9560 - loss: 0.1629 - val_accuracy: 0.9507 - val_loss: 0.1762\n",
      "Epoch 6/10\n",
      "\u001b[1m930/930\u001b[0m \u001b[32m━━━━━━━━━━━━━━━━━━━━\u001b[0m\u001b[37m\u001b[0m \u001b[1m11s\u001b[0m 11ms/step - accuracy: 0.9576 - loss: 0.1548 - val_accuracy: 0.9552 - val_loss: 0.1628\n",
      "Epoch 7/10\n",
      "\u001b[1m930/930\u001b[0m \u001b[32m━━━━━━━━━━━━━━━━━━━━\u001b[0m\u001b[37m\u001b[0m \u001b[1m11s\u001b[0m 11ms/step - accuracy: 0.9606 - loss: 0.1414 - val_accuracy: 0.9531 - val_loss: 0.1630\n",
      "Epoch 8/10\n",
      "\u001b[1m930/930\u001b[0m \u001b[32m━━━━━━━━━━━━━━━━━━━━\u001b[0m\u001b[37m\u001b[0m \u001b[1m11s\u001b[0m 12ms/step - accuracy: 0.9637 - loss: 0.1312 - val_accuracy: 0.9585 - val_loss: 0.1486\n",
      "Epoch 9/10\n",
      "\u001b[1m930/930\u001b[0m \u001b[32m━━━━━━━━━━━━━━━━━━━━\u001b[0m\u001b[37m\u001b[0m \u001b[1m11s\u001b[0m 12ms/step - accuracy: 0.9677 - loss: 0.1225 - val_accuracy: 0.9616 - val_loss: 0.1302\n",
      "Epoch 10/10\n",
      "\u001b[1m930/930\u001b[0m \u001b[32m━━━━━━━━━━━━━━━━━━━━\u001b[0m\u001b[37m\u001b[0m \u001b[1m13s\u001b[0m 14ms/step - accuracy: 0.9679 - loss: 0.1147 - val_accuracy: 0.9601 - val_loss: 0.1462\n",
      "\u001b[1m465/465\u001b[0m \u001b[32m━━━━━━━━━━━━━━━━━━━━\u001b[0m\u001b[37m\u001b[0m \u001b[1m2s\u001b[0m 5ms/step\n",
      "Completed training and evaluation for fold 3\n",
      "Recall for class 0 after fold 3: 0.8641\n",
      "Recall for class 1 after fold 3: 0.8362\n",
      "Recall for class 2 after fold 3: 0.9844\n",
      "Recall for class 3 after fold 3: 0.7522\n",
      "Recall for class 4 after fold 3: 0.9454\n",
      "Recall for class 5 after fold 3: 0.9686\n",
      "Recall for class 6 after fold 3: 0.9497\n",
      "Recall for class 7 after fold 3: 0.9562\n",
      "Recall for class 8 after fold 3: 0.9853\n",
      "Recall for class 9 after fold 3: 0.9398\n",
      "Recall for class 10 after fold 3: 0.9737\n",
      "Training activity model for fold 4\n"
     ]
    },
    {
     "name": "stderr",
     "output_type": "stream",
     "text": [
      "c:\\Users\\seanc\\miniconda3\\envs\\pdiot\\Lib\\site-packages\\keras\\src\\layers\\convolutional\\base_conv.py:107: UserWarning: Do not pass an `input_shape`/`input_dim` argument to a layer. When using Sequential models, prefer using an `Input(shape)` object as the first layer in the model instead.\n",
      "  super().__init__(activity_regularizer=activity_regularizer, **kwargs)\n"
     ]
    },
    {
     "data": {
      "text/html": [
       "<pre style=\"white-space:pre;overflow-x:auto;line-height:normal;font-family:Menlo,'DejaVu Sans Mono',consolas,'Courier New',monospace\"><span style=\"font-weight: bold\">Model: \"sequential_48\"</span>\n",
       "</pre>\n"
      ],
      "text/plain": [
       "\u001b[1mModel: \"sequential_48\"\u001b[0m\n"
      ]
     },
     "metadata": {},
     "output_type": "display_data"
    },
    {
     "data": {
      "text/html": [
       "<pre style=\"white-space:pre;overflow-x:auto;line-height:normal;font-family:Menlo,'DejaVu Sans Mono',consolas,'Courier New',monospace\">┏━━━━━━━━━━━━━━━━━━━━━━━━━━━━━━━━━┳━━━━━━━━━━━━━━━━━━━━━━━━┳━━━━━━━━━━━━━━━┓\n",
       "┃<span style=\"font-weight: bold\"> Layer (type)                    </span>┃<span style=\"font-weight: bold\"> Output Shape           </span>┃<span style=\"font-weight: bold\">       Param # </span>┃\n",
       "┡━━━━━━━━━━━━━━━━━━━━━━━━━━━━━━━━━╇━━━━━━━━━━━━━━━━━━━━━━━━╇━━━━━━━━━━━━━━━┩\n",
       "│ conv1d_144 (<span style=\"color: #0087ff; text-decoration-color: #0087ff\">Conv1D</span>)             │ (<span style=\"color: #00d7ff; text-decoration-color: #00d7ff\">None</span>, <span style=\"color: #00af00; text-decoration-color: #00af00\">98</span>, <span style=\"color: #00af00; text-decoration-color: #00af00\">64</span>)         │           <span style=\"color: #00af00; text-decoration-color: #00af00\">640</span> │\n",
       "├─────────────────────────────────┼────────────────────────┼───────────────┤\n",
       "│ max_pooling1d_144               │ (<span style=\"color: #00d7ff; text-decoration-color: #00d7ff\">None</span>, <span style=\"color: #00af00; text-decoration-color: #00af00\">49</span>, <span style=\"color: #00af00; text-decoration-color: #00af00\">64</span>)         │             <span style=\"color: #00af00; text-decoration-color: #00af00\">0</span> │\n",
       "│ (<span style=\"color: #0087ff; text-decoration-color: #0087ff\">MaxPooling1D</span>)                  │                        │               │\n",
       "├─────────────────────────────────┼────────────────────────┼───────────────┤\n",
       "│ conv1d_145 (<span style=\"color: #0087ff; text-decoration-color: #0087ff\">Conv1D</span>)             │ (<span style=\"color: #00d7ff; text-decoration-color: #00d7ff\">None</span>, <span style=\"color: #00af00; text-decoration-color: #00af00\">47</span>, <span style=\"color: #00af00; text-decoration-color: #00af00\">128</span>)        │        <span style=\"color: #00af00; text-decoration-color: #00af00\">24,704</span> │\n",
       "├─────────────────────────────────┼────────────────────────┼───────────────┤\n",
       "│ max_pooling1d_145               │ (<span style=\"color: #00d7ff; text-decoration-color: #00d7ff\">None</span>, <span style=\"color: #00af00; text-decoration-color: #00af00\">23</span>, <span style=\"color: #00af00; text-decoration-color: #00af00\">128</span>)        │             <span style=\"color: #00af00; text-decoration-color: #00af00\">0</span> │\n",
       "│ (<span style=\"color: #0087ff; text-decoration-color: #0087ff\">MaxPooling1D</span>)                  │                        │               │\n",
       "├─────────────────────────────────┼────────────────────────┼───────────────┤\n",
       "│ conv1d_146 (<span style=\"color: #0087ff; text-decoration-color: #0087ff\">Conv1D</span>)             │ (<span style=\"color: #00d7ff; text-decoration-color: #00d7ff\">None</span>, <span style=\"color: #00af00; text-decoration-color: #00af00\">21</span>, <span style=\"color: #00af00; text-decoration-color: #00af00\">256</span>)        │        <span style=\"color: #00af00; text-decoration-color: #00af00\">98,560</span> │\n",
       "├─────────────────────────────────┼────────────────────────┼───────────────┤\n",
       "│ max_pooling1d_146               │ (<span style=\"color: #00d7ff; text-decoration-color: #00d7ff\">None</span>, <span style=\"color: #00af00; text-decoration-color: #00af00\">10</span>, <span style=\"color: #00af00; text-decoration-color: #00af00\">256</span>)        │             <span style=\"color: #00af00; text-decoration-color: #00af00\">0</span> │\n",
       "│ (<span style=\"color: #0087ff; text-decoration-color: #0087ff\">MaxPooling1D</span>)                  │                        │               │\n",
       "├─────────────────────────────────┼────────────────────────┼───────────────┤\n",
       "│ flatten_48 (<span style=\"color: #0087ff; text-decoration-color: #0087ff\">Flatten</span>)            │ (<span style=\"color: #00d7ff; text-decoration-color: #00d7ff\">None</span>, <span style=\"color: #00af00; text-decoration-color: #00af00\">2560</span>)           │             <span style=\"color: #00af00; text-decoration-color: #00af00\">0</span> │\n",
       "├─────────────────────────────────┼────────────────────────┼───────────────┤\n",
       "│ dense_96 (<span style=\"color: #0087ff; text-decoration-color: #0087ff\">Dense</span>)                │ (<span style=\"color: #00d7ff; text-decoration-color: #00d7ff\">None</span>, <span style=\"color: #00af00; text-decoration-color: #00af00\">128</span>)            │       <span style=\"color: #00af00; text-decoration-color: #00af00\">327,808</span> │\n",
       "├─────────────────────────────────┼────────────────────────┼───────────────┤\n",
       "│ dropout_48 (<span style=\"color: #0087ff; text-decoration-color: #0087ff\">Dropout</span>)            │ (<span style=\"color: #00d7ff; text-decoration-color: #00d7ff\">None</span>, <span style=\"color: #00af00; text-decoration-color: #00af00\">128</span>)            │             <span style=\"color: #00af00; text-decoration-color: #00af00\">0</span> │\n",
       "├─────────────────────────────────┼────────────────────────┼───────────────┤\n",
       "│ dense_97 (<span style=\"color: #0087ff; text-decoration-color: #0087ff\">Dense</span>)                │ (<span style=\"color: #00d7ff; text-decoration-color: #00d7ff\">None</span>, <span style=\"color: #00af00; text-decoration-color: #00af00\">11</span>)             │         <span style=\"color: #00af00; text-decoration-color: #00af00\">1,419</span> │\n",
       "└─────────────────────────────────┴────────────────────────┴───────────────┘\n",
       "</pre>\n"
      ],
      "text/plain": [
       "┏━━━━━━━━━━━━━━━━━━━━━━━━━━━━━━━━━┳━━━━━━━━━━━━━━━━━━━━━━━━┳━━━━━━━━━━━━━━━┓\n",
       "┃\u001b[1m \u001b[0m\u001b[1mLayer (type)                   \u001b[0m\u001b[1m \u001b[0m┃\u001b[1m \u001b[0m\u001b[1mOutput Shape          \u001b[0m\u001b[1m \u001b[0m┃\u001b[1m \u001b[0m\u001b[1m      Param #\u001b[0m\u001b[1m \u001b[0m┃\n",
       "┡━━━━━━━━━━━━━━━━━━━━━━━━━━━━━━━━━╇━━━━━━━━━━━━━━━━━━━━━━━━╇━━━━━━━━━━━━━━━┩\n",
       "│ conv1d_144 (\u001b[38;5;33mConv1D\u001b[0m)             │ (\u001b[38;5;45mNone\u001b[0m, \u001b[38;5;34m98\u001b[0m, \u001b[38;5;34m64\u001b[0m)         │           \u001b[38;5;34m640\u001b[0m │\n",
       "├─────────────────────────────────┼────────────────────────┼───────────────┤\n",
       "│ max_pooling1d_144               │ (\u001b[38;5;45mNone\u001b[0m, \u001b[38;5;34m49\u001b[0m, \u001b[38;5;34m64\u001b[0m)         │             \u001b[38;5;34m0\u001b[0m │\n",
       "│ (\u001b[38;5;33mMaxPooling1D\u001b[0m)                  │                        │               │\n",
       "├─────────────────────────────────┼────────────────────────┼───────────────┤\n",
       "│ conv1d_145 (\u001b[38;5;33mConv1D\u001b[0m)             │ (\u001b[38;5;45mNone\u001b[0m, \u001b[38;5;34m47\u001b[0m, \u001b[38;5;34m128\u001b[0m)        │        \u001b[38;5;34m24,704\u001b[0m │\n",
       "├─────────────────────────────────┼────────────────────────┼───────────────┤\n",
       "│ max_pooling1d_145               │ (\u001b[38;5;45mNone\u001b[0m, \u001b[38;5;34m23\u001b[0m, \u001b[38;5;34m128\u001b[0m)        │             \u001b[38;5;34m0\u001b[0m │\n",
       "│ (\u001b[38;5;33mMaxPooling1D\u001b[0m)                  │                        │               │\n",
       "├─────────────────────────────────┼────────────────────────┼───────────────┤\n",
       "│ conv1d_146 (\u001b[38;5;33mConv1D\u001b[0m)             │ (\u001b[38;5;45mNone\u001b[0m, \u001b[38;5;34m21\u001b[0m, \u001b[38;5;34m256\u001b[0m)        │        \u001b[38;5;34m98,560\u001b[0m │\n",
       "├─────────────────────────────────┼────────────────────────┼───────────────┤\n",
       "│ max_pooling1d_146               │ (\u001b[38;5;45mNone\u001b[0m, \u001b[38;5;34m10\u001b[0m, \u001b[38;5;34m256\u001b[0m)        │             \u001b[38;5;34m0\u001b[0m │\n",
       "│ (\u001b[38;5;33mMaxPooling1D\u001b[0m)                  │                        │               │\n",
       "├─────────────────────────────────┼────────────────────────┼───────────────┤\n",
       "│ flatten_48 (\u001b[38;5;33mFlatten\u001b[0m)            │ (\u001b[38;5;45mNone\u001b[0m, \u001b[38;5;34m2560\u001b[0m)           │             \u001b[38;5;34m0\u001b[0m │\n",
       "├─────────────────────────────────┼────────────────────────┼───────────────┤\n",
       "│ dense_96 (\u001b[38;5;33mDense\u001b[0m)                │ (\u001b[38;5;45mNone\u001b[0m, \u001b[38;5;34m128\u001b[0m)            │       \u001b[38;5;34m327,808\u001b[0m │\n",
       "├─────────────────────────────────┼────────────────────────┼───────────────┤\n",
       "│ dropout_48 (\u001b[38;5;33mDropout\u001b[0m)            │ (\u001b[38;5;45mNone\u001b[0m, \u001b[38;5;34m128\u001b[0m)            │             \u001b[38;5;34m0\u001b[0m │\n",
       "├─────────────────────────────────┼────────────────────────┼───────────────┤\n",
       "│ dense_97 (\u001b[38;5;33mDense\u001b[0m)                │ (\u001b[38;5;45mNone\u001b[0m, \u001b[38;5;34m11\u001b[0m)             │         \u001b[38;5;34m1,419\u001b[0m │\n",
       "└─────────────────────────────────┴────────────────────────┴───────────────┘\n"
      ]
     },
     "metadata": {},
     "output_type": "display_data"
    },
    {
     "data": {
      "text/html": [
       "<pre style=\"white-space:pre;overflow-x:auto;line-height:normal;font-family:Menlo,'DejaVu Sans Mono',consolas,'Courier New',monospace\"><span style=\"font-weight: bold\"> Total params: </span><span style=\"color: #00af00; text-decoration-color: #00af00\">453,131</span> (1.73 MB)\n",
       "</pre>\n"
      ],
      "text/plain": [
       "\u001b[1m Total params: \u001b[0m\u001b[38;5;34m453,131\u001b[0m (1.73 MB)\n"
      ]
     },
     "metadata": {},
     "output_type": "display_data"
    },
    {
     "data": {
      "text/html": [
       "<pre style=\"white-space:pre;overflow-x:auto;line-height:normal;font-family:Menlo,'DejaVu Sans Mono',consolas,'Courier New',monospace\"><span style=\"font-weight: bold\"> Trainable params: </span><span style=\"color: #00af00; text-decoration-color: #00af00\">453,131</span> (1.73 MB)\n",
       "</pre>\n"
      ],
      "text/plain": [
       "\u001b[1m Trainable params: \u001b[0m\u001b[38;5;34m453,131\u001b[0m (1.73 MB)\n"
      ]
     },
     "metadata": {},
     "output_type": "display_data"
    },
    {
     "data": {
      "text/html": [
       "<pre style=\"white-space:pre;overflow-x:auto;line-height:normal;font-family:Menlo,'DejaVu Sans Mono',consolas,'Courier New',monospace\"><span style=\"font-weight: bold\"> Non-trainable params: </span><span style=\"color: #00af00; text-decoration-color: #00af00\">0</span> (0.00 B)\n",
       "</pre>\n"
      ],
      "text/plain": [
       "\u001b[1m Non-trainable params: \u001b[0m\u001b[38;5;34m0\u001b[0m (0.00 B)\n"
      ]
     },
     "metadata": {},
     "output_type": "display_data"
    },
    {
     "name": "stdout",
     "output_type": "stream",
     "text": [
      "Epoch 1/10\n",
      "\u001b[1m930/930\u001b[0m \u001b[32m━━━━━━━━━━━━━━━━━━━━\u001b[0m\u001b[37m\u001b[0m \u001b[1m14s\u001b[0m 14ms/step - accuracy: 0.8515 - loss: 0.5685 - val_accuracy: 0.9260 - val_loss: 0.2672\n",
      "Epoch 2/10\n",
      "\u001b[1m930/930\u001b[0m \u001b[32m━━━━━━━━━━━━━━━━━━━━\u001b[0m\u001b[37m\u001b[0m \u001b[1m24s\u001b[0m 26ms/step - accuracy: 0.9217 - loss: 0.2792 - val_accuracy: 0.9368 - val_loss: 0.2140\n",
      "Epoch 3/10\n",
      "\u001b[1m584/930\u001b[0m \u001b[32m━━━━━━━━━━━━\u001b[0m\u001b[37m━━━━━━━━\u001b[0m \u001b[1m8s\u001b[0m 23ms/step - accuracy: 0.9370 - loss: 0.2253"
     ]
    },
    {
     "ename": "KeyboardInterrupt",
     "evalue": "",
     "output_type": "error",
     "traceback": [
      "\u001b[1;31m---------------------------------------------------------------------------\u001b[0m",
      "\u001b[1;31mKeyboardInterrupt\u001b[0m                         Traceback (most recent call last)",
      "Cell \u001b[1;32mIn[88], line 13\u001b[0m\n\u001b[0;32m     10\u001b[0m \u001b[38;5;66;03m# Reinitialise the activity model for each fold\u001b[39;00m\n\u001b[0;32m     11\u001b[0m activity_model \u001b[38;5;241m=\u001b[39m build_1d_cnn_model(input_shape_activity, num_activity_classes)\n\u001b[1;32m---> 13\u001b[0m history \u001b[38;5;241m=\u001b[39m \u001b[43mactivity_model\u001b[49m\u001b[38;5;241;43m.\u001b[39;49m\u001b[43mfit\u001b[49m\u001b[43m(\u001b[49m\u001b[43mX_train_fold_activity\u001b[49m\u001b[43m,\u001b[49m\u001b[43m \u001b[49m\u001b[43my_train_fold_activity\u001b[49m\u001b[43m,\u001b[49m\u001b[43m \u001b[49m\n\u001b[0;32m     14\u001b[0m \u001b[43m                             \u001b[49m\u001b[43mepochs\u001b[49m\u001b[38;5;241;43m=\u001b[39;49m\u001b[38;5;241;43m10\u001b[39;49m\u001b[43m,\u001b[49m\u001b[43m \u001b[49m\u001b[43mbatch_size\u001b[49m\u001b[38;5;241;43m=\u001b[39;49m\u001b[38;5;241;43m64\u001b[39;49m\u001b[43m,\u001b[49m\u001b[43m \u001b[49m\n\u001b[0;32m     15\u001b[0m \u001b[43m                             \u001b[49m\u001b[43mvalidation_data\u001b[49m\u001b[38;5;241;43m=\u001b[39;49m\u001b[43m(\u001b[49m\u001b[43mX_val_fold_activity\u001b[49m\u001b[43m,\u001b[49m\u001b[43m \u001b[49m\u001b[43my_val_fold_activity\u001b[49m\u001b[43m)\u001b[49m\u001b[43m,\u001b[49m\u001b[43m \u001b[49m\n\u001b[0;32m     16\u001b[0m \u001b[43m                             \u001b[49m\u001b[43mverbose\u001b[49m\u001b[38;5;241;43m=\u001b[39;49m\u001b[38;5;241;43m1\u001b[39;49m\u001b[43m)\u001b[49m\n\u001b[0;32m     18\u001b[0m \u001b[38;5;66;03m# Predictions and evaluation for activity model\u001b[39;00m\n\u001b[0;32m     19\u001b[0m y_pred_probs_activity \u001b[38;5;241m=\u001b[39m activity_model\u001b[38;5;241m.\u001b[39mpredict(X_val_fold_activity)\n",
      "File \u001b[1;32mc:\\Users\\seanc\\miniconda3\\envs\\pdiot\\Lib\\site-packages\\keras\\src\\utils\\traceback_utils.py:117\u001b[0m, in \u001b[0;36mfilter_traceback.<locals>.error_handler\u001b[1;34m(*args, **kwargs)\u001b[0m\n\u001b[0;32m    115\u001b[0m filtered_tb \u001b[38;5;241m=\u001b[39m \u001b[38;5;28;01mNone\u001b[39;00m\n\u001b[0;32m    116\u001b[0m \u001b[38;5;28;01mtry\u001b[39;00m:\n\u001b[1;32m--> 117\u001b[0m     \u001b[38;5;28;01mreturn\u001b[39;00m \u001b[43mfn\u001b[49m\u001b[43m(\u001b[49m\u001b[38;5;241;43m*\u001b[39;49m\u001b[43margs\u001b[49m\u001b[43m,\u001b[49m\u001b[43m \u001b[49m\u001b[38;5;241;43m*\u001b[39;49m\u001b[38;5;241;43m*\u001b[39;49m\u001b[43mkwargs\u001b[49m\u001b[43m)\u001b[49m\n\u001b[0;32m    118\u001b[0m \u001b[38;5;28;01mexcept\u001b[39;00m \u001b[38;5;167;01mException\u001b[39;00m \u001b[38;5;28;01mas\u001b[39;00m e:\n\u001b[0;32m    119\u001b[0m     filtered_tb \u001b[38;5;241m=\u001b[39m _process_traceback_frames(e\u001b[38;5;241m.\u001b[39m__traceback__)\n",
      "File \u001b[1;32mc:\\Users\\seanc\\miniconda3\\envs\\pdiot\\Lib\\site-packages\\keras\\src\\backend\\tensorflow\\trainer.py:320\u001b[0m, in \u001b[0;36mTensorFlowTrainer.fit\u001b[1;34m(self, x, y, batch_size, epochs, verbose, callbacks, validation_split, validation_data, shuffle, class_weight, sample_weight, initial_epoch, steps_per_epoch, validation_steps, validation_batch_size, validation_freq)\u001b[0m\n\u001b[0;32m    318\u001b[0m \u001b[38;5;28;01mfor\u001b[39;00m step, iterator \u001b[38;5;129;01min\u001b[39;00m epoch_iterator\u001b[38;5;241m.\u001b[39menumerate_epoch():\n\u001b[0;32m    319\u001b[0m     callbacks\u001b[38;5;241m.\u001b[39mon_train_batch_begin(step)\n\u001b[1;32m--> 320\u001b[0m     logs \u001b[38;5;241m=\u001b[39m \u001b[38;5;28;43mself\u001b[39;49m\u001b[38;5;241;43m.\u001b[39;49m\u001b[43mtrain_function\u001b[49m\u001b[43m(\u001b[49m\u001b[43miterator\u001b[49m\u001b[43m)\u001b[49m\n\u001b[0;32m    321\u001b[0m     logs \u001b[38;5;241m=\u001b[39m \u001b[38;5;28mself\u001b[39m\u001b[38;5;241m.\u001b[39m_pythonify_logs(logs)\n\u001b[0;32m    322\u001b[0m     callbacks\u001b[38;5;241m.\u001b[39mon_train_batch_end(step, logs)\n",
      "File \u001b[1;32mc:\\Users\\seanc\\miniconda3\\envs\\pdiot\\Lib\\site-packages\\tensorflow\\python\\util\\traceback_utils.py:150\u001b[0m, in \u001b[0;36mfilter_traceback.<locals>.error_handler\u001b[1;34m(*args, **kwargs)\u001b[0m\n\u001b[0;32m    148\u001b[0m filtered_tb \u001b[38;5;241m=\u001b[39m \u001b[38;5;28;01mNone\u001b[39;00m\n\u001b[0;32m    149\u001b[0m \u001b[38;5;28;01mtry\u001b[39;00m:\n\u001b[1;32m--> 150\u001b[0m   \u001b[38;5;28;01mreturn\u001b[39;00m \u001b[43mfn\u001b[49m\u001b[43m(\u001b[49m\u001b[38;5;241;43m*\u001b[39;49m\u001b[43margs\u001b[49m\u001b[43m,\u001b[49m\u001b[43m \u001b[49m\u001b[38;5;241;43m*\u001b[39;49m\u001b[38;5;241;43m*\u001b[39;49m\u001b[43mkwargs\u001b[49m\u001b[43m)\u001b[49m\n\u001b[0;32m    151\u001b[0m \u001b[38;5;28;01mexcept\u001b[39;00m \u001b[38;5;167;01mException\u001b[39;00m \u001b[38;5;28;01mas\u001b[39;00m e:\n\u001b[0;32m    152\u001b[0m   filtered_tb \u001b[38;5;241m=\u001b[39m _process_traceback_frames(e\u001b[38;5;241m.\u001b[39m__traceback__)\n",
      "File \u001b[1;32mc:\\Users\\seanc\\miniconda3\\envs\\pdiot\\Lib\\site-packages\\tensorflow\\python\\eager\\polymorphic_function\\polymorphic_function.py:833\u001b[0m, in \u001b[0;36mFunction.__call__\u001b[1;34m(self, *args, **kwds)\u001b[0m\n\u001b[0;32m    830\u001b[0m compiler \u001b[38;5;241m=\u001b[39m \u001b[38;5;124m\"\u001b[39m\u001b[38;5;124mxla\u001b[39m\u001b[38;5;124m\"\u001b[39m \u001b[38;5;28;01mif\u001b[39;00m \u001b[38;5;28mself\u001b[39m\u001b[38;5;241m.\u001b[39m_jit_compile \u001b[38;5;28;01melse\u001b[39;00m \u001b[38;5;124m\"\u001b[39m\u001b[38;5;124mnonXla\u001b[39m\u001b[38;5;124m\"\u001b[39m\n\u001b[0;32m    832\u001b[0m \u001b[38;5;28;01mwith\u001b[39;00m OptionalXlaContext(\u001b[38;5;28mself\u001b[39m\u001b[38;5;241m.\u001b[39m_jit_compile):\n\u001b[1;32m--> 833\u001b[0m   result \u001b[38;5;241m=\u001b[39m \u001b[38;5;28;43mself\u001b[39;49m\u001b[38;5;241;43m.\u001b[39;49m\u001b[43m_call\u001b[49m\u001b[43m(\u001b[49m\u001b[38;5;241;43m*\u001b[39;49m\u001b[43margs\u001b[49m\u001b[43m,\u001b[49m\u001b[43m \u001b[49m\u001b[38;5;241;43m*\u001b[39;49m\u001b[38;5;241;43m*\u001b[39;49m\u001b[43mkwds\u001b[49m\u001b[43m)\u001b[49m\n\u001b[0;32m    835\u001b[0m new_tracing_count \u001b[38;5;241m=\u001b[39m \u001b[38;5;28mself\u001b[39m\u001b[38;5;241m.\u001b[39mexperimental_get_tracing_count()\n\u001b[0;32m    836\u001b[0m without_tracing \u001b[38;5;241m=\u001b[39m (tracing_count \u001b[38;5;241m==\u001b[39m new_tracing_count)\n",
      "File \u001b[1;32mc:\\Users\\seanc\\miniconda3\\envs\\pdiot\\Lib\\site-packages\\tensorflow\\python\\eager\\polymorphic_function\\polymorphic_function.py:878\u001b[0m, in \u001b[0;36mFunction._call\u001b[1;34m(self, *args, **kwds)\u001b[0m\n\u001b[0;32m    875\u001b[0m \u001b[38;5;28mself\u001b[39m\u001b[38;5;241m.\u001b[39m_lock\u001b[38;5;241m.\u001b[39mrelease()\n\u001b[0;32m    876\u001b[0m \u001b[38;5;66;03m# In this case we have not created variables on the first call. So we can\u001b[39;00m\n\u001b[0;32m    877\u001b[0m \u001b[38;5;66;03m# run the first trace but we should fail if variables are created.\u001b[39;00m\n\u001b[1;32m--> 878\u001b[0m results \u001b[38;5;241m=\u001b[39m \u001b[43mtracing_compilation\u001b[49m\u001b[38;5;241;43m.\u001b[39;49m\u001b[43mcall_function\u001b[49m\u001b[43m(\u001b[49m\n\u001b[0;32m    879\u001b[0m \u001b[43m    \u001b[49m\u001b[43margs\u001b[49m\u001b[43m,\u001b[49m\u001b[43m \u001b[49m\u001b[43mkwds\u001b[49m\u001b[43m,\u001b[49m\u001b[43m \u001b[49m\u001b[38;5;28;43mself\u001b[39;49m\u001b[38;5;241;43m.\u001b[39;49m\u001b[43m_variable_creation_config\u001b[49m\n\u001b[0;32m    880\u001b[0m \u001b[43m\u001b[49m\u001b[43m)\u001b[49m\n\u001b[0;32m    881\u001b[0m \u001b[38;5;28;01mif\u001b[39;00m \u001b[38;5;28mself\u001b[39m\u001b[38;5;241m.\u001b[39m_created_variables:\n\u001b[0;32m    882\u001b[0m   \u001b[38;5;28;01mraise\u001b[39;00m \u001b[38;5;167;01mValueError\u001b[39;00m(\u001b[38;5;124m\"\u001b[39m\u001b[38;5;124mCreating variables on a non-first call to a function\u001b[39m\u001b[38;5;124m\"\u001b[39m\n\u001b[0;32m    883\u001b[0m                    \u001b[38;5;124m\"\u001b[39m\u001b[38;5;124m decorated with tf.function.\u001b[39m\u001b[38;5;124m\"\u001b[39m)\n",
      "File \u001b[1;32mc:\\Users\\seanc\\miniconda3\\envs\\pdiot\\Lib\\site-packages\\tensorflow\\python\\eager\\polymorphic_function\\tracing_compilation.py:139\u001b[0m, in \u001b[0;36mcall_function\u001b[1;34m(args, kwargs, tracing_options)\u001b[0m\n\u001b[0;32m    137\u001b[0m bound_args \u001b[38;5;241m=\u001b[39m function\u001b[38;5;241m.\u001b[39mfunction_type\u001b[38;5;241m.\u001b[39mbind(\u001b[38;5;241m*\u001b[39margs, \u001b[38;5;241m*\u001b[39m\u001b[38;5;241m*\u001b[39mkwargs)\n\u001b[0;32m    138\u001b[0m flat_inputs \u001b[38;5;241m=\u001b[39m function\u001b[38;5;241m.\u001b[39mfunction_type\u001b[38;5;241m.\u001b[39munpack_inputs(bound_args)\n\u001b[1;32m--> 139\u001b[0m \u001b[38;5;28;01mreturn\u001b[39;00m \u001b[43mfunction\u001b[49m\u001b[38;5;241;43m.\u001b[39;49m\u001b[43m_call_flat\u001b[49m\u001b[43m(\u001b[49m\u001b[43m  \u001b[49m\u001b[38;5;66;43;03m# pylint: disable=protected-access\u001b[39;49;00m\n\u001b[0;32m    140\u001b[0m \u001b[43m    \u001b[49m\u001b[43mflat_inputs\u001b[49m\u001b[43m,\u001b[49m\u001b[43m \u001b[49m\u001b[43mcaptured_inputs\u001b[49m\u001b[38;5;241;43m=\u001b[39;49m\u001b[43mfunction\u001b[49m\u001b[38;5;241;43m.\u001b[39;49m\u001b[43mcaptured_inputs\u001b[49m\n\u001b[0;32m    141\u001b[0m \u001b[43m\u001b[49m\u001b[43m)\u001b[49m\n",
      "File \u001b[1;32mc:\\Users\\seanc\\miniconda3\\envs\\pdiot\\Lib\\site-packages\\tensorflow\\python\\eager\\polymorphic_function\\concrete_function.py:1322\u001b[0m, in \u001b[0;36mConcreteFunction._call_flat\u001b[1;34m(self, tensor_inputs, captured_inputs)\u001b[0m\n\u001b[0;32m   1318\u001b[0m possible_gradient_type \u001b[38;5;241m=\u001b[39m gradients_util\u001b[38;5;241m.\u001b[39mPossibleTapeGradientTypes(args)\n\u001b[0;32m   1319\u001b[0m \u001b[38;5;28;01mif\u001b[39;00m (possible_gradient_type \u001b[38;5;241m==\u001b[39m gradients_util\u001b[38;5;241m.\u001b[39mPOSSIBLE_GRADIENT_TYPES_NONE\n\u001b[0;32m   1320\u001b[0m     \u001b[38;5;129;01mand\u001b[39;00m executing_eagerly):\n\u001b[0;32m   1321\u001b[0m   \u001b[38;5;66;03m# No tape is watching; skip to running the function.\u001b[39;00m\n\u001b[1;32m-> 1322\u001b[0m   \u001b[38;5;28;01mreturn\u001b[39;00m \u001b[38;5;28;43mself\u001b[39;49m\u001b[38;5;241;43m.\u001b[39;49m\u001b[43m_inference_function\u001b[49m\u001b[38;5;241;43m.\u001b[39;49m\u001b[43mcall_preflattened\u001b[49m\u001b[43m(\u001b[49m\u001b[43margs\u001b[49m\u001b[43m)\u001b[49m\n\u001b[0;32m   1323\u001b[0m forward_backward \u001b[38;5;241m=\u001b[39m \u001b[38;5;28mself\u001b[39m\u001b[38;5;241m.\u001b[39m_select_forward_and_backward_functions(\n\u001b[0;32m   1324\u001b[0m     args,\n\u001b[0;32m   1325\u001b[0m     possible_gradient_type,\n\u001b[0;32m   1326\u001b[0m     executing_eagerly)\n\u001b[0;32m   1327\u001b[0m forward_function, args_with_tangents \u001b[38;5;241m=\u001b[39m forward_backward\u001b[38;5;241m.\u001b[39mforward()\n",
      "File \u001b[1;32mc:\\Users\\seanc\\miniconda3\\envs\\pdiot\\Lib\\site-packages\\tensorflow\\python\\eager\\polymorphic_function\\atomic_function.py:216\u001b[0m, in \u001b[0;36mAtomicFunction.call_preflattened\u001b[1;34m(self, args)\u001b[0m\n\u001b[0;32m    214\u001b[0m \u001b[38;5;28;01mdef\u001b[39;00m \u001b[38;5;21mcall_preflattened\u001b[39m(\u001b[38;5;28mself\u001b[39m, args: Sequence[core\u001b[38;5;241m.\u001b[39mTensor]) \u001b[38;5;241m-\u001b[39m\u001b[38;5;241m>\u001b[39m Any:\n\u001b[0;32m    215\u001b[0m \u001b[38;5;250m  \u001b[39m\u001b[38;5;124;03m\"\"\"Calls with flattened tensor inputs and returns the structured output.\"\"\"\u001b[39;00m\n\u001b[1;32m--> 216\u001b[0m   flat_outputs \u001b[38;5;241m=\u001b[39m \u001b[38;5;28;43mself\u001b[39;49m\u001b[38;5;241;43m.\u001b[39;49m\u001b[43mcall_flat\u001b[49m\u001b[43m(\u001b[49m\u001b[38;5;241;43m*\u001b[39;49m\u001b[43margs\u001b[49m\u001b[43m)\u001b[49m\n\u001b[0;32m    217\u001b[0m   \u001b[38;5;28;01mreturn\u001b[39;00m \u001b[38;5;28mself\u001b[39m\u001b[38;5;241m.\u001b[39mfunction_type\u001b[38;5;241m.\u001b[39mpack_output(flat_outputs)\n",
      "File \u001b[1;32mc:\\Users\\seanc\\miniconda3\\envs\\pdiot\\Lib\\site-packages\\tensorflow\\python\\eager\\polymorphic_function\\atomic_function.py:251\u001b[0m, in \u001b[0;36mAtomicFunction.call_flat\u001b[1;34m(self, *args)\u001b[0m\n\u001b[0;32m    249\u001b[0m \u001b[38;5;28;01mwith\u001b[39;00m record\u001b[38;5;241m.\u001b[39mstop_recording():\n\u001b[0;32m    250\u001b[0m   \u001b[38;5;28;01mif\u001b[39;00m \u001b[38;5;28mself\u001b[39m\u001b[38;5;241m.\u001b[39m_bound_context\u001b[38;5;241m.\u001b[39mexecuting_eagerly():\n\u001b[1;32m--> 251\u001b[0m     outputs \u001b[38;5;241m=\u001b[39m \u001b[38;5;28;43mself\u001b[39;49m\u001b[38;5;241;43m.\u001b[39;49m\u001b[43m_bound_context\u001b[49m\u001b[38;5;241;43m.\u001b[39;49m\u001b[43mcall_function\u001b[49m\u001b[43m(\u001b[49m\n\u001b[0;32m    252\u001b[0m \u001b[43m        \u001b[49m\u001b[38;5;28;43mself\u001b[39;49m\u001b[38;5;241;43m.\u001b[39;49m\u001b[43mname\u001b[49m\u001b[43m,\u001b[49m\n\u001b[0;32m    253\u001b[0m \u001b[43m        \u001b[49m\u001b[38;5;28;43mlist\u001b[39;49m\u001b[43m(\u001b[49m\u001b[43margs\u001b[49m\u001b[43m)\u001b[49m\u001b[43m,\u001b[49m\n\u001b[0;32m    254\u001b[0m \u001b[43m        \u001b[49m\u001b[38;5;28;43mlen\u001b[39;49m\u001b[43m(\u001b[49m\u001b[38;5;28;43mself\u001b[39;49m\u001b[38;5;241;43m.\u001b[39;49m\u001b[43mfunction_type\u001b[49m\u001b[38;5;241;43m.\u001b[39;49m\u001b[43mflat_outputs\u001b[49m\u001b[43m)\u001b[49m\u001b[43m,\u001b[49m\n\u001b[0;32m    255\u001b[0m \u001b[43m    \u001b[49m\u001b[43m)\u001b[49m\n\u001b[0;32m    256\u001b[0m   \u001b[38;5;28;01melse\u001b[39;00m:\n\u001b[0;32m    257\u001b[0m     outputs \u001b[38;5;241m=\u001b[39m make_call_op_in_graph(\n\u001b[0;32m    258\u001b[0m         \u001b[38;5;28mself\u001b[39m,\n\u001b[0;32m    259\u001b[0m         \u001b[38;5;28mlist\u001b[39m(args),\n\u001b[0;32m    260\u001b[0m         \u001b[38;5;28mself\u001b[39m\u001b[38;5;241m.\u001b[39m_bound_context\u001b[38;5;241m.\u001b[39mfunction_call_options\u001b[38;5;241m.\u001b[39mas_attrs(),\n\u001b[0;32m    261\u001b[0m     )\n",
      "File \u001b[1;32mc:\\Users\\seanc\\miniconda3\\envs\\pdiot\\Lib\\site-packages\\tensorflow\\python\\eager\\context.py:1552\u001b[0m, in \u001b[0;36mContext.call_function\u001b[1;34m(self, name, tensor_inputs, num_outputs)\u001b[0m\n\u001b[0;32m   1550\u001b[0m cancellation_context \u001b[38;5;241m=\u001b[39m cancellation\u001b[38;5;241m.\u001b[39mcontext()\n\u001b[0;32m   1551\u001b[0m \u001b[38;5;28;01mif\u001b[39;00m cancellation_context \u001b[38;5;129;01mis\u001b[39;00m \u001b[38;5;28;01mNone\u001b[39;00m:\n\u001b[1;32m-> 1552\u001b[0m   outputs \u001b[38;5;241m=\u001b[39m \u001b[43mexecute\u001b[49m\u001b[38;5;241;43m.\u001b[39;49m\u001b[43mexecute\u001b[49m\u001b[43m(\u001b[49m\n\u001b[0;32m   1553\u001b[0m \u001b[43m      \u001b[49m\u001b[43mname\u001b[49m\u001b[38;5;241;43m.\u001b[39;49m\u001b[43mdecode\u001b[49m\u001b[43m(\u001b[49m\u001b[38;5;124;43m\"\u001b[39;49m\u001b[38;5;124;43mutf-8\u001b[39;49m\u001b[38;5;124;43m\"\u001b[39;49m\u001b[43m)\u001b[49m\u001b[43m,\u001b[49m\n\u001b[0;32m   1554\u001b[0m \u001b[43m      \u001b[49m\u001b[43mnum_outputs\u001b[49m\u001b[38;5;241;43m=\u001b[39;49m\u001b[43mnum_outputs\u001b[49m\u001b[43m,\u001b[49m\n\u001b[0;32m   1555\u001b[0m \u001b[43m      \u001b[49m\u001b[43minputs\u001b[49m\u001b[38;5;241;43m=\u001b[39;49m\u001b[43mtensor_inputs\u001b[49m\u001b[43m,\u001b[49m\n\u001b[0;32m   1556\u001b[0m \u001b[43m      \u001b[49m\u001b[43mattrs\u001b[49m\u001b[38;5;241;43m=\u001b[39;49m\u001b[43mattrs\u001b[49m\u001b[43m,\u001b[49m\n\u001b[0;32m   1557\u001b[0m \u001b[43m      \u001b[49m\u001b[43mctx\u001b[49m\u001b[38;5;241;43m=\u001b[39;49m\u001b[38;5;28;43mself\u001b[39;49m\u001b[43m,\u001b[49m\n\u001b[0;32m   1558\u001b[0m \u001b[43m  \u001b[49m\u001b[43m)\u001b[49m\n\u001b[0;32m   1559\u001b[0m \u001b[38;5;28;01melse\u001b[39;00m:\n\u001b[0;32m   1560\u001b[0m   outputs \u001b[38;5;241m=\u001b[39m execute\u001b[38;5;241m.\u001b[39mexecute_with_cancellation(\n\u001b[0;32m   1561\u001b[0m       name\u001b[38;5;241m.\u001b[39mdecode(\u001b[38;5;124m\"\u001b[39m\u001b[38;5;124mutf-8\u001b[39m\u001b[38;5;124m\"\u001b[39m),\n\u001b[0;32m   1562\u001b[0m       num_outputs\u001b[38;5;241m=\u001b[39mnum_outputs,\n\u001b[1;32m   (...)\u001b[0m\n\u001b[0;32m   1566\u001b[0m       cancellation_manager\u001b[38;5;241m=\u001b[39mcancellation_context,\n\u001b[0;32m   1567\u001b[0m   )\n",
      "File \u001b[1;32mc:\\Users\\seanc\\miniconda3\\envs\\pdiot\\Lib\\site-packages\\tensorflow\\python\\eager\\execute.py:53\u001b[0m, in \u001b[0;36mquick_execute\u001b[1;34m(op_name, num_outputs, inputs, attrs, ctx, name)\u001b[0m\n\u001b[0;32m     51\u001b[0m \u001b[38;5;28;01mtry\u001b[39;00m:\n\u001b[0;32m     52\u001b[0m   ctx\u001b[38;5;241m.\u001b[39mensure_initialized()\n\u001b[1;32m---> 53\u001b[0m   tensors \u001b[38;5;241m=\u001b[39m \u001b[43mpywrap_tfe\u001b[49m\u001b[38;5;241;43m.\u001b[39;49m\u001b[43mTFE_Py_Execute\u001b[49m\u001b[43m(\u001b[49m\u001b[43mctx\u001b[49m\u001b[38;5;241;43m.\u001b[39;49m\u001b[43m_handle\u001b[49m\u001b[43m,\u001b[49m\u001b[43m \u001b[49m\u001b[43mdevice_name\u001b[49m\u001b[43m,\u001b[49m\u001b[43m \u001b[49m\u001b[43mop_name\u001b[49m\u001b[43m,\u001b[49m\n\u001b[0;32m     54\u001b[0m \u001b[43m                                      \u001b[49m\u001b[43minputs\u001b[49m\u001b[43m,\u001b[49m\u001b[43m \u001b[49m\u001b[43mattrs\u001b[49m\u001b[43m,\u001b[49m\u001b[43m \u001b[49m\u001b[43mnum_outputs\u001b[49m\u001b[43m)\u001b[49m\n\u001b[0;32m     55\u001b[0m \u001b[38;5;28;01mexcept\u001b[39;00m core\u001b[38;5;241m.\u001b[39m_NotOkStatusException \u001b[38;5;28;01mas\u001b[39;00m e:\n\u001b[0;32m     56\u001b[0m   \u001b[38;5;28;01mif\u001b[39;00m name \u001b[38;5;129;01mis\u001b[39;00m \u001b[38;5;129;01mnot\u001b[39;00m \u001b[38;5;28;01mNone\u001b[39;00m:\n",
      "\u001b[1;31mKeyboardInterrupt\u001b[0m: "
     ]
    }
   ],
   "source": [
    "# Train and Evaluate activity model\n",
    "fold_no = 1\n",
    "for train_index, val_index in kfold.split(X_activity):\n",
    "    print(f\"Training activity model for fold {fold_no}\")\n",
    "\n",
    "    # Split the data for this fold\n",
    "    X_train_fold_activity, X_val_fold_activity = X_activity[train_index], X_activity[val_index]\n",
    "    y_train_fold_activity, y_val_fold_activity = y_activity_one_hot[train_index], y_activity_one_hot[val_index]\n",
    "\n",
    "    # Reinitialise the activity model for each fold\n",
    "    activity_model = build_1d_cnn_model(input_shape_activity, num_activity_classes)\n",
    "\n",
    "    history = activity_model.fit(X_train_fold_activity, y_train_fold_activity, \n",
    "                                 epochs=10, batch_size=64, \n",
    "                                 validation_data=(X_val_fold_activity, y_val_fold_activity), \n",
    "                                 verbose=1)\n",
    "    \n",
    "    # Predictions and evaluation for activity model\n",
    "    y_pred_probs_activity = activity_model.predict(X_val_fold_activity)\n",
    "    y_pred_activity = np.argmax(y_pred_probs_activity, axis=1)\n",
    "    y_true_activity = np.argmax(y_val_fold_activity, axis=1)\n",
    "\n",
    "    activity_report = classification_report(y_true_activity, y_pred_activity, output_dict=True)\n",
    "    for i in range(num_activity_classes):\n",
    "        recall_per_class_per_fold_activity[i].append(activity_report[str(i)]['recall'])\n",
    "    activity_accuracy_list.append(accuracy_score(y_true_activity, y_pred_activity))\n",
    "\n",
    "    # Collect predictions and true social signal labels for confusion matrix\n",
    "    all_y_true_activity.extend(y_true_activity)\n",
    "    all_y_pred_activity.extend(y_pred_activity)\n",
    "\n",
    "    print(f\"Completed training and evaluation for fold {fold_no}\")\n",
    "\n",
    "     # Print recall for each class after each fold\n",
    "    for i in range(num_activity_classes):\n",
    "        print(f\"Recall for class {i} after fold {fold_no}: {recall_per_class_per_fold_activity[i][-1]:.4f}\")\n",
    "    fold_no += 1\n",
    "    \n",
    "average_activity_accuracy = np.mean(activity_accuracy_list)\n",
    "print(f\"Average accuracy for activity model: {average_activity_accuracy:.4f}\")\n",
    "\n",
    "average_recall_per_class_activity = {i: np.mean(recall_per_class_per_fold_activity[i]) for i in range(num_activity_classes)}\n",
    "\n",
    "for i in range(num_activity_classes):\n",
    "    print(f\"The 5-fold cross validation recall of class {i} is {average_recall_per_class_activity[i]:.4f}\")"
   ]
  },
  {
   "cell_type": "markdown",
   "metadata": {},
   "source": [
    "# Confusion matrix for activity model"
   ]
  },
  {
   "cell_type": "code",
   "execution_count": 55,
   "metadata": {},
   "outputs": [
    {
     "data": {
      "image/png": "[encoded data removed]",
      "text/plain": [
       "<Figure size 1000x1000 with 2 Axes>"
      ]
     },
     "metadata": {},
     "output_type": "display_data"
    }
   ],
   "source": [
    "import matplotlib.pyplot as plt\n",
    "import numpy as np\n",
    "from sklearn.metrics import ConfusionMatrixDisplay, confusion_matrix\n",
    "\n",
    "# Convert the lists for the confusion matrix to numpy arrays\n",
    "all_y_true_activity = np.array(all_y_true_activity)\n",
    "all_y_pred_activity = np.array(all_y_pred_activity)\n",
    "\n",
    "# Generate confusion matrix\n",
    "cm = confusion_matrix(all_y_true_activity, all_y_pred_activity)\n",
    "disp = ConfusionMatrixDisplay(cm, display_labels=activity_labels)\n",
    "\n",
    "# Plot the confusion matrix\n",
    "fig, ax = plt.subplots(figsize=(10, 10))  # Adjust figure size as needed\n",
    "disp.plot(ax=ax, cmap='viridis')\n",
    "\n",
    "# Rotate the x-axis labels and adjust spacing\n",
    "plt.xticks(rotation=45, ha='right')\n",
    "plt.tight_layout()\n",
    "plt.show()\n"
   ]
  },
  {
   "cell_type": "markdown",
   "metadata": {
    "id": "TrSPBPh4KcBn"
   },
   "source": [
    "## Step 4: Evaluate the Model\n",
    "After training, you can evaluate the model on the test set:"
   ]
  },
  {
   "cell_type": "code",
   "execution_count": 44,
   "metadata": {
    "colab": {
     "base_uri": "https://localhost:8080/"
    },
    "id": "UB2Bi7ieKelv",
    "outputId": "de615d87-81e5-45df-f50b-60b21139fdd0"
   },
   "outputs": [
    {
     "data": {
      "text/plain": [
       "'\\n# Get predicted probabilities for the test set\\ny_pred_probs = model.predict(X_test)\\n\\n# Convert the predicted probabilities to class labels (taking the argmax of the probabilities)\\ny_pred_classes = np.argmax(y_pred_probs, axis=1)\\n\\n# Convert the true test labels from one-hot encoding back to class labels\\ny_true_classes = np.argmax(y_test_one_hot, axis=1)\\n\\n# Generate the classification report\\nreport = classification_report(y_true_classes, y_pred_classes, digits=4)\\n\\n# Print the classification report\\nprint(report)\\n'"
      ]
     },
     "execution_count": 44,
     "metadata": {},
     "output_type": "execute_result"
    }
   ],
   "source": [
    "'''\n",
    "# Get predicted probabilities for the test set\n",
    "y_pred_probs = model.predict(X_test)\n",
    "\n",
    "# Convert the predicted probabilities to class labels (taking the argmax of the probabilities)\n",
    "y_pred_classes = np.argmax(y_pred_probs, axis=1)\n",
    "\n",
    "# Convert the true test labels from one-hot encoding back to class labels\n",
    "y_true_classes = np.argmax(y_test_one_hot, axis=1)\n",
    "\n",
    "# Generate the classification report\n",
    "report = classification_report(y_true_classes, y_pred_classes, digits=4)\n",
    "\n",
    "# Print the classification report\n",
    "print(report)\n",
    "'''"
   ]
  },
  {
   "cell_type": "markdown",
   "metadata": {
    "id": "3QXKh8ritRbw"
   },
   "source": [
    "As you can see from the model performance results, the classification performance isn't exactly impressive. For Coursework 3, your group should explore and experiment with various models, parameters, and techniques in order to improve your model's performance."
   ]
  },
  {
   "cell_type": "markdown",
   "metadata": {
    "id": "iHNzGOHDtnQ4"
   },
   "source": [
    "# Exporting your model to TFLite\n",
    "\n",
    "You can use the TFLiteConverter class provided by TensorFlow to convert your trained model into the TensorFlow Lite format. We export models to TensorFlow Lite (TFLite) for several reasons, primarily because TFLite is designed for deployment on edge devices, such as mobile phones, embedded systems, IoT devices, and microcontrollers, where computational resources and power are limited. This is necessary as you will be running your ML models on your Android devices to perform live classification."
   ]
  },
  {
   "cell_type": "code",
   "execution_count": 45,
   "metadata": {
    "colab": {
     "base_uri": "https://localhost:8080/"
    },
    "id": "3_QKoJtmufDa",
    "outputId": "48d281ab-4ed3-4ee1-fd47-30f7f4c10b96"
   },
   "outputs": [
    {
     "name": "stdout",
     "output_type": "stream",
     "text": [
      "INFO:tensorflow:Assets written to: C:\\Users\\seanc\\AppData\\Local\\Temp\\tmp8l7v_hsy\\assets\n"
     ]
    },
    {
     "name": "stderr",
     "output_type": "stream",
     "text": [
      "INFO:tensorflow:Assets written to: C:\\Users\\seanc\\AppData\\Local\\Temp\\tmp8l7v_hsy\\assets\n"
     ]
    },
    {
     "name": "stdout",
     "output_type": "stream",
     "text": [
      "Saved artifact at 'C:\\Users\\seanc\\AppData\\Local\\Temp\\tmp8l7v_hsy'. The following endpoints are available:\n",
      "\n",
      "* Endpoint 'serve'\n",
      "  args_0 (POSITIONAL_ONLY): TensorSpec(shape=(None, 100, 3), dtype=tf.float32, name='keras_tensor_1064')\n",
      "Output Type:\n",
      "  TensorSpec(shape=(None, 11), dtype=tf.float32, name=None)\n",
      "Captures:\n",
      "  1366533180496: TensorSpec(shape=(), dtype=tf.resource, name=None)\n",
      "  1366533178000: TensorSpec(shape=(), dtype=tf.resource, name=None)\n",
      "  1366533178576: TensorSpec(shape=(), dtype=tf.resource, name=None)\n",
      "  1366533179536: TensorSpec(shape=(), dtype=tf.resource, name=None)\n",
      "  1366533178768: TensorSpec(shape=(), dtype=tf.resource, name=None)\n",
      "  1366533181648: TensorSpec(shape=(), dtype=tf.resource, name=None)\n",
      "  1366533177616: TensorSpec(shape=(), dtype=tf.resource, name=None)\n",
      "  1366533181456: TensorSpec(shape=(), dtype=tf.resource, name=None)\n",
      "  1366533179152: TensorSpec(shape=(), dtype=tf.resource, name=None)\n",
      "  1366533183568: TensorSpec(shape=(), dtype=tf.resource, name=None)\n",
      "INFO:tensorflow:Assets written to: C:\\Users\\seanc\\AppData\\Local\\Temp\\tmp1px920d1\\assets\n"
     ]
    },
    {
     "name": "stderr",
     "output_type": "stream",
     "text": [
      "INFO:tensorflow:Assets written to: C:\\Users\\seanc\\AppData\\Local\\Temp\\tmp1px920d1\\assets\n"
     ]
    },
    {
     "name": "stdout",
     "output_type": "stream",
     "text": [
      "Saved artifact at 'C:\\Users\\seanc\\AppData\\Local\\Temp\\tmp1px920d1'. The following endpoints are available:\n",
      "\n",
      "* Endpoint 'serve'\n",
      "  args_0 (POSITIONAL_ONLY): TensorSpec(shape=(None, 100, 3), dtype=tf.float32, name='keras_tensor_784')\n",
      "Output Type:\n",
      "  TensorSpec(shape=(None, 4), dtype=tf.float32, name=None)\n",
      "Captures:\n",
      "  1366661218576: TensorSpec(shape=(), dtype=tf.resource, name=None)\n",
      "  1366662103696: TensorSpec(shape=(), dtype=tf.resource, name=None)\n",
      "  1366662115984: TensorSpec(shape=(), dtype=tf.resource, name=None)\n",
      "  1366662104272: TensorSpec(shape=(), dtype=tf.resource, name=None)\n",
      "  1366662112912: TensorSpec(shape=(), dtype=tf.resource, name=None)\n",
      "  1366662103312: TensorSpec(shape=(), dtype=tf.resource, name=None)\n",
      "  1366662103504: TensorSpec(shape=(), dtype=tf.resource, name=None)\n",
      "  1366662117904: TensorSpec(shape=(), dtype=tf.resource, name=None)\n",
      "  1366662114640: TensorSpec(shape=(), dtype=tf.resource, name=None)\n",
      "  1366662116560: TensorSpec(shape=(), dtype=tf.resource, name=None)\n",
      "Activity model saved to activity_model.tflite\n",
      "Social signal model saved to social_signal_model.tflite\n"
     ]
    }
   ],
   "source": [
    "# Convert the trained Keras model to TensorFlow Lite format\n",
    "activity_converter = tf.lite.TFLiteConverter.from_keras_model(activity_model)  # model is your trained Keras model\n",
    "tflite_activity_model = activity_converter.convert()\n",
    "\n",
    "social_signal_converter = tf.lite.TFLiteConverter.from_keras_model(social_signal_model)  # model is your trained Keras model\n",
    "tflite_social_signal_model = social_signal_converter.convert()\n",
    "\n",
    "\n",
    "# Save the converted model to a .tflite file\n",
    "with open('activity_model.tflite', 'wb') as f:\n",
    "    f.write(tflite_activity_model)\n",
    "\n",
    "print(\"Activity model saved to activity_model.tflite\")\n",
    "\n",
    "with open('social_signal_model.tflite', 'wb') as f:\n",
    "    f.write(tflite_social_signal_model)\n",
    "\n",
    "print(\"Social signal model saved to social_signal_model.tflite\")"
   ]
  },
  {
   "cell_type": "markdown",
   "metadata": {
    "id": "FGOj682D0PfS"
   },
   "source": [
    "# Good job!\n",
    "This is the end of Lab 3. In the next lab, you will focus on deploying your machine learning model onto your Android App in order to classify activities in real-time."
   ]
  },
  {
   "cell_type": "markdown",
   "metadata": {},
   "source": []
  },
  {
   "cell_type": "code",
   "execution_count": 46,
   "metadata": {},
   "outputs": [],
   "source": [
    "import tensorflow as tf\n",
    "import numpy as np\n",
    "from sklearn.metrics import accuracy_score, classification_report\n",
    "\n",
    "def evaluate_tflite_model(tflite_model_path, X_val, y_val_one_hot):\n",
    "    # Load TFLite model and allocate tensors\n",
    "    interpreter = tf.lite.Interpreter(model_path=tflite_model_path)\n",
    "    interpreter.allocate_tensors()\n",
    "    \n",
    "    # Get input and output details\n",
    "    input_details = interpreter.get_input_details()\n",
    "    output_details = interpreter.get_output_details()\n",
    "    \n",
    "    # Run inference on each validation sample\n",
    "    predictions = []\n",
    "    for i in range(len(X_val)):\n",
    "        # Preprocess input\n",
    "        input_data = np.expand_dims(X_val[i], axis=0).astype(np.float32)\n",
    "        \n",
    "        # Set the input tensor\n",
    "        interpreter.set_tensor(input_details[0]['index'], input_data)\n",
    "        \n",
    "        # Run the inference\n",
    "        interpreter.invoke()\n",
    "        \n",
    "        # Get the output tensor and store the prediction\n",
    "        output_data = interpreter.get_tensor(output_details[0]['index'])\n",
    "        pred_class = np.argmax(output_data)\n",
    "        predictions.append(pred_class)\n",
    "    \n",
    "    # Convert one-hot encoded labels to class labels\n",
    "    y_true = np.argmax(y_val_one_hot, axis=1)\n",
    "    \n",
    "    # Calculate accuracy\n",
    "    accuracy = accuracy_score(y_true, predictions)\n",
    "    \n",
    "    # Print the classification report\n",
    "    report = classification_report(y_true, predictions, digits=4)\n",
    "    \n",
    "    return accuracy, report\n"
   ]
  },
  {
   "cell_type": "code",
   "execution_count": 47,
   "metadata": {},
   "outputs": [
    {
     "name": "stdout",
     "output_type": "stream",
     "text": [
      "INFO:tensorflow:Assets written to: C:\\Users\\seanc\\AppData\\Local\\Temp\\tmpdr_o4bxx\\assets\n"
     ]
    },
    {
     "name": "stderr",
     "output_type": "stream",
     "text": [
      "INFO:tensorflow:Assets written to: C:\\Users\\seanc\\AppData\\Local\\Temp\\tmpdr_o4bxx\\assets\n"
     ]
    },
    {
     "name": "stdout",
     "output_type": "stream",
     "text": [
      "Saved artifact at 'C:\\Users\\seanc\\AppData\\Local\\Temp\\tmpdr_o4bxx'. The following endpoints are available:\n",
      "\n",
      "* Endpoint 'serve'\n",
      "  args_0 (POSITIONAL_ONLY): TensorSpec(shape=(None, 100, 3), dtype=tf.float32, name='keras_tensor_1064')\n",
      "Output Type:\n",
      "  TensorSpec(shape=(None, 11), dtype=tf.float32, name=None)\n",
      "Captures:\n",
      "  1366533180496: TensorSpec(shape=(), dtype=tf.resource, name=None)\n",
      "  1366533178000: TensorSpec(shape=(), dtype=tf.resource, name=None)\n",
      "  1366533178576: TensorSpec(shape=(), dtype=tf.resource, name=None)\n",
      "  1366533179536: TensorSpec(shape=(), dtype=tf.resource, name=None)\n",
      "  1366533178768: TensorSpec(shape=(), dtype=tf.resource, name=None)\n",
      "  1366533181648: TensorSpec(shape=(), dtype=tf.resource, name=None)\n",
      "  1366533177616: TensorSpec(shape=(), dtype=tf.resource, name=None)\n",
      "  1366533181456: TensorSpec(shape=(), dtype=tf.resource, name=None)\n",
      "  1366533179152: TensorSpec(shape=(), dtype=tf.resource, name=None)\n",
      "  1366533183568: TensorSpec(shape=(), dtype=tf.resource, name=None)\n",
      "Fold 1 - Activity Model Accuracy: 0.9697\n",
      "              precision    recall  f1-score   support\n",
      "\n",
      "           0     0.9492    0.9853    0.9669       341\n",
      "           1     0.9407    0.7815    0.8538       325\n",
      "           2     0.9763    0.9909    0.9835      4822\n",
      "           3     0.9781    0.9096    0.9426       343\n",
      "           4     0.9903    0.9564    0.9731       321\n",
      "           5     0.9784    0.9650    0.9716      1969\n",
      "           6     0.9563    0.9559    0.9561      2017\n",
      "           7     0.9615    0.9568    0.9591      2060\n",
      "           8     0.9625    0.9900    0.9761      1997\n",
      "           9     0.9873    0.9482    0.9673       328\n",
      "          10     0.9971    0.9943    0.9957       351\n",
      "\n",
      "    accuracy                         0.9697     14874\n",
      "   macro avg     0.9707    0.9485    0.9587     14874\n",
      "weighted avg     0.9696    0.9697    0.9694     14874\n",
      "\n",
      "INFO:tensorflow:Assets written to: C:\\Users\\seanc\\AppData\\Local\\Temp\\tmphbcsyq1w\\assets\n"
     ]
    },
    {
     "name": "stderr",
     "output_type": "stream",
     "text": [
      "INFO:tensorflow:Assets written to: C:\\Users\\seanc\\AppData\\Local\\Temp\\tmphbcsyq1w\\assets\n"
     ]
    },
    {
     "name": "stdout",
     "output_type": "stream",
     "text": [
      "Saved artifact at 'C:\\Users\\seanc\\AppData\\Local\\Temp\\tmphbcsyq1w'. The following endpoints are available:\n",
      "\n",
      "* Endpoint 'serve'\n",
      "  args_0 (POSITIONAL_ONLY): TensorSpec(shape=(None, 100, 3), dtype=tf.float32, name='keras_tensor_1064')\n",
      "Output Type:\n",
      "  TensorSpec(shape=(None, 11), dtype=tf.float32, name=None)\n",
      "Captures:\n",
      "  1366533180496: TensorSpec(shape=(), dtype=tf.resource, name=None)\n",
      "  1366533178000: TensorSpec(shape=(), dtype=tf.resource, name=None)\n",
      "  1366533178576: TensorSpec(shape=(), dtype=tf.resource, name=None)\n",
      "  1366533179536: TensorSpec(shape=(), dtype=tf.resource, name=None)\n",
      "  1366533178768: TensorSpec(shape=(), dtype=tf.resource, name=None)\n",
      "  1366533181648: TensorSpec(shape=(), dtype=tf.resource, name=None)\n",
      "  1366533177616: TensorSpec(shape=(), dtype=tf.resource, name=None)\n",
      "  1366533181456: TensorSpec(shape=(), dtype=tf.resource, name=None)\n",
      "  1366533179152: TensorSpec(shape=(), dtype=tf.resource, name=None)\n",
      "  1366533183568: TensorSpec(shape=(), dtype=tf.resource, name=None)\n",
      "Fold 2 - Activity Model Accuracy: 0.9699\n",
      "              precision    recall  f1-score   support\n",
      "\n",
      "           0     0.9346    0.9885    0.9608       347\n",
      "           1     0.8932    0.7747    0.8298       324\n",
      "           2     0.9756    0.9920    0.9837      4725\n",
      "           3     0.9518    0.8706    0.9094       340\n",
      "           4     0.9940    0.9403    0.9664       352\n",
      "           5     0.9774    0.9718    0.9746      2089\n",
      "           6     0.9609    0.9600    0.9605      1999\n",
      "           7     0.9643    0.9595    0.9619      2001\n",
      "           8     0.9697    0.9900    0.9798      2006\n",
      "           9     0.9972    0.9288    0.9617       379\n",
      "          10     0.9968    0.9968    0.9968       312\n",
      "\n",
      "    accuracy                         0.9699     14874\n",
      "   macro avg     0.9651    0.9430    0.9532     14874\n",
      "weighted avg     0.9697    0.9699    0.9696     14874\n",
      "\n",
      "INFO:tensorflow:Assets written to: C:\\Users\\seanc\\AppData\\Local\\Temp\\tmpteuf7aru\\assets\n"
     ]
    },
    {
     "name": "stderr",
     "output_type": "stream",
     "text": [
      "INFO:tensorflow:Assets written to: C:\\Users\\seanc\\AppData\\Local\\Temp\\tmpteuf7aru\\assets\n"
     ]
    },
    {
     "name": "stdout",
     "output_type": "stream",
     "text": [
      "Saved artifact at 'C:\\Users\\seanc\\AppData\\Local\\Temp\\tmpteuf7aru'. The following endpoints are available:\n",
      "\n",
      "* Endpoint 'serve'\n",
      "  args_0 (POSITIONAL_ONLY): TensorSpec(shape=(None, 100, 3), dtype=tf.float32, name='keras_tensor_1064')\n",
      "Output Type:\n",
      "  TensorSpec(shape=(None, 11), dtype=tf.float32, name=None)\n",
      "Captures:\n",
      "  1366533180496: TensorSpec(shape=(), dtype=tf.resource, name=None)\n",
      "  1366533178000: TensorSpec(shape=(), dtype=tf.resource, name=None)\n",
      "  1366533178576: TensorSpec(shape=(), dtype=tf.resource, name=None)\n",
      "  1366533179536: TensorSpec(shape=(), dtype=tf.resource, name=None)\n",
      "  1366533178768: TensorSpec(shape=(), dtype=tf.resource, name=None)\n",
      "  1366533181648: TensorSpec(shape=(), dtype=tf.resource, name=None)\n",
      "  1366533177616: TensorSpec(shape=(), dtype=tf.resource, name=None)\n",
      "  1366533181456: TensorSpec(shape=(), dtype=tf.resource, name=None)\n",
      "  1366533179152: TensorSpec(shape=(), dtype=tf.resource, name=None)\n",
      "  1366533183568: TensorSpec(shape=(), dtype=tf.resource, name=None)\n",
      "Fold 3 - Activity Model Accuracy: 0.9685\n",
      "              precision    recall  f1-score   support\n",
      "\n",
      "           0     0.9423    0.9755    0.9586       368\n",
      "           1     0.9107    0.7615    0.8294       348\n",
      "           2     0.9782    0.9908    0.9845      4797\n",
      "           3     0.9722    0.9184    0.9445       343\n",
      "           4     1.0000    0.9426    0.9705       366\n",
      "           5     0.9758    0.9691    0.9724      2036\n",
      "           6     0.9576    0.9528    0.9552      1990\n",
      "           7     0.9469    0.9589    0.9529      1897\n",
      "           8     0.9692    0.9868    0.9779      2038\n",
      "           9     0.9880    0.9456    0.9663       349\n",
      "          10     0.9942    0.9942    0.9942       342\n",
      "\n",
      "    accuracy                         0.9685     14874\n",
      "   macro avg     0.9668    0.9451    0.9551     14874\n",
      "weighted avg     0.9684    0.9685    0.9682     14874\n",
      "\n",
      "INFO:tensorflow:Assets written to: C:\\Users\\seanc\\AppData\\Local\\Temp\\tmpalc9w4b1\\assets\n"
     ]
    },
    {
     "name": "stderr",
     "output_type": "stream",
     "text": [
      "INFO:tensorflow:Assets written to: C:\\Users\\seanc\\AppData\\Local\\Temp\\tmpalc9w4b1\\assets\n"
     ]
    },
    {
     "name": "stdout",
     "output_type": "stream",
     "text": [
      "Saved artifact at 'C:\\Users\\seanc\\AppData\\Local\\Temp\\tmpalc9w4b1'. The following endpoints are available:\n",
      "\n",
      "* Endpoint 'serve'\n",
      "  args_0 (POSITIONAL_ONLY): TensorSpec(shape=(None, 100, 3), dtype=tf.float32, name='keras_tensor_1064')\n",
      "Output Type:\n",
      "  TensorSpec(shape=(None, 11), dtype=tf.float32, name=None)\n",
      "Captures:\n",
      "  1366533180496: TensorSpec(shape=(), dtype=tf.resource, name=None)\n",
      "  1366533178000: TensorSpec(shape=(), dtype=tf.resource, name=None)\n",
      "  1366533178576: TensorSpec(shape=(), dtype=tf.resource, name=None)\n",
      "  1366533179536: TensorSpec(shape=(), dtype=tf.resource, name=None)\n",
      "  1366533178768: TensorSpec(shape=(), dtype=tf.resource, name=None)\n",
      "  1366533181648: TensorSpec(shape=(), dtype=tf.resource, name=None)\n",
      "  1366533177616: TensorSpec(shape=(), dtype=tf.resource, name=None)\n",
      "  1366533181456: TensorSpec(shape=(), dtype=tf.resource, name=None)\n",
      "  1366533179152: TensorSpec(shape=(), dtype=tf.resource, name=None)\n",
      "  1366533183568: TensorSpec(shape=(), dtype=tf.resource, name=None)\n",
      "Fold 4 - Activity Model Accuracy: 0.9717\n",
      "              precision    recall  f1-score   support\n",
      "\n",
      "           0     0.9657    0.9786    0.9721       374\n",
      "           1     0.9189    0.8168    0.8649       333\n",
      "           2     0.9811    0.9904    0.9857      4674\n",
      "           3     0.9786    0.8939    0.9343       358\n",
      "           4     0.9902    0.9497    0.9695       318\n",
      "           5     0.9764    0.9702    0.9733      2048\n",
      "           6     0.9651    0.9581    0.9616      2076\n",
      "           7     0.9631    0.9636    0.9633      2004\n",
      "           8     0.9606    0.9891    0.9746      2021\n",
      "           9     0.9752    0.9691    0.9721       324\n",
      "          10     0.9971    1.0000    0.9985       344\n",
      "\n",
      "    accuracy                         0.9717     14874\n",
      "   macro avg     0.9702    0.9527    0.9609     14874\n",
      "weighted avg     0.9716    0.9717    0.9715     14874\n",
      "\n",
      "INFO:tensorflow:Assets written to: C:\\Users\\seanc\\AppData\\Local\\Temp\\tmp2rh6jnwm\\assets\n"
     ]
    },
    {
     "name": "stderr",
     "output_type": "stream",
     "text": [
      "INFO:tensorflow:Assets written to: C:\\Users\\seanc\\AppData\\Local\\Temp\\tmp2rh6jnwm\\assets\n"
     ]
    },
    {
     "name": "stdout",
     "output_type": "stream",
     "text": [
      "Saved artifact at 'C:\\Users\\seanc\\AppData\\Local\\Temp\\tmp2rh6jnwm'. The following endpoints are available:\n",
      "\n",
      "* Endpoint 'serve'\n",
      "  args_0 (POSITIONAL_ONLY): TensorSpec(shape=(None, 100, 3), dtype=tf.float32, name='keras_tensor_1064')\n",
      "Output Type:\n",
      "  TensorSpec(shape=(None, 11), dtype=tf.float32, name=None)\n",
      "Captures:\n",
      "  1366533180496: TensorSpec(shape=(), dtype=tf.resource, name=None)\n",
      "  1366533178000: TensorSpec(shape=(), dtype=tf.resource, name=None)\n",
      "  1366533178576: TensorSpec(shape=(), dtype=tf.resource, name=None)\n",
      "  1366533179536: TensorSpec(shape=(), dtype=tf.resource, name=None)\n",
      "  1366533178768: TensorSpec(shape=(), dtype=tf.resource, name=None)\n",
      "  1366533181648: TensorSpec(shape=(), dtype=tf.resource, name=None)\n",
      "  1366533177616: TensorSpec(shape=(), dtype=tf.resource, name=None)\n",
      "  1366533181456: TensorSpec(shape=(), dtype=tf.resource, name=None)\n",
      "  1366533179152: TensorSpec(shape=(), dtype=tf.resource, name=None)\n",
      "  1366533183568: TensorSpec(shape=(), dtype=tf.resource, name=None)\n",
      "Fold 5 - Activity Model Accuracy: 0.9604\n",
      "              precision    recall  f1-score   support\n",
      "\n",
      "           0     0.8700    0.9676    0.9162       339\n",
      "           1     0.7958    0.6848    0.7362       330\n",
      "           2     0.9760    0.9894    0.9827      4730\n",
      "           3     0.8878    0.7814    0.8312       334\n",
      "           4     0.9414    0.8892    0.9145       343\n",
      "           5     0.9742    0.9689    0.9715      1991\n",
      "           6     0.9525    0.9572    0.9548      2031\n",
      "           7     0.9567    0.9553    0.9560      2014\n",
      "           8     0.9729    0.9879    0.9804      2071\n",
      "           9     0.9635    0.8880    0.9242       357\n",
      "          10     0.9672    0.9730    0.9701       333\n",
      "\n",
      "    accuracy                         0.9604     14873\n",
      "   macro avg     0.9325    0.9130    0.9216     14873\n",
      "weighted avg     0.9598    0.9604    0.9598     14873\n",
      "\n",
      "Average Activity Model Accuracy across folds: 0.9680\n"
     ]
    }
   ],
   "source": [
    "fold_no = 1\n",
    "activity_accuracies = []\n",
    "kfold = KFold(n_splits=5, shuffle=True, random_state=42)\n",
    "\n",
    "# Evaluate the activity TFLite model for each fold\n",
    "for train_index, val_index in kfold.split(X_activity):\n",
    "    # Split the validation set for this fold\n",
    "    X_val_fold_activity, y_val_fold_activity = X_activity[val_index], y_activity_one_hot[val_index]\n",
    "    \n",
    "    # Export and evaluate TFLite model for activity classification\n",
    "    activity_tflite_path = f'activity_model_fold_{fold_no}.tflite'\n",
    "    activity_converter = tf.lite.TFLiteConverter.from_keras_model(activity_model)\n",
    "    tflite_activity_model = activity_converter.convert()\n",
    "    with open(activity_tflite_path, 'wb') as f:\n",
    "        f.write(tflite_activity_model)\n",
    "        \n",
    "    # Test accuracy of the activity TFLite model\n",
    "    activity_accuracy, activity_report = evaluate_tflite_model(activity_tflite_path, X_val_fold_activity, y_val_fold_activity)\n",
    "    activity_accuracies.append(activity_accuracy)\n",
    "    print(f'Fold {fold_no} - Activity Model Accuracy: {activity_accuracy:.4f}')\n",
    "    print(activity_report)\n",
    "    \n",
    "    fold_no += 1\n",
    "\n",
    "average_activity_accuracy = np.mean(activity_accuracies)\n",
    "print(f'Average Activity Model Accuracy across folds: {average_activity_accuracy:.4f}')\n"
   ]
  },
  {
   "cell_type": "code",
   "execution_count": 48,
   "metadata": {},
   "outputs": [
    {
     "name": "stdout",
     "output_type": "stream",
     "text": [
      "INFO:tensorflow:Assets written to: C:\\Users\\seanc\\AppData\\Local\\Temp\\tmp_kwmd2pw\\assets\n"
     ]
    },
    {
     "name": "stderr",
     "output_type": "stream",
     "text": [
      "INFO:tensorflow:Assets written to: C:\\Users\\seanc\\AppData\\Local\\Temp\\tmp_kwmd2pw\\assets\n"
     ]
    },
    {
     "name": "stdout",
     "output_type": "stream",
     "text": [
      "Saved artifact at 'C:\\Users\\seanc\\AppData\\Local\\Temp\\tmp_kwmd2pw'. The following endpoints are available:\n",
      "\n",
      "* Endpoint 'serve'\n",
      "  args_0 (POSITIONAL_ONLY): TensorSpec(shape=(None, 100, 3), dtype=tf.float32, name='keras_tensor_784')\n",
      "Output Type:\n",
      "  TensorSpec(shape=(None, 4), dtype=tf.float32, name=None)\n",
      "Captures:\n",
      "  1366661218576: TensorSpec(shape=(), dtype=tf.resource, name=None)\n",
      "  1366662103696: TensorSpec(shape=(), dtype=tf.resource, name=None)\n",
      "  1366662115984: TensorSpec(shape=(), dtype=tf.resource, name=None)\n",
      "  1366662104272: TensorSpec(shape=(), dtype=tf.resource, name=None)\n",
      "  1366662112912: TensorSpec(shape=(), dtype=tf.resource, name=None)\n",
      "  1366662103312: TensorSpec(shape=(), dtype=tf.resource, name=None)\n",
      "  1366662103504: TensorSpec(shape=(), dtype=tf.resource, name=None)\n",
      "  1366662117904: TensorSpec(shape=(), dtype=tf.resource, name=None)\n",
      "  1366662114640: TensorSpec(shape=(), dtype=tf.resource, name=None)\n",
      "  1366662116560: TensorSpec(shape=(), dtype=tf.resource, name=None)\n",
      "Fold 1 - Social Signal Model Accuracy: 0.8183\n",
      "              precision    recall  f1-score   support\n",
      "\n",
      "           0     0.7916    0.9159    0.8492     19696\n",
      "           1     0.7880    0.9041    0.8420      9726\n",
      "           2     0.8724    0.6404    0.7386      9643\n",
      "           3     0.8369    0.7859    0.8106     32191\n",
      "\n",
      "    accuracy                         0.8183     71256\n",
      "   macro avg     0.8222    0.8116    0.8101     71256\n",
      "weighted avg     0.8225    0.8183    0.8158     71256\n",
      "\n",
      "INFO:tensorflow:Assets written to: C:\\Users\\seanc\\AppData\\Local\\Temp\\tmpopzmhgum\\assets\n"
     ]
    },
    {
     "name": "stderr",
     "output_type": "stream",
     "text": [
      "INFO:tensorflow:Assets written to: C:\\Users\\seanc\\AppData\\Local\\Temp\\tmpopzmhgum\\assets\n"
     ]
    },
    {
     "name": "stdout",
     "output_type": "stream",
     "text": [
      "Saved artifact at 'C:\\Users\\seanc\\AppData\\Local\\Temp\\tmpopzmhgum'. The following endpoints are available:\n",
      "\n",
      "* Endpoint 'serve'\n",
      "  args_0 (POSITIONAL_ONLY): TensorSpec(shape=(None, 100, 3), dtype=tf.float32, name='keras_tensor_784')\n",
      "Output Type:\n",
      "  TensorSpec(shape=(None, 4), dtype=tf.float32, name=None)\n",
      "Captures:\n",
      "  1366661218576: TensorSpec(shape=(), dtype=tf.resource, name=None)\n",
      "  1366662103696: TensorSpec(shape=(), dtype=tf.resource, name=None)\n",
      "  1366662115984: TensorSpec(shape=(), dtype=tf.resource, name=None)\n",
      "  1366662104272: TensorSpec(shape=(), dtype=tf.resource, name=None)\n",
      "  1366662112912: TensorSpec(shape=(), dtype=tf.resource, name=None)\n",
      "  1366662103312: TensorSpec(shape=(), dtype=tf.resource, name=None)\n",
      "  1366662103504: TensorSpec(shape=(), dtype=tf.resource, name=None)\n",
      "  1366662117904: TensorSpec(shape=(), dtype=tf.resource, name=None)\n",
      "  1366662114640: TensorSpec(shape=(), dtype=tf.resource, name=None)\n",
      "  1366662116560: TensorSpec(shape=(), dtype=tf.resource, name=None)\n",
      "Fold 2 - Social Signal Model Accuracy: 0.8217\n",
      "              precision    recall  f1-score   support\n",
      "\n",
      "           0     0.7987    0.9136    0.8523     20105\n",
      "           1     0.7938    0.9024    0.8446      9558\n",
      "           2     0.8768    0.6475    0.7449      9682\n",
      "           3     0.8361    0.7925    0.8137     31911\n",
      "\n",
      "    accuracy                         0.8217     71256\n",
      "   macro avg     0.8264    0.8140    0.8139     71256\n",
      "weighted avg     0.8254    0.8217    0.8194     71256\n",
      "\n",
      "INFO:tensorflow:Assets written to: C:\\Users\\seanc\\AppData\\Local\\Temp\\tmp4budevvy\\assets\n"
     ]
    },
    {
     "name": "stderr",
     "output_type": "stream",
     "text": [
      "INFO:tensorflow:Assets written to: C:\\Users\\seanc\\AppData\\Local\\Temp\\tmp4budevvy\\assets\n"
     ]
    },
    {
     "name": "stdout",
     "output_type": "stream",
     "text": [
      "Saved artifact at 'C:\\Users\\seanc\\AppData\\Local\\Temp\\tmp4budevvy'. The following endpoints are available:\n",
      "\n",
      "* Endpoint 'serve'\n",
      "  args_0 (POSITIONAL_ONLY): TensorSpec(shape=(None, 100, 3), dtype=tf.float32, name='keras_tensor_784')\n",
      "Output Type:\n",
      "  TensorSpec(shape=(None, 4), dtype=tf.float32, name=None)\n",
      "Captures:\n",
      "  1366661218576: TensorSpec(shape=(), dtype=tf.resource, name=None)\n",
      "  1366662103696: TensorSpec(shape=(), dtype=tf.resource, name=None)\n",
      "  1366662115984: TensorSpec(shape=(), dtype=tf.resource, name=None)\n",
      "  1366662104272: TensorSpec(shape=(), dtype=tf.resource, name=None)\n",
      "  1366662112912: TensorSpec(shape=(), dtype=tf.resource, name=None)\n",
      "  1366662103312: TensorSpec(shape=(), dtype=tf.resource, name=None)\n",
      "  1366662103504: TensorSpec(shape=(), dtype=tf.resource, name=None)\n",
      "  1366662117904: TensorSpec(shape=(), dtype=tf.resource, name=None)\n",
      "  1366662114640: TensorSpec(shape=(), dtype=tf.resource, name=None)\n",
      "  1366662116560: TensorSpec(shape=(), dtype=tf.resource, name=None)\n",
      "Fold 3 - Social Signal Model Accuracy: 0.8220\n",
      "              precision    recall  f1-score   support\n",
      "\n",
      "           0     0.7937    0.9180    0.8514     19875\n",
      "           1     0.7893    0.9077    0.8444      9557\n",
      "           2     0.8776    0.6478    0.7454      9614\n",
      "           3     0.8424    0.7894    0.8150     32210\n",
      "\n",
      "    accuracy                         0.8220     71256\n",
      "   macro avg     0.8257    0.8157    0.8140     71256\n",
      "weighted avg     0.8264    0.8220    0.8197     71256\n",
      "\n",
      "INFO:tensorflow:Assets written to: C:\\Users\\seanc\\AppData\\Local\\Temp\\tmp3afu98mi\\assets\n"
     ]
    },
    {
     "name": "stderr",
     "output_type": "stream",
     "text": [
      "INFO:tensorflow:Assets written to: C:\\Users\\seanc\\AppData\\Local\\Temp\\tmp3afu98mi\\assets\n"
     ]
    },
    {
     "name": "stdout",
     "output_type": "stream",
     "text": [
      "Saved artifact at 'C:\\Users\\seanc\\AppData\\Local\\Temp\\tmp3afu98mi'. The following endpoints are available:\n",
      "\n",
      "* Endpoint 'serve'\n",
      "  args_0 (POSITIONAL_ONLY): TensorSpec(shape=(None, 100, 3), dtype=tf.float32, name='keras_tensor_784')\n",
      "Output Type:\n",
      "  TensorSpec(shape=(None, 4), dtype=tf.float32, name=None)\n",
      "Captures:\n",
      "  1366661218576: TensorSpec(shape=(), dtype=tf.resource, name=None)\n",
      "  1366662103696: TensorSpec(shape=(), dtype=tf.resource, name=None)\n",
      "  1366662115984: TensorSpec(shape=(), dtype=tf.resource, name=None)\n",
      "  1366662104272: TensorSpec(shape=(), dtype=tf.resource, name=None)\n",
      "  1366662112912: TensorSpec(shape=(), dtype=tf.resource, name=None)\n",
      "  1366662103312: TensorSpec(shape=(), dtype=tf.resource, name=None)\n",
      "  1366662103504: TensorSpec(shape=(), dtype=tf.resource, name=None)\n",
      "  1366662117904: TensorSpec(shape=(), dtype=tf.resource, name=None)\n",
      "  1366662114640: TensorSpec(shape=(), dtype=tf.resource, name=None)\n",
      "  1366662116560: TensorSpec(shape=(), dtype=tf.resource, name=None)\n",
      "Fold 4 - Social Signal Model Accuracy: 0.8199\n",
      "              precision    recall  f1-score   support\n",
      "\n",
      "           0     0.7937    0.9137    0.8495     19603\n",
      "           1     0.7874    0.9016    0.8407      9587\n",
      "           2     0.8752    0.6407    0.7398      9665\n",
      "           3     0.8382    0.7925    0.8147     32401\n",
      "\n",
      "    accuracy                         0.8199     71256\n",
      "   macro avg     0.8236    0.8121    0.8112     71256\n",
      "weighted avg     0.8241    0.8199    0.8176     71256\n",
      "\n",
      "INFO:tensorflow:Assets written to: C:\\Users\\seanc\\AppData\\Local\\Temp\\tmpwekxcuxi\\assets\n"
     ]
    },
    {
     "name": "stderr",
     "output_type": "stream",
     "text": [
      "INFO:tensorflow:Assets written to: C:\\Users\\seanc\\AppData\\Local\\Temp\\tmpwekxcuxi\\assets\n"
     ]
    },
    {
     "name": "stdout",
     "output_type": "stream",
     "text": [
      "Saved artifact at 'C:\\Users\\seanc\\AppData\\Local\\Temp\\tmpwekxcuxi'. The following endpoints are available:\n",
      "\n",
      "* Endpoint 'serve'\n",
      "  args_0 (POSITIONAL_ONLY): TensorSpec(shape=(None, 100, 3), dtype=tf.float32, name='keras_tensor_784')\n",
      "Output Type:\n",
      "  TensorSpec(shape=(None, 4), dtype=tf.float32, name=None)\n",
      "Captures:\n",
      "  1366661218576: TensorSpec(shape=(), dtype=tf.resource, name=None)\n",
      "  1366662103696: TensorSpec(shape=(), dtype=tf.resource, name=None)\n",
      "  1366662115984: TensorSpec(shape=(), dtype=tf.resource, name=None)\n",
      "  1366662104272: TensorSpec(shape=(), dtype=tf.resource, name=None)\n",
      "  1366662112912: TensorSpec(shape=(), dtype=tf.resource, name=None)\n",
      "  1366662103312: TensorSpec(shape=(), dtype=tf.resource, name=None)\n",
      "  1366662103504: TensorSpec(shape=(), dtype=tf.resource, name=None)\n",
      "  1366662117904: TensorSpec(shape=(), dtype=tf.resource, name=None)\n",
      "  1366662114640: TensorSpec(shape=(), dtype=tf.resource, name=None)\n",
      "  1366662116560: TensorSpec(shape=(), dtype=tf.resource, name=None)\n",
      "Fold 5 - Social Signal Model Accuracy: 0.8128\n",
      "              precision    recall  f1-score   support\n",
      "\n",
      "           0     0.7904    0.9145    0.8479     19587\n",
      "           1     0.7705    0.8984    0.8296      9760\n",
      "           2     0.8630    0.6323    0.7299      9802\n",
      "           3     0.8337    0.7798    0.8058     32106\n",
      "\n",
      "    accuracy                         0.8128     71255\n",
      "   macro avg     0.8144    0.8062    0.8033     71255\n",
      "weighted avg     0.8172    0.8128    0.8102     71255\n",
      "\n",
      "Average Social Signal Model Accuracy across folds: 0.8189\n"
     ]
    }
   ],
   "source": [
    "fold_no = 1\n",
    "social_signal_accuracies = []\n",
    "\n",
    "# Evaluate the social signal TFLite model for each fold\n",
    "for train_index, val_index in kfold.split(X_social_signal):\n",
    "    # Split the validation set for this fold\n",
    "    X_val_fold_social_signal, y_val_fold_social_signal = X_social_signal[val_index], y_social_signal_one_hot[val_index]\n",
    "    \n",
    "    # Export and evaluate TFLite model for social signal classification\n",
    "    social_signal_tflite_path = f'social_signal_model_fold_{fold_no}.tflite'\n",
    "    social_signal_converter = tf.lite.TFLiteConverter.from_keras_model(social_signal_model)\n",
    "    tflite_social_signal_model = social_signal_converter.convert()\n",
    "    with open(social_signal_tflite_path, 'wb') as f:\n",
    "        f.write(tflite_social_signal_model)\n",
    "        \n",
    "    # Test accuracy of the social signal TFLite model\n",
    "    social_signal_accuracy, social_signal_report = evaluate_tflite_model(social_signal_tflite_path, X_val_fold_social_signal, y_val_fold_social_signal)\n",
    "    social_signal_accuracies.append(social_signal_accuracy)\n",
    "    print(f'Fold {fold_no} - Social Signal Model Accuracy: {social_signal_accuracy:.4f}')\n",
    "    print(social_signal_report)\n",
    "    \n",
    "    fold_no += 1\n",
    "\n",
    "average_social_signal_accuracy = np.mean(social_signal_accuracies)\n",
    "print(f'Average Social Signal Model Accuracy across folds: {average_social_signal_accuracy:.4f}')\n"
   ]
  },
  {
   "cell_type": "markdown",
   "metadata": {},
   "source": []
  },
  {
   "cell_type": "markdown",
   "metadata": {},
   "source": []
  }
 ],
 "metadata": {
  "colab": {
   "provenance": []
  },
  "kernelspec": {
   "display_name": "pdiot",
   "language": "python",
   "name": "python3"
  },
  "language_info": {
   "codemirror_mode": {
    "name": "ipython",
    "version": 3
   },
   "file_extension": ".py",
   "mimetype": "text/x-python",
   "name": "python",
   "nbconvert_exporter": "python",
   "pygments_lexer": "ipython3",
   "version": "3.12.5"
  }
 },
 "nbformat": 4,
 "nbformat_minor": 4
}
