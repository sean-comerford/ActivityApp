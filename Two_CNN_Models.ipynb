{
 "cells": [
  {
   "cell_type": "markdown",
   "metadata": {
    "id": "Rzd9Z9OZxNvd"
   },
   "source": [
    "# **Lab 3 - Activity Recognition with Machine Learning**\n",
    "\n",
    "This notebook implements a machine learning workflow to recognize different physical activities from Respeck sensor data. The dataset includes multiple 30-second recordings of various physical activities (e.g., ascending stairs, shuffle walking, sitting-standing) stored in separate CSV files for each activity.\n",
    "\n",
    "You will then use the model you develop here and deploy it inside your Android app for live classification.\n",
    "\n",
    "In this week, you will not have access to the full dataset as of yet. However, you can complete this lab by combining the data that you and your group mates have collected in Coursework 1 as proof-of-concept first for when you eventually receive the full dataset.\n"
   ]
  },
  {
   "cell_type": "markdown",
   "metadata": {
    "id": "fXyHZD1A0X7J"
   },
   "source": [
    "# Imports"
   ]
  },
  {
   "cell_type": "code",
   "execution_count": 1,
   "metadata": {
    "id": "s2B8Hymdj1Sg"
   },
   "outputs": [],
   "source": [
    "# Importing libraries that will be used\n",
    "import pandas as pd\n",
    "import numpy as np\n",
    "import glob\n",
    "import os\n",
    "from sklearn.model_selection import train_test_split\n",
    "from sklearn.preprocessing import OneHotEncoder\n",
    "import tensorflow as tf\n",
    "from tensorflow.keras.models import Sequential\n",
    "from tensorflow.keras.layers import Conv1D, MaxPooling1D, Flatten, Dense, Dropout, Input, LSTM, Attention\n",
    "from tensorflow.keras.models import Model\n",
    "from sklearn.utils import resample\n",
    "from tensorflow.keras.regularizers import l2\n",
    "from sklearn.metrics import classification_report, accuracy_score, confusion_matrix, ConfusionMatrixDisplay\n",
    "from sklearn.model_selection import KFold"
   ]
  },
  {
   "cell_type": "markdown",
   "metadata": {
    "id": "icbrBf1Kl6vp"
   },
   "source": [
    "# Reading Files\n",
    "Reading files from your dataset"
   ]
  },
  {
   "cell_type": "code",
   "execution_count": 2,
   "metadata": {},
   "outputs": [
    {
     "name": "stdout",
     "output_type": "stream",
     "text": [
      "c:\\Users\\seanc\\OneDrive - University of Edinburgh\\Semester 1\\PDIOT\\CW3\\ActivityApp\n"
     ]
    }
   ],
   "source": [
    "import os\n",
    "\n",
    "# Print the current working directory\n",
    "print(os.getcwd())"
   ]
  },
  {
   "cell_type": "code",
   "execution_count": 3,
   "metadata": {
    "id": "pTsJd33Kl44J"
   },
   "outputs": [],
   "source": [
    "# Path to Respeck data\n",
    "your_dataset_path = \"./PDIoT2324/Respeck/\""
   ]
  },
  {
   "cell_type": "markdown",
   "metadata": {
    "id": "gOTe3o9Il4ST"
   },
   "source": [
    "This line uses the glob module to find all file paths that match a specified pattern. The 'glob.glob()' function returns a list of file paths that match the given pattern. `your_dataset_path` should be the directory where your dataset files are located.\n",
    "\n",
    "The `*` is a wildcard character that matches any string of characters,  so this pattern retrieves all folders in the 'your_dataset_path' directory.\n",
    "\n",
    "Below is just an example of what your dataset folder can look like. You should refer to the Coursework 3 instructions on what classes your model(s) are expected to be able to classify. Within your dataset directory, there should be subfolders, each representing a class of activity."
   ]
  },
  {
   "cell_type": "code",
   "execution_count": 4,
   "metadata": {
    "colab": {
     "base_uri": "https://localhost:8080/"
    },
    "id": "-4izGxKkllz6",
    "outputId": "49f7031e-36ae-454a-a8dc-4a7e92243315"
   },
   "outputs": [
    {
     "data": {
      "text/plain": [
       "['./PDIoT2324/Respeck\\\\00_Respeck_Descending stairs_Normal.csv',\n",
       " './PDIoT2324/Respeck\\\\00_Respeck_Lying down back_Coughing.csv',\n",
       " './PDIoT2324/Respeck\\\\00_Respeck_Lying down back_Hyperventilating.csv',\n",
       " './PDIoT2324/Respeck\\\\00_Respeck_Lying down back_Laughing.csv',\n",
       " './PDIoT2324/Respeck\\\\00_Respeck_Lying down back_Normal.csv',\n",
       " './PDIoT2324/Respeck\\\\00_Respeck_Lying down back_Singing.csv',\n",
       " './PDIoT2324/Respeck\\\\00_Respeck_Lying down back_Talking.csv',\n",
       " './PDIoT2324/Respeck\\\\00_Respeck_Lying down on left_Coughing.csv',\n",
       " './PDIoT2324/Respeck\\\\00_Respeck_Lying down on left_Hyperventilating.csv',\n",
       " './PDIoT2324/Respeck\\\\00_Respeck_Lying down on left_Laughing.csv',\n",
       " './PDIoT2324/Respeck\\\\00_Respeck_Lying down on left_Normal.csv',\n",
       " './PDIoT2324/Respeck\\\\00_Respeck_Lying down on left_Singing.csv',\n",
       " './PDIoT2324/Respeck\\\\00_Respeck_Lying down on left_Talking.csv',\n",
       " './PDIoT2324/Respeck\\\\00_Respeck_Lying down on stomach_Coughing.csv',\n",
       " './PDIoT2324/Respeck\\\\00_Respeck_Lying down on stomach_Hyperventilating.csv',\n",
       " './PDIoT2324/Respeck\\\\00_Respeck_Lying down on stomach_Laughing.csv',\n",
       " './PDIoT2324/Respeck\\\\00_Respeck_Lying down on stomach_Normal.csv',\n",
       " './PDIoT2324/Respeck\\\\00_Respeck_Lying down on stomach_Singing.csv',\n",
       " './PDIoT2324/Respeck\\\\00_Respeck_Lying down on stomach_Talking.csv',\n",
       " './PDIoT2324/Respeck\\\\00_Respeck_Lying down right_Coughing.csv',\n",
       " './PDIoT2324/Respeck\\\\00_Respeck_Lying down right_Hyperventilating.csv',\n",
       " './PDIoT2324/Respeck\\\\00_Respeck_Lying down right_Laughing.csv',\n",
       " './PDIoT2324/Respeck\\\\00_Respeck_Lying down right_Normal.csv',\n",
       " './PDIoT2324/Respeck\\\\00_Respeck_Lying down right_Singing.csv',\n",
       " './PDIoT2324/Respeck\\\\00_Respeck_Lying down right_Talking.csv',\n",
       " './PDIoT2324/Respeck\\\\00_Respeck_Miscellaneous movements_Normal.csv',\n",
       " './PDIoT2324/Respeck\\\\00_Respeck_Normal walking_Normal.csv',\n",
       " './PDIoT2324/Respeck\\\\00_Respeck_Running_Normal.csv',\n",
       " './PDIoT2324/Respeck\\\\00_Respeck_Shuffle walking_Normal.csv',\n",
       " './PDIoT2324/Respeck\\\\00_Respeck_Sitting_Coughing.csv',\n",
       " './PDIoT2324/Respeck\\\\00_Respeck_Sitting_Eating.csv',\n",
       " './PDIoT2324/Respeck\\\\00_Respeck_Sitting_Laughing.csv',\n",
       " './PDIoT2324/Respeck\\\\00_Respeck_Sitting_Normal.csv',\n",
       " './PDIoT2324/Respeck\\\\00_Respeck_Sitting_Singing.csv',\n",
       " './PDIoT2324/Respeck\\\\00_Respeck_Sitting_Talking.csv',\n",
       " './PDIoT2324/Respeck\\\\00_Respeck_Standing_Coughing.csv',\n",
       " './PDIoT2324/Respeck\\\\00_Respeck_Standing_Eating.csv',\n",
       " './PDIoT2324/Respeck\\\\00_Respeck_Standing_Hyperventilating.csv',\n",
       " './PDIoT2324/Respeck\\\\00_Respeck_Standing_Laughing.csv',\n",
       " './PDIoT2324/Respeck\\\\00_Respeck_Standing_Normal.csv',\n",
       " './PDIoT2324/Respeck\\\\00_Respeck_Standing_Singing.csv',\n",
       " './PDIoT2324/Respeck\\\\00_Respeck_Standing_Talking.csv',\n",
       " './PDIoT2324/Respeck\\\\02_Respeck_Ascending stairs_Normal.csv',\n",
       " './PDIoT2324/Respeck\\\\02_Respeck_Descending stairs_Normal.csv',\n",
       " './PDIoT2324/Respeck\\\\02_Respeck_Lying down back_Coughing.csv',\n",
       " './PDIoT2324/Respeck\\\\02_Respeck_Lying down back_Hyperventilating.csv',\n",
       " './PDIoT2324/Respeck\\\\02_Respeck_Lying down back_Laughing.csv',\n",
       " './PDIoT2324/Respeck\\\\02_Respeck_Lying down back_Normal.csv',\n",
       " './PDIoT2324/Respeck\\\\02_Respeck_Lying down back_Singing.csv',\n",
       " './PDIoT2324/Respeck\\\\02_Respeck_Lying down back_Talking.csv',\n",
       " './PDIoT2324/Respeck\\\\02_Respeck_Lying down on left_Coughing.csv',\n",
       " './PDIoT2324/Respeck\\\\02_Respeck_Lying down on left_Hyperventilating.csv',\n",
       " './PDIoT2324/Respeck\\\\02_Respeck_Lying down on left_Laughing.csv',\n",
       " './PDIoT2324/Respeck\\\\02_Respeck_Lying down on left_Normal.csv',\n",
       " './PDIoT2324/Respeck\\\\02_Respeck_Lying down on left_Singing.csv',\n",
       " './PDIoT2324/Respeck\\\\02_Respeck_Lying down on left_Talking.csv',\n",
       " './PDIoT2324/Respeck\\\\02_Respeck_Lying down on stomach_Coughing.csv',\n",
       " './PDIoT2324/Respeck\\\\02_Respeck_Lying down on stomach_Hyperventilating.csv',\n",
       " './PDIoT2324/Respeck\\\\02_Respeck_Lying down on stomach_Laughing.csv',\n",
       " './PDIoT2324/Respeck\\\\02_Respeck_Lying down on stomach_Normal.csv',\n",
       " './PDIoT2324/Respeck\\\\02_Respeck_Lying down on stomach_Singing.csv',\n",
       " './PDIoT2324/Respeck\\\\02_Respeck_Lying down on stomach_Talking.csv',\n",
       " './PDIoT2324/Respeck\\\\02_Respeck_Lying down right_Coughing.csv',\n",
       " './PDIoT2324/Respeck\\\\02_Respeck_Lying down right_Hyperventilating.csv',\n",
       " './PDIoT2324/Respeck\\\\02_Respeck_Lying down right_Laughing.csv',\n",
       " './PDIoT2324/Respeck\\\\02_Respeck_Lying down right_Normal.csv',\n",
       " './PDIoT2324/Respeck\\\\02_Respeck_Lying down right_Singing.csv',\n",
       " './PDIoT2324/Respeck\\\\02_Respeck_Lying down right_Talking.csv',\n",
       " './PDIoT2324/Respeck\\\\02_Respeck_Miscellaneous movements_Normal.csv',\n",
       " './PDIoT2324/Respeck\\\\02_Respeck_Normal walking_Normal.csv',\n",
       " './PDIoT2324/Respeck\\\\02_Respeck_Running_Normal.csv',\n",
       " './PDIoT2324/Respeck\\\\02_Respeck_Shuffle walking_Normal.csv',\n",
       " './PDIoT2324/Respeck\\\\02_Respeck_Sitting_Coughing.csv',\n",
       " './PDIoT2324/Respeck\\\\02_Respeck_Sitting_Eating.csv',\n",
       " './PDIoT2324/Respeck\\\\02_Respeck_Sitting_Hyperventilating.csv',\n",
       " './PDIoT2324/Respeck\\\\02_Respeck_Sitting_Laughing.csv',\n",
       " './PDIoT2324/Respeck\\\\02_Respeck_Sitting_Normal.csv',\n",
       " './PDIoT2324/Respeck\\\\02_Respeck_Sitting_Singing.csv',\n",
       " './PDIoT2324/Respeck\\\\02_Respeck_Sitting_Talking.csv',\n",
       " './PDIoT2324/Respeck\\\\02_Respeck_Standing_Coughing.csv',\n",
       " './PDIoT2324/Respeck\\\\02_Respeck_Standing_Eating.csv',\n",
       " './PDIoT2324/Respeck\\\\02_Respeck_Standing_Hyperventilating.csv',\n",
       " './PDIoT2324/Respeck\\\\02_Respeck_Standing_Laughing.csv',\n",
       " './PDIoT2324/Respeck\\\\02_Respeck_Standing_Normal.csv',\n",
       " './PDIoT2324/Respeck\\\\02_Respeck_Standing_Singing.csv',\n",
       " './PDIoT2324/Respeck\\\\02_Respeck_Standing_Talking.csv',\n",
       " './PDIoT2324/Respeck\\\\03_Respeck_Ascending stairs_Normal.csv',\n",
       " './PDIoT2324/Respeck\\\\03_Respeck_Descending stairs_Normal.csv',\n",
       " './PDIoT2324/Respeck\\\\03_Respeck_Lying down back_Coughing.csv',\n",
       " './PDIoT2324/Respeck\\\\03_Respeck_Lying down back_Hyperventilating.csv',\n",
       " './PDIoT2324/Respeck\\\\03_Respeck_Lying down back_Laughing.csv',\n",
       " './PDIoT2324/Respeck\\\\03_Respeck_Lying down back_Normal.csv',\n",
       " './PDIoT2324/Respeck\\\\03_Respeck_Lying down back_Singing.csv',\n",
       " './PDIoT2324/Respeck\\\\03_Respeck_Lying down back_Talking.csv',\n",
       " './PDIoT2324/Respeck\\\\03_Respeck_Lying down on left_Coughing.csv',\n",
       " './PDIoT2324/Respeck\\\\03_Respeck_Lying down on left_Hyperventilating.csv',\n",
       " './PDIoT2324/Respeck\\\\03_Respeck_Lying down on left_Laughing.csv',\n",
       " './PDIoT2324/Respeck\\\\03_Respeck_Lying down on left_Normal.csv',\n",
       " './PDIoT2324/Respeck\\\\03_Respeck_Lying down on left_Singing.csv',\n",
       " './PDIoT2324/Respeck\\\\03_Respeck_Lying down on left_Talking.csv',\n",
       " './PDIoT2324/Respeck\\\\03_Respeck_Lying down on stomach_Coughing.csv',\n",
       " './PDIoT2324/Respeck\\\\03_Respeck_Lying down on stomach_Hyperventilating.csv',\n",
       " './PDIoT2324/Respeck\\\\03_Respeck_Lying down on stomach_Laughing.csv',\n",
       " './PDIoT2324/Respeck\\\\03_Respeck_Lying down on stomach_Normal.csv',\n",
       " './PDIoT2324/Respeck\\\\03_Respeck_Lying down on stomach_Singing.csv',\n",
       " './PDIoT2324/Respeck\\\\03_Respeck_Lying down on stomach_Talking.csv',\n",
       " './PDIoT2324/Respeck\\\\03_Respeck_Lying down right_Coughing.csv',\n",
       " './PDIoT2324/Respeck\\\\03_Respeck_Lying down right_Hyperventilating.csv',\n",
       " './PDIoT2324/Respeck\\\\03_Respeck_Lying down right_Laughing.csv',\n",
       " './PDIoT2324/Respeck\\\\03_Respeck_Lying down right_Normal.csv',\n",
       " './PDIoT2324/Respeck\\\\03_Respeck_Lying down right_Singing.csv',\n",
       " './PDIoT2324/Respeck\\\\03_Respeck_Lying down right_Talking.csv',\n",
       " './PDIoT2324/Respeck\\\\03_Respeck_Miscellaneous movements_Normal.csv',\n",
       " './PDIoT2324/Respeck\\\\03_Respeck_Normal walking_Normal.csv',\n",
       " './PDIoT2324/Respeck\\\\03_Respeck_Running_Normal.csv',\n",
       " './PDIoT2324/Respeck\\\\03_Respeck_Shuffle walking_Normal.csv',\n",
       " './PDIoT2324/Respeck\\\\03_Respeck_Sitting_Coughing.csv',\n",
       " './PDIoT2324/Respeck\\\\03_Respeck_Sitting_Eating.csv',\n",
       " './PDIoT2324/Respeck\\\\03_Respeck_Sitting_Hyperventilating.csv',\n",
       " './PDIoT2324/Respeck\\\\03_Respeck_Sitting_Laughing.csv',\n",
       " './PDIoT2324/Respeck\\\\03_Respeck_Sitting_Normal.csv',\n",
       " './PDIoT2324/Respeck\\\\03_Respeck_Sitting_Singing.csv',\n",
       " './PDIoT2324/Respeck\\\\03_Respeck_Sitting_Talking.csv',\n",
       " './PDIoT2324/Respeck\\\\03_Respeck_Standing_Coughing.csv',\n",
       " './PDIoT2324/Respeck\\\\03_Respeck_Standing_Eating.csv',\n",
       " './PDIoT2324/Respeck\\\\03_Respeck_Standing_Hyperventilating.csv',\n",
       " './PDIoT2324/Respeck\\\\03_Respeck_Standing_Laughing.csv',\n",
       " './PDIoT2324/Respeck\\\\03_Respeck_Standing_Normal.csv',\n",
       " './PDIoT2324/Respeck\\\\03_Respeck_Standing_Singing.csv',\n",
       " './PDIoT2324/Respeck\\\\03_Respeck_Standing_Talking.csv',\n",
       " './PDIoT2324/Respeck\\\\04_Respeck_Ascending stairs_Normal.csv',\n",
       " './PDIoT2324/Respeck\\\\04_Respeck_Descending stairs_Normal.csv',\n",
       " './PDIoT2324/Respeck\\\\04_Respeck_Lying down back_Hyperventilating.csv',\n",
       " './PDIoT2324/Respeck\\\\04_Respeck_Lying down back_Normal.csv',\n",
       " './PDIoT2324/Respeck\\\\04_Respeck_Lying down back_Singing.csv',\n",
       " './PDIoT2324/Respeck\\\\04_Respeck_Lying down back_Talking.csv',\n",
       " './PDIoT2324/Respeck\\\\04_Respeck_Lying down on left_Normal.csv',\n",
       " './PDIoT2324/Respeck\\\\04_Respeck_Lying down on left_Singing.csv',\n",
       " './PDIoT2324/Respeck\\\\04_Respeck_Lying down on left_Talking.csv',\n",
       " './PDIoT2324/Respeck\\\\04_Respeck_Lying down on stomach_Coughing.csv',\n",
       " './PDIoT2324/Respeck\\\\04_Respeck_Lying down on stomach_Normal.csv',\n",
       " './PDIoT2324/Respeck\\\\04_Respeck_Lying down on stomach_Talking.csv',\n",
       " './PDIoT2324/Respeck\\\\04_Respeck_Lying down right_Singing.csv',\n",
       " './PDIoT2324/Respeck\\\\04_Respeck_Normal walking_Normal.csv',\n",
       " './PDIoT2324/Respeck\\\\04_Respeck_Running_Normal.csv',\n",
       " './PDIoT2324/Respeck\\\\04_Respeck_Shuffle walking_Normal.csv',\n",
       " './PDIoT2324/Respeck\\\\04_Respeck_Sitting_Eating.csv',\n",
       " './PDIoT2324/Respeck\\\\04_Respeck_Sitting_Hyperventilating.csv',\n",
       " './PDIoT2324/Respeck\\\\04_Respeck_Sitting_Laughing.csv',\n",
       " './PDIoT2324/Respeck\\\\04_Respeck_Sitting_Normal.csv',\n",
       " './PDIoT2324/Respeck\\\\04_Respeck_Standing_Coughing.csv',\n",
       " './PDIoT2324/Respeck\\\\04_Respeck_Standing_Eating.csv',\n",
       " './PDIoT2324/Respeck\\\\04_Respeck_Standing_Normal.csv',\n",
       " './PDIoT2324/Respeck\\\\04_Respeck_Standing_Singing.csv',\n",
       " './PDIoT2324/Respeck\\\\04_Respeck_Standing_Talking.csv',\n",
       " './PDIoT2324/Respeck\\\\05_Respeck_Ascending stairs_Normal.csv',\n",
       " './PDIoT2324/Respeck\\\\05_Respeck_Descending stairs_Normal.csv',\n",
       " './PDIoT2324/Respeck\\\\05_Respeck_Lying down on left_Hyperventilating.csv',\n",
       " './PDIoT2324/Respeck\\\\05_Respeck_Lying down on left_Normal.csv',\n",
       " './PDIoT2324/Respeck\\\\05_Respeck_Lying down on stomach_Hyperventilating.csv',\n",
       " './PDIoT2324/Respeck\\\\05_Respeck_Lying down on stomach_Normal.csv',\n",
       " './PDIoT2324/Respeck\\\\05_Respeck_Sitting_Hyperventilating.csv',\n",
       " './PDIoT2324/Respeck\\\\05_Respeck_Sitting_Normal.csv',\n",
       " './PDIoT2324/Respeck\\\\05_Respeck_Sitting_Talking.csv',\n",
       " './PDIoT2324/Respeck\\\\05_Respeck_Standing_Eating.csv',\n",
       " './PDIoT2324/Respeck\\\\05_Respeck_Standing_Singing.csv',\n",
       " './PDIoT2324/Respeck\\\\07_Respeck_Lying down back_Coughing.csv',\n",
       " './PDIoT2324/Respeck\\\\07_Respeck_Lying down on stomach_Coughing.csv',\n",
       " './PDIoT2324/Respeck\\\\07_Respeck_Sitting_Coughing.csv',\n",
       " './PDIoT2324/Respeck\\\\07_Respeck_Sitting_Eating.csv',\n",
       " './PDIoT2324/Respeck\\\\07_Respeck_Sitting_Normal.csv',\n",
       " './PDIoT2324/Respeck\\\\07_Respeck_Standing_Eating.csv',\n",
       " './PDIoT2324/Respeck\\\\07_Respeck_Standing_Singing.csv',\n",
       " './PDIoT2324/Respeck\\\\08_Respeck_Lying down on stomach_Normal.csv',\n",
       " './PDIoT2324/Respeck\\\\08_Respeck_Lying down on stomach_Talking.csv',\n",
       " './PDIoT2324/Respeck\\\\08_Respeck_Lying down right_Hyperventilating.csv',\n",
       " './PDIoT2324/Respeck\\\\09_Respeck_Ascending stairs_Normal.csv',\n",
       " './PDIoT2324/Respeck\\\\09_Respeck_Descending stairs_Normal.csv',\n",
       " './PDIoT2324/Respeck\\\\09_Respeck_Lying down back_Coughing.csv',\n",
       " './PDIoT2324/Respeck\\\\09_Respeck_Lying down back_Hyperventilating.csv',\n",
       " './PDIoT2324/Respeck\\\\09_Respeck_Lying down back_Laughing.csv',\n",
       " './PDIoT2324/Respeck\\\\09_Respeck_Lying down back_Normal.csv',\n",
       " './PDIoT2324/Respeck\\\\09_Respeck_Lying down back_Singing.csv',\n",
       " './PDIoT2324/Respeck\\\\09_Respeck_Lying down back_Talking.csv',\n",
       " './PDIoT2324/Respeck\\\\09_Respeck_Lying down on left_Coughing.csv',\n",
       " './PDIoT2324/Respeck\\\\09_Respeck_Lying down on left_Hyperventilating.csv',\n",
       " './PDIoT2324/Respeck\\\\09_Respeck_Lying down on left_Laughing.csv',\n",
       " './PDIoT2324/Respeck\\\\09_Respeck_Lying down on left_Normal.csv',\n",
       " './PDIoT2324/Respeck\\\\09_Respeck_Lying down on left_Singing.csv',\n",
       " './PDIoT2324/Respeck\\\\09_Respeck_Lying down on left_Talking.csv',\n",
       " './PDIoT2324/Respeck\\\\09_Respeck_Lying down on stomach_Coughing.csv',\n",
       " './PDIoT2324/Respeck\\\\09_Respeck_Lying down on stomach_Hyperventilating.csv',\n",
       " './PDIoT2324/Respeck\\\\09_Respeck_Lying down on stomach_Laughing.csv',\n",
       " './PDIoT2324/Respeck\\\\09_Respeck_Lying down on stomach_Normal.csv',\n",
       " './PDIoT2324/Respeck\\\\09_Respeck_Lying down on stomach_Singing.csv',\n",
       " './PDIoT2324/Respeck\\\\09_Respeck_Lying down on stomach_Talking.csv',\n",
       " './PDIoT2324/Respeck\\\\09_Respeck_Lying down right_Coughing.csv',\n",
       " './PDIoT2324/Respeck\\\\09_Respeck_Lying down right_Hyperventilating.csv',\n",
       " './PDIoT2324/Respeck\\\\09_Respeck_Lying down right_Laughing.csv',\n",
       " './PDIoT2324/Respeck\\\\09_Respeck_Lying down right_Normal.csv',\n",
       " './PDIoT2324/Respeck\\\\09_Respeck_Lying down right_Singing.csv',\n",
       " './PDIoT2324/Respeck\\\\09_Respeck_Lying down right_Talking.csv',\n",
       " './PDIoT2324/Respeck\\\\09_Respeck_Miscellaneous movements_Normal.csv',\n",
       " './PDIoT2324/Respeck\\\\09_Respeck_Normal walking_Normal.csv',\n",
       " './PDIoT2324/Respeck\\\\09_Respeck_Running_Normal.csv',\n",
       " './PDIoT2324/Respeck\\\\09_Respeck_Shuffle walking_Normal.csv',\n",
       " './PDIoT2324/Respeck\\\\09_Respeck_Sitting_Coughing.csv',\n",
       " './PDIoT2324/Respeck\\\\09_Respeck_Sitting_Eating.csv',\n",
       " './PDIoT2324/Respeck\\\\09_Respeck_Sitting_Hyperventilating.csv',\n",
       " './PDIoT2324/Respeck\\\\09_Respeck_Sitting_Laughing.csv',\n",
       " './PDIoT2324/Respeck\\\\09_Respeck_Sitting_Normal.csv',\n",
       " './PDIoT2324/Respeck\\\\09_Respeck_Sitting_Singing.csv',\n",
       " './PDIoT2324/Respeck\\\\09_Respeck_Sitting_Talking.csv',\n",
       " './PDIoT2324/Respeck\\\\09_Respeck_Standing_Coughing.csv',\n",
       " './PDIoT2324/Respeck\\\\09_Respeck_Standing_Eating.csv',\n",
       " './PDIoT2324/Respeck\\\\09_Respeck_Standing_Laughing.csv',\n",
       " './PDIoT2324/Respeck\\\\09_Respeck_Standing_Normal.csv',\n",
       " './PDIoT2324/Respeck\\\\09_Respeck_Standing_Singing.csv',\n",
       " './PDIoT2324/Respeck\\\\09_Respeck_Standing_Talking.csv',\n",
       " './PDIoT2324/Respeck\\\\10_Respeck_Ascending stairs_Normal.csv',\n",
       " './PDIoT2324/Respeck\\\\10_Respeck_Descending stairs_Normal.csv',\n",
       " './PDIoT2324/Respeck\\\\10_Respeck_Lying down back_Coughing.csv',\n",
       " './PDIoT2324/Respeck\\\\10_Respeck_Lying down back_Hyperventilating.csv',\n",
       " './PDIoT2324/Respeck\\\\10_Respeck_Lying down back_Laughing.csv',\n",
       " './PDIoT2324/Respeck\\\\10_Respeck_Lying down back_Normal.csv',\n",
       " './PDIoT2324/Respeck\\\\10_Respeck_Lying down back_Singing.csv',\n",
       " './PDIoT2324/Respeck\\\\10_Respeck_Lying down back_Talking.csv',\n",
       " './PDIoT2324/Respeck\\\\10_Respeck_Lying down on left_Coughing.csv',\n",
       " './PDIoT2324/Respeck\\\\10_Respeck_Lying down on left_Hyperventilating.csv',\n",
       " './PDIoT2324/Respeck\\\\10_Respeck_Lying down on left_Laughing.csv',\n",
       " './PDIoT2324/Respeck\\\\10_Respeck_Lying down on left_Normal.csv',\n",
       " './PDIoT2324/Respeck\\\\10_Respeck_Lying down on left_Singing.csv',\n",
       " './PDIoT2324/Respeck\\\\10_Respeck_Lying down on left_Talking.csv',\n",
       " './PDIoT2324/Respeck\\\\10_Respeck_Lying down on stomach_Coughing.csv',\n",
       " './PDIoT2324/Respeck\\\\10_Respeck_Lying down on stomach_Hyperventilating.csv',\n",
       " './PDIoT2324/Respeck\\\\10_Respeck_Lying down on stomach_Laughing.csv',\n",
       " './PDIoT2324/Respeck\\\\10_Respeck_Lying down on stomach_Normal.csv',\n",
       " './PDIoT2324/Respeck\\\\10_Respeck_Lying down on stomach_Singing.csv',\n",
       " './PDIoT2324/Respeck\\\\10_Respeck_Lying down on stomach_Talking.csv',\n",
       " './PDIoT2324/Respeck\\\\10_Respeck_Lying down right_Coughing.csv',\n",
       " './PDIoT2324/Respeck\\\\10_Respeck_Lying down right_Hyperventilating.csv',\n",
       " './PDIoT2324/Respeck\\\\10_Respeck_Lying down right_Laughing.csv',\n",
       " './PDIoT2324/Respeck\\\\10_Respeck_Lying down right_Normal.csv',\n",
       " './PDIoT2324/Respeck\\\\10_Respeck_Lying down right_Singing.csv',\n",
       " './PDIoT2324/Respeck\\\\10_Respeck_Lying down right_Talking.csv',\n",
       " './PDIoT2324/Respeck\\\\10_Respeck_Miscellaneous movements_Normal.csv',\n",
       " './PDIoT2324/Respeck\\\\10_Respeck_Normal walking_Normal.csv',\n",
       " './PDIoT2324/Respeck\\\\10_Respeck_Running_Normal.csv',\n",
       " './PDIoT2324/Respeck\\\\10_Respeck_Shuffle walking_Normal.csv',\n",
       " './PDIoT2324/Respeck\\\\10_Respeck_Sitting_Coughing.csv',\n",
       " './PDIoT2324/Respeck\\\\10_Respeck_Sitting_Eating.csv',\n",
       " './PDIoT2324/Respeck\\\\10_Respeck_Sitting_Hyperventilating.csv',\n",
       " './PDIoT2324/Respeck\\\\10_Respeck_Sitting_Laughing.csv',\n",
       " './PDIoT2324/Respeck\\\\10_Respeck_Sitting_Normal.csv',\n",
       " './PDIoT2324/Respeck\\\\10_Respeck_Sitting_Singing.csv',\n",
       " './PDIoT2324/Respeck\\\\10_Respeck_Sitting_Talking.csv',\n",
       " './PDIoT2324/Respeck\\\\10_Respeck_Standing_Coughing.csv',\n",
       " './PDIoT2324/Respeck\\\\10_Respeck_Standing_Eating.csv',\n",
       " './PDIoT2324/Respeck\\\\10_Respeck_Standing_Hyperventilating.csv',\n",
       " './PDIoT2324/Respeck\\\\10_Respeck_Standing_Laughing.csv',\n",
       " './PDIoT2324/Respeck\\\\10_Respeck_Standing_Normal.csv',\n",
       " './PDIoT2324/Respeck\\\\10_Respeck_Standing_Singing.csv',\n",
       " './PDIoT2324/Respeck\\\\10_Respeck_Standing_Talking.csv',\n",
       " './PDIoT2324/Respeck\\\\11_Respeck_Ascending stairs_Normal.csv',\n",
       " './PDIoT2324/Respeck\\\\11_Respeck_Descending stairs_Normal.csv',\n",
       " './PDIoT2324/Respeck\\\\11_Respeck_Lying down right_Singing.csv',\n",
       " './PDIoT2324/Respeck\\\\11_Respeck_Running_Normal.csv',\n",
       " './PDIoT2324/Respeck\\\\11_Respeck_Sitting_Normal.csv',\n",
       " './PDIoT2324/Respeck\\\\12_Respeck_Ascending stairs_Normal.csv',\n",
       " './PDIoT2324/Respeck\\\\12_Respeck_Descending stairs_Normal.csv',\n",
       " './PDIoT2324/Respeck\\\\12_Respeck_Lying down back_Coughing.csv',\n",
       " './PDIoT2324/Respeck\\\\12_Respeck_Lying down back_Hyperventilating.csv',\n",
       " './PDIoT2324/Respeck\\\\12_Respeck_Lying down back_Laughing.csv',\n",
       " './PDIoT2324/Respeck\\\\12_Respeck_Lying down back_Normal.csv',\n",
       " './PDIoT2324/Respeck\\\\12_Respeck_Lying down back_Singing.csv',\n",
       " './PDIoT2324/Respeck\\\\12_Respeck_Lying down back_Talking.csv',\n",
       " './PDIoT2324/Respeck\\\\12_Respeck_Lying down on left_Coughing.csv',\n",
       " './PDIoT2324/Respeck\\\\12_Respeck_Lying down on left_Hyperventilating.csv',\n",
       " './PDIoT2324/Respeck\\\\12_Respeck_Lying down on left_Laughing.csv',\n",
       " './PDIoT2324/Respeck\\\\12_Respeck_Lying down on left_Normal.csv',\n",
       " './PDIoT2324/Respeck\\\\12_Respeck_Lying down on left_Singing.csv',\n",
       " './PDIoT2324/Respeck\\\\12_Respeck_Lying down on left_Talking.csv',\n",
       " './PDIoT2324/Respeck\\\\12_Respeck_Lying down on stomach_Coughing.csv',\n",
       " './PDIoT2324/Respeck\\\\12_Respeck_Lying down on stomach_Hyperventilating.csv',\n",
       " './PDIoT2324/Respeck\\\\12_Respeck_Lying down on stomach_Laughing.csv',\n",
       " './PDIoT2324/Respeck\\\\12_Respeck_Lying down on stomach_Normal.csv',\n",
       " './PDIoT2324/Respeck\\\\12_Respeck_Lying down on stomach_Singing.csv',\n",
       " './PDIoT2324/Respeck\\\\12_Respeck_Lying down on stomach_Talking.csv',\n",
       " './PDIoT2324/Respeck\\\\12_Respeck_Lying down right_Coughing.csv',\n",
       " './PDIoT2324/Respeck\\\\12_Respeck_Lying down right_Hyperventilating.csv',\n",
       " './PDIoT2324/Respeck\\\\12_Respeck_Lying down right_Laughing.csv',\n",
       " './PDIoT2324/Respeck\\\\12_Respeck_Lying down right_Normal.csv',\n",
       " './PDIoT2324/Respeck\\\\12_Respeck_Lying down right_Singing.csv',\n",
       " './PDIoT2324/Respeck\\\\12_Respeck_Lying down right_Talking.csv',\n",
       " './PDIoT2324/Respeck\\\\12_Respeck_Miscellaneous movements_Normal.csv',\n",
       " './PDIoT2324/Respeck\\\\12_Respeck_Normal walking_Normal.csv',\n",
       " './PDIoT2324/Respeck\\\\12_Respeck_Running_Normal.csv',\n",
       " './PDIoT2324/Respeck\\\\12_Respeck_Shuffle walking_Normal.csv',\n",
       " './PDIoT2324/Respeck\\\\12_Respeck_Sitting_Coughing.csv',\n",
       " './PDIoT2324/Respeck\\\\12_Respeck_Sitting_Eating.csv',\n",
       " './PDIoT2324/Respeck\\\\12_Respeck_Sitting_Hyperventilating.csv',\n",
       " './PDIoT2324/Respeck\\\\12_Respeck_Sitting_Laughing.csv',\n",
       " './PDIoT2324/Respeck\\\\12_Respeck_Sitting_Normal.csv',\n",
       " './PDIoT2324/Respeck\\\\12_Respeck_Sitting_Singing.csv',\n",
       " './PDIoT2324/Respeck\\\\12_Respeck_Sitting_Talking.csv',\n",
       " './PDIoT2324/Respeck\\\\12_Respeck_Standing_Coughing.csv',\n",
       " './PDIoT2324/Respeck\\\\12_Respeck_Standing_Eating.csv',\n",
       " './PDIoT2324/Respeck\\\\12_Respeck_Standing_Hyperventilating.csv',\n",
       " './PDIoT2324/Respeck\\\\12_Respeck_Standing_Laughing.csv',\n",
       " './PDIoT2324/Respeck\\\\12_Respeck_Standing_Normal.csv',\n",
       " './PDIoT2324/Respeck\\\\12_Respeck_Standing_Singing.csv',\n",
       " './PDIoT2324/Respeck\\\\12_Respeck_Standing_Talking.csv',\n",
       " './PDIoT2324/Respeck\\\\13_Respeck_Ascending stairs_Normal.csv',\n",
       " './PDIoT2324/Respeck\\\\13_Respeck_Descending stairs_Normal.csv',\n",
       " './PDIoT2324/Respeck\\\\13_Respeck_Lying down back_Coughing.csv',\n",
       " './PDIoT2324/Respeck\\\\13_Respeck_Lying down back_Hyperventilating.csv',\n",
       " './PDIoT2324/Respeck\\\\13_Respeck_Lying down back_Laughing.csv',\n",
       " './PDIoT2324/Respeck\\\\13_Respeck_Lying down back_Normal.csv',\n",
       " './PDIoT2324/Respeck\\\\13_Respeck_Lying down back_Singing.csv',\n",
       " './PDIoT2324/Respeck\\\\13_Respeck_Lying down back_Talking.csv',\n",
       " './PDIoT2324/Respeck\\\\13_Respeck_Lying down on left_Coughing.csv',\n",
       " './PDIoT2324/Respeck\\\\13_Respeck_Lying down on left_Hyperventilating.csv',\n",
       " './PDIoT2324/Respeck\\\\13_Respeck_Lying down on left_Laughing.csv',\n",
       " './PDIoT2324/Respeck\\\\13_Respeck_Lying down on left_Singing.csv',\n",
       " './PDIoT2324/Respeck\\\\13_Respeck_Lying down on left_Talking.csv',\n",
       " './PDIoT2324/Respeck\\\\13_Respeck_Lying down on stomach_Coughing.csv',\n",
       " './PDIoT2324/Respeck\\\\13_Respeck_Lying down on stomach_Hyperventilating.csv',\n",
       " './PDIoT2324/Respeck\\\\13_Respeck_Lying down on stomach_Laughing.csv',\n",
       " './PDIoT2324/Respeck\\\\13_Respeck_Lying down on stomach_Normal.csv',\n",
       " './PDIoT2324/Respeck\\\\13_Respeck_Lying down on stomach_Singing.csv',\n",
       " './PDIoT2324/Respeck\\\\13_Respeck_Lying down on stomach_Talking.csv',\n",
       " './PDIoT2324/Respeck\\\\13_Respeck_Lying down right_Coughing.csv',\n",
       " './PDIoT2324/Respeck\\\\13_Respeck_Lying down right_Hyperventilating.csv',\n",
       " './PDIoT2324/Respeck\\\\13_Respeck_Lying down right_Laughing.csv',\n",
       " './PDIoT2324/Respeck\\\\13_Respeck_Lying down right_Normal.csv',\n",
       " './PDIoT2324/Respeck\\\\13_Respeck_Lying down right_Singing.csv',\n",
       " './PDIoT2324/Respeck\\\\13_Respeck_Lying down right_Talking.csv',\n",
       " './PDIoT2324/Respeck\\\\13_Respeck_Miscellaneous movements_Normal.csv',\n",
       " './PDIoT2324/Respeck\\\\13_Respeck_Normal walking_Normal.csv',\n",
       " './PDIoT2324/Respeck\\\\13_Respeck_Running_Normal.csv',\n",
       " './PDIoT2324/Respeck\\\\13_Respeck_Shuffle walking_Normal.csv',\n",
       " './PDIoT2324/Respeck\\\\13_Respeck_Sitting_Coughing.csv',\n",
       " './PDIoT2324/Respeck\\\\13_Respeck_Sitting_Eating.csv',\n",
       " './PDIoT2324/Respeck\\\\13_Respeck_Sitting_Hyperventilating.csv',\n",
       " './PDIoT2324/Respeck\\\\13_Respeck_Sitting_Laughing.csv',\n",
       " './PDIoT2324/Respeck\\\\13_Respeck_Sitting_Normal.csv',\n",
       " './PDIoT2324/Respeck\\\\13_Respeck_Sitting_Singing.csv',\n",
       " './PDIoT2324/Respeck\\\\13_Respeck_Sitting_Talking.csv',\n",
       " './PDIoT2324/Respeck\\\\13_Respeck_Standing_Coughing.csv',\n",
       " './PDIoT2324/Respeck\\\\13_Respeck_Standing_Eating.csv',\n",
       " './PDIoT2324/Respeck\\\\13_Respeck_Standing_Hyperventilating.csv',\n",
       " './PDIoT2324/Respeck\\\\13_Respeck_Standing_Laughing.csv',\n",
       " './PDIoT2324/Respeck\\\\13_Respeck_Standing_Normal.csv',\n",
       " './PDIoT2324/Respeck\\\\13_Respeck_Standing_Singing.csv',\n",
       " './PDIoT2324/Respeck\\\\13_Respeck_Standing_Talking.csv',\n",
       " './PDIoT2324/Respeck\\\\14_Respeck_Ascending stairs_Normal.csv',\n",
       " './PDIoT2324/Respeck\\\\14_Respeck_Descending stairs_Normal.csv',\n",
       " './PDIoT2324/Respeck\\\\14_Respeck_Lying down back_Coughing.csv',\n",
       " './PDIoT2324/Respeck\\\\14_Respeck_Lying down back_Hyperventilating.csv',\n",
       " './PDIoT2324/Respeck\\\\14_Respeck_Lying down back_Laughing.csv',\n",
       " './PDIoT2324/Respeck\\\\14_Respeck_Lying down back_Normal.csv',\n",
       " './PDIoT2324/Respeck\\\\14_Respeck_Lying down back_Singing.csv',\n",
       " './PDIoT2324/Respeck\\\\14_Respeck_Lying down back_Talking.csv',\n",
       " './PDIoT2324/Respeck\\\\14_Respeck_Lying down on left_Coughing.csv',\n",
       " './PDIoT2324/Respeck\\\\14_Respeck_Lying down on left_Hyperventilating.csv',\n",
       " './PDIoT2324/Respeck\\\\14_Respeck_Lying down on left_Laughing.csv',\n",
       " './PDIoT2324/Respeck\\\\14_Respeck_Lying down on left_Normal.csv',\n",
       " './PDIoT2324/Respeck\\\\14_Respeck_Lying down on left_Singing.csv',\n",
       " './PDIoT2324/Respeck\\\\14_Respeck_Lying down on left_Talking.csv',\n",
       " './PDIoT2324/Respeck\\\\14_Respeck_Lying down on stomach_Coughing.csv',\n",
       " './PDIoT2324/Respeck\\\\14_Respeck_Lying down on stomach_Hyperventilating.csv',\n",
       " './PDIoT2324/Respeck\\\\14_Respeck_Lying down on stomach_Laughing.csv',\n",
       " './PDIoT2324/Respeck\\\\14_Respeck_Lying down on stomach_Normal.csv',\n",
       " './PDIoT2324/Respeck\\\\14_Respeck_Lying down on stomach_Singing.csv',\n",
       " './PDIoT2324/Respeck\\\\14_Respeck_Lying down on stomach_Talking.csv',\n",
       " './PDIoT2324/Respeck\\\\14_Respeck_Lying down right_Coughing.csv',\n",
       " './PDIoT2324/Respeck\\\\14_Respeck_Lying down right_Hyperventilating.csv',\n",
       " './PDIoT2324/Respeck\\\\14_Respeck_Lying down right_Laughing.csv',\n",
       " './PDIoT2324/Respeck\\\\14_Respeck_Lying down right_Normal.csv',\n",
       " './PDIoT2324/Respeck\\\\14_Respeck_Lying down right_Singing.csv',\n",
       " './PDIoT2324/Respeck\\\\14_Respeck_Lying down right_Talking.csv',\n",
       " './PDIoT2324/Respeck\\\\14_Respeck_Miscellaneous movements_Normal.csv',\n",
       " './PDIoT2324/Respeck\\\\14_Respeck_Normal walking_Normal.csv',\n",
       " './PDIoT2324/Respeck\\\\14_Respeck_Running_Normal.csv',\n",
       " './PDIoT2324/Respeck\\\\14_Respeck_Shuffle walking_Normal.csv',\n",
       " './PDIoT2324/Respeck\\\\14_Respeck_Sitting_Coughing.csv',\n",
       " './PDIoT2324/Respeck\\\\14_Respeck_Sitting_Eating.csv',\n",
       " './PDIoT2324/Respeck\\\\14_Respeck_Sitting_Hyperventilating.csv',\n",
       " './PDIoT2324/Respeck\\\\14_Respeck_Sitting_Laughing.csv',\n",
       " './PDIoT2324/Respeck\\\\14_Respeck_Sitting_Normal.csv',\n",
       " './PDIoT2324/Respeck\\\\14_Respeck_Sitting_Singing.csv',\n",
       " './PDIoT2324/Respeck\\\\14_Respeck_Sitting_Talking.csv',\n",
       " './PDIoT2324/Respeck\\\\14_Respeck_Standing_Coughing.csv',\n",
       " './PDIoT2324/Respeck\\\\14_Respeck_Standing_Eating.csv',\n",
       " './PDIoT2324/Respeck\\\\14_Respeck_Standing_Hyperventilating.csv',\n",
       " './PDIoT2324/Respeck\\\\14_Respeck_Standing_Laughing.csv',\n",
       " './PDIoT2324/Respeck\\\\14_Respeck_Standing_Normal.csv',\n",
       " './PDIoT2324/Respeck\\\\14_Respeck_Standing_Singing.csv',\n",
       " './PDIoT2324/Respeck\\\\14_Respeck_Standing_Talking.csv',\n",
       " './PDIoT2324/Respeck\\\\16_Respeck_Ascending stairs_Normal.csv',\n",
       " './PDIoT2324/Respeck\\\\16_Respeck_Descending stairs_Normal.csv',\n",
       " './PDIoT2324/Respeck\\\\16_Respeck_Lying down back_Coughing.csv',\n",
       " './PDIoT2324/Respeck\\\\16_Respeck_Lying down back_Hyperventilating.csv',\n",
       " './PDIoT2324/Respeck\\\\16_Respeck_Lying down back_Laughing.csv',\n",
       " './PDIoT2324/Respeck\\\\16_Respeck_Lying down back_Normal.csv',\n",
       " './PDIoT2324/Respeck\\\\16_Respeck_Lying down back_Singing.csv',\n",
       " './PDIoT2324/Respeck\\\\16_Respeck_Lying down back_Talking.csv',\n",
       " './PDIoT2324/Respeck\\\\16_Respeck_Lying down on left_Coughing.csv',\n",
       " './PDIoT2324/Respeck\\\\16_Respeck_Lying down on left_Hyperventilating.csv',\n",
       " './PDIoT2324/Respeck\\\\16_Respeck_Lying down on left_Laughing.csv',\n",
       " './PDIoT2324/Respeck\\\\16_Respeck_Lying down on left_Normal.csv',\n",
       " './PDIoT2324/Respeck\\\\16_Respeck_Lying down on left_Singing.csv',\n",
       " './PDIoT2324/Respeck\\\\16_Respeck_Lying down on left_Talking.csv',\n",
       " './PDIoT2324/Respeck\\\\16_Respeck_Lying down on stomach_Coughing.csv',\n",
       " './PDIoT2324/Respeck\\\\16_Respeck_Lying down on stomach_Hyperventilating.csv',\n",
       " './PDIoT2324/Respeck\\\\16_Respeck_Lying down on stomach_Laughing.csv',\n",
       " './PDIoT2324/Respeck\\\\16_Respeck_Lying down on stomach_Normal.csv',\n",
       " './PDIoT2324/Respeck\\\\16_Respeck_Lying down on stomach_Singing.csv',\n",
       " './PDIoT2324/Respeck\\\\16_Respeck_Lying down on stomach_Talking.csv',\n",
       " './PDIoT2324/Respeck\\\\16_Respeck_Lying down right_Coughing.csv',\n",
       " './PDIoT2324/Respeck\\\\16_Respeck_Lying down right_Hyperventilating.csv',\n",
       " './PDIoT2324/Respeck\\\\16_Respeck_Lying down right_Laughing.csv',\n",
       " './PDIoT2324/Respeck\\\\16_Respeck_Lying down right_Normal.csv',\n",
       " './PDIoT2324/Respeck\\\\16_Respeck_Lying down right_Singing.csv',\n",
       " './PDIoT2324/Respeck\\\\16_Respeck_Lying down right_Talking.csv',\n",
       " './PDIoT2324/Respeck\\\\16_Respeck_Miscellaneous movements_Normal.csv',\n",
       " './PDIoT2324/Respeck\\\\16_Respeck_Normal walking_Normal.csv',\n",
       " './PDIoT2324/Respeck\\\\16_Respeck_Running_Normal.csv',\n",
       " './PDIoT2324/Respeck\\\\16_Respeck_Shuffle walking_Normal.csv',\n",
       " './PDIoT2324/Respeck\\\\16_Respeck_Sitting_Coughing.csv',\n",
       " './PDIoT2324/Respeck\\\\16_Respeck_Sitting_Eating.csv',\n",
       " './PDIoT2324/Respeck\\\\16_Respeck_Sitting_Hyperventilating.csv',\n",
       " './PDIoT2324/Respeck\\\\16_Respeck_Sitting_Laughing.csv',\n",
       " './PDIoT2324/Respeck\\\\16_Respeck_Sitting_Normal.csv',\n",
       " './PDIoT2324/Respeck\\\\16_Respeck_Sitting_Singing.csv',\n",
       " './PDIoT2324/Respeck\\\\16_Respeck_Sitting_Talking.csv',\n",
       " './PDIoT2324/Respeck\\\\16_Respeck_Standing_Coughing.csv',\n",
       " './PDIoT2324/Respeck\\\\16_Respeck_Standing_Eating.csv',\n",
       " './PDIoT2324/Respeck\\\\16_Respeck_Standing_Hyperventilating.csv',\n",
       " './PDIoT2324/Respeck\\\\16_Respeck_Standing_Laughing.csv',\n",
       " './PDIoT2324/Respeck\\\\16_Respeck_Standing_Normal.csv',\n",
       " './PDIoT2324/Respeck\\\\16_Respeck_Standing_Singing.csv',\n",
       " './PDIoT2324/Respeck\\\\16_Respeck_Standing_Talking.csv',\n",
       " './PDIoT2324/Respeck\\\\17_Respeck_Ascending stairs_Normal.csv',\n",
       " './PDIoT2324/Respeck\\\\17_Respeck_Descending stairs_Normal.csv',\n",
       " './PDIoT2324/Respeck\\\\17_Respeck_Lying down back_Normal.csv',\n",
       " './PDIoT2324/Respeck\\\\17_Respeck_Lying down on left_Normal.csv',\n",
       " './PDIoT2324/Respeck\\\\17_Respeck_Lying down on stomach_Hyperventilating.csv',\n",
       " './PDIoT2324/Respeck\\\\17_Respeck_Lying down right_Normal.csv',\n",
       " './PDIoT2324/Respeck\\\\17_Respeck_Sitting_Singing.csv',\n",
       " './PDIoT2324/Respeck\\\\17_Respeck_Standing_Eating.csv',\n",
       " './PDIoT2324/Respeck\\\\17_Respeck_Standing_Normal.csv',\n",
       " './PDIoT2324/Respeck\\\\18_Respeck_Ascending stairs_Normal.csv',\n",
       " './PDIoT2324/Respeck\\\\18_Respeck_Descending stairs_Normal.csv',\n",
       " './PDIoT2324/Respeck\\\\18_Respeck_Lying down back_Coughing.csv',\n",
       " './PDIoT2324/Respeck\\\\18_Respeck_Lying down back_Hyperventilating.csv',\n",
       " './PDIoT2324/Respeck\\\\18_Respeck_Lying down back_Laughing.csv',\n",
       " './PDIoT2324/Respeck\\\\18_Respeck_Lying down back_Normal.csv',\n",
       " './PDIoT2324/Respeck\\\\18_Respeck_Lying down back_Singing.csv',\n",
       " './PDIoT2324/Respeck\\\\18_Respeck_Lying down back_Talking.csv',\n",
       " './PDIoT2324/Respeck\\\\18_Respeck_Lying down on left_Coughing.csv',\n",
       " './PDIoT2324/Respeck\\\\18_Respeck_Lying down on left_Hyperventilating.csv',\n",
       " './PDIoT2324/Respeck\\\\18_Respeck_Lying down on left_Laughing.csv',\n",
       " './PDIoT2324/Respeck\\\\18_Respeck_Lying down on left_Normal.csv',\n",
       " './PDIoT2324/Respeck\\\\18_Respeck_Lying down on left_Singing.csv',\n",
       " './PDIoT2324/Respeck\\\\18_Respeck_Lying down on left_Talking.csv',\n",
       " './PDIoT2324/Respeck\\\\18_Respeck_Lying down on stomach_Coughing.csv',\n",
       " './PDIoT2324/Respeck\\\\18_Respeck_Lying down on stomach_Hyperventilating.csv',\n",
       " './PDIoT2324/Respeck\\\\18_Respeck_Lying down on stomach_Laughing.csv',\n",
       " './PDIoT2324/Respeck\\\\18_Respeck_Lying down on stomach_Normal.csv',\n",
       " './PDIoT2324/Respeck\\\\18_Respeck_Lying down on stomach_Singing.csv',\n",
       " './PDIoT2324/Respeck\\\\18_Respeck_Lying down on stomach_Talking.csv',\n",
       " './PDIoT2324/Respeck\\\\18_Respeck_Lying down right_Coughing.csv',\n",
       " './PDIoT2324/Respeck\\\\18_Respeck_Lying down right_Hyperventilating.csv',\n",
       " './PDIoT2324/Respeck\\\\18_Respeck_Lying down right_Laughing.csv',\n",
       " './PDIoT2324/Respeck\\\\18_Respeck_Lying down right_Normal.csv',\n",
       " './PDIoT2324/Respeck\\\\18_Respeck_Lying down right_Singing.csv',\n",
       " './PDIoT2324/Respeck\\\\18_Respeck_Lying down right_Talking.csv',\n",
       " './PDIoT2324/Respeck\\\\18_Respeck_Miscellaneous movements_Normal.csv',\n",
       " './PDIoT2324/Respeck\\\\18_Respeck_Normal walking_Normal.csv',\n",
       " './PDIoT2324/Respeck\\\\18_Respeck_Running_Normal.csv',\n",
       " './PDIoT2324/Respeck\\\\18_Respeck_Shuffle walking_Normal.csv',\n",
       " './PDIoT2324/Respeck\\\\18_Respeck_Sitting_Coughing.csv',\n",
       " './PDIoT2324/Respeck\\\\18_Respeck_Sitting_Eating.csv',\n",
       " './PDIoT2324/Respeck\\\\18_Respeck_Sitting_Hyperventilating.csv',\n",
       " './PDIoT2324/Respeck\\\\18_Respeck_Sitting_Laughing.csv',\n",
       " './PDIoT2324/Respeck\\\\18_Respeck_Sitting_Normal.csv',\n",
       " './PDIoT2324/Respeck\\\\18_Respeck_Sitting_Singing.csv',\n",
       " './PDIoT2324/Respeck\\\\18_Respeck_Sitting_Talking.csv',\n",
       " './PDIoT2324/Respeck\\\\18_Respeck_Standing_Coughing.csv',\n",
       " './PDIoT2324/Respeck\\\\18_Respeck_Standing_Eating.csv',\n",
       " './PDIoT2324/Respeck\\\\18_Respeck_Standing_Hyperventilating.csv',\n",
       " './PDIoT2324/Respeck\\\\18_Respeck_Standing_Laughing.csv',\n",
       " './PDIoT2324/Respeck\\\\18_Respeck_Standing_Normal.csv',\n",
       " './PDIoT2324/Respeck\\\\18_Respeck_Standing_Singing.csv',\n",
       " './PDIoT2324/Respeck\\\\18_Respeck_Standing_Talking.csv',\n",
       " './PDIoT2324/Respeck\\\\19_Respeck_Ascending stairs_Normal.csv',\n",
       " './PDIoT2324/Respeck\\\\19_Respeck_Descending stairs_Normal.csv',\n",
       " './PDIoT2324/Respeck\\\\19_Respeck_Lying down back_Coughing.csv',\n",
       " './PDIoT2324/Respeck\\\\19_Respeck_Lying down back_Hyperventilating.csv',\n",
       " './PDIoT2324/Respeck\\\\19_Respeck_Lying down back_Laughing.csv',\n",
       " './PDIoT2324/Respeck\\\\19_Respeck_Lying down back_Normal.csv',\n",
       " './PDIoT2324/Respeck\\\\19_Respeck_Lying down on left_Coughing.csv',\n",
       " './PDIoT2324/Respeck\\\\19_Respeck_Lying down on left_Hyperventilating.csv',\n",
       " './PDIoT2324/Respeck\\\\19_Respeck_Lying down on left_Normal.csv',\n",
       " './PDIoT2324/Respeck\\\\19_Respeck_Lying down on stomach_Coughing.csv',\n",
       " './PDIoT2324/Respeck\\\\19_Respeck_Lying down on stomach_Hyperventilating.csv',\n",
       " './PDIoT2324/Respeck\\\\19_Respeck_Lying down on stomach_Normal.csv',\n",
       " './PDIoT2324/Respeck\\\\19_Respeck_Lying down right_Hyperventilating.csv',\n",
       " './PDIoT2324/Respeck\\\\19_Respeck_Lying down right_Normal.csv',\n",
       " './PDIoT2324/Respeck\\\\19_Respeck_Lying down right_Talking.csv',\n",
       " './PDIoT2324/Respeck\\\\19_Respeck_Miscellaneous movements_Normal.csv',\n",
       " './PDIoT2324/Respeck\\\\19_Respeck_Normal walking_Normal.csv',\n",
       " './PDIoT2324/Respeck\\\\19_Respeck_Running_Normal.csv',\n",
       " './PDIoT2324/Respeck\\\\19_Respeck_Shuffle walking_Normal.csv',\n",
       " './PDIoT2324/Respeck\\\\19_Respeck_Sitting_Coughing.csv',\n",
       " './PDIoT2324/Respeck\\\\19_Respeck_Sitting_Hyperventilating.csv',\n",
       " './PDIoT2324/Respeck\\\\19_Respeck_Sitting_Normal.csv',\n",
       " './PDIoT2324/Respeck\\\\19_Respeck_Standing_Coughing.csv',\n",
       " './PDIoT2324/Respeck\\\\19_Respeck_Standing_Eating.csv',\n",
       " './PDIoT2324/Respeck\\\\19_Respeck_Standing_Hyperventilating.csv',\n",
       " './PDIoT2324/Respeck\\\\20_Respeck_Lying down back_Laughing.csv',\n",
       " './PDIoT2324/Respeck\\\\20_Respeck_Lying down right_Coughing.csv',\n",
       " './PDIoT2324/Respeck\\\\20_Respeck_Lying down right_Singing.csv',\n",
       " './PDIoT2324/Respeck\\\\20_Respeck_Miscellaneous movements_Normal.csv',\n",
       " './PDIoT2324/Respeck\\\\20_Respeck_Sitting_Singing.csv',\n",
       " './PDIoT2324/Respeck\\\\21_Respeck_Ascending stairs_Normal.csv',\n",
       " './PDIoT2324/Respeck\\\\21_Respeck_Descending stairs_Normal.csv',\n",
       " './PDIoT2324/Respeck\\\\21_Respeck_Lying down back_Normal.csv',\n",
       " './PDIoT2324/Respeck\\\\21_Respeck_Lying down on stomach_Normal.csv',\n",
       " './PDIoT2324/Respeck\\\\21_Respeck_Lying down right_Normal.csv',\n",
       " './PDIoT2324/Respeck\\\\21_Respeck_Miscellaneous movements_Normal.csv',\n",
       " './PDIoT2324/Respeck\\\\21_Respeck_Normal walking_Normal.csv',\n",
       " './PDIoT2324/Respeck\\\\21_Respeck_Running_Normal.csv',\n",
       " './PDIoT2324/Respeck\\\\21_Respeck_Shuffle walking_Normal.csv',\n",
       " './PDIoT2324/Respeck\\\\21_Respeck_Sitting_Normal.csv',\n",
       " './PDIoT2324/Respeck\\\\21_Respeck_Sitting_Talking.csv',\n",
       " './PDIoT2324/Respeck\\\\21_Respeck_Standing_Eating.csv',\n",
       " './PDIoT2324/Respeck\\\\21_Respeck_Standing_Normal.csv',\n",
       " './PDIoT2324/Respeck\\\\22_Respeck_Ascending stairs_Normal.csv',\n",
       " './PDIoT2324/Respeck\\\\22_Respeck_Descending stairs_Normal.csv',\n",
       " './PDIoT2324/Respeck\\\\22_Respeck_Lying down back_Normal.csv',\n",
       " './PDIoT2324/Respeck\\\\22_Respeck_Lying down on left_Normal.csv',\n",
       " './PDIoT2324/Respeck\\\\22_Respeck_Lying down on stomach_Hyperventilating.csv',\n",
       " './PDIoT2324/Respeck\\\\22_Respeck_Lying down on stomach_Normal.csv',\n",
       " './PDIoT2324/Respeck\\\\22_Respeck_Lying down right_Normal.csv',\n",
       " './PDIoT2324/Respeck\\\\22_Respeck_Miscellaneous movements_Normal.csv',\n",
       " './PDIoT2324/Respeck\\\\22_Respeck_Normal walking_Normal.csv',\n",
       " './PDIoT2324/Respeck\\\\22_Respeck_Running_Normal.csv',\n",
       " './PDIoT2324/Respeck\\\\22_Respeck_Shuffle walking_Normal.csv',\n",
       " './PDIoT2324/Respeck\\\\22_Respeck_Sitting_Eating.csv',\n",
       " './PDIoT2324/Respeck\\\\22_Respeck_Sitting_Hyperventilating.csv',\n",
       " './PDIoT2324/Respeck\\\\22_Respeck_Sitting_Normal.csv',\n",
       " './PDIoT2324/Respeck\\\\22_Respeck_Standing_Normal.csv',\n",
       " './PDIoT2324/Respeck\\\\25_Respeck_Ascending stairs_Normal.csv',\n",
       " './PDIoT2324/Respeck\\\\25_Respeck_Descending stairs_Normal.csv',\n",
       " './PDIoT2324/Respeck\\\\25_Respeck_Lying down back_Coughing.csv',\n",
       " './PDIoT2324/Respeck\\\\25_Respeck_Lying down back_Hyperventilating.csv',\n",
       " './PDIoT2324/Respeck\\\\25_Respeck_Lying down back_Laughing.csv',\n",
       " './PDIoT2324/Respeck\\\\25_Respeck_Lying down back_Normal.csv',\n",
       " './PDIoT2324/Respeck\\\\25_Respeck_Lying down back_Singing.csv',\n",
       " './PDIoT2324/Respeck\\\\25_Respeck_Lying down back_Talking.csv',\n",
       " './PDIoT2324/Respeck\\\\25_Respeck_Lying down on left_Coughing.csv',\n",
       " './PDIoT2324/Respeck\\\\25_Respeck_Lying down on left_Hyperventilating.csv',\n",
       " './PDIoT2324/Respeck\\\\25_Respeck_Lying down on left_Laughing.csv',\n",
       " './PDIoT2324/Respeck\\\\25_Respeck_Lying down on left_Normal.csv',\n",
       " './PDIoT2324/Respeck\\\\25_Respeck_Lying down on left_Singing.csv',\n",
       " './PDIoT2324/Respeck\\\\25_Respeck_Lying down on left_Talking.csv',\n",
       " './PDIoT2324/Respeck\\\\25_Respeck_Lying down on stomach_Coughing.csv',\n",
       " './PDIoT2324/Respeck\\\\25_Respeck_Lying down on stomach_Hyperventilating.csv',\n",
       " './PDIoT2324/Respeck\\\\25_Respeck_Lying down on stomach_Laughing.csv',\n",
       " './PDIoT2324/Respeck\\\\25_Respeck_Lying down on stomach_Normal.csv',\n",
       " './PDIoT2324/Respeck\\\\25_Respeck_Lying down on stomach_Singing.csv',\n",
       " './PDIoT2324/Respeck\\\\25_Respeck_Lying down on stomach_Talking.csv',\n",
       " './PDIoT2324/Respeck\\\\25_Respeck_Lying down right_Coughing.csv',\n",
       " './PDIoT2324/Respeck\\\\25_Respeck_Lying down right_Hyperventilating.csv',\n",
       " './PDIoT2324/Respeck\\\\25_Respeck_Lying down right_Laughing.csv',\n",
       " './PDIoT2324/Respeck\\\\25_Respeck_Lying down right_Normal.csv',\n",
       " './PDIoT2324/Respeck\\\\25_Respeck_Lying down right_Singing.csv',\n",
       " './PDIoT2324/Respeck\\\\25_Respeck_Lying down right_Talking.csv',\n",
       " './PDIoT2324/Respeck\\\\25_Respeck_Miscellaneous movements_Normal.csv',\n",
       " './PDIoT2324/Respeck\\\\25_Respeck_Normal walking_Normal.csv',\n",
       " './PDIoT2324/Respeck\\\\25_Respeck_Running_Normal.csv',\n",
       " './PDIoT2324/Respeck\\\\25_Respeck_Shuffle walking_Normal.csv',\n",
       " './PDIoT2324/Respeck\\\\25_Respeck_Sitting_Coughing.csv',\n",
       " './PDIoT2324/Respeck\\\\25_Respeck_Sitting_Eating.csv',\n",
       " './PDIoT2324/Respeck\\\\25_Respeck_Sitting_Hyperventilating.csv',\n",
       " './PDIoT2324/Respeck\\\\25_Respeck_Sitting_Laughing.csv',\n",
       " './PDIoT2324/Respeck\\\\25_Respeck_Sitting_Normal.csv',\n",
       " './PDIoT2324/Respeck\\\\25_Respeck_Sitting_Singing.csv',\n",
       " './PDIoT2324/Respeck\\\\25_Respeck_Sitting_Talking.csv',\n",
       " './PDIoT2324/Respeck\\\\25_Respeck_Standing_Coughing.csv',\n",
       " './PDIoT2324/Respeck\\\\25_Respeck_Standing_Eating.csv',\n",
       " './PDIoT2324/Respeck\\\\25_Respeck_Standing_Hyperventilating.csv',\n",
       " './PDIoT2324/Respeck\\\\25_Respeck_Standing_Laughing.csv',\n",
       " './PDIoT2324/Respeck\\\\25_Respeck_Standing_Singing.csv',\n",
       " './PDIoT2324/Respeck\\\\25_Respeck_Standing_Talking.csv',\n",
       " './PDIoT2324/Respeck\\\\27_Respeck_Ascending stairs_Normal.csv',\n",
       " './PDIoT2324/Respeck\\\\27_Respeck_Descending stairs_Normal.csv',\n",
       " './PDIoT2324/Respeck\\\\27_Respeck_Lying down back_Coughing.csv',\n",
       " './PDIoT2324/Respeck\\\\27_Respeck_Lying down back_Hyperventilating.csv',\n",
       " './PDIoT2324/Respeck\\\\27_Respeck_Lying down back_Laughing.csv',\n",
       " './PDIoT2324/Respeck\\\\27_Respeck_Lying down back_Normal.csv',\n",
       " './PDIoT2324/Respeck\\\\27_Respeck_Lying down back_Singing.csv',\n",
       " './PDIoT2324/Respeck\\\\27_Respeck_Lying down back_Talking.csv',\n",
       " './PDIoT2324/Respeck\\\\27_Respeck_Lying down on left_Coughing.csv',\n",
       " './PDIoT2324/Respeck\\\\27_Respeck_Lying down on left_Hyperventilating.csv',\n",
       " './PDIoT2324/Respeck\\\\27_Respeck_Lying down on left_Laughing.csv',\n",
       " './PDIoT2324/Respeck\\\\27_Respeck_Lying down on left_Normal.csv',\n",
       " './PDIoT2324/Respeck\\\\27_Respeck_Lying down on left_Singing.csv',\n",
       " './PDIoT2324/Respeck\\\\27_Respeck_Lying down on left_Talking.csv',\n",
       " './PDIoT2324/Respeck\\\\27_Respeck_Lying down on stomach_Coughing.csv',\n",
       " './PDIoT2324/Respeck\\\\27_Respeck_Lying down on stomach_Hyperventilating.csv',\n",
       " './PDIoT2324/Respeck\\\\27_Respeck_Lying down on stomach_Laughing.csv',\n",
       " './PDIoT2324/Respeck\\\\27_Respeck_Lying down on stomach_Normal.csv',\n",
       " './PDIoT2324/Respeck\\\\27_Respeck_Lying down right_Coughing.csv',\n",
       " './PDIoT2324/Respeck\\\\27_Respeck_Lying down right_Talking.csv',\n",
       " './PDIoT2324/Respeck\\\\27_Respeck_Miscellaneous movements_Normal.csv',\n",
       " './PDIoT2324/Respeck\\\\27_Respeck_Running_Normal.csv',\n",
       " './PDIoT2324/Respeck\\\\27_Respeck_Sitting_Coughing.csv',\n",
       " './PDIoT2324/Respeck\\\\27_Respeck_Standing_Singing.csv',\n",
       " './PDIoT2324/Respeck\\\\28_Respeck_Ascending stairs_Normal.csv',\n",
       " './PDIoT2324/Respeck\\\\28_Respeck_Descending stairs_Normal.csv',\n",
       " './PDIoT2324/Respeck\\\\28_Respeck_Lying down on left_Coughing.csv',\n",
       " './PDIoT2324/Respeck\\\\28_Respeck_Lying down on left_Hyperventilating.csv',\n",
       " './PDIoT2324/Respeck\\\\28_Respeck_Lying down on stomach_Coughing.csv',\n",
       " './PDIoT2324/Respeck\\\\28_Respeck_Miscellaneous movements_Normal.csv',\n",
       " './PDIoT2324/Respeck\\\\28_Respeck_Running_Normal.csv',\n",
       " './PDIoT2324/Respeck\\\\28_Respeck_Sitting_Coughing.csv',\n",
       " './PDIoT2324/Respeck\\\\28_Respeck_Sitting_Hyperventilating.csv',\n",
       " './PDIoT2324/Respeck\\\\29_Respeck_Ascending stairs_Normal.csv',\n",
       " './PDIoT2324/Respeck\\\\29_Respeck_Descending stairs_Normal.csv',\n",
       " './PDIoT2324/Respeck\\\\29_Respeck_Lying down back_Coughing.csv',\n",
       " './PDIoT2324/Respeck\\\\29_Respeck_Lying down back_Hyperventilating.csv',\n",
       " './PDIoT2324/Respeck\\\\29_Respeck_Lying down back_Laughing.csv',\n",
       " './PDIoT2324/Respeck\\\\29_Respeck_Lying down back_Normal.csv',\n",
       " './PDIoT2324/Respeck\\\\29_Respeck_Lying down back_Singing.csv',\n",
       " './PDIoT2324/Respeck\\\\29_Respeck_Lying down back_Talking.csv',\n",
       " './PDIoT2324/Respeck\\\\29_Respeck_Lying down on left_Coughing.csv',\n",
       " './PDIoT2324/Respeck\\\\29_Respeck_Lying down on left_Hyperventilating.csv',\n",
       " './PDIoT2324/Respeck\\\\29_Respeck_Lying down on left_Laughing.csv',\n",
       " './PDIoT2324/Respeck\\\\29_Respeck_Lying down on left_Normal.csv',\n",
       " './PDIoT2324/Respeck\\\\29_Respeck_Lying down on left_Singing.csv',\n",
       " './PDIoT2324/Respeck\\\\29_Respeck_Lying down on left_Talking.csv',\n",
       " './PDIoT2324/Respeck\\\\29_Respeck_Lying down on stomach_Coughing.csv',\n",
       " './PDIoT2324/Respeck\\\\29_Respeck_Lying down on stomach_Hyperventilating.csv',\n",
       " './PDIoT2324/Respeck\\\\29_Respeck_Lying down on stomach_Laughing.csv',\n",
       " './PDIoT2324/Respeck\\\\29_Respeck_Lying down on stomach_Normal.csv',\n",
       " './PDIoT2324/Respeck\\\\29_Respeck_Lying down on stomach_Singing.csv',\n",
       " './PDIoT2324/Respeck\\\\29_Respeck_Lying down on stomach_Talking.csv',\n",
       " './PDIoT2324/Respeck\\\\29_Respeck_Lying down right_Coughing.csv',\n",
       " './PDIoT2324/Respeck\\\\29_Respeck_Lying down right_Hyperventilating.csv',\n",
       " './PDIoT2324/Respeck\\\\29_Respeck_Lying down right_Laughing.csv',\n",
       " './PDIoT2324/Respeck\\\\29_Respeck_Lying down right_Normal.csv',\n",
       " './PDIoT2324/Respeck\\\\29_Respeck_Lying down right_Singing.csv',\n",
       " './PDIoT2324/Respeck\\\\29_Respeck_Lying down right_Talking.csv',\n",
       " './PDIoT2324/Respeck\\\\29_Respeck_Miscellaneous movements_Normal.csv',\n",
       " './PDIoT2324/Respeck\\\\29_Respeck_Normal walking_Normal.csv',\n",
       " './PDIoT2324/Respeck\\\\29_Respeck_Running_Normal.csv',\n",
       " './PDIoT2324/Respeck\\\\29_Respeck_Shuffle walking_Normal.csv',\n",
       " './PDIoT2324/Respeck\\\\29_Respeck_Sitting_Coughing.csv',\n",
       " './PDIoT2324/Respeck\\\\29_Respeck_Sitting_Eating.csv',\n",
       " './PDIoT2324/Respeck\\\\29_Respeck_Sitting_Hyperventilating.csv',\n",
       " './PDIoT2324/Respeck\\\\29_Respeck_Sitting_Laughing.csv',\n",
       " './PDIoT2324/Respeck\\\\29_Respeck_Sitting_Normal.csv',\n",
       " './PDIoT2324/Respeck\\\\29_Respeck_Sitting_Singing.csv',\n",
       " './PDIoT2324/Respeck\\\\29_Respeck_Sitting_Talking.csv',\n",
       " './PDIoT2324/Respeck\\\\29_Respeck_Standing_Coughing.csv',\n",
       " './PDIoT2324/Respeck\\\\29_Respeck_Standing_Eating.csv',\n",
       " './PDIoT2324/Respeck\\\\29_Respeck_Standing_Hyperventilating.csv',\n",
       " './PDIoT2324/Respeck\\\\29_Respeck_Standing_Laughing.csv',\n",
       " './PDIoT2324/Respeck\\\\29_Respeck_Standing_Normal.csv',\n",
       " './PDIoT2324/Respeck\\\\29_Respeck_Standing_Singing.csv',\n",
       " './PDIoT2324/Respeck\\\\29_Respeck_Standing_Talking.csv',\n",
       " './PDIoT2324/Respeck\\\\30_Respeck_Ascending stairs_Normal.csv',\n",
       " './PDIoT2324/Respeck\\\\30_Respeck_Descending stairs_Normal.csv',\n",
       " './PDIoT2324/Respeck\\\\30_Respeck_Lying down back_Coughing.csv',\n",
       " './PDIoT2324/Respeck\\\\30_Respeck_Lying down back_Hyperventilating.csv',\n",
       " './PDIoT2324/Respeck\\\\30_Respeck_Lying down back_Laughing.csv',\n",
       " './PDIoT2324/Respeck\\\\30_Respeck_Lying down back_Normal.csv',\n",
       " './PDIoT2324/Respeck\\\\30_Respeck_Lying down back_Singing.csv',\n",
       " './PDIoT2324/Respeck\\\\30_Respeck_Lying down back_Talking.csv',\n",
       " './PDIoT2324/Respeck\\\\30_Respeck_Lying down on left_Coughing.csv',\n",
       " './PDIoT2324/Respeck\\\\30_Respeck_Lying down on left_Hyperventilating.csv',\n",
       " './PDIoT2324/Respeck\\\\30_Respeck_Lying down on left_Laughing.csv',\n",
       " './PDIoT2324/Respeck\\\\30_Respeck_Lying down on left_Normal.csv',\n",
       " './PDIoT2324/Respeck\\\\30_Respeck_Lying down on left_Singing.csv',\n",
       " './PDIoT2324/Respeck\\\\30_Respeck_Lying down on left_Talking.csv',\n",
       " './PDIoT2324/Respeck\\\\30_Respeck_Lying down on stomach_Coughing.csv',\n",
       " './PDIoT2324/Respeck\\\\30_Respeck_Lying down on stomach_Hyperventilating.csv',\n",
       " './PDIoT2324/Respeck\\\\30_Respeck_Lying down on stomach_Laughing.csv',\n",
       " './PDIoT2324/Respeck\\\\30_Respeck_Lying down on stomach_Normal.csv',\n",
       " './PDIoT2324/Respeck\\\\30_Respeck_Lying down on stomach_Singing.csv',\n",
       " './PDIoT2324/Respeck\\\\30_Respeck_Lying down on stomach_Talking.csv',\n",
       " './PDIoT2324/Respeck\\\\30_Respeck_Lying down right_Coughing.csv',\n",
       " './PDIoT2324/Respeck\\\\30_Respeck_Lying down right_Hyperventilating.csv',\n",
       " './PDIoT2324/Respeck\\\\30_Respeck_Lying down right_Laughing.csv',\n",
       " './PDIoT2324/Respeck\\\\30_Respeck_Lying down right_Normal.csv',\n",
       " './PDIoT2324/Respeck\\\\30_Respeck_Lying down right_Singing.csv',\n",
       " './PDIoT2324/Respeck\\\\30_Respeck_Lying down right_Talking.csv',\n",
       " './PDIoT2324/Respeck\\\\30_Respeck_Miscellaneous movements_Normal.csv',\n",
       " './PDIoT2324/Respeck\\\\30_Respeck_Normal walking_Normal.csv',\n",
       " './PDIoT2324/Respeck\\\\30_Respeck_Running_Normal.csv',\n",
       " './PDIoT2324/Respeck\\\\30_Respeck_Shuffle walking_Normal.csv',\n",
       " './PDIoT2324/Respeck\\\\30_Respeck_Sitting_Coughing.csv',\n",
       " './PDIoT2324/Respeck\\\\30_Respeck_Sitting_Eating.csv',\n",
       " './PDIoT2324/Respeck\\\\30_Respeck_Sitting_Hyperventilating.csv',\n",
       " './PDIoT2324/Respeck\\\\30_Respeck_Sitting_Laughing.csv',\n",
       " './PDIoT2324/Respeck\\\\30_Respeck_Sitting_Singing.csv',\n",
       " './PDIoT2324/Respeck\\\\30_Respeck_Sitting_Talking.csv',\n",
       " './PDIoT2324/Respeck\\\\30_Respeck_Standing_Coughing.csv',\n",
       " './PDIoT2324/Respeck\\\\30_Respeck_Standing_Eating.csv',\n",
       " './PDIoT2324/Respeck\\\\30_Respeck_Standing_Hyperventilating.csv',\n",
       " './PDIoT2324/Respeck\\\\30_Respeck_Standing_Laughing.csv',\n",
       " './PDIoT2324/Respeck\\\\30_Respeck_Standing_Normal.csv',\n",
       " './PDIoT2324/Respeck\\\\30_Respeck_Standing_Singing.csv',\n",
       " './PDIoT2324/Respeck\\\\30_Respeck_Standing_Talking.csv',\n",
       " './PDIoT2324/Respeck\\\\31_Respeck_Ascending stairs_Normal.csv',\n",
       " './PDIoT2324/Respeck\\\\31_Respeck_Descending stairs_Normal.csv',\n",
       " './PDIoT2324/Respeck\\\\31_Respeck_Lying down back_Coughing.csv',\n",
       " './PDIoT2324/Respeck\\\\31_Respeck_Lying down back_Hyperventilating.csv',\n",
       " './PDIoT2324/Respeck\\\\31_Respeck_Lying down back_Laughing.csv',\n",
       " './PDIoT2324/Respeck\\\\31_Respeck_Lying down back_Normal.csv',\n",
       " './PDIoT2324/Respeck\\\\31_Respeck_Lying down back_Singing.csv',\n",
       " './PDIoT2324/Respeck\\\\31_Respeck_Lying down back_Talking.csv',\n",
       " './PDIoT2324/Respeck\\\\31_Respeck_Lying down on left_Coughing.csv',\n",
       " './PDIoT2324/Respeck\\\\31_Respeck_Lying down on left_Hyperventilating.csv',\n",
       " './PDIoT2324/Respeck\\\\31_Respeck_Lying down on left_Laughing.csv',\n",
       " './PDIoT2324/Respeck\\\\31_Respeck_Lying down on left_Normal.csv',\n",
       " './PDIoT2324/Respeck\\\\31_Respeck_Lying down on left_Singing.csv',\n",
       " './PDIoT2324/Respeck\\\\31_Respeck_Lying down on left_Talking.csv',\n",
       " './PDIoT2324/Respeck\\\\31_Respeck_Lying down on stomach_Coughing.csv',\n",
       " './PDIoT2324/Respeck\\\\31_Respeck_Lying down on stomach_Hyperventilating.csv',\n",
       " './PDIoT2324/Respeck\\\\31_Respeck_Lying down on stomach_Laughing.csv',\n",
       " './PDIoT2324/Respeck\\\\31_Respeck_Lying down on stomach_Normal.csv',\n",
       " './PDIoT2324/Respeck\\\\31_Respeck_Lying down on stomach_Singing.csv',\n",
       " './PDIoT2324/Respeck\\\\31_Respeck_Lying down on stomach_Talking.csv',\n",
       " './PDIoT2324/Respeck\\\\31_Respeck_Lying down right_Coughing.csv',\n",
       " './PDIoT2324/Respeck\\\\31_Respeck_Lying down right_Hyperventilating.csv',\n",
       " './PDIoT2324/Respeck\\\\31_Respeck_Lying down right_Laughing.csv',\n",
       " './PDIoT2324/Respeck\\\\31_Respeck_Lying down right_Normal.csv',\n",
       " './PDIoT2324/Respeck\\\\31_Respeck_Lying down right_Singing.csv',\n",
       " './PDIoT2324/Respeck\\\\31_Respeck_Lying down right_Talking.csv',\n",
       " './PDIoT2324/Respeck\\\\31_Respeck_Miscellaneous movements_Normal.csv',\n",
       " './PDIoT2324/Respeck\\\\31_Respeck_Normal walking_Normal.csv',\n",
       " './PDIoT2324/Respeck\\\\31_Respeck_Running_Normal.csv',\n",
       " './PDIoT2324/Respeck\\\\31_Respeck_Shuffle walking_Normal.csv',\n",
       " './PDIoT2324/Respeck\\\\31_Respeck_Sitting_Coughing.csv',\n",
       " './PDIoT2324/Respeck\\\\31_Respeck_Sitting_Eating.csv',\n",
       " './PDIoT2324/Respeck\\\\31_Respeck_Sitting_Hyperventilating.csv',\n",
       " './PDIoT2324/Respeck\\\\31_Respeck_Sitting_Laughing.csv',\n",
       " './PDIoT2324/Respeck\\\\31_Respeck_Sitting_Normal.csv',\n",
       " './PDIoT2324/Respeck\\\\31_Respeck_Sitting_Singing.csv',\n",
       " './PDIoT2324/Respeck\\\\31_Respeck_Sitting_Talking.csv',\n",
       " './PDIoT2324/Respeck\\\\31_Respeck_Standing_Coughing.csv',\n",
       " './PDIoT2324/Respeck\\\\31_Respeck_Standing_Eating.csv',\n",
       " './PDIoT2324/Respeck\\\\31_Respeck_Standing_Hyperventilating.csv',\n",
       " './PDIoT2324/Respeck\\\\31_Respeck_Standing_Laughing.csv',\n",
       " './PDIoT2324/Respeck\\\\31_Respeck_Standing_Normal.csv',\n",
       " './PDIoT2324/Respeck\\\\31_Respeck_Standing_Singing.csv',\n",
       " './PDIoT2324/Respeck\\\\31_Respeck_Standing_Talking.csv',\n",
       " './PDIoT2324/Respeck\\\\32_Respeck_Ascending stairs_Normal.csv',\n",
       " './PDIoT2324/Respeck\\\\32_Respeck_Descending stairs_Normal.csv',\n",
       " './PDIoT2324/Respeck\\\\33_Respeck_Ascending stairs_Normal.csv',\n",
       " './PDIoT2324/Respeck\\\\33_Respeck_Descending stairs_Normal.csv',\n",
       " './PDIoT2324/Respeck\\\\33_Respeck_Lying down back_Coughing.csv',\n",
       " './PDIoT2324/Respeck\\\\33_Respeck_Lying down back_Hyperventilating.csv',\n",
       " './PDIoT2324/Respeck\\\\33_Respeck_Lying down back_Laughing.csv',\n",
       " './PDIoT2324/Respeck\\\\33_Respeck_Lying down back_Normal.csv',\n",
       " './PDIoT2324/Respeck\\\\33_Respeck_Lying down back_Singing.csv',\n",
       " './PDIoT2324/Respeck\\\\33_Respeck_Lying down back_Talking.csv',\n",
       " './PDIoT2324/Respeck\\\\33_Respeck_Lying down on left_Coughing.csv',\n",
       " './PDIoT2324/Respeck\\\\33_Respeck_Lying down on left_Hyperventilating.csv',\n",
       " './PDIoT2324/Respeck\\\\33_Respeck_Lying down on left_Laughing.csv',\n",
       " './PDIoT2324/Respeck\\\\33_Respeck_Lying down on left_Normal.csv',\n",
       " './PDIoT2324/Respeck\\\\33_Respeck_Lying down on left_Singing.csv',\n",
       " './PDIoT2324/Respeck\\\\33_Respeck_Lying down on left_Talking.csv',\n",
       " './PDIoT2324/Respeck\\\\33_Respeck_Lying down on stomach_Coughing.csv',\n",
       " './PDIoT2324/Respeck\\\\33_Respeck_Lying down on stomach_Hyperventilating.csv',\n",
       " './PDIoT2324/Respeck\\\\33_Respeck_Lying down on stomach_Laughing.csv',\n",
       " './PDIoT2324/Respeck\\\\33_Respeck_Lying down on stomach_Normal.csv',\n",
       " './PDIoT2324/Respeck\\\\33_Respeck_Lying down on stomach_Singing.csv',\n",
       " './PDIoT2324/Respeck\\\\33_Respeck_Lying down on stomach_Talking.csv',\n",
       " './PDIoT2324/Respeck\\\\33_Respeck_Lying down right_Coughing.csv',\n",
       " './PDIoT2324/Respeck\\\\33_Respeck_Lying down right_Hyperventilating.csv',\n",
       " './PDIoT2324/Respeck\\\\33_Respeck_Lying down right_Laughing.csv',\n",
       " './PDIoT2324/Respeck\\\\33_Respeck_Lying down right_Normal.csv',\n",
       " './PDIoT2324/Respeck\\\\33_Respeck_Lying down right_Singing.csv',\n",
       " './PDIoT2324/Respeck\\\\33_Respeck_Lying down right_Talking.csv',\n",
       " './PDIoT2324/Respeck\\\\33_Respeck_Miscellaneous movements_Normal.csv',\n",
       " './PDIoT2324/Respeck\\\\33_Respeck_Normal walking_Normal.csv',\n",
       " './PDIoT2324/Respeck\\\\33_Respeck_Running_Normal.csv',\n",
       " './PDIoT2324/Respeck\\\\33_Respeck_Shuffle walking_Normal.csv',\n",
       " './PDIoT2324/Respeck\\\\33_Respeck_Sitting_Coughing.csv',\n",
       " './PDIoT2324/Respeck\\\\33_Respeck_Sitting_Eating.csv',\n",
       " './PDIoT2324/Respeck\\\\33_Respeck_Sitting_Hyperventilating.csv',\n",
       " './PDIoT2324/Respeck\\\\33_Respeck_Sitting_Laughing.csv',\n",
       " './PDIoT2324/Respeck\\\\33_Respeck_Sitting_Normal.csv',\n",
       " './PDIoT2324/Respeck\\\\33_Respeck_Sitting_Singing.csv',\n",
       " './PDIoT2324/Respeck\\\\33_Respeck_Sitting_Talking.csv',\n",
       " './PDIoT2324/Respeck\\\\33_Respeck_Standing_Coughing.csv',\n",
       " './PDIoT2324/Respeck\\\\33_Respeck_Standing_Eating.csv',\n",
       " './PDIoT2324/Respeck\\\\33_Respeck_Standing_Hyperventilating.csv',\n",
       " './PDIoT2324/Respeck\\\\33_Respeck_Standing_Laughing.csv',\n",
       " './PDIoT2324/Respeck\\\\33_Respeck_Standing_Normal.csv',\n",
       " './PDIoT2324/Respeck\\\\33_Respeck_Standing_Singing.csv',\n",
       " './PDIoT2324/Respeck\\\\33_Respeck_Standing_Talking.csv',\n",
       " './PDIoT2324/Respeck\\\\34_Respeck_Ascending stairs_Normal.csv',\n",
       " './PDIoT2324/Respeck\\\\34_Respeck_Descending stairs_Normal.csv',\n",
       " './PDIoT2324/Respeck\\\\34_Respeck_Lying down back_Coughing.csv',\n",
       " './PDIoT2324/Respeck\\\\34_Respeck_Lying down back_Hyperventilating.csv',\n",
       " './PDIoT2324/Respeck\\\\34_Respeck_Lying down back_Laughing.csv',\n",
       " './PDIoT2324/Respeck\\\\34_Respeck_Lying down back_Normal.csv',\n",
       " './PDIoT2324/Respeck\\\\34_Respeck_Lying down back_Singing.csv',\n",
       " './PDIoT2324/Respeck\\\\34_Respeck_Lying down back_Talking.csv',\n",
       " './PDIoT2324/Respeck\\\\34_Respeck_Lying down on left_Coughing.csv',\n",
       " './PDIoT2324/Respeck\\\\34_Respeck_Lying down on left_Hyperventilating.csv',\n",
       " './PDIoT2324/Respeck\\\\34_Respeck_Lying down on left_Laughing.csv',\n",
       " './PDIoT2324/Respeck\\\\34_Respeck_Lying down on left_Normal.csv',\n",
       " './PDIoT2324/Respeck\\\\34_Respeck_Lying down on left_Singing.csv',\n",
       " './PDIoT2324/Respeck\\\\34_Respeck_Lying down on left_Talking.csv',\n",
       " './PDIoT2324/Respeck\\\\34_Respeck_Lying down on stomach_Hyperventilating.csv',\n",
       " './PDIoT2324/Respeck\\\\34_Respeck_Lying down on stomach_Laughing.csv',\n",
       " './PDIoT2324/Respeck\\\\34_Respeck_Lying down on stomach_Normal.csv',\n",
       " './PDIoT2324/Respeck\\\\34_Respeck_Lying down on stomach_Singing.csv',\n",
       " './PDIoT2324/Respeck\\\\34_Respeck_Lying down on stomach_Talking.csv',\n",
       " './PDIoT2324/Respeck\\\\34_Respeck_Lying down right_Hyperventilating.csv',\n",
       " './PDIoT2324/Respeck\\\\34_Respeck_Lying down right_Laughing.csv',\n",
       " './PDIoT2324/Respeck\\\\34_Respeck_Lying down right_Normal.csv',\n",
       " './PDIoT2324/Respeck\\\\34_Respeck_Lying down right_Singing.csv',\n",
       " './PDIoT2324/Respeck\\\\34_Respeck_Lying down right_Talking.csv',\n",
       " './PDIoT2324/Respeck\\\\34_Respeck_Miscellaneous movements_Normal.csv',\n",
       " './PDIoT2324/Respeck\\\\34_Respeck_Normal walking_Normal.csv',\n",
       " './PDIoT2324/Respeck\\\\34_Respeck_Running_Normal.csv',\n",
       " './PDIoT2324/Respeck\\\\34_Respeck_Shuffle walking_Normal.csv',\n",
       " './PDIoT2324/Respeck\\\\34_Respeck_Sitting_Coughing.csv',\n",
       " './PDIoT2324/Respeck\\\\34_Respeck_Sitting_Eating.csv',\n",
       " './PDIoT2324/Respeck\\\\34_Respeck_Sitting_Hyperventilating.csv',\n",
       " './PDIoT2324/Respeck\\\\34_Respeck_Sitting_Laughing.csv',\n",
       " './PDIoT2324/Respeck\\\\34_Respeck_Sitting_Normal.csv',\n",
       " './PDIoT2324/Respeck\\\\34_Respeck_Sitting_Singing.csv',\n",
       " './PDIoT2324/Respeck\\\\34_Respeck_Sitting_Talking.csv',\n",
       " './PDIoT2324/Respeck\\\\34_Respeck_Standing_Coughing.csv',\n",
       " './PDIoT2324/Respeck\\\\34_Respeck_Standing_Eating.csv',\n",
       " './PDIoT2324/Respeck\\\\34_Respeck_Standing_Hyperventilating.csv',\n",
       " './PDIoT2324/Respeck\\\\34_Respeck_Standing_Laughing.csv',\n",
       " './PDIoT2324/Respeck\\\\34_Respeck_Standing_Normal.csv',\n",
       " './PDIoT2324/Respeck\\\\34_Respeck_Standing_Singing.csv',\n",
       " './PDIoT2324/Respeck\\\\34_Respeck_Standing_Talking.csv',\n",
       " './PDIoT2324/Respeck\\\\35_Respeck_Ascending stairs_Normal.csv',\n",
       " './PDIoT2324/Respeck\\\\35_Respeck_Descending stairs_Normal.csv',\n",
       " './PDIoT2324/Respeck\\\\35_Respeck_Lying down back_Coughing.csv',\n",
       " './PDIoT2324/Respeck\\\\35_Respeck_Lying down back_Hyperventilating.csv',\n",
       " './PDIoT2324/Respeck\\\\35_Respeck_Lying down back_Laughing.csv',\n",
       " './PDIoT2324/Respeck\\\\35_Respeck_Lying down back_Singing.csv',\n",
       " './PDIoT2324/Respeck\\\\35_Respeck_Lying down back_Talking.csv',\n",
       " './PDIoT2324/Respeck\\\\35_Respeck_Lying down on left_Coughing.csv',\n",
       " './PDIoT2324/Respeck\\\\35_Respeck_Lying down on left_Hyperventilating.csv',\n",
       " './PDIoT2324/Respeck\\\\35_Respeck_Lying down on left_Laughing.csv',\n",
       " './PDIoT2324/Respeck\\\\35_Respeck_Lying down on left_Normal.csv',\n",
       " './PDIoT2324/Respeck\\\\35_Respeck_Lying down on left_Singing.csv',\n",
       " './PDIoT2324/Respeck\\\\35_Respeck_Lying down on left_Talking.csv',\n",
       " './PDIoT2324/Respeck\\\\35_Respeck_Lying down on stomach_Coughing.csv',\n",
       " './PDIoT2324/Respeck\\\\35_Respeck_Lying down on stomach_Hyperventilating.csv',\n",
       " './PDIoT2324/Respeck\\\\35_Respeck_Lying down on stomach_Laughing.csv',\n",
       " './PDIoT2324/Respeck\\\\35_Respeck_Lying down on stomach_Normal.csv',\n",
       " './PDIoT2324/Respeck\\\\35_Respeck_Lying down on stomach_Singing.csv',\n",
       " './PDIoT2324/Respeck\\\\35_Respeck_Lying down on stomach_Talking.csv',\n",
       " './PDIoT2324/Respeck\\\\35_Respeck_Lying down right_Coughing.csv',\n",
       " './PDIoT2324/Respeck\\\\35_Respeck_Lying down right_Hyperventilating.csv',\n",
       " './PDIoT2324/Respeck\\\\35_Respeck_Lying down right_Laughing.csv',\n",
       " './PDIoT2324/Respeck\\\\35_Respeck_Lying down right_Normal.csv',\n",
       " './PDIoT2324/Respeck\\\\35_Respeck_Lying down right_Singing.csv',\n",
       " './PDIoT2324/Respeck\\\\35_Respeck_Lying down right_Talking.csv',\n",
       " './PDIoT2324/Respeck\\\\35_Respeck_Miscellaneous movements_Normal.csv',\n",
       " './PDIoT2324/Respeck\\\\35_Respeck_Normal walking_Normal.csv',\n",
       " './PDIoT2324/Respeck\\\\35_Respeck_Running_Normal.csv',\n",
       " './PDIoT2324/Respeck\\\\35_Respeck_Shuffle walking_Normal.csv',\n",
       " './PDIoT2324/Respeck\\\\35_Respeck_Sitting_Coughing.csv',\n",
       " './PDIoT2324/Respeck\\\\35_Respeck_Sitting_Eating.csv',\n",
       " './PDIoT2324/Respeck\\\\35_Respeck_Sitting_Hyperventilating.csv',\n",
       " './PDIoT2324/Respeck\\\\35_Respeck_Sitting_Laughing.csv',\n",
       " './PDIoT2324/Respeck\\\\35_Respeck_Sitting_Normal.csv',\n",
       " './PDIoT2324/Respeck\\\\35_Respeck_Sitting_Singing.csv',\n",
       " './PDIoT2324/Respeck\\\\35_Respeck_Sitting_Talking.csv',\n",
       " './PDIoT2324/Respeck\\\\35_Respeck_Standing_Coughing.csv',\n",
       " './PDIoT2324/Respeck\\\\35_Respeck_Standing_Eating.csv',\n",
       " './PDIoT2324/Respeck\\\\35_Respeck_Standing_Hyperventilating.csv',\n",
       " './PDIoT2324/Respeck\\\\35_Respeck_Standing_Laughing.csv',\n",
       " './PDIoT2324/Respeck\\\\35_Respeck_Standing_Normal.csv',\n",
       " './PDIoT2324/Respeck\\\\35_Respeck_Standing_Singing.csv',\n",
       " './PDIoT2324/Respeck\\\\35_Respeck_Standing_Talking.csv',\n",
       " './PDIoT2324/Respeck\\\\36_Respeck_Ascending stairs_Normal.csv',\n",
       " './PDIoT2324/Respeck\\\\36_Respeck_Descending stairs_Normal.csv',\n",
       " './PDIoT2324/Respeck\\\\36_Respeck_Lying down back_Coughing.csv',\n",
       " './PDIoT2324/Respeck\\\\36_Respeck_Lying down back_Hyperventilating.csv',\n",
       " './PDIoT2324/Respeck\\\\36_Respeck_Lying down back_Laughing.csv',\n",
       " './PDIoT2324/Respeck\\\\36_Respeck_Lying down back_Normal.csv',\n",
       " './PDIoT2324/Respeck\\\\36_Respeck_Lying down back_Singing.csv',\n",
       " './PDIoT2324/Respeck\\\\36_Respeck_Lying down back_Talking.csv',\n",
       " './PDIoT2324/Respeck\\\\36_Respeck_Lying down on left_Coughing.csv',\n",
       " './PDIoT2324/Respeck\\\\36_Respeck_Lying down on left_Hyperventilating.csv',\n",
       " './PDIoT2324/Respeck\\\\36_Respeck_Lying down on left_Laughing.csv',\n",
       " './PDIoT2324/Respeck\\\\36_Respeck_Lying down on left_Normal.csv',\n",
       " './PDIoT2324/Respeck\\\\36_Respeck_Lying down on left_Singing.csv',\n",
       " './PDIoT2324/Respeck\\\\36_Respeck_Lying down on left_Talking.csv',\n",
       " './PDIoT2324/Respeck\\\\36_Respeck_Lying down on stomach_Coughing.csv',\n",
       " './PDIoT2324/Respeck\\\\36_Respeck_Lying down on stomach_Hyperventilating.csv',\n",
       " './PDIoT2324/Respeck\\\\36_Respeck_Lying down on stomach_Laughing.csv',\n",
       " './PDIoT2324/Respeck\\\\36_Respeck_Lying down on stomach_Normal.csv',\n",
       " './PDIoT2324/Respeck\\\\36_Respeck_Lying down on stomach_Singing.csv',\n",
       " './PDIoT2324/Respeck\\\\36_Respeck_Lying down on stomach_Talking.csv',\n",
       " './PDIoT2324/Respeck\\\\36_Respeck_Lying down right_Coughing.csv',\n",
       " './PDIoT2324/Respeck\\\\36_Respeck_Lying down right_Hyperventilating.csv',\n",
       " './PDIoT2324/Respeck\\\\36_Respeck_Lying down right_Laughing.csv',\n",
       " './PDIoT2324/Respeck\\\\36_Respeck_Lying down right_Normal.csv',\n",
       " './PDIoT2324/Respeck\\\\36_Respeck_Lying down right_Singing.csv',\n",
       " './PDIoT2324/Respeck\\\\36_Respeck_Lying down right_Talking.csv',\n",
       " './PDIoT2324/Respeck\\\\36_Respeck_Miscellaneous movements_Normal.csv',\n",
       " './PDIoT2324/Respeck\\\\36_Respeck_Normal walking_Normal.csv',\n",
       " './PDIoT2324/Respeck\\\\36_Respeck_Shuffle walking_Normal.csv',\n",
       " './PDIoT2324/Respeck\\\\36_Respeck_Sitting_Coughing.csv',\n",
       " './PDIoT2324/Respeck\\\\36_Respeck_Sitting_Eating.csv',\n",
       " './PDIoT2324/Respeck\\\\36_Respeck_Sitting_Hyperventilating.csv',\n",
       " './PDIoT2324/Respeck\\\\36_Respeck_Sitting_Laughing.csv',\n",
       " './PDIoT2324/Respeck\\\\36_Respeck_Sitting_Normal.csv',\n",
       " './PDIoT2324/Respeck\\\\36_Respeck_Sitting_Singing.csv',\n",
       " './PDIoT2324/Respeck\\\\36_Respeck_Sitting_Talking.csv',\n",
       " './PDIoT2324/Respeck\\\\36_Respeck_Standing_Coughing.csv',\n",
       " './PDIoT2324/Respeck\\\\36_Respeck_Standing_Eating.csv',\n",
       " './PDIoT2324/Respeck\\\\36_Respeck_Standing_Hyperventilating.csv',\n",
       " './PDIoT2324/Respeck\\\\36_Respeck_Standing_Laughing.csv',\n",
       " './PDIoT2324/Respeck\\\\36_Respeck_Standing_Normal.csv',\n",
       " './PDIoT2324/Respeck\\\\36_Respeck_Standing_Singing.csv',\n",
       " './PDIoT2324/Respeck\\\\36_Respeck_Standing_Talking.csv',\n",
       " './PDIoT2324/Respeck\\\\37_Respeck_Ascending stairs_Normal.csv',\n",
       " './PDIoT2324/Respeck\\\\37_Respeck_Descending stairs_Normal.csv',\n",
       " './PDIoT2324/Respeck\\\\37_Respeck_Lying down back_Coughing.csv',\n",
       " './PDIoT2324/Respeck\\\\37_Respeck_Lying down back_Hyperventilating.csv',\n",
       " './PDIoT2324/Respeck\\\\37_Respeck_Lying down back_Laughing.csv',\n",
       " './PDIoT2324/Respeck\\\\37_Respeck_Lying down back_Normal.csv',\n",
       " './PDIoT2324/Respeck\\\\37_Respeck_Lying down back_Singing.csv',\n",
       " './PDIoT2324/Respeck\\\\37_Respeck_Lying down back_Talking.csv',\n",
       " './PDIoT2324/Respeck\\\\37_Respeck_Lying down on left_Coughing.csv',\n",
       " './PDIoT2324/Respeck\\\\37_Respeck_Lying down on left_Hyperventilating.csv',\n",
       " './PDIoT2324/Respeck\\\\37_Respeck_Lying down on left_Laughing.csv',\n",
       " './PDIoT2324/Respeck\\\\37_Respeck_Lying down on left_Normal.csv',\n",
       " './PDIoT2324/Respeck\\\\37_Respeck_Lying down on left_Talking.csv',\n",
       " './PDIoT2324/Respeck\\\\37_Respeck_Lying down on stomach_Coughing.csv',\n",
       " './PDIoT2324/Respeck\\\\37_Respeck_Lying down on stomach_Hyperventilating.csv',\n",
       " './PDIoT2324/Respeck\\\\37_Respeck_Lying down on stomach_Laughing.csv',\n",
       " './PDIoT2324/Respeck\\\\37_Respeck_Lying down on stomach_Normal.csv',\n",
       " './PDIoT2324/Respeck\\\\37_Respeck_Lying down on stomach_Singing.csv',\n",
       " './PDIoT2324/Respeck\\\\37_Respeck_Lying down on stomach_Talking.csv',\n",
       " './PDIoT2324/Respeck\\\\37_Respeck_Lying down right_Coughing.csv',\n",
       " './PDIoT2324/Respeck\\\\37_Respeck_Lying down right_Hyperventilating.csv',\n",
       " './PDIoT2324/Respeck\\\\37_Respeck_Lying down right_Laughing.csv',\n",
       " './PDIoT2324/Respeck\\\\37_Respeck_Lying down right_Normal.csv',\n",
       " './PDIoT2324/Respeck\\\\37_Respeck_Lying down right_Singing.csv',\n",
       " './PDIoT2324/Respeck\\\\37_Respeck_Lying down right_Talking.csv',\n",
       " './PDIoT2324/Respeck\\\\37_Respeck_Miscellaneous movements_Normal.csv',\n",
       " './PDIoT2324/Respeck\\\\37_Respeck_Normal walking_Normal.csv',\n",
       " './PDIoT2324/Respeck\\\\37_Respeck_Running_Normal.csv',\n",
       " './PDIoT2324/Respeck\\\\37_Respeck_Shuffle walking_Normal.csv',\n",
       " './PDIoT2324/Respeck\\\\37_Respeck_Sitting_Coughing.csv',\n",
       " './PDIoT2324/Respeck\\\\37_Respeck_Sitting_Eating.csv',\n",
       " './PDIoT2324/Respeck\\\\37_Respeck_Sitting_Hyperventilating.csv',\n",
       " './PDIoT2324/Respeck\\\\37_Respeck_Sitting_Laughing.csv',\n",
       " './PDIoT2324/Respeck\\\\37_Respeck_Sitting_Normal.csv',\n",
       " './PDIoT2324/Respeck\\\\37_Respeck_Sitting_Singing.csv',\n",
       " './PDIoT2324/Respeck\\\\37_Respeck_Sitting_Talking.csv',\n",
       " './PDIoT2324/Respeck\\\\37_Respeck_Standing_Coughing.csv',\n",
       " './PDIoT2324/Respeck\\\\37_Respeck_Standing_Eating.csv',\n",
       " './PDIoT2324/Respeck\\\\37_Respeck_Standing_Hyperventilating.csv',\n",
       " './PDIoT2324/Respeck\\\\37_Respeck_Standing_Laughing.csv',\n",
       " './PDIoT2324/Respeck\\\\37_Respeck_Standing_Normal.csv',\n",
       " './PDIoT2324/Respeck\\\\37_Respeck_Standing_Singing.csv',\n",
       " './PDIoT2324/Respeck\\\\37_Respeck_Standing_Talking.csv',\n",
       " './PDIoT2324/Respeck\\\\38_Respeck_Ascending stairs_Normal.csv',\n",
       " './PDIoT2324/Respeck\\\\38_Respeck_Descending stairs_Normal.csv',\n",
       " './PDIoT2324/Respeck\\\\38_Respeck_Lying down back_Coughing.csv',\n",
       " './PDIoT2324/Respeck\\\\38_Respeck_Lying down back_Hyperventilating.csv',\n",
       " './PDIoT2324/Respeck\\\\38_Respeck_Lying down back_Laughing.csv',\n",
       " './PDIoT2324/Respeck\\\\38_Respeck_Lying down back_Normal.csv',\n",
       " './PDIoT2324/Respeck\\\\38_Respeck_Lying down back_Singing.csv',\n",
       " './PDIoT2324/Respeck\\\\38_Respeck_Lying down back_Talking.csv',\n",
       " './PDIoT2324/Respeck\\\\38_Respeck_Lying down on left_Coughing.csv',\n",
       " './PDIoT2324/Respeck\\\\38_Respeck_Lying down on left_Hyperventilating.csv',\n",
       " './PDIoT2324/Respeck\\\\38_Respeck_Lying down on left_Laughing.csv',\n",
       " './PDIoT2324/Respeck\\\\38_Respeck_Lying down on left_Normal.csv',\n",
       " './PDIoT2324/Respeck\\\\38_Respeck_Lying down on left_Singing.csv',\n",
       " './PDIoT2324/Respeck\\\\38_Respeck_Lying down on left_Talking.csv',\n",
       " './PDIoT2324/Respeck\\\\38_Respeck_Lying down on stomach_Coughing.csv',\n",
       " './PDIoT2324/Respeck\\\\38_Respeck_Lying down on stomach_Hyperventilating.csv',\n",
       " './PDIoT2324/Respeck\\\\38_Respeck_Lying down on stomach_Laughing.csv',\n",
       " './PDIoT2324/Respeck\\\\38_Respeck_Lying down on stomach_Normal.csv',\n",
       " './PDIoT2324/Respeck\\\\38_Respeck_Lying down on stomach_Singing.csv',\n",
       " './PDIoT2324/Respeck\\\\38_Respeck_Lying down on stomach_Talking.csv',\n",
       " './PDIoT2324/Respeck\\\\38_Respeck_Lying down right_Coughing.csv',\n",
       " './PDIoT2324/Respeck\\\\38_Respeck_Lying down right_Hyperventilating.csv',\n",
       " ...]"
      ]
     },
     "execution_count": 4,
     "metadata": {},
     "output_type": "execute_result"
    }
   ],
   "source": [
    "glob.glob(your_dataset_path + \"/*\")"
   ]
  },
  {
   "cell_type": "markdown",
   "metadata": {
    "id": "Z3zJiRjym7LU"
   },
   "source": [
    "To see the files in each subfolder you can similarly do:"
   ]
  },
  {
   "cell_type": "markdown",
   "metadata": {
    "id": "w7eNuiHKmBuT"
   },
   "source": [
    "# Functions"
   ]
  },
  {
   "cell_type": "markdown",
   "metadata": {
    "id": "9zdg12YooOJF"
   },
   "source": [
    "## Load list of files in an activity folder"
   ]
  },
  {
   "cell_type": "code",
   "execution_count": 5,
   "metadata": {},
   "outputs": [],
   "source": [
    "activities = {\n",
    "    'ascending': 0,\n",
    "    'shuffleWalking': 1,\n",
    "    'sittingStanding': 2,\n",
    "    'miscMovement': 3,\n",
    "    'normalWalking': 4,\n",
    "    'lyingBack': 5,\n",
    "    'lyingLeft': 6,\n",
    "    'lyingRight': 7,\n",
    "    'lyingStomach': 8,\n",
    "    'descending': 9,\n",
    "    'running': 10\n",
    "}\n",
    "\n",
    "social_signals = {\n",
    "    'breathingNormal': 0,\n",
    "    'coughing': 1,\n",
    "    'hyperventilating': 2,\n",
    "    'other': 3\n",
    "}\n",
    "\n",
    "\n",
    "activity_labels = list(activities.keys())\n",
    "social_signal_labels = list(social_signals.keys())"
   ]
  },
  {
   "cell_type": "code",
   "execution_count": 6,
   "metadata": {
    "id": "b_ZtuAb64ZsD"
   },
   "outputs": [],
   "source": [
    "def load_files_from_folder(folder_path):\n",
    "    \"\"\"\n",
    "    Load all CSV files from a folder and return a list of file paths.\n",
    "\n",
    "    Parameters:\n",
    "    folder_path (str): The path to the folder containing CSV files.\n",
    "\n",
    "    Returns:\n",
    "    list: A list of file paths for all CSV files in the folder.\n",
    "    \"\"\"\n",
    "\n",
    "    # Initialize an empty list to store the full file paths of the CSV files\n",
    "    file_paths = []\n",
    "\n",
    "    # Loop through all the files in the given folder\n",
    "    for file_name in os.listdir(folder_path):\n",
    "        # Check if the file has a .csv extension (ignores other files)\n",
    "        if file_name.endswith('.csv'):\n",
    "            # Construct the full file path by joining the folder path and the file name\n",
    "            full_file_path = os.path.join(folder_path, file_name)\n",
    "\n",
    "            # Append the full file path to the file_paths list\n",
    "            file_paths.append(full_file_path)\n",
    "\n",
    "    # Return the complete list of CSV file paths\n",
    "    return file_paths"
   ]
  },
  {
   "cell_type": "code",
   "execution_count": 7,
   "metadata": {},
   "outputs": [],
   "source": [
    "# Function to extract either the activity or the social signal label from the file name\n",
    "def extract_task(file_name, task):\n",
    "    \"\"\"\n",
    "    Extract the activity or social signal label from a file name.\n",
    "\n",
    "    Parameters:\n",
    "    file_name (str): The name of the file containing the label.\n",
    "    task (str): The task to extract from the file name (e.g., 'activity' or 'social_signal').\n",
    "\n",
    "    Returns:\n",
    "    str: The extracted label from the file name.\n",
    "    \"\"\"\n",
    "\n",
    "    # Split the file name by underscores to extract different parts\n",
    "    file_parts = file_name.split('_')\n",
    "\n",
    "    # Check if the task is 'activity'\n",
    "    if task == 'activity':\n",
    "        # The activity label is the second part of the file name\n",
    "        label = file_parts[2]\n",
    "    # Check if the task is 'social_signal'\n",
    "    elif task == 'social_signal':\n",
    "        # The social signal label is the third part of the file name\n",
    "        label = file_parts[3].split(\".\")[0]\n",
    "\n",
    "    if label == \"sitting\" or label == \"standing\" or label == \"Sitting\" or label == \"Standing\":\n",
    "        label = \"sittingStanding\"\n",
    "    \n",
    "    # For processing the 2024_2025 dataset which has different naming\n",
    "    if label == \"Descending stairs\":\n",
    "        label = \"descending\"\n",
    "    \n",
    "    if label == \"Ascending stairs\":\n",
    "        label = \"ascending\"\n",
    "    \n",
    "    if label == \"Lying down back\":\n",
    "        label = \"lyingBack\"\n",
    "    \n",
    "    if label == \"Lying down on left\":\n",
    "        label = \"lyingLeft\"\n",
    "    \n",
    "    if label == \"Lying down on stomach\":\n",
    "        label = \"lyingStomach\"\n",
    "    \n",
    "    if label == \"Lying down right\":\n",
    "        label = \"lyingRight\"\n",
    "\n",
    "    if label == \"Miscellaneous movements\":\n",
    "        label = \"miscMovement\"\n",
    "\n",
    "    if label == \"Normal walking\":\n",
    "        label = \"normalWalking\"\n",
    "\n",
    "    if label == \"Running\":\n",
    "        label = \"running\"\n",
    "\n",
    "    if label == \"Shuffle walking\":\n",
    "        label = \"shuffleWalking\"\n",
    "\n",
    "    if label == \"Normal\":\n",
    "        label = \"breathingNormal\"\n",
    "    \n",
    "    if label == \"Hyperventilating\":\n",
    "        label = \"hyperventilating\"\n",
    "\n",
    "    if label == \"Coughing\":\n",
    "        label = \"coughing\"\n",
    "\n",
    "    if label == \"laughing\" or label == \"talking\" or label == \"eating\" or label == \"singing\" or label == \"Laughing\" or label == \"Talking\" or label == \"Eating\" or label == \"Singing\":\n",
    "        label = \"other\"\n",
    "\n",
    "    if task == \"activity\":\n",
    "        label = activities[label]\n",
    "    else:\n",
    "        label = social_signals[label]\n",
    "    # Return the extracted label\n",
    "    return label\n"
   ]
  },
  {
   "cell_type": "markdown",
   "metadata": {
    "id": "hAUGBeBBn_L8"
   },
   "source": [
    "## Train and test set split from list of files"
   ]
  },
  {
   "cell_type": "code",
   "execution_count": 8,
   "metadata": {
    "id": "2SzHoQz2NH3v"
   },
   "outputs": [],
   "source": [
    "def split_files(file_list, test_size=0.2):\n",
    "    \"\"\"\n",
    "    Split the list of files into training and test sets.\n",
    "\n",
    "    Parameters:\n",
    "    file_list (list): List of file paths to be split into train and test sets.\n",
    "    test_size (float): The proportion of files to allocate to the test set.\n",
    "                       Default is 0.2, meaning 20% of the files will be used for testing.\n",
    "\n",
    "    Returns:\n",
    "    tuple:\n",
    "        - train_files (list): List of file paths for the training set.\n",
    "        - test_files (list): List of file paths for the test set.\n",
    "    \"\"\"\n",
    "\n",
    "    # Split the file list into training and test sets using train_test_split from scikit-learn\n",
    "    # test_size defines the proportion of the data to use as the test set (default is 20%)\n",
    "    # shuffle=True ensures that the files are shuffled randomly before splitting\n",
    "    train_files, test_files = train_test_split(file_list, test_size=test_size, shuffle=True)\n",
    "\n",
    "    # Return the train and test file lists\n",
    "    return train_files, test_files"
   ]
  },
  {
   "cell_type": "markdown",
   "metadata": {
    "id": "_J7-zQgZzP19"
   },
   "source": [
    "## Sliding Window\n",
    "\n",
    "In time series Activity Recognition, a sliding window is a commonly used technique to segment continuous sensor data (such as accelerometer readings) into smaller, fixed-length overlapping or non-overlapping time intervals, or windows. Each window contains a sequence of sensor measurements that represent a short period of time, and this segmented data is used to extract features or make predictions about the activity happening within that window.\n",
    "\n",
    "### Key Concepts of a Sliding Window\n",
    "1.   **Window Size:** This refers to the length of each segment or window, typically defined in terms of the number of time steps or the duration (e.g., 2 seconds). The window size should be chosen carefully to capture enough information about the activity without making the window too large.\n",
    "2.   **Step Size:** The step size determines how far the window moves forward after each step. If the step size is smaller than the window size, the windows will overlap. For example, if the window size is 5 seconds and the step size is 2 seconds, there will be a 3-second overlap between consecutive windows. Overlapping windows provide more data for analysis and can help smooth out predictions by capturing transitional activities.\n",
    "3.   **Non-Overlapping Windows:** If the step size is equal to the window size, the windows do not overlap. This method provides distinct segments of data but may miss transitional phases between activities.\n",
    "\n",
    "### Why Sliding Windows for Activity Recognition?\n",
    "\n",
    "* Segmentation of Continuous Data: Activity recognition systems work with continuous streams of sensor data, and the sliding window helps segment these into manageable pieces to classify activities within specific intervals.\n",
    "\n",
    "* Context Capturing: Human activities are often complex and spread across time. By using a sliding window, you can capture context across a short duration, which may include transitions or small fluctuations in the activity (e.g., a person moving from sitting to standing).\n",
    "\n",
    "* Feature Extraction: Within each window, features such as mean, variance, frequency domain features, etc., can be extracted to help classify the activity.\n",
    "\n",
    "* Real-Time Recognition: In real-time systems, the sliding window allows for continuous monitoring and updating of predictions as new data arrives.\n",
    "\n"
   ]
  },
  {
   "cell_type": "code",
   "execution_count": 9,
   "metadata": {
    "id": "u3SuHww6MpEx"
   },
   "outputs": [],
   "source": [
    "def load_and_apply_sliding_windows(file_paths, window_size, step_size, task):\n",
    "    \"\"\"\n",
    "    Load the data from each file, apply sliding windows, and return the windows and labels.\n",
    "\n",
    "    Parameters:\n",
    "    file_paths (list): List of file paths to CSV files. Each file contains sensor data (e.g., accelerometer, gyroscope).\n",
    "    window_size (int): The size of each sliding window (number of time steps).\n",
    "    step_size (int): The step size (stride) between consecutive windows.\n",
    "    label (int or str): The label for the activity corresponding to the folder.\n",
    "                        This label will be assigned to each sliding window extracted from the data.\n",
    "\n",
    "    Returns:\n",
    "    tuple:\n",
    "        - windows (numpy.ndarray): A 3D array of sliding windows, where each window has the shape\n",
    "                                   (num_windows, window_size, num_features).\n",
    "        - labels (numpy.ndarray): A 1D array of labels, where each label corresponds to a sliding window.\n",
    "    \"\"\"\n",
    "    # Initialize lists to store sliding windows and their corresponding labels\n",
    "    windows = []\n",
    "    labels = []\n",
    "\n",
    "    # Loop through each file in the provided file paths\n",
    "    for file_path in file_paths:\n",
    "        label = extract_task(file_path, task)\n",
    "        # Load the CSV file into a pandas DataFrame\n",
    "        data = pd.read_csv(file_path)\n",
    "\n",
    "        # Select the columns containing the necessary sensor data (acceleration and gyroscope readings)\n",
    "        # These columns might vary depending on your dataset's structure\n",
    "        data = data[['accel_x', 'accel_y', 'accel_z']]\n",
    "\n",
    "        # Convert the DataFrame into a numpy array for faster processing in the sliding window operation\n",
    "        data = data.to_numpy()\n",
    "\n",
    "        # Get the number of samples (rows) and features (columns) in the data\n",
    "        num_samples, num_features = data.shape\n",
    "\n",
    "        # Apply sliding windows to the data\n",
    "        # The range function defines the start of each window, moving step_size increments at a time\n",
    "        for i in range(0, num_samples - window_size + 1, step_size):\n",
    "            # Extract a window of size 'window_size' from the current position 'i'\n",
    "            window = data[i:i + window_size, :]\n",
    "\n",
    "            # Append the window to the windows list\n",
    "            windows.append(window)\n",
    "\n",
    "            # Assign the activity label to the window and append it to the labels list\n",
    "            labels.append(label)\n",
    "\n",
    "    # Convert the lists of windows and labels into numpy arrays for efficient numerical operations\n",
    "    return np.array(windows), np.array(labels)"
   ]
  },
  {
   "cell_type": "markdown",
   "metadata": {
    "id": "9-Ku5P4Lm8QA"
   },
   "source": [
    "## Load and Split Train Test for Each Activity Folder\n",
    "\n",
    "This function processes the sensor data for a specific activity, such as 'walking' or 'running', stored in its respective folder. It splits the data into training and testing sets, applies sliding windows, and labels the windows with the corresponding activity. This function can be used repeatedly for each activity to process and prepare data for training and evaluation."
   ]
  },
  {
   "cell_type": "code",
   "execution_count": 10,
   "metadata": {
    "id": "zBVvTBi7N_fh"
   },
   "outputs": [],
   "source": [
    "def process_task(task, label_list, dataset_path, window_size, step_size, test_size=0.2):\n",
    "    \"\"\"\n",
    "    Processes an activity folder by loading the file list, splitting them into\n",
    "    train and test sets, and applying sliding windows to the files.\n",
    "\n",
    "    Args:\n",
    "        activity (str): Name of the activity (folder name). This refers to the specific physical activity\n",
    "                        like 'walking', 'running', etc.\n",
    "        label (int): Numeric label corresponding to the activity, used for classification.\n",
    "        dataset_path (str): Base path where the activity folders are located.\n",
    "        window_size (int): Size of the sliding window, i.e., the number of time steps included in each window.\n",
    "                           Default is 50.\n",
    "        step_size (int): Step size for the sliding window, i.e., how far the window moves along the data.\n",
    "                         Default is 50 (no overlap between windows).\n",
    "        test_size (float): Proportion of files to use for testing. Default is 0.2, meaning 20% of files will\n",
    "                           be allocated to the test set.\n",
    "\n",
    "    Returns:\n",
    "        tuple:\n",
    "            - train_windows (numpy.ndarray): Sliding windows from the training files.\n",
    "            - train_labels (numpy.ndarray): Corresponding labels for the training windows.\n",
    "            - test_windows (numpy.ndarray): Sliding windows from the test files.\n",
    "            - test_labels (numpy.ndarray): Corresponding labels for the test windows.\n",
    "    \"\"\"\n",
    "\n",
    "    # Load all CSV file paths for the given activity from the folder\n",
    "    file_list = load_files_from_folder(dataset_path)\n",
    "\n",
    "    # Split the file list into training and testing sets\n",
    "    # train_files: files used for training\n",
    "    # test_files: files used for testing\n",
    "    #train_files, test_files = split_files(file_list, task, test_size=test_size)\n",
    "    \n",
    "    # Apply sliding windows to the training files\n",
    "    # The function 'load_and_apply_sliding_windows' returns the sliding windows (segments) and their corresponding labels\n",
    "    windows, labels = load_and_apply_sliding_windows(file_list, window_size, step_size, task)\n",
    "\n",
    "    # Apply sliding windows to the testing files\n",
    "    #test_windows, test_labels = load_and_apply_sliding_windows(test_files, window_size, step_size, task)\n",
    "\n",
    "    # Return the sliding windows and their labels for both training and testing sets\n",
    "    return windows, labels"
   ]
  },
  {
   "cell_type": "markdown",
   "metadata": {
    "id": "Vv2TUL_Tnnxu"
   },
   "source": [
    "## Combine Data\n",
    "The function combines the sliding window data and their corresponding labels from multiple activities (e.g., walking, running, etc.) into single arrays."
   ]
  },
  {
   "cell_type": "code",
   "execution_count": 11,
   "metadata": {
    "id": "au6dRWtmmig7"
   },
   "outputs": [],
   "source": [
    "def combine_data(train_test_data, data_type):\n",
    "    \"\"\"\n",
    "    Combines the sliding windows and labels from all activities into a single\n",
    "    array for either training or testing.\n",
    "\n",
    "    Args:\n",
    "        train_test_data (dict): Dictionary containing the sliding window data for all activities.\n",
    "                                Each key in the dictionary corresponds to an activity, and the value is another\n",
    "                                dictionary with the keys 'train_windows', 'train_labels', 'test_windows', 'test_labels'.\n",
    "        data_type (str): Either 'train' or 'test' to specify which data to combine (e.g., 'train_windows' or 'test_windows').\n",
    "\n",
    "    Returns:\n",
    "        tuple:\n",
    "            - windows (numpy.ndarray): Concatenated windows from all activities for either training or testing.\n",
    "            - labels (numpy.ndarray): Concatenated labels corresponding to the windows from all activities.\n",
    "    \"\"\"\n",
    "\n",
    "    # Extract the list of sliding windows for the specified data type (either 'train' or 'test') from each activity\n",
    "    # For example, if data_type is 'train', it extracts 'train_windows' for all activities\n",
    "    windows_list = [train_test_data[activity][f'{data_type}_windows'] for activity in train_test_data]\n",
    "\n",
    "    # Similarly, extract the list of labels corresponding to the windows for each activity\n",
    "    labels_list = [train_test_data[activity][f'{data_type}_labels'] for activity in train_test_data]\n",
    "\n",
    "    # Concatenate all the sliding windows into a single numpy array along the first axis (rows)\n",
    "    # This creates one large array of windows from all the activities combined\n",
    "    concatenated_windows = np.concatenate(windows_list, axis=0)\n",
    "\n",
    "    # Concatenate all the labels into a single numpy array along the first axis (rows)\n",
    "    # The labels are now aligned with the concatenated windows\n",
    "    concatenated_labels = np.concatenate(labels_list, axis=0)\n",
    "\n",
    "    # Return the concatenated windows and labels as a tuple\n",
    "    return concatenated_windows, concatenated_labels"
   ]
  },
  {
   "cell_type": "markdown",
   "metadata": {
    "id": "_Wv1PuOLgUV8"
   },
   "source": [
    "## 1D CNN Model\n",
    "\n",
    "This function, `build_1d_cnn_model`, creates and compiles a 1D Convolutional Neural Network (CNN) for multi-class classification tasks.\n",
    "\n",
    "### Function Overview\n",
    "\n",
    "Input Parameters\n",
    "* `input_shape`: Specifies the shape of the input data. It represents (timesteps, features), where timesteps refer to the length of the time series (e.g., 50 windows), and features represent the number of measurements in each time step (e.g., accelerometer readings).\n",
    "* `num_classes`: The number of output classes for the classification problem. For example, if you're classifying six different activities, num_classes would be 6.\n",
    "\n",
    "Returns\n",
    "* The function returns a compiled 1D CNN model that is ready to be trained on your data.\n",
    "\n",
    "<hr>\n",
    "\n",
    "### Function Breakdown\n",
    "1.   Model Initialization:\n",
    "    * `model = Sequential()`: Initializes a Sequential model, which means layers will be stacked on top of each other in a linear fashion.\n",
    "2.   First Convolutional Layer\n",
    "    * `Conv1D(filters=64, kernel_size=3, activation='relu', input_shape=input_shape)`\n",
    "        * This is the first 1D convolutional layer\n",
    "        * `filters=64`: The layer applies 64 filters (or kernels) over the input data.\n",
    "        * `kernel_size=3`: Each filter will cover 3 timesteps at a time (a window of 3).\n",
    "        * `activation='relu'`: The Rectified Linear Unit (ReLU) activation function introduces non-linearity and helps the model learn complex patterns.\n",
    "        * `input_shape=input_shape`: Specifies the shape of the input data.\n",
    "    * `MaxPooling1D(pool_size=2)`: This pooling layer reduces the dimensionality of the data by taking the maximum value from each 2-timestep window (`pool_size=2`). This helps reduce computational complexity and captures the most important features.\n",
    "3. Second Convolutional Layer:\n",
    "    * `Conv1D(filters=128, kernel_size=3, activation='relu')`\n",
    "        * This is the second convolutional layer, similar to the first, but with 128 filters, which allow the network to learn more complex features from the data.\n",
    "        * `kernel_size=3` and activation='relu' function in the same way as the first Conv1D layer.\n",
    "    * `MaxPooling1D(pool_size=2)`: Another pooling layer to downsample the output, further reducing the data’s dimensionality.\n",
    "4. Flattening Layer:\n",
    "    * `Flattening`: Converts the 2D output of the convolutional and pooling layers into a 1D vector. This is necessary because the next layer is fully connected, and it requires a 1D input.\n",
    "5. Fully Connected Layer:\n",
    "    * `Dense(128, activation='relu')`: This is a fully connected layer with 128 units/neurons. Each neuron is connected to every input from the flattened output. The ReLU activation function is used again to introduce non-linearity and help the model learn complex relationships.\n",
    "6. Dropout Layer:\n",
    "    * `Dropout(0.5)`: This layer randomly sets 50% of the neurons to zero during training to prevent overfitting. It helps the model generalize better to unseen data.\n",
    "7. Output Layer:\n",
    "    * `Dense(num_classes, activation='softmax')`: This is the output layer with num_classes neurons, one for each class in the classification problem. The softmax activation function ensures the output values represent probabilities that sum to 1, useful for multi-class classification.\n",
    "8. Compiling the model\n",
    "    * model.compile(optimizer='adam', loss='categorical_crossentropy', metrics=['accuracy']):\n",
    "        * Optimizer: 'adam': Adam is an optimization algorithm that adjusts the learning rate during training to improve performance.\n",
    "        * Loss: 'categorical_crossentropy': This loss function is used for multi-class classification problems where the target variable is one-hot encoded (i.e., represented as a vector of 0s and 1s).\n",
    "        * Metrics: ['accuracy']: The accuracy metric is used to evaluate the model’s performance during training and testing.\n"
   ]
  },
  {
   "cell_type": "code",
   "execution_count": 12,
   "metadata": {
    "id": "sCOkh99EOg8t"
   },
   "outputs": [],
   "source": [
    "def build_1d_cnn_model(input_shape, num_classes):\n",
    "    \"\"\"\n",
    "    Builds and compiles a 1D CNN model for multi-class classification.\n",
    "\n",
    "    Args:\n",
    "        input_shape (tuple): The shape of the input data (timesteps, features).\n",
    "        num_classes (int): The number of output classes.\n",
    "\n",
    "    Returns:\n",
    "        model (Sequential): Compiled 1D CNN model.\n",
    "    \"\"\"\n",
    "    model = Sequential()\n",
    "\n",
    "    # First Conv1D layer\n",
    "    # You can try experimenting with different filters, kernel_size values and activiation functions\n",
    "    model.add(Conv1D(filters=64, kernel_size=3, activation='relu', input_shape=input_shape))\n",
    "    model.add(MaxPooling1D(pool_size=2))\n",
    "\n",
    "    # Second Conv1D layer\n",
    "    # You can try experimenting with different filters, kernel_size values and activiation functions\n",
    "    model.add(Conv1D(filters=128, kernel_size=3, activation='relu'))\n",
    "    model.add(MaxPooling1D(pool_size=2))\n",
    "\n",
    "    # Third Conv1D layer\n",
    "    model.add(Conv1D(filters=256, kernel_size=3, activation='relu'))\n",
    "    model.add(MaxPooling1D(pool_size=2))\n",
    "\n",
    "    # Flatten the output from the convolutional layers\n",
    "    model.add(Flatten())\n",
    "\n",
    "    # Fully connected layer\n",
    "    model.add(Dense(128, activation='relu'))\n",
    "\n",
    "    # Dropout layer for regularization\n",
    "    # You can try experimenting with different dropout rates\n",
    "    model.add(Dropout(0.3))\n",
    "\n",
    "    # Output layer with softmax for multi-class classification\n",
    "    model.add(Dense(num_classes, activation='softmax'))\n",
    "\n",
    "    # Compile the model\n",
    "    model.compile(optimizer='adam', loss='categorical_crossentropy', metrics=['accuracy'])\n",
    "\n",
    "    #  Prints a detailed summary of the model, showing the layers, their output shapes, and the number of trainable parameters\n",
    "    model.summary()\n",
    "    return model"
   ]
  },
  {
   "cell_type": "markdown",
   "metadata": {
    "id": "HurfE6lmOjQT"
   },
   "source": [
    "# Classification Pipeline"
   ]
  },
  {
   "cell_type": "markdown",
   "metadata": {
    "id": "DLs1eacYoa_S"
   },
   "source": [
    "## Step 1: Prepare and Preprocess the Data"
   ]
  },
  {
   "cell_type": "code",
   "execution_count": 13,
   "metadata": {
    "id": "2FqqaaX2o1YW"
   },
   "outputs": [
    {
     "name": "stdout",
     "output_type": "stream",
     "text": [
      "Length of data for social signal windows: 302909 with 4 different labels, labels are [0 0 0 ... 3 3 3]\n",
      "X_social_signal shape: (302909, 200, 3), y_social_signal shape: (302909,)\n"
     ]
    }
   ],
   "source": [
    "# Create the sliding windows and labels for the activity and social signal tasks\n",
    "X_activity, y_activity = process_task(\"activity\", activity_labels, your_dataset_path, window_size=250, step_size=25)\n",
    "X_social_signal, y_social_signal = process_task(\"social_signal\", social_signal_labels, your_dataset_path, window_size=200, step_size=10)\n",
    "\n",
    "#print(f\"Length of data for activity windows: {len(X_activity)} with {len(set(y_activity))} different labels, labels are {y_activity}\")\n",
    "print(f\"Length of data for social signal windows: {len(X_social_signal)} with {len(set(y_social_signal))} different labels, labels are {y_social_signal}\")\n",
    "\n",
    "#print(f\"X_activity shape: {X_activity.shape}, y_activity shape: {y_activity.shape}\")\n",
    "print(f\"X_social_signal shape: {X_social_signal.shape}, y_social_signal shape: {y_social_signal.shape}\")\n"
   ]
  },
  {
   "cell_type": "markdown",
   "metadata": {
    "id": "TdGR352hph4X"
   },
   "source": [
    "Now that each activity has been processed and stored in train_test_data, we need to combine the sliding windows and labels from all activities into unified arrays (one for training and one for testing) for model training."
   ]
  },
  {
   "cell_type": "markdown",
   "metadata": {
    "id": "1yQGU1vwIQdz"
   },
   "source": [
    "### One-Hot Encode Labels (for multi-class classification)\n",
    "If you have more than two classes, you'll need to one-hot encode the labels, especially if your model will use categorical cross-entropy loss.\n",
    "\n",
    "One-Hot Encoding converts categorical labels into binary vectors (one-hot encoded format). Each class label is represented as a binary vector with 1 for the correct class and 0 for others. This is necessary for training models that use categorical_crossentropy as the loss function, such as a neural network."
   ]
  },
  {
   "cell_type": "code",
   "execution_count": 14,
   "metadata": {
    "id": "9b2J1EVdHj0U"
   },
   "outputs": [],
   "source": [
    "# Initialise the OneHotEncoder\n",
    "encoder = OneHotEncoder(sparse_output=False)\n",
    "\n",
    "# Fit the OneHotEncoder on the training activity labels and transform them to one-hot encoded format\n",
    "y_activity_one_hot = encoder.fit_transform(y_activity.reshape(-1, 1))\n",
    "\n",
    "y_social_signal_one_hot = encoder.fit_transform(y_social_signal.reshape(-1, 1))\n",
    "\n",
    "# Transform the test activity labels to one-hot encoded format using the already fitted encoder\n",
    "\n",
    "\n",
    "# Explanation:\n",
    "# - y_train_activity_one_hot, y_train_social_signal_one_hot, y_test_activity_one_hot and y_test_social_signal_one_hot are now 2D arrays where each row is a one-hot encoded binary vector corresponding to a class label.\n",
    "# - The number of columns in the one-hot encoded labels equals the number of unique classes (activities).\n",
    "# For example, if there are 6 unique activities, the encoded vector will have 6 elements, with a '1' indicating the correct class."
   ]
  },
  {
   "cell_type": "code",
   "execution_count": 15,
   "metadata": {
    "colab": {
     "base_uri": "https://localhost:8080/"
    },
    "id": "AlnbOVr0rDbV",
    "outputId": "98ddbd62-4d6c-41ba-ac94-00d74a30f3c4"
   },
   "outputs": [
    {
     "name": "stdout",
     "output_type": "stream",
     "text": [
      "y_activity_one_hot shape: (111928, 11)\n",
      "y_social_signal_one_hot shape: (302909, 4)\n"
     ]
    }
   ],
   "source": [
    "# Print the shapes of the one-hot encoded labels to verify that the transformation was successful\n",
    "print(f\"y_activity_one_hot shape: {y_activity_one_hot.shape}\")\n",
    "print(f\"y_social_signal_one_hot shape: {y_social_signal_one_hot.shape}\")\n",
    "\n",
    "# Explanation of shapes:\n",
    "# - The shape of y_train_activity_one_hot will be (num_samples, num_classes), where:\n",
    "#     - num_samples is the number of training windows.\n",
    "#     - num_classes is the number of unique activities (the length of the one-hot vectors).\n",
    "# - Similarly, y_test_activity_one_hot will have the same number of columns (num_classes) as y_train_activity_one_hot but will have fewer rows (corresponding to the number of test windows)."
   ]
  },
  {
   "cell_type": "markdown",
   "metadata": {
    "id": "fEhUxZzzJzzI"
   },
   "source": [
    "## Step 2: Build the 1D-CNN Model\n",
    "Call our `build_1d_cnn_model` functionto build our model"
   ]
  },
  {
   "cell_type": "code",
   "execution_count": 16,
   "metadata": {
    "colab": {
     "base_uri": "https://localhost:8080/",
     "height": 441
    },
    "id": "4sDZWZH_KKBD",
    "outputId": "12cc6048-0921-414c-d2d7-b8d5268a8196"
   },
   "outputs": [
    {
     "name": "stdout",
     "output_type": "stream",
     "text": [
      "Input shape for the activity model: (250, 3)\n",
      "Input shape for the social signal model: (200, 3)\n"
     ]
    }
   ],
   "source": [
    "# Determine the input shape for the model\n",
    "input_shape_activity = (X_activity.shape[1], X_activity.shape[2])\n",
    "print(f\"Input shape for the activity model: {input_shape_activity}\")\n",
    "\n",
    "input_shape_social_signal = (X_social_signal.shape[1], X_social_signal.shape[2])\n",
    "print(f\"Input shape for the social signal model: {input_shape_social_signal}\")\n",
    "\n",
    "# Determine the number of output classes (num_classes)\n",
    "num_activity_classes = y_activity_one_hot.shape[1]\n",
    "num_social_signal_classes = y_social_signal_one_hot.shape[1]\n",
    "\n",
    "# Build and compile the model\n",
    "# The function will return a compiled model ready for training\n",
    "#activity_model = build_1d_cnn_model(input_shape_activity, num_activity_classes)\n",
    "#social_signal_model = build_1d_cnn_model(input_shape_social_signal, num_social_signal_classes)"
   ]
  },
  {
   "cell_type": "markdown",
   "metadata": {
    "id": "q1-SHEmtKM0D"
   },
   "source": [
    "## Step 3: Train the CNN Model\n",
    "\n",
    "Train the 1D CNN model using the training data and validate on the test data. The model will learn to map input sliding windows to their corresponding activity labels.\n",
    "\n",
    "`model.fit()` is used to train the neural network model. It takes several parameters:\n",
    "* `X_train`: The input training data (sliding windows), with shape (num_samples, window_size, num_features).\n",
    "* `y_train_one_hot`: The corresponding one-hot encoded labels for the training data, with shape (num_samples, num_classes).\n",
    "* `epochs`: Number of times the entire training dataset is passed through the model. You can try adjusting the number of epochs and compare the difference in model performance. In this case, we are training for 20 epochs, meaning the model will see the entire training set 20 times.\n",
    "* `batch_size`: Number of samples processed before the model's weights are updated. Here, the batch size is set to 32, meaning the model will process 32 samples at a time before updating its parameters.\n",
    "* `validation_data`: This parameter allows us to evaluate the model's performance on the test data after each epoch.\n",
    "*`(X_test, y_test_one_hot)`: These are the input test data and corresponding one-hot encoded test labels."
   ]
  },
  {
   "cell_type": "code",
   "execution_count": 17,
   "metadata": {},
   "outputs": [],
   "source": [
    "# Set up KFold cross-validation\n",
    "kfold = KFold(n_splits=5, shuffle=True, random_state=42)\n",
    "\n",
    "# Initialise lists to store the accuracy of each fold\n",
    "activity_accuracy_list = []\n",
    "social_signal_accuracy_list = []\n",
    "\n",
    "# Initialize lists to store the recall for each class for all folds\n",
    "recall_per_class_per_fold_social_signal = {i: [] for i in range(num_social_signal_classes)}\n",
    "recall_per_class_per_fold_activity = {i: [] for i in range(num_activity_classes)}\n",
    "\n",
    "\n",
    "# Initialise lists to store the true and predicted labels for social signals for all folds\n",
    "all_y_true_social_signal = []\n",
    "all_y_pred_social_signal = []\n",
    "\n",
    "# Initialise lists to store the true and predicted labels for activities for all folds\n",
    "all_y_true_activity = []\n",
    "all_y_pred_activity = []\n"
   ]
  },
  {
   "cell_type": "code",
   "execution_count": 18,
   "metadata": {},
   "outputs": [
    {
     "name": "stdout",
     "output_type": "stream",
     "text": [
      "Training social signal model for fold 1\n"
     ]
    },
    {
     "name": "stderr",
     "output_type": "stream",
     "text": [
      "c:\\Users\\seanc\\miniconda3\\envs\\pdiot\\Lib\\site-packages\\keras\\src\\layers\\convolutional\\base_conv.py:107: UserWarning: Do not pass an `input_shape`/`input_dim` argument to a layer. When using Sequential models, prefer using an `Input(shape)` object as the first layer in the model instead.\n",
      "  super().__init__(activity_regularizer=activity_regularizer, **kwargs)\n"
     ]
    },
    {
     "data": {
      "text/html": [
       "<pre style=\"white-space:pre;overflow-x:auto;line-height:normal;font-family:Menlo,'DejaVu Sans Mono',consolas,'Courier New',monospace\"><span style=\"font-weight: bold\">Model: \"sequential\"</span>\n",
       "</pre>\n"
      ],
      "text/plain": [
       "\u001b[1mModel: \"sequential\"\u001b[0m\n"
      ]
     },
     "metadata": {},
     "output_type": "display_data"
    },
    {
     "data": {
      "text/html": [
       "<pre style=\"white-space:pre;overflow-x:auto;line-height:normal;font-family:Menlo,'DejaVu Sans Mono',consolas,'Courier New',monospace\">┏━━━━━━━━━━━━━━━━━━━━━━━━━━━━━━━━━┳━━━━━━━━━━━━━━━━━━━━━━━━┳━━━━━━━━━━━━━━━┓\n",
       "┃<span style=\"font-weight: bold\"> Layer (type)                    </span>┃<span style=\"font-weight: bold\"> Output Shape           </span>┃<span style=\"font-weight: bold\">       Param # </span>┃\n",
       "┡━━━━━━━━━━━━━━━━━━━━━━━━━━━━━━━━━╇━━━━━━━━━━━━━━━━━━━━━━━━╇━━━━━━━━━━━━━━━┩\n",
       "│ conv1d (<span style=\"color: #0087ff; text-decoration-color: #0087ff\">Conv1D</span>)                 │ (<span style=\"color: #00d7ff; text-decoration-color: #00d7ff\">None</span>, <span style=\"color: #00af00; text-decoration-color: #00af00\">198</span>, <span style=\"color: #00af00; text-decoration-color: #00af00\">64</span>)        │           <span style=\"color: #00af00; text-decoration-color: #00af00\">640</span> │\n",
       "├─────────────────────────────────┼────────────────────────┼───────────────┤\n",
       "│ max_pooling1d (<span style=\"color: #0087ff; text-decoration-color: #0087ff\">MaxPooling1D</span>)    │ (<span style=\"color: #00d7ff; text-decoration-color: #00d7ff\">None</span>, <span style=\"color: #00af00; text-decoration-color: #00af00\">99</span>, <span style=\"color: #00af00; text-decoration-color: #00af00\">64</span>)         │             <span style=\"color: #00af00; text-decoration-color: #00af00\">0</span> │\n",
       "├─────────────────────────────────┼────────────────────────┼───────────────┤\n",
       "│ conv1d_1 (<span style=\"color: #0087ff; text-decoration-color: #0087ff\">Conv1D</span>)               │ (<span style=\"color: #00d7ff; text-decoration-color: #00d7ff\">None</span>, <span style=\"color: #00af00; text-decoration-color: #00af00\">97</span>, <span style=\"color: #00af00; text-decoration-color: #00af00\">128</span>)        │        <span style=\"color: #00af00; text-decoration-color: #00af00\">24,704</span> │\n",
       "├─────────────────────────────────┼────────────────────────┼───────────────┤\n",
       "│ max_pooling1d_1 (<span style=\"color: #0087ff; text-decoration-color: #0087ff\">MaxPooling1D</span>)  │ (<span style=\"color: #00d7ff; text-decoration-color: #00d7ff\">None</span>, <span style=\"color: #00af00; text-decoration-color: #00af00\">48</span>, <span style=\"color: #00af00; text-decoration-color: #00af00\">128</span>)        │             <span style=\"color: #00af00; text-decoration-color: #00af00\">0</span> │\n",
       "├─────────────────────────────────┼────────────────────────┼───────────────┤\n",
       "│ conv1d_2 (<span style=\"color: #0087ff; text-decoration-color: #0087ff\">Conv1D</span>)               │ (<span style=\"color: #00d7ff; text-decoration-color: #00d7ff\">None</span>, <span style=\"color: #00af00; text-decoration-color: #00af00\">46</span>, <span style=\"color: #00af00; text-decoration-color: #00af00\">256</span>)        │        <span style=\"color: #00af00; text-decoration-color: #00af00\">98,560</span> │\n",
       "├─────────────────────────────────┼────────────────────────┼───────────────┤\n",
       "│ max_pooling1d_2 (<span style=\"color: #0087ff; text-decoration-color: #0087ff\">MaxPooling1D</span>)  │ (<span style=\"color: #00d7ff; text-decoration-color: #00d7ff\">None</span>, <span style=\"color: #00af00; text-decoration-color: #00af00\">23</span>, <span style=\"color: #00af00; text-decoration-color: #00af00\">256</span>)        │             <span style=\"color: #00af00; text-decoration-color: #00af00\">0</span> │\n",
       "├─────────────────────────────────┼────────────────────────┼───────────────┤\n",
       "│ flatten (<span style=\"color: #0087ff; text-decoration-color: #0087ff\">Flatten</span>)               │ (<span style=\"color: #00d7ff; text-decoration-color: #00d7ff\">None</span>, <span style=\"color: #00af00; text-decoration-color: #00af00\">5888</span>)           │             <span style=\"color: #00af00; text-decoration-color: #00af00\">0</span> │\n",
       "├─────────────────────────────────┼────────────────────────┼───────────────┤\n",
       "│ dense (<span style=\"color: #0087ff; text-decoration-color: #0087ff\">Dense</span>)                   │ (<span style=\"color: #00d7ff; text-decoration-color: #00d7ff\">None</span>, <span style=\"color: #00af00; text-decoration-color: #00af00\">128</span>)            │       <span style=\"color: #00af00; text-decoration-color: #00af00\">753,792</span> │\n",
       "├─────────────────────────────────┼────────────────────────┼───────────────┤\n",
       "│ dropout (<span style=\"color: #0087ff; text-decoration-color: #0087ff\">Dropout</span>)               │ (<span style=\"color: #00d7ff; text-decoration-color: #00d7ff\">None</span>, <span style=\"color: #00af00; text-decoration-color: #00af00\">128</span>)            │             <span style=\"color: #00af00; text-decoration-color: #00af00\">0</span> │\n",
       "├─────────────────────────────────┼────────────────────────┼───────────────┤\n",
       "│ dense_1 (<span style=\"color: #0087ff; text-decoration-color: #0087ff\">Dense</span>)                 │ (<span style=\"color: #00d7ff; text-decoration-color: #00d7ff\">None</span>, <span style=\"color: #00af00; text-decoration-color: #00af00\">4</span>)              │           <span style=\"color: #00af00; text-decoration-color: #00af00\">516</span> │\n",
       "└─────────────────────────────────┴────────────────────────┴───────────────┘\n",
       "</pre>\n"
      ],
      "text/plain": [
       "┏━━━━━━━━━━━━━━━━━━━━━━━━━━━━━━━━━┳━━━━━━━━━━━━━━━━━━━━━━━━┳━━━━━━━━━━━━━━━┓\n",
       "┃\u001b[1m \u001b[0m\u001b[1mLayer (type)                   \u001b[0m\u001b[1m \u001b[0m┃\u001b[1m \u001b[0m\u001b[1mOutput Shape          \u001b[0m\u001b[1m \u001b[0m┃\u001b[1m \u001b[0m\u001b[1m      Param #\u001b[0m\u001b[1m \u001b[0m┃\n",
       "┡━━━━━━━━━━━━━━━━━━━━━━━━━━━━━━━━━╇━━━━━━━━━━━━━━━━━━━━━━━━╇━━━━━━━━━━━━━━━┩\n",
       "│ conv1d (\u001b[38;5;33mConv1D\u001b[0m)                 │ (\u001b[38;5;45mNone\u001b[0m, \u001b[38;5;34m198\u001b[0m, \u001b[38;5;34m64\u001b[0m)        │           \u001b[38;5;34m640\u001b[0m │\n",
       "├─────────────────────────────────┼────────────────────────┼───────────────┤\n",
       "│ max_pooling1d (\u001b[38;5;33mMaxPooling1D\u001b[0m)    │ (\u001b[38;5;45mNone\u001b[0m, \u001b[38;5;34m99\u001b[0m, \u001b[38;5;34m64\u001b[0m)         │             \u001b[38;5;34m0\u001b[0m │\n",
       "├─────────────────────────────────┼────────────────────────┼───────────────┤\n",
       "│ conv1d_1 (\u001b[38;5;33mConv1D\u001b[0m)               │ (\u001b[38;5;45mNone\u001b[0m, \u001b[38;5;34m97\u001b[0m, \u001b[38;5;34m128\u001b[0m)        │        \u001b[38;5;34m24,704\u001b[0m │\n",
       "├─────────────────────────────────┼────────────────────────┼───────────────┤\n",
       "│ max_pooling1d_1 (\u001b[38;5;33mMaxPooling1D\u001b[0m)  │ (\u001b[38;5;45mNone\u001b[0m, \u001b[38;5;34m48\u001b[0m, \u001b[38;5;34m128\u001b[0m)        │             \u001b[38;5;34m0\u001b[0m │\n",
       "├─────────────────────────────────┼────────────────────────┼───────────────┤\n",
       "│ conv1d_2 (\u001b[38;5;33mConv1D\u001b[0m)               │ (\u001b[38;5;45mNone\u001b[0m, \u001b[38;5;34m46\u001b[0m, \u001b[38;5;34m256\u001b[0m)        │        \u001b[38;5;34m98,560\u001b[0m │\n",
       "├─────────────────────────────────┼────────────────────────┼───────────────┤\n",
       "│ max_pooling1d_2 (\u001b[38;5;33mMaxPooling1D\u001b[0m)  │ (\u001b[38;5;45mNone\u001b[0m, \u001b[38;5;34m23\u001b[0m, \u001b[38;5;34m256\u001b[0m)        │             \u001b[38;5;34m0\u001b[0m │\n",
       "├─────────────────────────────────┼────────────────────────┼───────────────┤\n",
       "│ flatten (\u001b[38;5;33mFlatten\u001b[0m)               │ (\u001b[38;5;45mNone\u001b[0m, \u001b[38;5;34m5888\u001b[0m)           │             \u001b[38;5;34m0\u001b[0m │\n",
       "├─────────────────────────────────┼────────────────────────┼───────────────┤\n",
       "│ dense (\u001b[38;5;33mDense\u001b[0m)                   │ (\u001b[38;5;45mNone\u001b[0m, \u001b[38;5;34m128\u001b[0m)            │       \u001b[38;5;34m753,792\u001b[0m │\n",
       "├─────────────────────────────────┼────────────────────────┼───────────────┤\n",
       "│ dropout (\u001b[38;5;33mDropout\u001b[0m)               │ (\u001b[38;5;45mNone\u001b[0m, \u001b[38;5;34m128\u001b[0m)            │             \u001b[38;5;34m0\u001b[0m │\n",
       "├─────────────────────────────────┼────────────────────────┼───────────────┤\n",
       "│ dense_1 (\u001b[38;5;33mDense\u001b[0m)                 │ (\u001b[38;5;45mNone\u001b[0m, \u001b[38;5;34m4\u001b[0m)              │           \u001b[38;5;34m516\u001b[0m │\n",
       "└─────────────────────────────────┴────────────────────────┴───────────────┘\n"
      ]
     },
     "metadata": {},
     "output_type": "display_data"
    },
    {
     "data": {
      "text/html": [
       "<pre style=\"white-space:pre;overflow-x:auto;line-height:normal;font-family:Menlo,'DejaVu Sans Mono',consolas,'Courier New',monospace\"><span style=\"font-weight: bold\"> Total params: </span><span style=\"color: #00af00; text-decoration-color: #00af00\">878,212</span> (3.35 MB)\n",
       "</pre>\n"
      ],
      "text/plain": [
       "\u001b[1m Total params: \u001b[0m\u001b[38;5;34m878,212\u001b[0m (3.35 MB)\n"
      ]
     },
     "metadata": {},
     "output_type": "display_data"
    },
    {
     "data": {
      "text/html": [
       "<pre style=\"white-space:pre;overflow-x:auto;line-height:normal;font-family:Menlo,'DejaVu Sans Mono',consolas,'Courier New',monospace\"><span style=\"font-weight: bold\"> Trainable params: </span><span style=\"color: #00af00; text-decoration-color: #00af00\">878,212</span> (3.35 MB)\n",
       "</pre>\n"
      ],
      "text/plain": [
       "\u001b[1m Trainable params: \u001b[0m\u001b[38;5;34m878,212\u001b[0m (3.35 MB)\n"
      ]
     },
     "metadata": {},
     "output_type": "display_data"
    },
    {
     "data": {
      "text/html": [
       "<pre style=\"white-space:pre;overflow-x:auto;line-height:normal;font-family:Menlo,'DejaVu Sans Mono',consolas,'Courier New',monospace\"><span style=\"font-weight: bold\"> Non-trainable params: </span><span style=\"color: #00af00; text-decoration-color: #00af00\">0</span> (0.00 B)\n",
       "</pre>\n"
      ],
      "text/plain": [
       "\u001b[1m Non-trainable params: \u001b[0m\u001b[38;5;34m0\u001b[0m (0.00 B)\n"
      ]
     },
     "metadata": {},
     "output_type": "display_data"
    },
    {
     "name": "stdout",
     "output_type": "stream",
     "text": [
      "Epoch 1/5\n",
      "\u001b[1m3787/3787\u001b[0m \u001b[32m━━━━━━━━━━━━━━━━━━━━\u001b[0m\u001b[37m\u001b[0m \u001b[1m82s\u001b[0m 21ms/step - accuracy: 0.6120 - loss: 0.9157 - val_accuracy: 0.7234 - val_loss: 0.6491\n",
      "Epoch 2/5\n",
      "\u001b[1m3787/3787\u001b[0m \u001b[32m━━━━━━━━━━━━━━━━━━━━\u001b[0m\u001b[37m\u001b[0m \u001b[1m60s\u001b[0m 16ms/step - accuracy: 0.7429 - loss: 0.6055 - val_accuracy: 0.7892 - val_loss: 0.5098\n",
      "Epoch 3/5\n",
      "\u001b[1m3787/3787\u001b[0m \u001b[32m━━━━━━━━━━━━━━━━━━━━\u001b[0m\u001b[37m\u001b[0m \u001b[1m65s\u001b[0m 17ms/step - accuracy: 0.7943 - loss: 0.5042 - val_accuracy: 0.8210 - val_loss: 0.4461\n",
      "Epoch 4/5\n",
      "\u001b[1m3787/3787\u001b[0m \u001b[32m━━━━━━━━━━━━━━━━━━━━\u001b[0m\u001b[37m\u001b[0m \u001b[1m58s\u001b[0m 15ms/step - accuracy: 0.8227 - loss: 0.4383 - val_accuracy: 0.8429 - val_loss: 0.3886\n",
      "Epoch 5/5\n",
      "\u001b[1m3787/3787\u001b[0m \u001b[32m━━━━━━━━━━━━━━━━━━━━\u001b[0m\u001b[37m\u001b[0m \u001b[1m58s\u001b[0m 15ms/step - accuracy: 0.8414 - loss: 0.3955 - val_accuracy: 0.8541 - val_loss: 0.3664\n",
      "\u001b[1m1894/1894\u001b[0m \u001b[32m━━━━━━━━━━━━━━━━━━━━\u001b[0m\u001b[37m\u001b[0m \u001b[1m10s\u001b[0m 5ms/step\n",
      "Completed training and evaluation for fold 1\n",
      "Recall for class 0 after fold 1: 0.8493\n",
      "Recall for class 1 after fold 1: 0.8975\n",
      "Recall for class 2 after fold 1: 0.6509\n",
      "Recall for class 3 after fold 1: 0.9045\n",
      "Training social signal model for fold 2\n"
     ]
    },
    {
     "name": "stderr",
     "output_type": "stream",
     "text": [
      "c:\\Users\\seanc\\miniconda3\\envs\\pdiot\\Lib\\site-packages\\keras\\src\\layers\\convolutional\\base_conv.py:107: UserWarning: Do not pass an `input_shape`/`input_dim` argument to a layer. When using Sequential models, prefer using an `Input(shape)` object as the first layer in the model instead.\n",
      "  super().__init__(activity_regularizer=activity_regularizer, **kwargs)\n"
     ]
    },
    {
     "data": {
      "text/html": [
       "<pre style=\"white-space:pre;overflow-x:auto;line-height:normal;font-family:Menlo,'DejaVu Sans Mono',consolas,'Courier New',monospace\"><span style=\"font-weight: bold\">Model: \"sequential_1\"</span>\n",
       "</pre>\n"
      ],
      "text/plain": [
       "\u001b[1mModel: \"sequential_1\"\u001b[0m\n"
      ]
     },
     "metadata": {},
     "output_type": "display_data"
    },
    {
     "data": {
      "text/html": [
       "<pre style=\"white-space:pre;overflow-x:auto;line-height:normal;font-family:Menlo,'DejaVu Sans Mono',consolas,'Courier New',monospace\">┏━━━━━━━━━━━━━━━━━━━━━━━━━━━━━━━━━┳━━━━━━━━━━━━━━━━━━━━━━━━┳━━━━━━━━━━━━━━━┓\n",
       "┃<span style=\"font-weight: bold\"> Layer (type)                    </span>┃<span style=\"font-weight: bold\"> Output Shape           </span>┃<span style=\"font-weight: bold\">       Param # </span>┃\n",
       "┡━━━━━━━━━━━━━━━━━━━━━━━━━━━━━━━━━╇━━━━━━━━━━━━━━━━━━━━━━━━╇━━━━━━━━━━━━━━━┩\n",
       "│ conv1d_3 (<span style=\"color: #0087ff; text-decoration-color: #0087ff\">Conv1D</span>)               │ (<span style=\"color: #00d7ff; text-decoration-color: #00d7ff\">None</span>, <span style=\"color: #00af00; text-decoration-color: #00af00\">198</span>, <span style=\"color: #00af00; text-decoration-color: #00af00\">64</span>)        │           <span style=\"color: #00af00; text-decoration-color: #00af00\">640</span> │\n",
       "├─────────────────────────────────┼────────────────────────┼───────────────┤\n",
       "│ max_pooling1d_3 (<span style=\"color: #0087ff; text-decoration-color: #0087ff\">MaxPooling1D</span>)  │ (<span style=\"color: #00d7ff; text-decoration-color: #00d7ff\">None</span>, <span style=\"color: #00af00; text-decoration-color: #00af00\">99</span>, <span style=\"color: #00af00; text-decoration-color: #00af00\">64</span>)         │             <span style=\"color: #00af00; text-decoration-color: #00af00\">0</span> │\n",
       "├─────────────────────────────────┼────────────────────────┼───────────────┤\n",
       "│ conv1d_4 (<span style=\"color: #0087ff; text-decoration-color: #0087ff\">Conv1D</span>)               │ (<span style=\"color: #00d7ff; text-decoration-color: #00d7ff\">None</span>, <span style=\"color: #00af00; text-decoration-color: #00af00\">97</span>, <span style=\"color: #00af00; text-decoration-color: #00af00\">128</span>)        │        <span style=\"color: #00af00; text-decoration-color: #00af00\">24,704</span> │\n",
       "├─────────────────────────────────┼────────────────────────┼───────────────┤\n",
       "│ max_pooling1d_4 (<span style=\"color: #0087ff; text-decoration-color: #0087ff\">MaxPooling1D</span>)  │ (<span style=\"color: #00d7ff; text-decoration-color: #00d7ff\">None</span>, <span style=\"color: #00af00; text-decoration-color: #00af00\">48</span>, <span style=\"color: #00af00; text-decoration-color: #00af00\">128</span>)        │             <span style=\"color: #00af00; text-decoration-color: #00af00\">0</span> │\n",
       "├─────────────────────────────────┼────────────────────────┼───────────────┤\n",
       "│ conv1d_5 (<span style=\"color: #0087ff; text-decoration-color: #0087ff\">Conv1D</span>)               │ (<span style=\"color: #00d7ff; text-decoration-color: #00d7ff\">None</span>, <span style=\"color: #00af00; text-decoration-color: #00af00\">46</span>, <span style=\"color: #00af00; text-decoration-color: #00af00\">256</span>)        │        <span style=\"color: #00af00; text-decoration-color: #00af00\">98,560</span> │\n",
       "├─────────────────────────────────┼────────────────────────┼───────────────┤\n",
       "│ max_pooling1d_5 (<span style=\"color: #0087ff; text-decoration-color: #0087ff\">MaxPooling1D</span>)  │ (<span style=\"color: #00d7ff; text-decoration-color: #00d7ff\">None</span>, <span style=\"color: #00af00; text-decoration-color: #00af00\">23</span>, <span style=\"color: #00af00; text-decoration-color: #00af00\">256</span>)        │             <span style=\"color: #00af00; text-decoration-color: #00af00\">0</span> │\n",
       "├─────────────────────────────────┼────────────────────────┼───────────────┤\n",
       "│ flatten_1 (<span style=\"color: #0087ff; text-decoration-color: #0087ff\">Flatten</span>)             │ (<span style=\"color: #00d7ff; text-decoration-color: #00d7ff\">None</span>, <span style=\"color: #00af00; text-decoration-color: #00af00\">5888</span>)           │             <span style=\"color: #00af00; text-decoration-color: #00af00\">0</span> │\n",
       "├─────────────────────────────────┼────────────────────────┼───────────────┤\n",
       "│ dense_2 (<span style=\"color: #0087ff; text-decoration-color: #0087ff\">Dense</span>)                 │ (<span style=\"color: #00d7ff; text-decoration-color: #00d7ff\">None</span>, <span style=\"color: #00af00; text-decoration-color: #00af00\">128</span>)            │       <span style=\"color: #00af00; text-decoration-color: #00af00\">753,792</span> │\n",
       "├─────────────────────────────────┼────────────────────────┼───────────────┤\n",
       "│ dropout_1 (<span style=\"color: #0087ff; text-decoration-color: #0087ff\">Dropout</span>)             │ (<span style=\"color: #00d7ff; text-decoration-color: #00d7ff\">None</span>, <span style=\"color: #00af00; text-decoration-color: #00af00\">128</span>)            │             <span style=\"color: #00af00; text-decoration-color: #00af00\">0</span> │\n",
       "├─────────────────────────────────┼────────────────────────┼───────────────┤\n",
       "│ dense_3 (<span style=\"color: #0087ff; text-decoration-color: #0087ff\">Dense</span>)                 │ (<span style=\"color: #00d7ff; text-decoration-color: #00d7ff\">None</span>, <span style=\"color: #00af00; text-decoration-color: #00af00\">4</span>)              │           <span style=\"color: #00af00; text-decoration-color: #00af00\">516</span> │\n",
       "└─────────────────────────────────┴────────────────────────┴───────────────┘\n",
       "</pre>\n"
      ],
      "text/plain": [
       "┏━━━━━━━━━━━━━━━━━━━━━━━━━━━━━━━━━┳━━━━━━━━━━━━━━━━━━━━━━━━┳━━━━━━━━━━━━━━━┓\n",
       "┃\u001b[1m \u001b[0m\u001b[1mLayer (type)                   \u001b[0m\u001b[1m \u001b[0m┃\u001b[1m \u001b[0m\u001b[1mOutput Shape          \u001b[0m\u001b[1m \u001b[0m┃\u001b[1m \u001b[0m\u001b[1m      Param #\u001b[0m\u001b[1m \u001b[0m┃\n",
       "┡━━━━━━━━━━━━━━━━━━━━━━━━━━━━━━━━━╇━━━━━━━━━━━━━━━━━━━━━━━━╇━━━━━━━━━━━━━━━┩\n",
       "│ conv1d_3 (\u001b[38;5;33mConv1D\u001b[0m)               │ (\u001b[38;5;45mNone\u001b[0m, \u001b[38;5;34m198\u001b[0m, \u001b[38;5;34m64\u001b[0m)        │           \u001b[38;5;34m640\u001b[0m │\n",
       "├─────────────────────────────────┼────────────────────────┼───────────────┤\n",
       "│ max_pooling1d_3 (\u001b[38;5;33mMaxPooling1D\u001b[0m)  │ (\u001b[38;5;45mNone\u001b[0m, \u001b[38;5;34m99\u001b[0m, \u001b[38;5;34m64\u001b[0m)         │             \u001b[38;5;34m0\u001b[0m │\n",
       "├─────────────────────────────────┼────────────────────────┼───────────────┤\n",
       "│ conv1d_4 (\u001b[38;5;33mConv1D\u001b[0m)               │ (\u001b[38;5;45mNone\u001b[0m, \u001b[38;5;34m97\u001b[0m, \u001b[38;5;34m128\u001b[0m)        │        \u001b[38;5;34m24,704\u001b[0m │\n",
       "├─────────────────────────────────┼────────────────────────┼───────────────┤\n",
       "│ max_pooling1d_4 (\u001b[38;5;33mMaxPooling1D\u001b[0m)  │ (\u001b[38;5;45mNone\u001b[0m, \u001b[38;5;34m48\u001b[0m, \u001b[38;5;34m128\u001b[0m)        │             \u001b[38;5;34m0\u001b[0m │\n",
       "├─────────────────────────────────┼────────────────────────┼───────────────┤\n",
       "│ conv1d_5 (\u001b[38;5;33mConv1D\u001b[0m)               │ (\u001b[38;5;45mNone\u001b[0m, \u001b[38;5;34m46\u001b[0m, \u001b[38;5;34m256\u001b[0m)        │        \u001b[38;5;34m98,560\u001b[0m │\n",
       "├─────────────────────────────────┼────────────────────────┼───────────────┤\n",
       "│ max_pooling1d_5 (\u001b[38;5;33mMaxPooling1D\u001b[0m)  │ (\u001b[38;5;45mNone\u001b[0m, \u001b[38;5;34m23\u001b[0m, \u001b[38;5;34m256\u001b[0m)        │             \u001b[38;5;34m0\u001b[0m │\n",
       "├─────────────────────────────────┼────────────────────────┼───────────────┤\n",
       "│ flatten_1 (\u001b[38;5;33mFlatten\u001b[0m)             │ (\u001b[38;5;45mNone\u001b[0m, \u001b[38;5;34m5888\u001b[0m)           │             \u001b[38;5;34m0\u001b[0m │\n",
       "├─────────────────────────────────┼────────────────────────┼───────────────┤\n",
       "│ dense_2 (\u001b[38;5;33mDense\u001b[0m)                 │ (\u001b[38;5;45mNone\u001b[0m, \u001b[38;5;34m128\u001b[0m)            │       \u001b[38;5;34m753,792\u001b[0m │\n",
       "├─────────────────────────────────┼────────────────────────┼───────────────┤\n",
       "│ dropout_1 (\u001b[38;5;33mDropout\u001b[0m)             │ (\u001b[38;5;45mNone\u001b[0m, \u001b[38;5;34m128\u001b[0m)            │             \u001b[38;5;34m0\u001b[0m │\n",
       "├─────────────────────────────────┼────────────────────────┼───────────────┤\n",
       "│ dense_3 (\u001b[38;5;33mDense\u001b[0m)                 │ (\u001b[38;5;45mNone\u001b[0m, \u001b[38;5;34m4\u001b[0m)              │           \u001b[38;5;34m516\u001b[0m │\n",
       "└─────────────────────────────────┴────────────────────────┴───────────────┘\n"
      ]
     },
     "metadata": {},
     "output_type": "display_data"
    },
    {
     "data": {
      "text/html": [
       "<pre style=\"white-space:pre;overflow-x:auto;line-height:normal;font-family:Menlo,'DejaVu Sans Mono',consolas,'Courier New',monospace\"><span style=\"font-weight: bold\"> Total params: </span><span style=\"color: #00af00; text-decoration-color: #00af00\">878,212</span> (3.35 MB)\n",
       "</pre>\n"
      ],
      "text/plain": [
       "\u001b[1m Total params: \u001b[0m\u001b[38;5;34m878,212\u001b[0m (3.35 MB)\n"
      ]
     },
     "metadata": {},
     "output_type": "display_data"
    },
    {
     "data": {
      "text/html": [
       "<pre style=\"white-space:pre;overflow-x:auto;line-height:normal;font-family:Menlo,'DejaVu Sans Mono',consolas,'Courier New',monospace\"><span style=\"font-weight: bold\"> Trainable params: </span><span style=\"color: #00af00; text-decoration-color: #00af00\">878,212</span> (3.35 MB)\n",
       "</pre>\n"
      ],
      "text/plain": [
       "\u001b[1m Trainable params: \u001b[0m\u001b[38;5;34m878,212\u001b[0m (3.35 MB)\n"
      ]
     },
     "metadata": {},
     "output_type": "display_data"
    },
    {
     "data": {
      "text/html": [
       "<pre style=\"white-space:pre;overflow-x:auto;line-height:normal;font-family:Menlo,'DejaVu Sans Mono',consolas,'Courier New',monospace\"><span style=\"font-weight: bold\"> Non-trainable params: </span><span style=\"color: #00af00; text-decoration-color: #00af00\">0</span> (0.00 B)\n",
       "</pre>\n"
      ],
      "text/plain": [
       "\u001b[1m Non-trainable params: \u001b[0m\u001b[38;5;34m0\u001b[0m (0.00 B)\n"
      ]
     },
     "metadata": {},
     "output_type": "display_data"
    },
    {
     "name": "stdout",
     "output_type": "stream",
     "text": [
      "Epoch 1/5\n",
      "\u001b[1m3787/3787\u001b[0m \u001b[32m━━━━━━━━━━━━━━━━━━━━\u001b[0m\u001b[37m\u001b[0m \u001b[1m64s\u001b[0m 17ms/step - accuracy: 0.6107 - loss: 0.9145 - val_accuracy: 0.7486 - val_loss: 0.6031\n",
      "Epoch 2/5\n",
      "\u001b[1m3787/3787\u001b[0m \u001b[32m━━━━━━━━━━━━━━━━━━━━\u001b[0m\u001b[37m\u001b[0m \u001b[1m60s\u001b[0m 16ms/step - accuracy: 0.7459 - loss: 0.6023 - val_accuracy: 0.8000 - val_loss: 0.4968\n",
      "Epoch 3/5\n",
      "\u001b[1m3787/3787\u001b[0m \u001b[32m━━━━━━━━━━━━━━━━━━━━\u001b[0m\u001b[37m\u001b[0m \u001b[1m62s\u001b[0m 16ms/step - accuracy: 0.7922 - loss: 0.5124 - val_accuracy: 0.8203 - val_loss: 0.4530\n",
      "Epoch 4/5\n",
      "\u001b[1m3787/3787\u001b[0m \u001b[32m━━━━━━━━━━━━━━━━━━━━\u001b[0m\u001b[37m\u001b[0m \u001b[1m61s\u001b[0m 16ms/step - accuracy: 0.8194 - loss: 0.4490 - val_accuracy: 0.8406 - val_loss: 0.3938\n",
      "Epoch 5/5\n",
      "\u001b[1m3787/3787\u001b[0m \u001b[32m━━━━━━━━━━━━━━━━━━━━\u001b[0m\u001b[37m\u001b[0m \u001b[1m63s\u001b[0m 17ms/step - accuracy: 0.8390 - loss: 0.4007 - val_accuracy: 0.8610 - val_loss: 0.3614\n",
      "\u001b[1m1894/1894\u001b[0m \u001b[32m━━━━━━━━━━━━━━━━━━━━\u001b[0m\u001b[37m\u001b[0m \u001b[1m11s\u001b[0m 6ms/step\n",
      "Completed training and evaluation for fold 2\n",
      "Recall for class 0 after fold 2: 0.8473\n",
      "Recall for class 1 after fold 2: 0.8370\n",
      "Recall for class 2 after fold 2: 0.7166\n",
      "Recall for class 3 after fold 2: 0.9194\n",
      "Training social signal model for fold 3\n"
     ]
    },
    {
     "name": "stderr",
     "output_type": "stream",
     "text": [
      "c:\\Users\\seanc\\miniconda3\\envs\\pdiot\\Lib\\site-packages\\keras\\src\\layers\\convolutional\\base_conv.py:107: UserWarning: Do not pass an `input_shape`/`input_dim` argument to a layer. When using Sequential models, prefer using an `Input(shape)` object as the first layer in the model instead.\n",
      "  super().__init__(activity_regularizer=activity_regularizer, **kwargs)\n"
     ]
    },
    {
     "data": {
      "text/html": [
       "<pre style=\"white-space:pre;overflow-x:auto;line-height:normal;font-family:Menlo,'DejaVu Sans Mono',consolas,'Courier New',monospace\"><span style=\"font-weight: bold\">Model: \"sequential_2\"</span>\n",
       "</pre>\n"
      ],
      "text/plain": [
       "\u001b[1mModel: \"sequential_2\"\u001b[0m\n"
      ]
     },
     "metadata": {},
     "output_type": "display_data"
    },
    {
     "data": {
      "text/html": [
       "<pre style=\"white-space:pre;overflow-x:auto;line-height:normal;font-family:Menlo,'DejaVu Sans Mono',consolas,'Courier New',monospace\">┏━━━━━━━━━━━━━━━━━━━━━━━━━━━━━━━━━┳━━━━━━━━━━━━━━━━━━━━━━━━┳━━━━━━━━━━━━━━━┓\n",
       "┃<span style=\"font-weight: bold\"> Layer (type)                    </span>┃<span style=\"font-weight: bold\"> Output Shape           </span>┃<span style=\"font-weight: bold\">       Param # </span>┃\n",
       "┡━━━━━━━━━━━━━━━━━━━━━━━━━━━━━━━━━╇━━━━━━━━━━━━━━━━━━━━━━━━╇━━━━━━━━━━━━━━━┩\n",
       "│ conv1d_6 (<span style=\"color: #0087ff; text-decoration-color: #0087ff\">Conv1D</span>)               │ (<span style=\"color: #00d7ff; text-decoration-color: #00d7ff\">None</span>, <span style=\"color: #00af00; text-decoration-color: #00af00\">198</span>, <span style=\"color: #00af00; text-decoration-color: #00af00\">64</span>)        │           <span style=\"color: #00af00; text-decoration-color: #00af00\">640</span> │\n",
       "├─────────────────────────────────┼────────────────────────┼───────────────┤\n",
       "│ max_pooling1d_6 (<span style=\"color: #0087ff; text-decoration-color: #0087ff\">MaxPooling1D</span>)  │ (<span style=\"color: #00d7ff; text-decoration-color: #00d7ff\">None</span>, <span style=\"color: #00af00; text-decoration-color: #00af00\">99</span>, <span style=\"color: #00af00; text-decoration-color: #00af00\">64</span>)         │             <span style=\"color: #00af00; text-decoration-color: #00af00\">0</span> │\n",
       "├─────────────────────────────────┼────────────────────────┼───────────────┤\n",
       "│ conv1d_7 (<span style=\"color: #0087ff; text-decoration-color: #0087ff\">Conv1D</span>)               │ (<span style=\"color: #00d7ff; text-decoration-color: #00d7ff\">None</span>, <span style=\"color: #00af00; text-decoration-color: #00af00\">97</span>, <span style=\"color: #00af00; text-decoration-color: #00af00\">128</span>)        │        <span style=\"color: #00af00; text-decoration-color: #00af00\">24,704</span> │\n",
       "├─────────────────────────────────┼────────────────────────┼───────────────┤\n",
       "│ max_pooling1d_7 (<span style=\"color: #0087ff; text-decoration-color: #0087ff\">MaxPooling1D</span>)  │ (<span style=\"color: #00d7ff; text-decoration-color: #00d7ff\">None</span>, <span style=\"color: #00af00; text-decoration-color: #00af00\">48</span>, <span style=\"color: #00af00; text-decoration-color: #00af00\">128</span>)        │             <span style=\"color: #00af00; text-decoration-color: #00af00\">0</span> │\n",
       "├─────────────────────────────────┼────────────────────────┼───────────────┤\n",
       "│ conv1d_8 (<span style=\"color: #0087ff; text-decoration-color: #0087ff\">Conv1D</span>)               │ (<span style=\"color: #00d7ff; text-decoration-color: #00d7ff\">None</span>, <span style=\"color: #00af00; text-decoration-color: #00af00\">46</span>, <span style=\"color: #00af00; text-decoration-color: #00af00\">256</span>)        │        <span style=\"color: #00af00; text-decoration-color: #00af00\">98,560</span> │\n",
       "├─────────────────────────────────┼────────────────────────┼───────────────┤\n",
       "│ max_pooling1d_8 (<span style=\"color: #0087ff; text-decoration-color: #0087ff\">MaxPooling1D</span>)  │ (<span style=\"color: #00d7ff; text-decoration-color: #00d7ff\">None</span>, <span style=\"color: #00af00; text-decoration-color: #00af00\">23</span>, <span style=\"color: #00af00; text-decoration-color: #00af00\">256</span>)        │             <span style=\"color: #00af00; text-decoration-color: #00af00\">0</span> │\n",
       "├─────────────────────────────────┼────────────────────────┼───────────────┤\n",
       "│ flatten_2 (<span style=\"color: #0087ff; text-decoration-color: #0087ff\">Flatten</span>)             │ (<span style=\"color: #00d7ff; text-decoration-color: #00d7ff\">None</span>, <span style=\"color: #00af00; text-decoration-color: #00af00\">5888</span>)           │             <span style=\"color: #00af00; text-decoration-color: #00af00\">0</span> │\n",
       "├─────────────────────────────────┼────────────────────────┼───────────────┤\n",
       "│ dense_4 (<span style=\"color: #0087ff; text-decoration-color: #0087ff\">Dense</span>)                 │ (<span style=\"color: #00d7ff; text-decoration-color: #00d7ff\">None</span>, <span style=\"color: #00af00; text-decoration-color: #00af00\">128</span>)            │       <span style=\"color: #00af00; text-decoration-color: #00af00\">753,792</span> │\n",
       "├─────────────────────────────────┼────────────────────────┼───────────────┤\n",
       "│ dropout_2 (<span style=\"color: #0087ff; text-decoration-color: #0087ff\">Dropout</span>)             │ (<span style=\"color: #00d7ff; text-decoration-color: #00d7ff\">None</span>, <span style=\"color: #00af00; text-decoration-color: #00af00\">128</span>)            │             <span style=\"color: #00af00; text-decoration-color: #00af00\">0</span> │\n",
       "├─────────────────────────────────┼────────────────────────┼───────────────┤\n",
       "│ dense_5 (<span style=\"color: #0087ff; text-decoration-color: #0087ff\">Dense</span>)                 │ (<span style=\"color: #00d7ff; text-decoration-color: #00d7ff\">None</span>, <span style=\"color: #00af00; text-decoration-color: #00af00\">4</span>)              │           <span style=\"color: #00af00; text-decoration-color: #00af00\">516</span> │\n",
       "└─────────────────────────────────┴────────────────────────┴───────────────┘\n",
       "</pre>\n"
      ],
      "text/plain": [
       "┏━━━━━━━━━━━━━━━━━━━━━━━━━━━━━━━━━┳━━━━━━━━━━━━━━━━━━━━━━━━┳━━━━━━━━━━━━━━━┓\n",
       "┃\u001b[1m \u001b[0m\u001b[1mLayer (type)                   \u001b[0m\u001b[1m \u001b[0m┃\u001b[1m \u001b[0m\u001b[1mOutput Shape          \u001b[0m\u001b[1m \u001b[0m┃\u001b[1m \u001b[0m\u001b[1m      Param #\u001b[0m\u001b[1m \u001b[0m┃\n",
       "┡━━━━━━━━━━━━━━━━━━━━━━━━━━━━━━━━━╇━━━━━━━━━━━━━━━━━━━━━━━━╇━━━━━━━━━━━━━━━┩\n",
       "│ conv1d_6 (\u001b[38;5;33mConv1D\u001b[0m)               │ (\u001b[38;5;45mNone\u001b[0m, \u001b[38;5;34m198\u001b[0m, \u001b[38;5;34m64\u001b[0m)        │           \u001b[38;5;34m640\u001b[0m │\n",
       "├─────────────────────────────────┼────────────────────────┼───────────────┤\n",
       "│ max_pooling1d_6 (\u001b[38;5;33mMaxPooling1D\u001b[0m)  │ (\u001b[38;5;45mNone\u001b[0m, \u001b[38;5;34m99\u001b[0m, \u001b[38;5;34m64\u001b[0m)         │             \u001b[38;5;34m0\u001b[0m │\n",
       "├─────────────────────────────────┼────────────────────────┼───────────────┤\n",
       "│ conv1d_7 (\u001b[38;5;33mConv1D\u001b[0m)               │ (\u001b[38;5;45mNone\u001b[0m, \u001b[38;5;34m97\u001b[0m, \u001b[38;5;34m128\u001b[0m)        │        \u001b[38;5;34m24,704\u001b[0m │\n",
       "├─────────────────────────────────┼────────────────────────┼───────────────┤\n",
       "│ max_pooling1d_7 (\u001b[38;5;33mMaxPooling1D\u001b[0m)  │ (\u001b[38;5;45mNone\u001b[0m, \u001b[38;5;34m48\u001b[0m, \u001b[38;5;34m128\u001b[0m)        │             \u001b[38;5;34m0\u001b[0m │\n",
       "├─────────────────────────────────┼────────────────────────┼───────────────┤\n",
       "│ conv1d_8 (\u001b[38;5;33mConv1D\u001b[0m)               │ (\u001b[38;5;45mNone\u001b[0m, \u001b[38;5;34m46\u001b[0m, \u001b[38;5;34m256\u001b[0m)        │        \u001b[38;5;34m98,560\u001b[0m │\n",
       "├─────────────────────────────────┼────────────────────────┼───────────────┤\n",
       "│ max_pooling1d_8 (\u001b[38;5;33mMaxPooling1D\u001b[0m)  │ (\u001b[38;5;45mNone\u001b[0m, \u001b[38;5;34m23\u001b[0m, \u001b[38;5;34m256\u001b[0m)        │             \u001b[38;5;34m0\u001b[0m │\n",
       "├─────────────────────────────────┼────────────────────────┼───────────────┤\n",
       "│ flatten_2 (\u001b[38;5;33mFlatten\u001b[0m)             │ (\u001b[38;5;45mNone\u001b[0m, \u001b[38;5;34m5888\u001b[0m)           │             \u001b[38;5;34m0\u001b[0m │\n",
       "├─────────────────────────────────┼────────────────────────┼───────────────┤\n",
       "│ dense_4 (\u001b[38;5;33mDense\u001b[0m)                 │ (\u001b[38;5;45mNone\u001b[0m, \u001b[38;5;34m128\u001b[0m)            │       \u001b[38;5;34m753,792\u001b[0m │\n",
       "├─────────────────────────────────┼────────────────────────┼───────────────┤\n",
       "│ dropout_2 (\u001b[38;5;33mDropout\u001b[0m)             │ (\u001b[38;5;45mNone\u001b[0m, \u001b[38;5;34m128\u001b[0m)            │             \u001b[38;5;34m0\u001b[0m │\n",
       "├─────────────────────────────────┼────────────────────────┼───────────────┤\n",
       "│ dense_5 (\u001b[38;5;33mDense\u001b[0m)                 │ (\u001b[38;5;45mNone\u001b[0m, \u001b[38;5;34m4\u001b[0m)              │           \u001b[38;5;34m516\u001b[0m │\n",
       "└─────────────────────────────────┴────────────────────────┴───────────────┘\n"
      ]
     },
     "metadata": {},
     "output_type": "display_data"
    },
    {
     "data": {
      "text/html": [
       "<pre style=\"white-space:pre;overflow-x:auto;line-height:normal;font-family:Menlo,'DejaVu Sans Mono',consolas,'Courier New',monospace\"><span style=\"font-weight: bold\"> Total params: </span><span style=\"color: #00af00; text-decoration-color: #00af00\">878,212</span> (3.35 MB)\n",
       "</pre>\n"
      ],
      "text/plain": [
       "\u001b[1m Total params: \u001b[0m\u001b[38;5;34m878,212\u001b[0m (3.35 MB)\n"
      ]
     },
     "metadata": {},
     "output_type": "display_data"
    },
    {
     "data": {
      "text/html": [
       "<pre style=\"white-space:pre;overflow-x:auto;line-height:normal;font-family:Menlo,'DejaVu Sans Mono',consolas,'Courier New',monospace\"><span style=\"font-weight: bold\"> Trainable params: </span><span style=\"color: #00af00; text-decoration-color: #00af00\">878,212</span> (3.35 MB)\n",
       "</pre>\n"
      ],
      "text/plain": [
       "\u001b[1m Trainable params: \u001b[0m\u001b[38;5;34m878,212\u001b[0m (3.35 MB)\n"
      ]
     },
     "metadata": {},
     "output_type": "display_data"
    },
    {
     "data": {
      "text/html": [
       "<pre style=\"white-space:pre;overflow-x:auto;line-height:normal;font-family:Menlo,'DejaVu Sans Mono',consolas,'Courier New',monospace\"><span style=\"font-weight: bold\"> Non-trainable params: </span><span style=\"color: #00af00; text-decoration-color: #00af00\">0</span> (0.00 B)\n",
       "</pre>\n"
      ],
      "text/plain": [
       "\u001b[1m Non-trainable params: \u001b[0m\u001b[38;5;34m0\u001b[0m (0.00 B)\n"
      ]
     },
     "metadata": {},
     "output_type": "display_data"
    },
    {
     "name": "stdout",
     "output_type": "stream",
     "text": [
      "Epoch 1/5\n",
      "\u001b[1m3787/3787\u001b[0m \u001b[32m━━━━━━━━━━━━━━━━━━━━\u001b[0m\u001b[37m\u001b[0m \u001b[1m70s\u001b[0m 18ms/step - accuracy: 0.6113 - loss: 0.9134 - val_accuracy: 0.7349 - val_loss: 0.6104\n",
      "Epoch 2/5\n",
      "\u001b[1m3787/3787\u001b[0m \u001b[32m━━━━━━━━━━━━━━━━━━━━\u001b[0m\u001b[37m\u001b[0m \u001b[1m63s\u001b[0m 17ms/step - accuracy: 0.7562 - loss: 0.5842 - val_accuracy: 0.8041 - val_loss: 0.4798\n",
      "Epoch 3/5\n",
      "\u001b[1m3787/3787\u001b[0m \u001b[32m━━━━━━━━━━━━━━━━━━━━\u001b[0m\u001b[37m\u001b[0m \u001b[1m64s\u001b[0m 17ms/step - accuracy: 0.8002 - loss: 0.4904 - val_accuracy: 0.8335 - val_loss: 0.4078\n",
      "Epoch 4/5\n",
      "\u001b[1m3787/3787\u001b[0m \u001b[32m━━━━━━━━━━━━━━━━━━━━\u001b[0m\u001b[37m\u001b[0m \u001b[1m60s\u001b[0m 16ms/step - accuracy: 0.8264 - loss: 0.4300 - val_accuracy: 0.8313 - val_loss: 0.4078\n",
      "Epoch 5/5\n",
      "\u001b[1m3787/3787\u001b[0m \u001b[32m━━━━━━━━━━━━━━━━━━━━\u001b[0m\u001b[37m\u001b[0m \u001b[1m59s\u001b[0m 16ms/step - accuracy: 0.8463 - loss: 0.3842 - val_accuracy: 0.8611 - val_loss: 0.3555\n",
      "\u001b[1m1894/1894\u001b[0m \u001b[32m━━━━━━━━━━━━━━━━━━━━\u001b[0m\u001b[37m\u001b[0m \u001b[1m12s\u001b[0m 6ms/step\n",
      "Completed training and evaluation for fold 3\n",
      "Recall for class 0 after fold 3: 0.9022\n",
      "Recall for class 1 after fold 3: 0.8806\n",
      "Recall for class 2 after fold 3: 0.7803\n",
      "Recall for class 3 after fold 3: 0.8542\n",
      "Training social signal model for fold 4\n"
     ]
    },
    {
     "name": "stderr",
     "output_type": "stream",
     "text": [
      "c:\\Users\\seanc\\miniconda3\\envs\\pdiot\\Lib\\site-packages\\keras\\src\\layers\\convolutional\\base_conv.py:107: UserWarning: Do not pass an `input_shape`/`input_dim` argument to a layer. When using Sequential models, prefer using an `Input(shape)` object as the first layer in the model instead.\n",
      "  super().__init__(activity_regularizer=activity_regularizer, **kwargs)\n"
     ]
    },
    {
     "data": {
      "text/html": [
       "<pre style=\"white-space:pre;overflow-x:auto;line-height:normal;font-family:Menlo,'DejaVu Sans Mono',consolas,'Courier New',monospace\"><span style=\"font-weight: bold\">Model: \"sequential_3\"</span>\n",
       "</pre>\n"
      ],
      "text/plain": [
       "\u001b[1mModel: \"sequential_3\"\u001b[0m\n"
      ]
     },
     "metadata": {},
     "output_type": "display_data"
    },
    {
     "data": {
      "text/html": [
       "<pre style=\"white-space:pre;overflow-x:auto;line-height:normal;font-family:Menlo,'DejaVu Sans Mono',consolas,'Courier New',monospace\">┏━━━━━━━━━━━━━━━━━━━━━━━━━━━━━━━━━┳━━━━━━━━━━━━━━━━━━━━━━━━┳━━━━━━━━━━━━━━━┓\n",
       "┃<span style=\"font-weight: bold\"> Layer (type)                    </span>┃<span style=\"font-weight: bold\"> Output Shape           </span>┃<span style=\"font-weight: bold\">       Param # </span>┃\n",
       "┡━━━━━━━━━━━━━━━━━━━━━━━━━━━━━━━━━╇━━━━━━━━━━━━━━━━━━━━━━━━╇━━━━━━━━━━━━━━━┩\n",
       "│ conv1d_9 (<span style=\"color: #0087ff; text-decoration-color: #0087ff\">Conv1D</span>)               │ (<span style=\"color: #00d7ff; text-decoration-color: #00d7ff\">None</span>, <span style=\"color: #00af00; text-decoration-color: #00af00\">198</span>, <span style=\"color: #00af00; text-decoration-color: #00af00\">64</span>)        │           <span style=\"color: #00af00; text-decoration-color: #00af00\">640</span> │\n",
       "├─────────────────────────────────┼────────────────────────┼───────────────┤\n",
       "│ max_pooling1d_9 (<span style=\"color: #0087ff; text-decoration-color: #0087ff\">MaxPooling1D</span>)  │ (<span style=\"color: #00d7ff; text-decoration-color: #00d7ff\">None</span>, <span style=\"color: #00af00; text-decoration-color: #00af00\">99</span>, <span style=\"color: #00af00; text-decoration-color: #00af00\">64</span>)         │             <span style=\"color: #00af00; text-decoration-color: #00af00\">0</span> │\n",
       "├─────────────────────────────────┼────────────────────────┼───────────────┤\n",
       "│ conv1d_10 (<span style=\"color: #0087ff; text-decoration-color: #0087ff\">Conv1D</span>)              │ (<span style=\"color: #00d7ff; text-decoration-color: #00d7ff\">None</span>, <span style=\"color: #00af00; text-decoration-color: #00af00\">97</span>, <span style=\"color: #00af00; text-decoration-color: #00af00\">128</span>)        │        <span style=\"color: #00af00; text-decoration-color: #00af00\">24,704</span> │\n",
       "├─────────────────────────────────┼────────────────────────┼───────────────┤\n",
       "│ max_pooling1d_10 (<span style=\"color: #0087ff; text-decoration-color: #0087ff\">MaxPooling1D</span>) │ (<span style=\"color: #00d7ff; text-decoration-color: #00d7ff\">None</span>, <span style=\"color: #00af00; text-decoration-color: #00af00\">48</span>, <span style=\"color: #00af00; text-decoration-color: #00af00\">128</span>)        │             <span style=\"color: #00af00; text-decoration-color: #00af00\">0</span> │\n",
       "├─────────────────────────────────┼────────────────────────┼───────────────┤\n",
       "│ conv1d_11 (<span style=\"color: #0087ff; text-decoration-color: #0087ff\">Conv1D</span>)              │ (<span style=\"color: #00d7ff; text-decoration-color: #00d7ff\">None</span>, <span style=\"color: #00af00; text-decoration-color: #00af00\">46</span>, <span style=\"color: #00af00; text-decoration-color: #00af00\">256</span>)        │        <span style=\"color: #00af00; text-decoration-color: #00af00\">98,560</span> │\n",
       "├─────────────────────────────────┼────────────────────────┼───────────────┤\n",
       "│ max_pooling1d_11 (<span style=\"color: #0087ff; text-decoration-color: #0087ff\">MaxPooling1D</span>) │ (<span style=\"color: #00d7ff; text-decoration-color: #00d7ff\">None</span>, <span style=\"color: #00af00; text-decoration-color: #00af00\">23</span>, <span style=\"color: #00af00; text-decoration-color: #00af00\">256</span>)        │             <span style=\"color: #00af00; text-decoration-color: #00af00\">0</span> │\n",
       "├─────────────────────────────────┼────────────────────────┼───────────────┤\n",
       "│ flatten_3 (<span style=\"color: #0087ff; text-decoration-color: #0087ff\">Flatten</span>)             │ (<span style=\"color: #00d7ff; text-decoration-color: #00d7ff\">None</span>, <span style=\"color: #00af00; text-decoration-color: #00af00\">5888</span>)           │             <span style=\"color: #00af00; text-decoration-color: #00af00\">0</span> │\n",
       "├─────────────────────────────────┼────────────────────────┼───────────────┤\n",
       "│ dense_6 (<span style=\"color: #0087ff; text-decoration-color: #0087ff\">Dense</span>)                 │ (<span style=\"color: #00d7ff; text-decoration-color: #00d7ff\">None</span>, <span style=\"color: #00af00; text-decoration-color: #00af00\">128</span>)            │       <span style=\"color: #00af00; text-decoration-color: #00af00\">753,792</span> │\n",
       "├─────────────────────────────────┼────────────────────────┼───────────────┤\n",
       "│ dropout_3 (<span style=\"color: #0087ff; text-decoration-color: #0087ff\">Dropout</span>)             │ (<span style=\"color: #00d7ff; text-decoration-color: #00d7ff\">None</span>, <span style=\"color: #00af00; text-decoration-color: #00af00\">128</span>)            │             <span style=\"color: #00af00; text-decoration-color: #00af00\">0</span> │\n",
       "├─────────────────────────────────┼────────────────────────┼───────────────┤\n",
       "│ dense_7 (<span style=\"color: #0087ff; text-decoration-color: #0087ff\">Dense</span>)                 │ (<span style=\"color: #00d7ff; text-decoration-color: #00d7ff\">None</span>, <span style=\"color: #00af00; text-decoration-color: #00af00\">4</span>)              │           <span style=\"color: #00af00; text-decoration-color: #00af00\">516</span> │\n",
       "└─────────────────────────────────┴────────────────────────┴───────────────┘\n",
       "</pre>\n"
      ],
      "text/plain": [
       "┏━━━━━━━━━━━━━━━━━━━━━━━━━━━━━━━━━┳━━━━━━━━━━━━━━━━━━━━━━━━┳━━━━━━━━━━━━━━━┓\n",
       "┃\u001b[1m \u001b[0m\u001b[1mLayer (type)                   \u001b[0m\u001b[1m \u001b[0m┃\u001b[1m \u001b[0m\u001b[1mOutput Shape          \u001b[0m\u001b[1m \u001b[0m┃\u001b[1m \u001b[0m\u001b[1m      Param #\u001b[0m\u001b[1m \u001b[0m┃\n",
       "┡━━━━━━━━━━━━━━━━━━━━━━━━━━━━━━━━━╇━━━━━━━━━━━━━━━━━━━━━━━━╇━━━━━━━━━━━━━━━┩\n",
       "│ conv1d_9 (\u001b[38;5;33mConv1D\u001b[0m)               │ (\u001b[38;5;45mNone\u001b[0m, \u001b[38;5;34m198\u001b[0m, \u001b[38;5;34m64\u001b[0m)        │           \u001b[38;5;34m640\u001b[0m │\n",
       "├─────────────────────────────────┼────────────────────────┼───────────────┤\n",
       "│ max_pooling1d_9 (\u001b[38;5;33mMaxPooling1D\u001b[0m)  │ (\u001b[38;5;45mNone\u001b[0m, \u001b[38;5;34m99\u001b[0m, \u001b[38;5;34m64\u001b[0m)         │             \u001b[38;5;34m0\u001b[0m │\n",
       "├─────────────────────────────────┼────────────────────────┼───────────────┤\n",
       "│ conv1d_10 (\u001b[38;5;33mConv1D\u001b[0m)              │ (\u001b[38;5;45mNone\u001b[0m, \u001b[38;5;34m97\u001b[0m, \u001b[38;5;34m128\u001b[0m)        │        \u001b[38;5;34m24,704\u001b[0m │\n",
       "├─────────────────────────────────┼────────────────────────┼───────────────┤\n",
       "│ max_pooling1d_10 (\u001b[38;5;33mMaxPooling1D\u001b[0m) │ (\u001b[38;5;45mNone\u001b[0m, \u001b[38;5;34m48\u001b[0m, \u001b[38;5;34m128\u001b[0m)        │             \u001b[38;5;34m0\u001b[0m │\n",
       "├─────────────────────────────────┼────────────────────────┼───────────────┤\n",
       "│ conv1d_11 (\u001b[38;5;33mConv1D\u001b[0m)              │ (\u001b[38;5;45mNone\u001b[0m, \u001b[38;5;34m46\u001b[0m, \u001b[38;5;34m256\u001b[0m)        │        \u001b[38;5;34m98,560\u001b[0m │\n",
       "├─────────────────────────────────┼────────────────────────┼───────────────┤\n",
       "│ max_pooling1d_11 (\u001b[38;5;33mMaxPooling1D\u001b[0m) │ (\u001b[38;5;45mNone\u001b[0m, \u001b[38;5;34m23\u001b[0m, \u001b[38;5;34m256\u001b[0m)        │             \u001b[38;5;34m0\u001b[0m │\n",
       "├─────────────────────────────────┼────────────────────────┼───────────────┤\n",
       "│ flatten_3 (\u001b[38;5;33mFlatten\u001b[0m)             │ (\u001b[38;5;45mNone\u001b[0m, \u001b[38;5;34m5888\u001b[0m)           │             \u001b[38;5;34m0\u001b[0m │\n",
       "├─────────────────────────────────┼────────────────────────┼───────────────┤\n",
       "│ dense_6 (\u001b[38;5;33mDense\u001b[0m)                 │ (\u001b[38;5;45mNone\u001b[0m, \u001b[38;5;34m128\u001b[0m)            │       \u001b[38;5;34m753,792\u001b[0m │\n",
       "├─────────────────────────────────┼────────────────────────┼───────────────┤\n",
       "│ dropout_3 (\u001b[38;5;33mDropout\u001b[0m)             │ (\u001b[38;5;45mNone\u001b[0m, \u001b[38;5;34m128\u001b[0m)            │             \u001b[38;5;34m0\u001b[0m │\n",
       "├─────────────────────────────────┼────────────────────────┼───────────────┤\n",
       "│ dense_7 (\u001b[38;5;33mDense\u001b[0m)                 │ (\u001b[38;5;45mNone\u001b[0m, \u001b[38;5;34m4\u001b[0m)              │           \u001b[38;5;34m516\u001b[0m │\n",
       "└─────────────────────────────────┴────────────────────────┴───────────────┘\n"
      ]
     },
     "metadata": {},
     "output_type": "display_data"
    },
    {
     "data": {
      "text/html": [
       "<pre style=\"white-space:pre;overflow-x:auto;line-height:normal;font-family:Menlo,'DejaVu Sans Mono',consolas,'Courier New',monospace\"><span style=\"font-weight: bold\"> Total params: </span><span style=\"color: #00af00; text-decoration-color: #00af00\">878,212</span> (3.35 MB)\n",
       "</pre>\n"
      ],
      "text/plain": [
       "\u001b[1m Total params: \u001b[0m\u001b[38;5;34m878,212\u001b[0m (3.35 MB)\n"
      ]
     },
     "metadata": {},
     "output_type": "display_data"
    },
    {
     "data": {
      "text/html": [
       "<pre style=\"white-space:pre;overflow-x:auto;line-height:normal;font-family:Menlo,'DejaVu Sans Mono',consolas,'Courier New',monospace\"><span style=\"font-weight: bold\"> Trainable params: </span><span style=\"color: #00af00; text-decoration-color: #00af00\">878,212</span> (3.35 MB)\n",
       "</pre>\n"
      ],
      "text/plain": [
       "\u001b[1m Trainable params: \u001b[0m\u001b[38;5;34m878,212\u001b[0m (3.35 MB)\n"
      ]
     },
     "metadata": {},
     "output_type": "display_data"
    },
    {
     "data": {
      "text/html": [
       "<pre style=\"white-space:pre;overflow-x:auto;line-height:normal;font-family:Menlo,'DejaVu Sans Mono',consolas,'Courier New',monospace\"><span style=\"font-weight: bold\"> Non-trainable params: </span><span style=\"color: #00af00; text-decoration-color: #00af00\">0</span> (0.00 B)\n",
       "</pre>\n"
      ],
      "text/plain": [
       "\u001b[1m Non-trainable params: \u001b[0m\u001b[38;5;34m0\u001b[0m (0.00 B)\n"
      ]
     },
     "metadata": {},
     "output_type": "display_data"
    },
    {
     "name": "stdout",
     "output_type": "stream",
     "text": [
      "Epoch 1/5\n",
      "\u001b[1m3787/3787\u001b[0m \u001b[32m━━━━━━━━━━━━━━━━━━━━\u001b[0m\u001b[37m\u001b[0m \u001b[1m64s\u001b[0m 17ms/step - accuracy: 0.6194 - loss: 0.9025 - val_accuracy: 0.7328 - val_loss: 0.6242\n",
      "Epoch 2/5\n",
      "\u001b[1m3787/3787\u001b[0m \u001b[32m━━━━━━━━━━━━━━━━━━━━\u001b[0m\u001b[37m\u001b[0m \u001b[1m58s\u001b[0m 15ms/step - accuracy: 0.7535 - loss: 0.5898 - val_accuracy: 0.8060 - val_loss: 0.4973\n",
      "Epoch 3/5\n",
      "\u001b[1m3787/3787\u001b[0m \u001b[32m━━━━━━━━━━━━━━━━━━━━\u001b[0m\u001b[37m\u001b[0m \u001b[1m59s\u001b[0m 15ms/step - accuracy: 0.7960 - loss: 0.5055 - val_accuracy: 0.8235 - val_loss: 0.4381\n",
      "Epoch 4/5\n",
      "\u001b[1m3787/3787\u001b[0m \u001b[32m━━━━━━━━━━━━━━━━━━━━\u001b[0m\u001b[37m\u001b[0m \u001b[1m59s\u001b[0m 15ms/step - accuracy: 0.8202 - loss: 0.4479 - val_accuracy: 0.8164 - val_loss: 0.4421\n",
      "Epoch 5/5\n",
      "\u001b[1m3787/3787\u001b[0m \u001b[32m━━━━━━━━━━━━━━━━━━━━\u001b[0m\u001b[37m\u001b[0m \u001b[1m59s\u001b[0m 16ms/step - accuracy: 0.8400 - loss: 0.4011 - val_accuracy: 0.8539 - val_loss: 0.3701\n",
      "\u001b[1m1894/1894\u001b[0m \u001b[32m━━━━━━━━━━━━━━━━━━━━\u001b[0m\u001b[37m\u001b[0m \u001b[1m13s\u001b[0m 7ms/step\n",
      "Completed training and evaluation for fold 4\n",
      "Recall for class 0 after fold 4: 0.8553\n",
      "Recall for class 1 after fold 4: 0.8342\n",
      "Recall for class 2 after fold 4: 0.6961\n",
      "Recall for class 3 after fold 4: 0.9065\n",
      "Training social signal model for fold 5\n"
     ]
    },
    {
     "name": "stderr",
     "output_type": "stream",
     "text": [
      "c:\\Users\\seanc\\miniconda3\\envs\\pdiot\\Lib\\site-packages\\keras\\src\\layers\\convolutional\\base_conv.py:107: UserWarning: Do not pass an `input_shape`/`input_dim` argument to a layer. When using Sequential models, prefer using an `Input(shape)` object as the first layer in the model instead.\n",
      "  super().__init__(activity_regularizer=activity_regularizer, **kwargs)\n"
     ]
    },
    {
     "data": {
      "text/html": [
       "<pre style=\"white-space:pre;overflow-x:auto;line-height:normal;font-family:Menlo,'DejaVu Sans Mono',consolas,'Courier New',monospace\"><span style=\"font-weight: bold\">Model: \"sequential_4\"</span>\n",
       "</pre>\n"
      ],
      "text/plain": [
       "\u001b[1mModel: \"sequential_4\"\u001b[0m\n"
      ]
     },
     "metadata": {},
     "output_type": "display_data"
    },
    {
     "data": {
      "text/html": [
       "<pre style=\"white-space:pre;overflow-x:auto;line-height:normal;font-family:Menlo,'DejaVu Sans Mono',consolas,'Courier New',monospace\">┏━━━━━━━━━━━━━━━━━━━━━━━━━━━━━━━━━┳━━━━━━━━━━━━━━━━━━━━━━━━┳━━━━━━━━━━━━━━━┓\n",
       "┃<span style=\"font-weight: bold\"> Layer (type)                    </span>┃<span style=\"font-weight: bold\"> Output Shape           </span>┃<span style=\"font-weight: bold\">       Param # </span>┃\n",
       "┡━━━━━━━━━━━━━━━━━━━━━━━━━━━━━━━━━╇━━━━━━━━━━━━━━━━━━━━━━━━╇━━━━━━━━━━━━━━━┩\n",
       "│ conv1d_12 (<span style=\"color: #0087ff; text-decoration-color: #0087ff\">Conv1D</span>)              │ (<span style=\"color: #00d7ff; text-decoration-color: #00d7ff\">None</span>, <span style=\"color: #00af00; text-decoration-color: #00af00\">198</span>, <span style=\"color: #00af00; text-decoration-color: #00af00\">64</span>)        │           <span style=\"color: #00af00; text-decoration-color: #00af00\">640</span> │\n",
       "├─────────────────────────────────┼────────────────────────┼───────────────┤\n",
       "│ max_pooling1d_12 (<span style=\"color: #0087ff; text-decoration-color: #0087ff\">MaxPooling1D</span>) │ (<span style=\"color: #00d7ff; text-decoration-color: #00d7ff\">None</span>, <span style=\"color: #00af00; text-decoration-color: #00af00\">99</span>, <span style=\"color: #00af00; text-decoration-color: #00af00\">64</span>)         │             <span style=\"color: #00af00; text-decoration-color: #00af00\">0</span> │\n",
       "├─────────────────────────────────┼────────────────────────┼───────────────┤\n",
       "│ conv1d_13 (<span style=\"color: #0087ff; text-decoration-color: #0087ff\">Conv1D</span>)              │ (<span style=\"color: #00d7ff; text-decoration-color: #00d7ff\">None</span>, <span style=\"color: #00af00; text-decoration-color: #00af00\">97</span>, <span style=\"color: #00af00; text-decoration-color: #00af00\">128</span>)        │        <span style=\"color: #00af00; text-decoration-color: #00af00\">24,704</span> │\n",
       "├─────────────────────────────────┼────────────────────────┼───────────────┤\n",
       "│ max_pooling1d_13 (<span style=\"color: #0087ff; text-decoration-color: #0087ff\">MaxPooling1D</span>) │ (<span style=\"color: #00d7ff; text-decoration-color: #00d7ff\">None</span>, <span style=\"color: #00af00; text-decoration-color: #00af00\">48</span>, <span style=\"color: #00af00; text-decoration-color: #00af00\">128</span>)        │             <span style=\"color: #00af00; text-decoration-color: #00af00\">0</span> │\n",
       "├─────────────────────────────────┼────────────────────────┼───────────────┤\n",
       "│ conv1d_14 (<span style=\"color: #0087ff; text-decoration-color: #0087ff\">Conv1D</span>)              │ (<span style=\"color: #00d7ff; text-decoration-color: #00d7ff\">None</span>, <span style=\"color: #00af00; text-decoration-color: #00af00\">46</span>, <span style=\"color: #00af00; text-decoration-color: #00af00\">256</span>)        │        <span style=\"color: #00af00; text-decoration-color: #00af00\">98,560</span> │\n",
       "├─────────────────────────────────┼────────────────────────┼───────────────┤\n",
       "│ max_pooling1d_14 (<span style=\"color: #0087ff; text-decoration-color: #0087ff\">MaxPooling1D</span>) │ (<span style=\"color: #00d7ff; text-decoration-color: #00d7ff\">None</span>, <span style=\"color: #00af00; text-decoration-color: #00af00\">23</span>, <span style=\"color: #00af00; text-decoration-color: #00af00\">256</span>)        │             <span style=\"color: #00af00; text-decoration-color: #00af00\">0</span> │\n",
       "├─────────────────────────────────┼────────────────────────┼───────────────┤\n",
       "│ flatten_4 (<span style=\"color: #0087ff; text-decoration-color: #0087ff\">Flatten</span>)             │ (<span style=\"color: #00d7ff; text-decoration-color: #00d7ff\">None</span>, <span style=\"color: #00af00; text-decoration-color: #00af00\">5888</span>)           │             <span style=\"color: #00af00; text-decoration-color: #00af00\">0</span> │\n",
       "├─────────────────────────────────┼────────────────────────┼───────────────┤\n",
       "│ dense_8 (<span style=\"color: #0087ff; text-decoration-color: #0087ff\">Dense</span>)                 │ (<span style=\"color: #00d7ff; text-decoration-color: #00d7ff\">None</span>, <span style=\"color: #00af00; text-decoration-color: #00af00\">128</span>)            │       <span style=\"color: #00af00; text-decoration-color: #00af00\">753,792</span> │\n",
       "├─────────────────────────────────┼────────────────────────┼───────────────┤\n",
       "│ dropout_4 (<span style=\"color: #0087ff; text-decoration-color: #0087ff\">Dropout</span>)             │ (<span style=\"color: #00d7ff; text-decoration-color: #00d7ff\">None</span>, <span style=\"color: #00af00; text-decoration-color: #00af00\">128</span>)            │             <span style=\"color: #00af00; text-decoration-color: #00af00\">0</span> │\n",
       "├─────────────────────────────────┼────────────────────────┼───────────────┤\n",
       "│ dense_9 (<span style=\"color: #0087ff; text-decoration-color: #0087ff\">Dense</span>)                 │ (<span style=\"color: #00d7ff; text-decoration-color: #00d7ff\">None</span>, <span style=\"color: #00af00; text-decoration-color: #00af00\">4</span>)              │           <span style=\"color: #00af00; text-decoration-color: #00af00\">516</span> │\n",
       "└─────────────────────────────────┴────────────────────────┴───────────────┘\n",
       "</pre>\n"
      ],
      "text/plain": [
       "┏━━━━━━━━━━━━━━━━━━━━━━━━━━━━━━━━━┳━━━━━━━━━━━━━━━━━━━━━━━━┳━━━━━━━━━━━━━━━┓\n",
       "┃\u001b[1m \u001b[0m\u001b[1mLayer (type)                   \u001b[0m\u001b[1m \u001b[0m┃\u001b[1m \u001b[0m\u001b[1mOutput Shape          \u001b[0m\u001b[1m \u001b[0m┃\u001b[1m \u001b[0m\u001b[1m      Param #\u001b[0m\u001b[1m \u001b[0m┃\n",
       "┡━━━━━━━━━━━━━━━━━━━━━━━━━━━━━━━━━╇━━━━━━━━━━━━━━━━━━━━━━━━╇━━━━━━━━━━━━━━━┩\n",
       "│ conv1d_12 (\u001b[38;5;33mConv1D\u001b[0m)              │ (\u001b[38;5;45mNone\u001b[0m, \u001b[38;5;34m198\u001b[0m, \u001b[38;5;34m64\u001b[0m)        │           \u001b[38;5;34m640\u001b[0m │\n",
       "├─────────────────────────────────┼────────────────────────┼───────────────┤\n",
       "│ max_pooling1d_12 (\u001b[38;5;33mMaxPooling1D\u001b[0m) │ (\u001b[38;5;45mNone\u001b[0m, \u001b[38;5;34m99\u001b[0m, \u001b[38;5;34m64\u001b[0m)         │             \u001b[38;5;34m0\u001b[0m │\n",
       "├─────────────────────────────────┼────────────────────────┼───────────────┤\n",
       "│ conv1d_13 (\u001b[38;5;33mConv1D\u001b[0m)              │ (\u001b[38;5;45mNone\u001b[0m, \u001b[38;5;34m97\u001b[0m, \u001b[38;5;34m128\u001b[0m)        │        \u001b[38;5;34m24,704\u001b[0m │\n",
       "├─────────────────────────────────┼────────────────────────┼───────────────┤\n",
       "│ max_pooling1d_13 (\u001b[38;5;33mMaxPooling1D\u001b[0m) │ (\u001b[38;5;45mNone\u001b[0m, \u001b[38;5;34m48\u001b[0m, \u001b[38;5;34m128\u001b[0m)        │             \u001b[38;5;34m0\u001b[0m │\n",
       "├─────────────────────────────────┼────────────────────────┼───────────────┤\n",
       "│ conv1d_14 (\u001b[38;5;33mConv1D\u001b[0m)              │ (\u001b[38;5;45mNone\u001b[0m, \u001b[38;5;34m46\u001b[0m, \u001b[38;5;34m256\u001b[0m)        │        \u001b[38;5;34m98,560\u001b[0m │\n",
       "├─────────────────────────────────┼────────────────────────┼───────────────┤\n",
       "│ max_pooling1d_14 (\u001b[38;5;33mMaxPooling1D\u001b[0m) │ (\u001b[38;5;45mNone\u001b[0m, \u001b[38;5;34m23\u001b[0m, \u001b[38;5;34m256\u001b[0m)        │             \u001b[38;5;34m0\u001b[0m │\n",
       "├─────────────────────────────────┼────────────────────────┼───────────────┤\n",
       "│ flatten_4 (\u001b[38;5;33mFlatten\u001b[0m)             │ (\u001b[38;5;45mNone\u001b[0m, \u001b[38;5;34m5888\u001b[0m)           │             \u001b[38;5;34m0\u001b[0m │\n",
       "├─────────────────────────────────┼────────────────────────┼───────────────┤\n",
       "│ dense_8 (\u001b[38;5;33mDense\u001b[0m)                 │ (\u001b[38;5;45mNone\u001b[0m, \u001b[38;5;34m128\u001b[0m)            │       \u001b[38;5;34m753,792\u001b[0m │\n",
       "├─────────────────────────────────┼────────────────────────┼───────────────┤\n",
       "│ dropout_4 (\u001b[38;5;33mDropout\u001b[0m)             │ (\u001b[38;5;45mNone\u001b[0m, \u001b[38;5;34m128\u001b[0m)            │             \u001b[38;5;34m0\u001b[0m │\n",
       "├─────────────────────────────────┼────────────────────────┼───────────────┤\n",
       "│ dense_9 (\u001b[38;5;33mDense\u001b[0m)                 │ (\u001b[38;5;45mNone\u001b[0m, \u001b[38;5;34m4\u001b[0m)              │           \u001b[38;5;34m516\u001b[0m │\n",
       "└─────────────────────────────────┴────────────────────────┴───────────────┘\n"
      ]
     },
     "metadata": {},
     "output_type": "display_data"
    },
    {
     "data": {
      "text/html": [
       "<pre style=\"white-space:pre;overflow-x:auto;line-height:normal;font-family:Menlo,'DejaVu Sans Mono',consolas,'Courier New',monospace\"><span style=\"font-weight: bold\"> Total params: </span><span style=\"color: #00af00; text-decoration-color: #00af00\">878,212</span> (3.35 MB)\n",
       "</pre>\n"
      ],
      "text/plain": [
       "\u001b[1m Total params: \u001b[0m\u001b[38;5;34m878,212\u001b[0m (3.35 MB)\n"
      ]
     },
     "metadata": {},
     "output_type": "display_data"
    },
    {
     "data": {
      "text/html": [
       "<pre style=\"white-space:pre;overflow-x:auto;line-height:normal;font-family:Menlo,'DejaVu Sans Mono',consolas,'Courier New',monospace\"><span style=\"font-weight: bold\"> Trainable params: </span><span style=\"color: #00af00; text-decoration-color: #00af00\">878,212</span> (3.35 MB)\n",
       "</pre>\n"
      ],
      "text/plain": [
       "\u001b[1m Trainable params: \u001b[0m\u001b[38;5;34m878,212\u001b[0m (3.35 MB)\n"
      ]
     },
     "metadata": {},
     "output_type": "display_data"
    },
    {
     "data": {
      "text/html": [
       "<pre style=\"white-space:pre;overflow-x:auto;line-height:normal;font-family:Menlo,'DejaVu Sans Mono',consolas,'Courier New',monospace\"><span style=\"font-weight: bold\"> Non-trainable params: </span><span style=\"color: #00af00; text-decoration-color: #00af00\">0</span> (0.00 B)\n",
       "</pre>\n"
      ],
      "text/plain": [
       "\u001b[1m Non-trainable params: \u001b[0m\u001b[38;5;34m0\u001b[0m (0.00 B)\n"
      ]
     },
     "metadata": {},
     "output_type": "display_data"
    },
    {
     "name": "stdout",
     "output_type": "stream",
     "text": [
      "Epoch 1/5\n",
      "\u001b[1m3787/3787\u001b[0m \u001b[32m━━━━━━━━━━━━━━━━━━━━\u001b[0m\u001b[37m\u001b[0m \u001b[1m60s\u001b[0m 16ms/step - accuracy: 0.6124 - loss: 0.9095 - val_accuracy: 0.6824 - val_loss: 0.6905\n",
      "Epoch 2/5\n",
      "\u001b[1m3787/3787\u001b[0m \u001b[32m━━━━━━━━━━━━━━━━━━━━\u001b[0m\u001b[37m\u001b[0m \u001b[1m59s\u001b[0m 15ms/step - accuracy: 0.7353 - loss: 0.6251 - val_accuracy: 0.7603 - val_loss: 0.5514\n",
      "Epoch 3/5\n",
      "\u001b[1m3787/3787\u001b[0m \u001b[32m━━━━━━━━━━━━━━━━━━━━\u001b[0m\u001b[37m\u001b[0m \u001b[1m59s\u001b[0m 16ms/step - accuracy: 0.7870 - loss: 0.5204 - val_accuracy: 0.8140 - val_loss: 0.4515\n",
      "Epoch 4/5\n",
      "\u001b[1m3787/3787\u001b[0m \u001b[32m━━━━━━━━━━━━━━━━━━━━\u001b[0m\u001b[37m\u001b[0m \u001b[1m59s\u001b[0m 16ms/step - accuracy: 0.8153 - loss: 0.4593 - val_accuracy: 0.8208 - val_loss: 0.4368\n",
      "Epoch 5/5\n",
      "\u001b[1m3787/3787\u001b[0m \u001b[32m━━━━━━━━━━━━━━━━━━━━\u001b[0m\u001b[37m\u001b[0m \u001b[1m58s\u001b[0m 15ms/step - accuracy: 0.8336 - loss: 0.4115 - val_accuracy: 0.8482 - val_loss: 0.3759\n",
      "\u001b[1m1894/1894\u001b[0m \u001b[32m━━━━━━━━━━━━━━━━━━━━\u001b[0m\u001b[37m\u001b[0m \u001b[1m14s\u001b[0m 8ms/step\n",
      "Completed training and evaluation for fold 5\n",
      "Recall for class 0 after fold 5: 0.8529\n",
      "Recall for class 1 after fold 5: 0.8994\n",
      "Recall for class 2 after fold 5: 0.6934\n",
      "Recall for class 3 after fold 5: 0.8771\n",
      "Average accuracy for social signal model: 0.8556\n",
      "The 5-fold cross validation recall of class 0 is 0.8614\n",
      "The 5-fold cross validation recall of class 1 is 0.8698\n",
      "The 5-fold cross validation recall of class 2 is 0.7075\n",
      "The 5-fold cross validation recall of class 3 is 0.8924\n"
     ]
    }
   ],
   "source": [
    "fold_no = 1\n",
    "\n",
    "# Train and Evaluate social signal model\n",
    "for train_index, val_index in kfold.split(X_social_signal):\n",
    "    print(f\"Training social signal model for fold {fold_no}\")\n",
    "\n",
    "    # Split the data for this fold\n",
    "    X_train_fold_social_signal, X_val_fold_social_signal = X_social_signal[train_index], X_social_signal[val_index]\n",
    "    y_train_fold_social_signal, y_val_fold_social_signal = y_social_signal_one_hot[train_index], y_social_signal_one_hot[val_index]\n",
    "\n",
    "    # Reinitialise the social signal model for each fold\n",
    "    social_signal_model = build_1d_cnn_model(input_shape_social_signal, num_social_signal_classes)\n",
    "\n",
    "    history = social_signal_model.fit(X_train_fold_social_signal, y_train_fold_social_signal,\n",
    "                                        epochs=5, batch_size=64,\n",
    "                                        validation_data=(X_val_fold_social_signal, y_val_fold_social_signal),\n",
    "                                        verbose=1)\n",
    "    \n",
    "    y_pred_probs_social_signal = social_signal_model.predict(X_val_fold_social_signal)\n",
    "    y_pred_social_signal = np.argmax(y_pred_probs_social_signal, axis=1)\n",
    "    y_true_social_signal = np.argmax(y_val_fold_social_signal, axis=1)\n",
    "\n",
    "    social_signal_report = classification_report(y_true_social_signal, y_pred_social_signal, output_dict=True)\n",
    "    for i in range(num_social_signal_classes):\n",
    "        recall_per_class_per_fold_social_signal[i].append(social_signal_report[str(i)]['recall'])\n",
    "\n",
    "    social_signal_accuracy_list.append(accuracy_score(y_true_social_signal, y_pred_social_signal))\n",
    "\n",
    "    # Collect predictions and true social signal labels for confusion matrix\n",
    "    all_y_true_social_signal.extend(y_true_social_signal)\n",
    "    all_y_pred_social_signal.extend(y_pred_social_signal)\n",
    "\n",
    "    print(f\"Completed training and evaluation for fold {fold_no}\")\n",
    "\n",
    "    # Print recall for each class after each fold\n",
    "    for i in range(num_social_signal_classes):\n",
    "        print(f\"Recall for class {i} after fold {fold_no}: {recall_per_class_per_fold_social_signal[i][-1]:.4f}\")\n",
    "\n",
    "    fold_no += 1\n",
    "\n",
    "average_social_signal_accuracy = np.mean(social_signal_accuracy_list)\n",
    "print(f\"Average accuracy for social signal model: {average_social_signal_accuracy:.4f}\")\n",
    "\n",
    "average_recall_per_class_social_signal = {i: np.mean(recall_per_class_per_fold_social_signal[i]) for i in range(num_social_signal_classes)}\n",
    "\n",
    "for i in range(num_social_signal_classes):\n",
    "    print(f\"The 5-fold cross validation recall of class {i} is {average_recall_per_class_social_signal[i]:.4f}\")"
   ]
  },
  {
   "cell_type": "markdown",
   "metadata": {},
   "source": [
    "# Social signal confusion matrix"
   ]
  },
  {
   "cell_type": "code",
   "execution_count": 19,
   "metadata": {},
   "outputs": [
    {
     "data": {
      "text/plain": [
       "<sklearn.metrics._plot.confusion_matrix.ConfusionMatrixDisplay at 0x205df8d0890>"
      ]
     },
     "execution_count": 19,
     "metadata": {},
     "output_type": "execute_result"
    },
    {
     "data": {
      "image/png": "[encoded data removed]",
      "text/plain": [
       "<Figure size 640x480 with 2 Axes>"
      ]
     },
     "metadata": {},
     "output_type": "display_data"
    }
   ],
   "source": [
    " # Convert the lists for the confusion matrix to numpy arrays\n",
    "all_y_true_social_signal = np.array(all_y_true_social_signal)\n",
    "all_y_pred_social_signal = np.array(all_y_pred_social_signal)\n",
    "\n",
    "# Generate confusion matrix\n",
    "cm = confusion_matrix(all_y_true_social_signal, all_y_pred_social_signal)\n",
    "ConfusionMatrixDisplay(cm, display_labels=['Normal', 'Coughing', 'Hypervent', 'Other']).plot()"
   ]
  },
  {
   "cell_type": "code",
   "execution_count": 20,
   "metadata": {
    "colab": {
     "base_uri": "https://localhost:8080/"
    },
    "id": "b4zICRasKPsT",
    "outputId": "c2c4bde2-1417-4c96-e25b-8e4f3d039bf9"
   },
   "outputs": [
    {
     "name": "stdout",
     "output_type": "stream",
     "text": [
      "Training activity model for fold 1\n"
     ]
    },
    {
     "name": "stderr",
     "output_type": "stream",
     "text": [
      "c:\\Users\\seanc\\miniconda3\\envs\\pdiot\\Lib\\site-packages\\keras\\src\\layers\\convolutional\\base_conv.py:107: UserWarning: Do not pass an `input_shape`/`input_dim` argument to a layer. When using Sequential models, prefer using an `Input(shape)` object as the first layer in the model instead.\n",
      "  super().__init__(activity_regularizer=activity_regularizer, **kwargs)\n"
     ]
    },
    {
     "data": {
      "text/html": [
       "<pre style=\"white-space:pre;overflow-x:auto;line-height:normal;font-family:Menlo,'DejaVu Sans Mono',consolas,'Courier New',monospace\"><span style=\"font-weight: bold\">Model: \"sequential_5\"</span>\n",
       "</pre>\n"
      ],
      "text/plain": [
       "\u001b[1mModel: \"sequential_5\"\u001b[0m\n"
      ]
     },
     "metadata": {},
     "output_type": "display_data"
    },
    {
     "data": {
      "text/html": [
       "<pre style=\"white-space:pre;overflow-x:auto;line-height:normal;font-family:Menlo,'DejaVu Sans Mono',consolas,'Courier New',monospace\">┏━━━━━━━━━━━━━━━━━━━━━━━━━━━━━━━━━┳━━━━━━━━━━━━━━━━━━━━━━━━┳━━━━━━━━━━━━━━━┓\n",
       "┃<span style=\"font-weight: bold\"> Layer (type)                    </span>┃<span style=\"font-weight: bold\"> Output Shape           </span>┃<span style=\"font-weight: bold\">       Param # </span>┃\n",
       "┡━━━━━━━━━━━━━━━━━━━━━━━━━━━━━━━━━╇━━━━━━━━━━━━━━━━━━━━━━━━╇━━━━━━━━━━━━━━━┩\n",
       "│ conv1d_15 (<span style=\"color: #0087ff; text-decoration-color: #0087ff\">Conv1D</span>)              │ (<span style=\"color: #00d7ff; text-decoration-color: #00d7ff\">None</span>, <span style=\"color: #00af00; text-decoration-color: #00af00\">248</span>, <span style=\"color: #00af00; text-decoration-color: #00af00\">64</span>)        │           <span style=\"color: #00af00; text-decoration-color: #00af00\">640</span> │\n",
       "├─────────────────────────────────┼────────────────────────┼───────────────┤\n",
       "│ max_pooling1d_15 (<span style=\"color: #0087ff; text-decoration-color: #0087ff\">MaxPooling1D</span>) │ (<span style=\"color: #00d7ff; text-decoration-color: #00d7ff\">None</span>, <span style=\"color: #00af00; text-decoration-color: #00af00\">124</span>, <span style=\"color: #00af00; text-decoration-color: #00af00\">64</span>)        │             <span style=\"color: #00af00; text-decoration-color: #00af00\">0</span> │\n",
       "├─────────────────────────────────┼────────────────────────┼───────────────┤\n",
       "│ conv1d_16 (<span style=\"color: #0087ff; text-decoration-color: #0087ff\">Conv1D</span>)              │ (<span style=\"color: #00d7ff; text-decoration-color: #00d7ff\">None</span>, <span style=\"color: #00af00; text-decoration-color: #00af00\">122</span>, <span style=\"color: #00af00; text-decoration-color: #00af00\">128</span>)       │        <span style=\"color: #00af00; text-decoration-color: #00af00\">24,704</span> │\n",
       "├─────────────────────────────────┼────────────────────────┼───────────────┤\n",
       "│ max_pooling1d_16 (<span style=\"color: #0087ff; text-decoration-color: #0087ff\">MaxPooling1D</span>) │ (<span style=\"color: #00d7ff; text-decoration-color: #00d7ff\">None</span>, <span style=\"color: #00af00; text-decoration-color: #00af00\">61</span>, <span style=\"color: #00af00; text-decoration-color: #00af00\">128</span>)        │             <span style=\"color: #00af00; text-decoration-color: #00af00\">0</span> │\n",
       "├─────────────────────────────────┼────────────────────────┼───────────────┤\n",
       "│ conv1d_17 (<span style=\"color: #0087ff; text-decoration-color: #0087ff\">Conv1D</span>)              │ (<span style=\"color: #00d7ff; text-decoration-color: #00d7ff\">None</span>, <span style=\"color: #00af00; text-decoration-color: #00af00\">59</span>, <span style=\"color: #00af00; text-decoration-color: #00af00\">256</span>)        │        <span style=\"color: #00af00; text-decoration-color: #00af00\">98,560</span> │\n",
       "├─────────────────────────────────┼────────────────────────┼───────────────┤\n",
       "│ max_pooling1d_17 (<span style=\"color: #0087ff; text-decoration-color: #0087ff\">MaxPooling1D</span>) │ (<span style=\"color: #00d7ff; text-decoration-color: #00d7ff\">None</span>, <span style=\"color: #00af00; text-decoration-color: #00af00\">29</span>, <span style=\"color: #00af00; text-decoration-color: #00af00\">256</span>)        │             <span style=\"color: #00af00; text-decoration-color: #00af00\">0</span> │\n",
       "├─────────────────────────────────┼────────────────────────┼───────────────┤\n",
       "│ flatten_5 (<span style=\"color: #0087ff; text-decoration-color: #0087ff\">Flatten</span>)             │ (<span style=\"color: #00d7ff; text-decoration-color: #00d7ff\">None</span>, <span style=\"color: #00af00; text-decoration-color: #00af00\">7424</span>)           │             <span style=\"color: #00af00; text-decoration-color: #00af00\">0</span> │\n",
       "├─────────────────────────────────┼────────────────────────┼───────────────┤\n",
       "│ dense_10 (<span style=\"color: #0087ff; text-decoration-color: #0087ff\">Dense</span>)                │ (<span style=\"color: #00d7ff; text-decoration-color: #00d7ff\">None</span>, <span style=\"color: #00af00; text-decoration-color: #00af00\">128</span>)            │       <span style=\"color: #00af00; text-decoration-color: #00af00\">950,400</span> │\n",
       "├─────────────────────────────────┼────────────────────────┼───────────────┤\n",
       "│ dropout_5 (<span style=\"color: #0087ff; text-decoration-color: #0087ff\">Dropout</span>)             │ (<span style=\"color: #00d7ff; text-decoration-color: #00d7ff\">None</span>, <span style=\"color: #00af00; text-decoration-color: #00af00\">128</span>)            │             <span style=\"color: #00af00; text-decoration-color: #00af00\">0</span> │\n",
       "├─────────────────────────────────┼────────────────────────┼───────────────┤\n",
       "│ dense_11 (<span style=\"color: #0087ff; text-decoration-color: #0087ff\">Dense</span>)                │ (<span style=\"color: #00d7ff; text-decoration-color: #00d7ff\">None</span>, <span style=\"color: #00af00; text-decoration-color: #00af00\">11</span>)             │         <span style=\"color: #00af00; text-decoration-color: #00af00\">1,419</span> │\n",
       "└─────────────────────────────────┴────────────────────────┴───────────────┘\n",
       "</pre>\n"
      ],
      "text/plain": [
       "┏━━━━━━━━━━━━━━━━━━━━━━━━━━━━━━━━━┳━━━━━━━━━━━━━━━━━━━━━━━━┳━━━━━━━━━━━━━━━┓\n",
       "┃\u001b[1m \u001b[0m\u001b[1mLayer (type)                   \u001b[0m\u001b[1m \u001b[0m┃\u001b[1m \u001b[0m\u001b[1mOutput Shape          \u001b[0m\u001b[1m \u001b[0m┃\u001b[1m \u001b[0m\u001b[1m      Param #\u001b[0m\u001b[1m \u001b[0m┃\n",
       "┡━━━━━━━━━━━━━━━━━━━━━━━━━━━━━━━━━╇━━━━━━━━━━━━━━━━━━━━━━━━╇━━━━━━━━━━━━━━━┩\n",
       "│ conv1d_15 (\u001b[38;5;33mConv1D\u001b[0m)              │ (\u001b[38;5;45mNone\u001b[0m, \u001b[38;5;34m248\u001b[0m, \u001b[38;5;34m64\u001b[0m)        │           \u001b[38;5;34m640\u001b[0m │\n",
       "├─────────────────────────────────┼────────────────────────┼───────────────┤\n",
       "│ max_pooling1d_15 (\u001b[38;5;33mMaxPooling1D\u001b[0m) │ (\u001b[38;5;45mNone\u001b[0m, \u001b[38;5;34m124\u001b[0m, \u001b[38;5;34m64\u001b[0m)        │             \u001b[38;5;34m0\u001b[0m │\n",
       "├─────────────────────────────────┼────────────────────────┼───────────────┤\n",
       "│ conv1d_16 (\u001b[38;5;33mConv1D\u001b[0m)              │ (\u001b[38;5;45mNone\u001b[0m, \u001b[38;5;34m122\u001b[0m, \u001b[38;5;34m128\u001b[0m)       │        \u001b[38;5;34m24,704\u001b[0m │\n",
       "├─────────────────────────────────┼────────────────────────┼───────────────┤\n",
       "│ max_pooling1d_16 (\u001b[38;5;33mMaxPooling1D\u001b[0m) │ (\u001b[38;5;45mNone\u001b[0m, \u001b[38;5;34m61\u001b[0m, \u001b[38;5;34m128\u001b[0m)        │             \u001b[38;5;34m0\u001b[0m │\n",
       "├─────────────────────────────────┼────────────────────────┼───────────────┤\n",
       "│ conv1d_17 (\u001b[38;5;33mConv1D\u001b[0m)              │ (\u001b[38;5;45mNone\u001b[0m, \u001b[38;5;34m59\u001b[0m, \u001b[38;5;34m256\u001b[0m)        │        \u001b[38;5;34m98,560\u001b[0m │\n",
       "├─────────────────────────────────┼────────────────────────┼───────────────┤\n",
       "│ max_pooling1d_17 (\u001b[38;5;33mMaxPooling1D\u001b[0m) │ (\u001b[38;5;45mNone\u001b[0m, \u001b[38;5;34m29\u001b[0m, \u001b[38;5;34m256\u001b[0m)        │             \u001b[38;5;34m0\u001b[0m │\n",
       "├─────────────────────────────────┼────────────────────────┼───────────────┤\n",
       "│ flatten_5 (\u001b[38;5;33mFlatten\u001b[0m)             │ (\u001b[38;5;45mNone\u001b[0m, \u001b[38;5;34m7424\u001b[0m)           │             \u001b[38;5;34m0\u001b[0m │\n",
       "├─────────────────────────────────┼────────────────────────┼───────────────┤\n",
       "│ dense_10 (\u001b[38;5;33mDense\u001b[0m)                │ (\u001b[38;5;45mNone\u001b[0m, \u001b[38;5;34m128\u001b[0m)            │       \u001b[38;5;34m950,400\u001b[0m │\n",
       "├─────────────────────────────────┼────────────────────────┼───────────────┤\n",
       "│ dropout_5 (\u001b[38;5;33mDropout\u001b[0m)             │ (\u001b[38;5;45mNone\u001b[0m, \u001b[38;5;34m128\u001b[0m)            │             \u001b[38;5;34m0\u001b[0m │\n",
       "├─────────────────────────────────┼────────────────────────┼───────────────┤\n",
       "│ dense_11 (\u001b[38;5;33mDense\u001b[0m)                │ (\u001b[38;5;45mNone\u001b[0m, \u001b[38;5;34m11\u001b[0m)             │         \u001b[38;5;34m1,419\u001b[0m │\n",
       "└─────────────────────────────────┴────────────────────────┴───────────────┘\n"
      ]
     },
     "metadata": {},
     "output_type": "display_data"
    },
    {
     "data": {
      "text/html": [
       "<pre style=\"white-space:pre;overflow-x:auto;line-height:normal;font-family:Menlo,'DejaVu Sans Mono',consolas,'Courier New',monospace\"><span style=\"font-weight: bold\"> Total params: </span><span style=\"color: #00af00; text-decoration-color: #00af00\">1,075,723</span> (4.10 MB)\n",
       "</pre>\n"
      ],
      "text/plain": [
       "\u001b[1m Total params: \u001b[0m\u001b[38;5;34m1,075,723\u001b[0m (4.10 MB)\n"
      ]
     },
     "metadata": {},
     "output_type": "display_data"
    },
    {
     "data": {
      "text/html": [
       "<pre style=\"white-space:pre;overflow-x:auto;line-height:normal;font-family:Menlo,'DejaVu Sans Mono',consolas,'Courier New',monospace\"><span style=\"font-weight: bold\"> Trainable params: </span><span style=\"color: #00af00; text-decoration-color: #00af00\">1,075,723</span> (4.10 MB)\n",
       "</pre>\n"
      ],
      "text/plain": [
       "\u001b[1m Trainable params: \u001b[0m\u001b[38;5;34m1,075,723\u001b[0m (4.10 MB)\n"
      ]
     },
     "metadata": {},
     "output_type": "display_data"
    },
    {
     "data": {
      "text/html": [
       "<pre style=\"white-space:pre;overflow-x:auto;line-height:normal;font-family:Menlo,'DejaVu Sans Mono',consolas,'Courier New',monospace\"><span style=\"font-weight: bold\"> Non-trainable params: </span><span style=\"color: #00af00; text-decoration-color: #00af00\">0</span> (0.00 B)\n",
       "</pre>\n"
      ],
      "text/plain": [
       "\u001b[1m Non-trainable params: \u001b[0m\u001b[38;5;34m0\u001b[0m (0.00 B)\n"
      ]
     },
     "metadata": {},
     "output_type": "display_data"
    },
    {
     "name": "stdout",
     "output_type": "stream",
     "text": [
      "Epoch 1/10\n",
      "\u001b[1m1400/1400\u001b[0m \u001b[32m━━━━━━━━━━━━━━━━━━━━\u001b[0m\u001b[37m\u001b[0m \u001b[1m28s\u001b[0m 19ms/step - accuracy: 0.8840 - loss: 0.4357 - val_accuracy: 0.9433 - val_loss: 0.2023\n",
      "Epoch 2/10\n",
      "\u001b[1m1400/1400\u001b[0m \u001b[32m━━━━━━━━━━━━━━━━━━━━\u001b[0m\u001b[37m\u001b[0m \u001b[1m26s\u001b[0m 18ms/step - accuracy: 0.9461 - loss: 0.1977 - val_accuracy: 0.9573 - val_loss: 0.1472\n",
      "Epoch 3/10\n",
      "\u001b[1m1400/1400\u001b[0m \u001b[32m━━━━━━━━━━━━━━━━━━━━\u001b[0m\u001b[37m\u001b[0m \u001b[1m26s\u001b[0m 18ms/step - accuracy: 0.9586 - loss: 0.1583 - val_accuracy: 0.9621 - val_loss: 0.1428\n",
      "Epoch 4/10\n",
      "\u001b[1m1400/1400\u001b[0m \u001b[32m━━━━━━━━━━━━━━━━━━━━\u001b[0m\u001b[37m\u001b[0m \u001b[1m26s\u001b[0m 18ms/step - accuracy: 0.9645 - loss: 0.1325 - val_accuracy: 0.9695 - val_loss: 0.1141\n",
      "Epoch 5/10\n",
      "\u001b[1m1400/1400\u001b[0m \u001b[32m━━━━━━━━━━━━━━━━━━━━\u001b[0m\u001b[37m\u001b[0m \u001b[1m26s\u001b[0m 18ms/step - accuracy: 0.9688 - loss: 0.1187 - val_accuracy: 0.9725 - val_loss: 0.1080\n",
      "Epoch 6/10\n",
      "\u001b[1m1400/1400\u001b[0m \u001b[32m━━━━━━━━━━━━━━━━━━━━\u001b[0m\u001b[37m\u001b[0m \u001b[1m26s\u001b[0m 18ms/step - accuracy: 0.9699 - loss: 0.1078 - val_accuracy: 0.9704 - val_loss: 0.1042\n",
      "Epoch 7/10\n",
      "\u001b[1m1400/1400\u001b[0m \u001b[32m━━━━━━━━━━━━━━━━━━━━\u001b[0m\u001b[37m\u001b[0m \u001b[1m26s\u001b[0m 18ms/step - accuracy: 0.9741 - loss: 0.0967 - val_accuracy: 0.9753 - val_loss: 0.0960\n",
      "Epoch 8/10\n",
      "\u001b[1m1400/1400\u001b[0m \u001b[32m━━━━━━━━━━━━━━━━━━━━\u001b[0m\u001b[37m\u001b[0m \u001b[1m26s\u001b[0m 18ms/step - accuracy: 0.9753 - loss: 0.0922 - val_accuracy: 0.9728 - val_loss: 0.1022\n",
      "Epoch 9/10\n",
      "\u001b[1m1400/1400\u001b[0m \u001b[32m━━━━━━━━━━━━━━━━━━━━\u001b[0m\u001b[37m\u001b[0m \u001b[1m26s\u001b[0m 18ms/step - accuracy: 0.9766 - loss: 0.0880 - val_accuracy: 0.9737 - val_loss: 0.0964\n",
      "Epoch 10/10\n",
      "\u001b[1m1400/1400\u001b[0m \u001b[32m━━━━━━━━━━━━━━━━━━━━\u001b[0m\u001b[37m\u001b[0m \u001b[1m26s\u001b[0m 19ms/step - accuracy: 0.9768 - loss: 0.0834 - val_accuracy: 0.9752 - val_loss: 0.0954\n",
      "\u001b[1m700/700\u001b[0m \u001b[32m━━━━━━━━━━━━━━━━━━━━\u001b[0m\u001b[37m\u001b[0m \u001b[1m6s\u001b[0m 8ms/step\n",
      "Completed training and evaluation for fold 1\n",
      "Recall for class 0 after fold 1: 0.9664\n",
      "Recall for class 1 after fold 1: 0.9756\n",
      "Recall for class 2 after fold 1: 0.9912\n",
      "Recall for class 3 after fold 1: 0.9536\n",
      "Recall for class 4 after fold 1: 0.9415\n",
      "Recall for class 5 after fold 1: 0.9801\n",
      "Recall for class 6 after fold 1: 0.9569\n",
      "Recall for class 7 after fold 1: 0.9447\n",
      "Recall for class 8 after fold 1: 0.9844\n",
      "Recall for class 9 after fold 1: 0.9927\n",
      "Recall for class 10 after fold 1: 1.0000\n",
      "Training activity model for fold 2\n"
     ]
    },
    {
     "name": "stderr",
     "output_type": "stream",
     "text": [
      "c:\\Users\\seanc\\miniconda3\\envs\\pdiot\\Lib\\site-packages\\keras\\src\\layers\\convolutional\\base_conv.py:107: UserWarning: Do not pass an `input_shape`/`input_dim` argument to a layer. When using Sequential models, prefer using an `Input(shape)` object as the first layer in the model instead.\n",
      "  super().__init__(activity_regularizer=activity_regularizer, **kwargs)\n"
     ]
    },
    {
     "data": {
      "text/html": [
       "<pre style=\"white-space:pre;overflow-x:auto;line-height:normal;font-family:Menlo,'DejaVu Sans Mono',consolas,'Courier New',monospace\"><span style=\"font-weight: bold\">Model: \"sequential_6\"</span>\n",
       "</pre>\n"
      ],
      "text/plain": [
       "\u001b[1mModel: \"sequential_6\"\u001b[0m\n"
      ]
     },
     "metadata": {},
     "output_type": "display_data"
    },
    {
     "data": {
      "text/html": [
       "<pre style=\"white-space:pre;overflow-x:auto;line-height:normal;font-family:Menlo,'DejaVu Sans Mono',consolas,'Courier New',monospace\">┏━━━━━━━━━━━━━━━━━━━━━━━━━━━━━━━━━┳━━━━━━━━━━━━━━━━━━━━━━━━┳━━━━━━━━━━━━━━━┓\n",
       "┃<span style=\"font-weight: bold\"> Layer (type)                    </span>┃<span style=\"font-weight: bold\"> Output Shape           </span>┃<span style=\"font-weight: bold\">       Param # </span>┃\n",
       "┡━━━━━━━━━━━━━━━━━━━━━━━━━━━━━━━━━╇━━━━━━━━━━━━━━━━━━━━━━━━╇━━━━━━━━━━━━━━━┩\n",
       "│ conv1d_18 (<span style=\"color: #0087ff; text-decoration-color: #0087ff\">Conv1D</span>)              │ (<span style=\"color: #00d7ff; text-decoration-color: #00d7ff\">None</span>, <span style=\"color: #00af00; text-decoration-color: #00af00\">248</span>, <span style=\"color: #00af00; text-decoration-color: #00af00\">64</span>)        │           <span style=\"color: #00af00; text-decoration-color: #00af00\">640</span> │\n",
       "├─────────────────────────────────┼────────────────────────┼───────────────┤\n",
       "│ max_pooling1d_18 (<span style=\"color: #0087ff; text-decoration-color: #0087ff\">MaxPooling1D</span>) │ (<span style=\"color: #00d7ff; text-decoration-color: #00d7ff\">None</span>, <span style=\"color: #00af00; text-decoration-color: #00af00\">124</span>, <span style=\"color: #00af00; text-decoration-color: #00af00\">64</span>)        │             <span style=\"color: #00af00; text-decoration-color: #00af00\">0</span> │\n",
       "├─────────────────────────────────┼────────────────────────┼───────────────┤\n",
       "│ conv1d_19 (<span style=\"color: #0087ff; text-decoration-color: #0087ff\">Conv1D</span>)              │ (<span style=\"color: #00d7ff; text-decoration-color: #00d7ff\">None</span>, <span style=\"color: #00af00; text-decoration-color: #00af00\">122</span>, <span style=\"color: #00af00; text-decoration-color: #00af00\">128</span>)       │        <span style=\"color: #00af00; text-decoration-color: #00af00\">24,704</span> │\n",
       "├─────────────────────────────────┼────────────────────────┼───────────────┤\n",
       "│ max_pooling1d_19 (<span style=\"color: #0087ff; text-decoration-color: #0087ff\">MaxPooling1D</span>) │ (<span style=\"color: #00d7ff; text-decoration-color: #00d7ff\">None</span>, <span style=\"color: #00af00; text-decoration-color: #00af00\">61</span>, <span style=\"color: #00af00; text-decoration-color: #00af00\">128</span>)        │             <span style=\"color: #00af00; text-decoration-color: #00af00\">0</span> │\n",
       "├─────────────────────────────────┼────────────────────────┼───────────────┤\n",
       "│ conv1d_20 (<span style=\"color: #0087ff; text-decoration-color: #0087ff\">Conv1D</span>)              │ (<span style=\"color: #00d7ff; text-decoration-color: #00d7ff\">None</span>, <span style=\"color: #00af00; text-decoration-color: #00af00\">59</span>, <span style=\"color: #00af00; text-decoration-color: #00af00\">256</span>)        │        <span style=\"color: #00af00; text-decoration-color: #00af00\">98,560</span> │\n",
       "├─────────────────────────────────┼────────────────────────┼───────────────┤\n",
       "│ max_pooling1d_20 (<span style=\"color: #0087ff; text-decoration-color: #0087ff\">MaxPooling1D</span>) │ (<span style=\"color: #00d7ff; text-decoration-color: #00d7ff\">None</span>, <span style=\"color: #00af00; text-decoration-color: #00af00\">29</span>, <span style=\"color: #00af00; text-decoration-color: #00af00\">256</span>)        │             <span style=\"color: #00af00; text-decoration-color: #00af00\">0</span> │\n",
       "├─────────────────────────────────┼────────────────────────┼───────────────┤\n",
       "│ flatten_6 (<span style=\"color: #0087ff; text-decoration-color: #0087ff\">Flatten</span>)             │ (<span style=\"color: #00d7ff; text-decoration-color: #00d7ff\">None</span>, <span style=\"color: #00af00; text-decoration-color: #00af00\">7424</span>)           │             <span style=\"color: #00af00; text-decoration-color: #00af00\">0</span> │\n",
       "├─────────────────────────────────┼────────────────────────┼───────────────┤\n",
       "│ dense_12 (<span style=\"color: #0087ff; text-decoration-color: #0087ff\">Dense</span>)                │ (<span style=\"color: #00d7ff; text-decoration-color: #00d7ff\">None</span>, <span style=\"color: #00af00; text-decoration-color: #00af00\">128</span>)            │       <span style=\"color: #00af00; text-decoration-color: #00af00\">950,400</span> │\n",
       "├─────────────────────────────────┼────────────────────────┼───────────────┤\n",
       "│ dropout_6 (<span style=\"color: #0087ff; text-decoration-color: #0087ff\">Dropout</span>)             │ (<span style=\"color: #00d7ff; text-decoration-color: #00d7ff\">None</span>, <span style=\"color: #00af00; text-decoration-color: #00af00\">128</span>)            │             <span style=\"color: #00af00; text-decoration-color: #00af00\">0</span> │\n",
       "├─────────────────────────────────┼────────────────────────┼───────────────┤\n",
       "│ dense_13 (<span style=\"color: #0087ff; text-decoration-color: #0087ff\">Dense</span>)                │ (<span style=\"color: #00d7ff; text-decoration-color: #00d7ff\">None</span>, <span style=\"color: #00af00; text-decoration-color: #00af00\">11</span>)             │         <span style=\"color: #00af00; text-decoration-color: #00af00\">1,419</span> │\n",
       "└─────────────────────────────────┴────────────────────────┴───────────────┘\n",
       "</pre>\n"
      ],
      "text/plain": [
       "┏━━━━━━━━━━━━━━━━━━━━━━━━━━━━━━━━━┳━━━━━━━━━━━━━━━━━━━━━━━━┳━━━━━━━━━━━━━━━┓\n",
       "┃\u001b[1m \u001b[0m\u001b[1mLayer (type)                   \u001b[0m\u001b[1m \u001b[0m┃\u001b[1m \u001b[0m\u001b[1mOutput Shape          \u001b[0m\u001b[1m \u001b[0m┃\u001b[1m \u001b[0m\u001b[1m      Param #\u001b[0m\u001b[1m \u001b[0m┃\n",
       "┡━━━━━━━━━━━━━━━━━━━━━━━━━━━━━━━━━╇━━━━━━━━━━━━━━━━━━━━━━━━╇━━━━━━━━━━━━━━━┩\n",
       "│ conv1d_18 (\u001b[38;5;33mConv1D\u001b[0m)              │ (\u001b[38;5;45mNone\u001b[0m, \u001b[38;5;34m248\u001b[0m, \u001b[38;5;34m64\u001b[0m)        │           \u001b[38;5;34m640\u001b[0m │\n",
       "├─────────────────────────────────┼────────────────────────┼───────────────┤\n",
       "│ max_pooling1d_18 (\u001b[38;5;33mMaxPooling1D\u001b[0m) │ (\u001b[38;5;45mNone\u001b[0m, \u001b[38;5;34m124\u001b[0m, \u001b[38;5;34m64\u001b[0m)        │             \u001b[38;5;34m0\u001b[0m │\n",
       "├─────────────────────────────────┼────────────────────────┼───────────────┤\n",
       "│ conv1d_19 (\u001b[38;5;33mConv1D\u001b[0m)              │ (\u001b[38;5;45mNone\u001b[0m, \u001b[38;5;34m122\u001b[0m, \u001b[38;5;34m128\u001b[0m)       │        \u001b[38;5;34m24,704\u001b[0m │\n",
       "├─────────────────────────────────┼────────────────────────┼───────────────┤\n",
       "│ max_pooling1d_19 (\u001b[38;5;33mMaxPooling1D\u001b[0m) │ (\u001b[38;5;45mNone\u001b[0m, \u001b[38;5;34m61\u001b[0m, \u001b[38;5;34m128\u001b[0m)        │             \u001b[38;5;34m0\u001b[0m │\n",
       "├─────────────────────────────────┼────────────────────────┼───────────────┤\n",
       "│ conv1d_20 (\u001b[38;5;33mConv1D\u001b[0m)              │ (\u001b[38;5;45mNone\u001b[0m, \u001b[38;5;34m59\u001b[0m, \u001b[38;5;34m256\u001b[0m)        │        \u001b[38;5;34m98,560\u001b[0m │\n",
       "├─────────────────────────────────┼────────────────────────┼───────────────┤\n",
       "│ max_pooling1d_20 (\u001b[38;5;33mMaxPooling1D\u001b[0m) │ (\u001b[38;5;45mNone\u001b[0m, \u001b[38;5;34m29\u001b[0m, \u001b[38;5;34m256\u001b[0m)        │             \u001b[38;5;34m0\u001b[0m │\n",
       "├─────────────────────────────────┼────────────────────────┼───────────────┤\n",
       "│ flatten_6 (\u001b[38;5;33mFlatten\u001b[0m)             │ (\u001b[38;5;45mNone\u001b[0m, \u001b[38;5;34m7424\u001b[0m)           │             \u001b[38;5;34m0\u001b[0m │\n",
       "├─────────────────────────────────┼────────────────────────┼───────────────┤\n",
       "│ dense_12 (\u001b[38;5;33mDense\u001b[0m)                │ (\u001b[38;5;45mNone\u001b[0m, \u001b[38;5;34m128\u001b[0m)            │       \u001b[38;5;34m950,400\u001b[0m │\n",
       "├─────────────────────────────────┼────────────────────────┼───────────────┤\n",
       "│ dropout_6 (\u001b[38;5;33mDropout\u001b[0m)             │ (\u001b[38;5;45mNone\u001b[0m, \u001b[38;5;34m128\u001b[0m)            │             \u001b[38;5;34m0\u001b[0m │\n",
       "├─────────────────────────────────┼────────────────────────┼───────────────┤\n",
       "│ dense_13 (\u001b[38;5;33mDense\u001b[0m)                │ (\u001b[38;5;45mNone\u001b[0m, \u001b[38;5;34m11\u001b[0m)             │         \u001b[38;5;34m1,419\u001b[0m │\n",
       "└─────────────────────────────────┴────────────────────────┴───────────────┘\n"
      ]
     },
     "metadata": {},
     "output_type": "display_data"
    },
    {
     "data": {
      "text/html": [
       "<pre style=\"white-space:pre;overflow-x:auto;line-height:normal;font-family:Menlo,'DejaVu Sans Mono',consolas,'Courier New',monospace\"><span style=\"font-weight: bold\"> Total params: </span><span style=\"color: #00af00; text-decoration-color: #00af00\">1,075,723</span> (4.10 MB)\n",
       "</pre>\n"
      ],
      "text/plain": [
       "\u001b[1m Total params: \u001b[0m\u001b[38;5;34m1,075,723\u001b[0m (4.10 MB)\n"
      ]
     },
     "metadata": {},
     "output_type": "display_data"
    },
    {
     "data": {
      "text/html": [
       "<pre style=\"white-space:pre;overflow-x:auto;line-height:normal;font-family:Menlo,'DejaVu Sans Mono',consolas,'Courier New',monospace\"><span style=\"font-weight: bold\"> Trainable params: </span><span style=\"color: #00af00; text-decoration-color: #00af00\">1,075,723</span> (4.10 MB)\n",
       "</pre>\n"
      ],
      "text/plain": [
       "\u001b[1m Trainable params: \u001b[0m\u001b[38;5;34m1,075,723\u001b[0m (4.10 MB)\n"
      ]
     },
     "metadata": {},
     "output_type": "display_data"
    },
    {
     "data": {
      "text/html": [
       "<pre style=\"white-space:pre;overflow-x:auto;line-height:normal;font-family:Menlo,'DejaVu Sans Mono',consolas,'Courier New',monospace\"><span style=\"font-weight: bold\"> Non-trainable params: </span><span style=\"color: #00af00; text-decoration-color: #00af00\">0</span> (0.00 B)\n",
       "</pre>\n"
      ],
      "text/plain": [
       "\u001b[1m Non-trainable params: \u001b[0m\u001b[38;5;34m0\u001b[0m (0.00 B)\n"
      ]
     },
     "metadata": {},
     "output_type": "display_data"
    },
    {
     "name": "stdout",
     "output_type": "stream",
     "text": [
      "Epoch 1/10\n",
      "\u001b[1m1400/1400\u001b[0m \u001b[32m━━━━━━━━━━━━━━━━━━━━\u001b[0m\u001b[37m\u001b[0m \u001b[1m27s\u001b[0m 19ms/step - accuracy: 0.8800 - loss: 0.4368 - val_accuracy: 0.9364 - val_loss: 0.2199\n",
      "Epoch 2/10\n",
      "\u001b[1m1400/1400\u001b[0m \u001b[32m━━━━━━━━━━━━━━━━━━━━\u001b[0m\u001b[37m\u001b[0m \u001b[1m26s\u001b[0m 18ms/step - accuracy: 0.9431 - loss: 0.2082 - val_accuracy: 0.9567 - val_loss: 0.1647\n",
      "Epoch 3/10\n",
      "\u001b[1m1400/1400\u001b[0m \u001b[32m━━━━━━━━━━━━━━━━━━━━\u001b[0m\u001b[37m\u001b[0m \u001b[1m26s\u001b[0m 18ms/step - accuracy: 0.9575 - loss: 0.1597 - val_accuracy: 0.9623 - val_loss: 0.1394\n",
      "Epoch 4/10\n",
      "\u001b[1m1400/1400\u001b[0m \u001b[32m━━━━━━━━━━━━━━━━━━━━\u001b[0m\u001b[37m\u001b[0m \u001b[1m27s\u001b[0m 19ms/step - accuracy: 0.9614 - loss: 0.1433 - val_accuracy: 0.9659 - val_loss: 0.1214\n",
      "Epoch 5/10\n",
      "\u001b[1m1400/1400\u001b[0m \u001b[32m━━━━━━━━━━━━━━━━━━━━\u001b[0m\u001b[37m\u001b[0m \u001b[1m26s\u001b[0m 18ms/step - accuracy: 0.9676 - loss: 0.1209 - val_accuracy: 0.9665 - val_loss: 0.1314\n",
      "Epoch 6/10\n",
      "\u001b[1m1400/1400\u001b[0m \u001b[32m━━━━━━━━━━━━━━━━━━━━\u001b[0m\u001b[37m\u001b[0m \u001b[1m26s\u001b[0m 18ms/step - accuracy: 0.9686 - loss: 0.1176 - val_accuracy: 0.9705 - val_loss: 0.1098\n",
      "Epoch 7/10\n",
      "\u001b[1m1400/1400\u001b[0m \u001b[32m━━━━━━━━━━━━━━━━━━━━\u001b[0m\u001b[37m\u001b[0m \u001b[1m26s\u001b[0m 18ms/step - accuracy: 0.9726 - loss: 0.1023 - val_accuracy: 0.9705 - val_loss: 0.1075\n",
      "Epoch 8/10\n",
      "\u001b[1m1400/1400\u001b[0m \u001b[32m━━━━━━━━━━━━━━━━━━━━\u001b[0m\u001b[37m\u001b[0m \u001b[1m26s\u001b[0m 18ms/step - accuracy: 0.9739 - loss: 0.0961 - val_accuracy: 0.9738 - val_loss: 0.0948\n",
      "Epoch 9/10\n",
      "\u001b[1m1400/1400\u001b[0m \u001b[32m━━━━━━━━━━━━━━━━━━━━\u001b[0m\u001b[37m\u001b[0m \u001b[1m25s\u001b[0m 18ms/step - accuracy: 0.9751 - loss: 0.0924 - val_accuracy: 0.9724 - val_loss: 0.0948\n",
      "Epoch 10/10\n",
      "\u001b[1m1400/1400\u001b[0m \u001b[32m━━━━━━━━━━━━━━━━━━━━\u001b[0m\u001b[37m\u001b[0m \u001b[1m25s\u001b[0m 18ms/step - accuracy: 0.9773 - loss: 0.0823 - val_accuracy: 0.9744 - val_loss: 0.0949\n",
      "\u001b[1m700/700\u001b[0m \u001b[32m━━━━━━━━━━━━━━━━━━━━\u001b[0m\u001b[37m\u001b[0m \u001b[1m6s\u001b[0m 8ms/step\n",
      "Completed training and evaluation for fold 2\n",
      "Recall for class 0 after fold 2: 0.9736\n",
      "Recall for class 1 after fold 2: 0.8817\n",
      "Recall for class 2 after fold 2: 0.9896\n",
      "Recall for class 3 after fold 2: 0.9580\n",
      "Recall for class 4 after fold 2: 0.9595\n",
      "Recall for class 5 after fold 2: 0.9753\n",
      "Recall for class 6 after fold 2: 0.9576\n",
      "Recall for class 7 after fold 2: 0.9559\n",
      "Recall for class 8 after fold 2: 0.9883\n",
      "Recall for class 9 after fold 2: 0.9851\n",
      "Recall for class 10 after fold 2: 0.9958\n",
      "Training activity model for fold 3\n"
     ]
    },
    {
     "name": "stderr",
     "output_type": "stream",
     "text": [
      "c:\\Users\\seanc\\miniconda3\\envs\\pdiot\\Lib\\site-packages\\keras\\src\\layers\\convolutional\\base_conv.py:107: UserWarning: Do not pass an `input_shape`/`input_dim` argument to a layer. When using Sequential models, prefer using an `Input(shape)` object as the first layer in the model instead.\n",
      "  super().__init__(activity_regularizer=activity_regularizer, **kwargs)\n"
     ]
    },
    {
     "data": {
      "text/html": [
       "<pre style=\"white-space:pre;overflow-x:auto;line-height:normal;font-family:Menlo,'DejaVu Sans Mono',consolas,'Courier New',monospace\"><span style=\"font-weight: bold\">Model: \"sequential_7\"</span>\n",
       "</pre>\n"
      ],
      "text/plain": [
       "\u001b[1mModel: \"sequential_7\"\u001b[0m\n"
      ]
     },
     "metadata": {},
     "output_type": "display_data"
    },
    {
     "data": {
      "text/html": [
       "<pre style=\"white-space:pre;overflow-x:auto;line-height:normal;font-family:Menlo,'DejaVu Sans Mono',consolas,'Courier New',monospace\">┏━━━━━━━━━━━━━━━━━━━━━━━━━━━━━━━━━┳━━━━━━━━━━━━━━━━━━━━━━━━┳━━━━━━━━━━━━━━━┓\n",
       "┃<span style=\"font-weight: bold\"> Layer (type)                    </span>┃<span style=\"font-weight: bold\"> Output Shape           </span>┃<span style=\"font-weight: bold\">       Param # </span>┃\n",
       "┡━━━━━━━━━━━━━━━━━━━━━━━━━━━━━━━━━╇━━━━━━━━━━━━━━━━━━━━━━━━╇━━━━━━━━━━━━━━━┩\n",
       "│ conv1d_21 (<span style=\"color: #0087ff; text-decoration-color: #0087ff\">Conv1D</span>)              │ (<span style=\"color: #00d7ff; text-decoration-color: #00d7ff\">None</span>, <span style=\"color: #00af00; text-decoration-color: #00af00\">248</span>, <span style=\"color: #00af00; text-decoration-color: #00af00\">64</span>)        │           <span style=\"color: #00af00; text-decoration-color: #00af00\">640</span> │\n",
       "├─────────────────────────────────┼────────────────────────┼───────────────┤\n",
       "│ max_pooling1d_21 (<span style=\"color: #0087ff; text-decoration-color: #0087ff\">MaxPooling1D</span>) │ (<span style=\"color: #00d7ff; text-decoration-color: #00d7ff\">None</span>, <span style=\"color: #00af00; text-decoration-color: #00af00\">124</span>, <span style=\"color: #00af00; text-decoration-color: #00af00\">64</span>)        │             <span style=\"color: #00af00; text-decoration-color: #00af00\">0</span> │\n",
       "├─────────────────────────────────┼────────────────────────┼───────────────┤\n",
       "│ conv1d_22 (<span style=\"color: #0087ff; text-decoration-color: #0087ff\">Conv1D</span>)              │ (<span style=\"color: #00d7ff; text-decoration-color: #00d7ff\">None</span>, <span style=\"color: #00af00; text-decoration-color: #00af00\">122</span>, <span style=\"color: #00af00; text-decoration-color: #00af00\">128</span>)       │        <span style=\"color: #00af00; text-decoration-color: #00af00\">24,704</span> │\n",
       "├─────────────────────────────────┼────────────────────────┼───────────────┤\n",
       "│ max_pooling1d_22 (<span style=\"color: #0087ff; text-decoration-color: #0087ff\">MaxPooling1D</span>) │ (<span style=\"color: #00d7ff; text-decoration-color: #00d7ff\">None</span>, <span style=\"color: #00af00; text-decoration-color: #00af00\">61</span>, <span style=\"color: #00af00; text-decoration-color: #00af00\">128</span>)        │             <span style=\"color: #00af00; text-decoration-color: #00af00\">0</span> │\n",
       "├─────────────────────────────────┼────────────────────────┼───────────────┤\n",
       "│ conv1d_23 (<span style=\"color: #0087ff; text-decoration-color: #0087ff\">Conv1D</span>)              │ (<span style=\"color: #00d7ff; text-decoration-color: #00d7ff\">None</span>, <span style=\"color: #00af00; text-decoration-color: #00af00\">59</span>, <span style=\"color: #00af00; text-decoration-color: #00af00\">256</span>)        │        <span style=\"color: #00af00; text-decoration-color: #00af00\">98,560</span> │\n",
       "├─────────────────────────────────┼────────────────────────┼───────────────┤\n",
       "│ max_pooling1d_23 (<span style=\"color: #0087ff; text-decoration-color: #0087ff\">MaxPooling1D</span>) │ (<span style=\"color: #00d7ff; text-decoration-color: #00d7ff\">None</span>, <span style=\"color: #00af00; text-decoration-color: #00af00\">29</span>, <span style=\"color: #00af00; text-decoration-color: #00af00\">256</span>)        │             <span style=\"color: #00af00; text-decoration-color: #00af00\">0</span> │\n",
       "├─────────────────────────────────┼────────────────────────┼───────────────┤\n",
       "│ flatten_7 (<span style=\"color: #0087ff; text-decoration-color: #0087ff\">Flatten</span>)             │ (<span style=\"color: #00d7ff; text-decoration-color: #00d7ff\">None</span>, <span style=\"color: #00af00; text-decoration-color: #00af00\">7424</span>)           │             <span style=\"color: #00af00; text-decoration-color: #00af00\">0</span> │\n",
       "├─────────────────────────────────┼────────────────────────┼───────────────┤\n",
       "│ dense_14 (<span style=\"color: #0087ff; text-decoration-color: #0087ff\">Dense</span>)                │ (<span style=\"color: #00d7ff; text-decoration-color: #00d7ff\">None</span>, <span style=\"color: #00af00; text-decoration-color: #00af00\">128</span>)            │       <span style=\"color: #00af00; text-decoration-color: #00af00\">950,400</span> │\n",
       "├─────────────────────────────────┼────────────────────────┼───────────────┤\n",
       "│ dropout_7 (<span style=\"color: #0087ff; text-decoration-color: #0087ff\">Dropout</span>)             │ (<span style=\"color: #00d7ff; text-decoration-color: #00d7ff\">None</span>, <span style=\"color: #00af00; text-decoration-color: #00af00\">128</span>)            │             <span style=\"color: #00af00; text-decoration-color: #00af00\">0</span> │\n",
       "├─────────────────────────────────┼────────────────────────┼───────────────┤\n",
       "│ dense_15 (<span style=\"color: #0087ff; text-decoration-color: #0087ff\">Dense</span>)                │ (<span style=\"color: #00d7ff; text-decoration-color: #00d7ff\">None</span>, <span style=\"color: #00af00; text-decoration-color: #00af00\">11</span>)             │         <span style=\"color: #00af00; text-decoration-color: #00af00\">1,419</span> │\n",
       "└─────────────────────────────────┴────────────────────────┴───────────────┘\n",
       "</pre>\n"
      ],
      "text/plain": [
       "┏━━━━━━━━━━━━━━━━━━━━━━━━━━━━━━━━━┳━━━━━━━━━━━━━━━━━━━━━━━━┳━━━━━━━━━━━━━━━┓\n",
       "┃\u001b[1m \u001b[0m\u001b[1mLayer (type)                   \u001b[0m\u001b[1m \u001b[0m┃\u001b[1m \u001b[0m\u001b[1mOutput Shape          \u001b[0m\u001b[1m \u001b[0m┃\u001b[1m \u001b[0m\u001b[1m      Param #\u001b[0m\u001b[1m \u001b[0m┃\n",
       "┡━━━━━━━━━━━━━━━━━━━━━━━━━━━━━━━━━╇━━━━━━━━━━━━━━━━━━━━━━━━╇━━━━━━━━━━━━━━━┩\n",
       "│ conv1d_21 (\u001b[38;5;33mConv1D\u001b[0m)              │ (\u001b[38;5;45mNone\u001b[0m, \u001b[38;5;34m248\u001b[0m, \u001b[38;5;34m64\u001b[0m)        │           \u001b[38;5;34m640\u001b[0m │\n",
       "├─────────────────────────────────┼────────────────────────┼───────────────┤\n",
       "│ max_pooling1d_21 (\u001b[38;5;33mMaxPooling1D\u001b[0m) │ (\u001b[38;5;45mNone\u001b[0m, \u001b[38;5;34m124\u001b[0m, \u001b[38;5;34m64\u001b[0m)        │             \u001b[38;5;34m0\u001b[0m │\n",
       "├─────────────────────────────────┼────────────────────────┼───────────────┤\n",
       "│ conv1d_22 (\u001b[38;5;33mConv1D\u001b[0m)              │ (\u001b[38;5;45mNone\u001b[0m, \u001b[38;5;34m122\u001b[0m, \u001b[38;5;34m128\u001b[0m)       │        \u001b[38;5;34m24,704\u001b[0m │\n",
       "├─────────────────────────────────┼────────────────────────┼───────────────┤\n",
       "│ max_pooling1d_22 (\u001b[38;5;33mMaxPooling1D\u001b[0m) │ (\u001b[38;5;45mNone\u001b[0m, \u001b[38;5;34m61\u001b[0m, \u001b[38;5;34m128\u001b[0m)        │             \u001b[38;5;34m0\u001b[0m │\n",
       "├─────────────────────────────────┼────────────────────────┼───────────────┤\n",
       "│ conv1d_23 (\u001b[38;5;33mConv1D\u001b[0m)              │ (\u001b[38;5;45mNone\u001b[0m, \u001b[38;5;34m59\u001b[0m, \u001b[38;5;34m256\u001b[0m)        │        \u001b[38;5;34m98,560\u001b[0m │\n",
       "├─────────────────────────────────┼────────────────────────┼───────────────┤\n",
       "│ max_pooling1d_23 (\u001b[38;5;33mMaxPooling1D\u001b[0m) │ (\u001b[38;5;45mNone\u001b[0m, \u001b[38;5;34m29\u001b[0m, \u001b[38;5;34m256\u001b[0m)        │             \u001b[38;5;34m0\u001b[0m │\n",
       "├─────────────────────────────────┼────────────────────────┼───────────────┤\n",
       "│ flatten_7 (\u001b[38;5;33mFlatten\u001b[0m)             │ (\u001b[38;5;45mNone\u001b[0m, \u001b[38;5;34m7424\u001b[0m)           │             \u001b[38;5;34m0\u001b[0m │\n",
       "├─────────────────────────────────┼────────────────────────┼───────────────┤\n",
       "│ dense_14 (\u001b[38;5;33mDense\u001b[0m)                │ (\u001b[38;5;45mNone\u001b[0m, \u001b[38;5;34m128\u001b[0m)            │       \u001b[38;5;34m950,400\u001b[0m │\n",
       "├─────────────────────────────────┼────────────────────────┼───────────────┤\n",
       "│ dropout_7 (\u001b[38;5;33mDropout\u001b[0m)             │ (\u001b[38;5;45mNone\u001b[0m, \u001b[38;5;34m128\u001b[0m)            │             \u001b[38;5;34m0\u001b[0m │\n",
       "├─────────────────────────────────┼────────────────────────┼───────────────┤\n",
       "│ dense_15 (\u001b[38;5;33mDense\u001b[0m)                │ (\u001b[38;5;45mNone\u001b[0m, \u001b[38;5;34m11\u001b[0m)             │         \u001b[38;5;34m1,419\u001b[0m │\n",
       "└─────────────────────────────────┴────────────────────────┴───────────────┘\n"
      ]
     },
     "metadata": {},
     "output_type": "display_data"
    },
    {
     "data": {
      "text/html": [
       "<pre style=\"white-space:pre;overflow-x:auto;line-height:normal;font-family:Menlo,'DejaVu Sans Mono',consolas,'Courier New',monospace\"><span style=\"font-weight: bold\"> Total params: </span><span style=\"color: #00af00; text-decoration-color: #00af00\">1,075,723</span> (4.10 MB)\n",
       "</pre>\n"
      ],
      "text/plain": [
       "\u001b[1m Total params: \u001b[0m\u001b[38;5;34m1,075,723\u001b[0m (4.10 MB)\n"
      ]
     },
     "metadata": {},
     "output_type": "display_data"
    },
    {
     "data": {
      "text/html": [
       "<pre style=\"white-space:pre;overflow-x:auto;line-height:normal;font-family:Menlo,'DejaVu Sans Mono',consolas,'Courier New',monospace\"><span style=\"font-weight: bold\"> Trainable params: </span><span style=\"color: #00af00; text-decoration-color: #00af00\">1,075,723</span> (4.10 MB)\n",
       "</pre>\n"
      ],
      "text/plain": [
       "\u001b[1m Trainable params: \u001b[0m\u001b[38;5;34m1,075,723\u001b[0m (4.10 MB)\n"
      ]
     },
     "metadata": {},
     "output_type": "display_data"
    },
    {
     "data": {
      "text/html": [
       "<pre style=\"white-space:pre;overflow-x:auto;line-height:normal;font-family:Menlo,'DejaVu Sans Mono',consolas,'Courier New',monospace\"><span style=\"font-weight: bold\"> Non-trainable params: </span><span style=\"color: #00af00; text-decoration-color: #00af00\">0</span> (0.00 B)\n",
       "</pre>\n"
      ],
      "text/plain": [
       "\u001b[1m Non-trainable params: \u001b[0m\u001b[38;5;34m0\u001b[0m (0.00 B)\n"
      ]
     },
     "metadata": {},
     "output_type": "display_data"
    },
    {
     "name": "stdout",
     "output_type": "stream",
     "text": [
      "Epoch 1/10\n",
      "\u001b[1m1400/1400\u001b[0m \u001b[32m━━━━━━━━━━━━━━━━━━━━\u001b[0m\u001b[37m\u001b[0m \u001b[1m27s\u001b[0m 18ms/step - accuracy: 0.8773 - loss: 0.4482 - val_accuracy: 0.9464 - val_loss: 0.1996\n",
      "Epoch 2/10\n",
      "\u001b[1m1400/1400\u001b[0m \u001b[32m━━━━━━━━━━━━━━━━━━━━\u001b[0m\u001b[37m\u001b[0m \u001b[1m26s\u001b[0m 19ms/step - accuracy: 0.9443 - loss: 0.2023 - val_accuracy: 0.9564 - val_loss: 0.1554\n",
      "Epoch 3/10\n",
      "\u001b[1m1400/1400\u001b[0m \u001b[32m━━━━━━━━━━━━━━━━━━━━\u001b[0m\u001b[37m\u001b[0m \u001b[1m26s\u001b[0m 18ms/step - accuracy: 0.9572 - loss: 0.1630 - val_accuracy: 0.9635 - val_loss: 0.1363\n",
      "Epoch 4/10\n",
      "\u001b[1m1400/1400\u001b[0m \u001b[32m━━━━━━━━━━━━━━━━━━━━\u001b[0m\u001b[37m\u001b[0m \u001b[1m26s\u001b[0m 18ms/step - accuracy: 0.9637 - loss: 0.1372 - val_accuracy: 0.9621 - val_loss: 0.1290\n",
      "Epoch 5/10\n",
      "\u001b[1m1400/1400\u001b[0m \u001b[32m━━━━━━━━━━━━━━━━━━━━\u001b[0m\u001b[37m\u001b[0m \u001b[1m26s\u001b[0m 19ms/step - accuracy: 0.9672 - loss: 0.1213 - val_accuracy: 0.9669 - val_loss: 0.1171\n",
      "Epoch 6/10\n",
      "\u001b[1m1400/1400\u001b[0m \u001b[32m━━━━━━━━━━━━━━━━━━━━\u001b[0m\u001b[37m\u001b[0m \u001b[1m26s\u001b[0m 18ms/step - accuracy: 0.9708 - loss: 0.1120 - val_accuracy: 0.9680 - val_loss: 0.1146\n",
      "Epoch 7/10\n",
      "\u001b[1m1400/1400\u001b[0m \u001b[32m━━━━━━━━━━━━━━━━━━━━\u001b[0m\u001b[37m\u001b[0m \u001b[1m26s\u001b[0m 18ms/step - accuracy: 0.9732 - loss: 0.1015 - val_accuracy: 0.9711 - val_loss: 0.1077\n",
      "Epoch 8/10\n",
      "\u001b[1m1400/1400\u001b[0m \u001b[32m━━━━━━━━━━━━━━━━━━━━\u001b[0m\u001b[37m\u001b[0m \u001b[1m26s\u001b[0m 18ms/step - accuracy: 0.9750 - loss: 0.0932 - val_accuracy: 0.9732 - val_loss: 0.0927\n",
      "Epoch 9/10\n",
      "\u001b[1m1400/1400\u001b[0m \u001b[32m━━━━━━━━━━━━━━━━━━━━\u001b[0m\u001b[37m\u001b[0m \u001b[1m26s\u001b[0m 18ms/step - accuracy: 0.9753 - loss: 0.0890 - val_accuracy: 0.9738 - val_loss: 0.0859\n",
      "Epoch 10/10\n",
      "\u001b[1m1400/1400\u001b[0m \u001b[32m━━━━━━━━━━━━━━━━━━━━\u001b[0m\u001b[37m\u001b[0m \u001b[1m26s\u001b[0m 18ms/step - accuracy: 0.9772 - loss: 0.0847 - val_accuracy: 0.9701 - val_loss: 0.1062\n",
      "\u001b[1m700/700\u001b[0m \u001b[32m━━━━━━━━━━━━━━━━━━━━\u001b[0m\u001b[37m\u001b[0m \u001b[1m3s\u001b[0m 4ms/step\n",
      "Completed training and evaluation for fold 3\n",
      "Recall for class 0 after fold 3: 0.9593\n",
      "Recall for class 1 after fold 3: 0.8491\n",
      "Recall for class 2 after fold 3: 0.9882\n",
      "Recall for class 3 after fold 3: 0.9669\n",
      "Recall for class 4 after fold 3: 0.9628\n",
      "Recall for class 5 after fold 3: 0.9699\n",
      "Recall for class 6 after fold 3: 0.9625\n",
      "Recall for class 7 after fold 3: 0.9393\n",
      "Recall for class 8 after fold 3: 0.9847\n",
      "Recall for class 9 after fold 3: 0.9827\n",
      "Recall for class 10 after fold 3: 0.9922\n",
      "Training activity model for fold 4\n"
     ]
    },
    {
     "name": "stderr",
     "output_type": "stream",
     "text": [
      "c:\\Users\\seanc\\miniconda3\\envs\\pdiot\\Lib\\site-packages\\keras\\src\\layers\\convolutional\\base_conv.py:107: UserWarning: Do not pass an `input_shape`/`input_dim` argument to a layer. When using Sequential models, prefer using an `Input(shape)` object as the first layer in the model instead.\n",
      "  super().__init__(activity_regularizer=activity_regularizer, **kwargs)\n"
     ]
    },
    {
     "data": {
      "text/html": [
       "<pre style=\"white-space:pre;overflow-x:auto;line-height:normal;font-family:Menlo,'DejaVu Sans Mono',consolas,'Courier New',monospace\"><span style=\"font-weight: bold\">Model: \"sequential_8\"</span>\n",
       "</pre>\n"
      ],
      "text/plain": [
       "\u001b[1mModel: \"sequential_8\"\u001b[0m\n"
      ]
     },
     "metadata": {},
     "output_type": "display_data"
    },
    {
     "data": {
      "text/html": [
       "<pre style=\"white-space:pre;overflow-x:auto;line-height:normal;font-family:Menlo,'DejaVu Sans Mono',consolas,'Courier New',monospace\">┏━━━━━━━━━━━━━━━━━━━━━━━━━━━━━━━━━┳━━━━━━━━━━━━━━━━━━━━━━━━┳━━━━━━━━━━━━━━━┓\n",
       "┃<span style=\"font-weight: bold\"> Layer (type)                    </span>┃<span style=\"font-weight: bold\"> Output Shape           </span>┃<span style=\"font-weight: bold\">       Param # </span>┃\n",
       "┡━━━━━━━━━━━━━━━━━━━━━━━━━━━━━━━━━╇━━━━━━━━━━━━━━━━━━━━━━━━╇━━━━━━━━━━━━━━━┩\n",
       "│ conv1d_24 (<span style=\"color: #0087ff; text-decoration-color: #0087ff\">Conv1D</span>)              │ (<span style=\"color: #00d7ff; text-decoration-color: #00d7ff\">None</span>, <span style=\"color: #00af00; text-decoration-color: #00af00\">248</span>, <span style=\"color: #00af00; text-decoration-color: #00af00\">64</span>)        │           <span style=\"color: #00af00; text-decoration-color: #00af00\">640</span> │\n",
       "├─────────────────────────────────┼────────────────────────┼───────────────┤\n",
       "│ max_pooling1d_24 (<span style=\"color: #0087ff; text-decoration-color: #0087ff\">MaxPooling1D</span>) │ (<span style=\"color: #00d7ff; text-decoration-color: #00d7ff\">None</span>, <span style=\"color: #00af00; text-decoration-color: #00af00\">124</span>, <span style=\"color: #00af00; text-decoration-color: #00af00\">64</span>)        │             <span style=\"color: #00af00; text-decoration-color: #00af00\">0</span> │\n",
       "├─────────────────────────────────┼────────────────────────┼───────────────┤\n",
       "│ conv1d_25 (<span style=\"color: #0087ff; text-decoration-color: #0087ff\">Conv1D</span>)              │ (<span style=\"color: #00d7ff; text-decoration-color: #00d7ff\">None</span>, <span style=\"color: #00af00; text-decoration-color: #00af00\">122</span>, <span style=\"color: #00af00; text-decoration-color: #00af00\">128</span>)       │        <span style=\"color: #00af00; text-decoration-color: #00af00\">24,704</span> │\n",
       "├─────────────────────────────────┼────────────────────────┼───────────────┤\n",
       "│ max_pooling1d_25 (<span style=\"color: #0087ff; text-decoration-color: #0087ff\">MaxPooling1D</span>) │ (<span style=\"color: #00d7ff; text-decoration-color: #00d7ff\">None</span>, <span style=\"color: #00af00; text-decoration-color: #00af00\">61</span>, <span style=\"color: #00af00; text-decoration-color: #00af00\">128</span>)        │             <span style=\"color: #00af00; text-decoration-color: #00af00\">0</span> │\n",
       "├─────────────────────────────────┼────────────────────────┼───────────────┤\n",
       "│ conv1d_26 (<span style=\"color: #0087ff; text-decoration-color: #0087ff\">Conv1D</span>)              │ (<span style=\"color: #00d7ff; text-decoration-color: #00d7ff\">None</span>, <span style=\"color: #00af00; text-decoration-color: #00af00\">59</span>, <span style=\"color: #00af00; text-decoration-color: #00af00\">256</span>)        │        <span style=\"color: #00af00; text-decoration-color: #00af00\">98,560</span> │\n",
       "├─────────────────────────────────┼────────────────────────┼───────────────┤\n",
       "│ max_pooling1d_26 (<span style=\"color: #0087ff; text-decoration-color: #0087ff\">MaxPooling1D</span>) │ (<span style=\"color: #00d7ff; text-decoration-color: #00d7ff\">None</span>, <span style=\"color: #00af00; text-decoration-color: #00af00\">29</span>, <span style=\"color: #00af00; text-decoration-color: #00af00\">256</span>)        │             <span style=\"color: #00af00; text-decoration-color: #00af00\">0</span> │\n",
       "├─────────────────────────────────┼────────────────────────┼───────────────┤\n",
       "│ flatten_8 (<span style=\"color: #0087ff; text-decoration-color: #0087ff\">Flatten</span>)             │ (<span style=\"color: #00d7ff; text-decoration-color: #00d7ff\">None</span>, <span style=\"color: #00af00; text-decoration-color: #00af00\">7424</span>)           │             <span style=\"color: #00af00; text-decoration-color: #00af00\">0</span> │\n",
       "├─────────────────────────────────┼────────────────────────┼───────────────┤\n",
       "│ dense_16 (<span style=\"color: #0087ff; text-decoration-color: #0087ff\">Dense</span>)                │ (<span style=\"color: #00d7ff; text-decoration-color: #00d7ff\">None</span>, <span style=\"color: #00af00; text-decoration-color: #00af00\">128</span>)            │       <span style=\"color: #00af00; text-decoration-color: #00af00\">950,400</span> │\n",
       "├─────────────────────────────────┼────────────────────────┼───────────────┤\n",
       "│ dropout_8 (<span style=\"color: #0087ff; text-decoration-color: #0087ff\">Dropout</span>)             │ (<span style=\"color: #00d7ff; text-decoration-color: #00d7ff\">None</span>, <span style=\"color: #00af00; text-decoration-color: #00af00\">128</span>)            │             <span style=\"color: #00af00; text-decoration-color: #00af00\">0</span> │\n",
       "├─────────────────────────────────┼────────────────────────┼───────────────┤\n",
       "│ dense_17 (<span style=\"color: #0087ff; text-decoration-color: #0087ff\">Dense</span>)                │ (<span style=\"color: #00d7ff; text-decoration-color: #00d7ff\">None</span>, <span style=\"color: #00af00; text-decoration-color: #00af00\">11</span>)             │         <span style=\"color: #00af00; text-decoration-color: #00af00\">1,419</span> │\n",
       "└─────────────────────────────────┴────────────────────────┴───────────────┘\n",
       "</pre>\n"
      ],
      "text/plain": [
       "┏━━━━━━━━━━━━━━━━━━━━━━━━━━━━━━━━━┳━━━━━━━━━━━━━━━━━━━━━━━━┳━━━━━━━━━━━━━━━┓\n",
       "┃\u001b[1m \u001b[0m\u001b[1mLayer (type)                   \u001b[0m\u001b[1m \u001b[0m┃\u001b[1m \u001b[0m\u001b[1mOutput Shape          \u001b[0m\u001b[1m \u001b[0m┃\u001b[1m \u001b[0m\u001b[1m      Param #\u001b[0m\u001b[1m \u001b[0m┃\n",
       "┡━━━━━━━━━━━━━━━━━━━━━━━━━━━━━━━━━╇━━━━━━━━━━━━━━━━━━━━━━━━╇━━━━━━━━━━━━━━━┩\n",
       "│ conv1d_24 (\u001b[38;5;33mConv1D\u001b[0m)              │ (\u001b[38;5;45mNone\u001b[0m, \u001b[38;5;34m248\u001b[0m, \u001b[38;5;34m64\u001b[0m)        │           \u001b[38;5;34m640\u001b[0m │\n",
       "├─────────────────────────────────┼────────────────────────┼───────────────┤\n",
       "│ max_pooling1d_24 (\u001b[38;5;33mMaxPooling1D\u001b[0m) │ (\u001b[38;5;45mNone\u001b[0m, \u001b[38;5;34m124\u001b[0m, \u001b[38;5;34m64\u001b[0m)        │             \u001b[38;5;34m0\u001b[0m │\n",
       "├─────────────────────────────────┼────────────────────────┼───────────────┤\n",
       "│ conv1d_25 (\u001b[38;5;33mConv1D\u001b[0m)              │ (\u001b[38;5;45mNone\u001b[0m, \u001b[38;5;34m122\u001b[0m, \u001b[38;5;34m128\u001b[0m)       │        \u001b[38;5;34m24,704\u001b[0m │\n",
       "├─────────────────────────────────┼────────────────────────┼───────────────┤\n",
       "│ max_pooling1d_25 (\u001b[38;5;33mMaxPooling1D\u001b[0m) │ (\u001b[38;5;45mNone\u001b[0m, \u001b[38;5;34m61\u001b[0m, \u001b[38;5;34m128\u001b[0m)        │             \u001b[38;5;34m0\u001b[0m │\n",
       "├─────────────────────────────────┼────────────────────────┼───────────────┤\n",
       "│ conv1d_26 (\u001b[38;5;33mConv1D\u001b[0m)              │ (\u001b[38;5;45mNone\u001b[0m, \u001b[38;5;34m59\u001b[0m, \u001b[38;5;34m256\u001b[0m)        │        \u001b[38;5;34m98,560\u001b[0m │\n",
       "├─────────────────────────────────┼────────────────────────┼───────────────┤\n",
       "│ max_pooling1d_26 (\u001b[38;5;33mMaxPooling1D\u001b[0m) │ (\u001b[38;5;45mNone\u001b[0m, \u001b[38;5;34m29\u001b[0m, \u001b[38;5;34m256\u001b[0m)        │             \u001b[38;5;34m0\u001b[0m │\n",
       "├─────────────────────────────────┼────────────────────────┼───────────────┤\n",
       "│ flatten_8 (\u001b[38;5;33mFlatten\u001b[0m)             │ (\u001b[38;5;45mNone\u001b[0m, \u001b[38;5;34m7424\u001b[0m)           │             \u001b[38;5;34m0\u001b[0m │\n",
       "├─────────────────────────────────┼────────────────────────┼───────────────┤\n",
       "│ dense_16 (\u001b[38;5;33mDense\u001b[0m)                │ (\u001b[38;5;45mNone\u001b[0m, \u001b[38;5;34m128\u001b[0m)            │       \u001b[38;5;34m950,400\u001b[0m │\n",
       "├─────────────────────────────────┼────────────────────────┼───────────────┤\n",
       "│ dropout_8 (\u001b[38;5;33mDropout\u001b[0m)             │ (\u001b[38;5;45mNone\u001b[0m, \u001b[38;5;34m128\u001b[0m)            │             \u001b[38;5;34m0\u001b[0m │\n",
       "├─────────────────────────────────┼────────────────────────┼───────────────┤\n",
       "│ dense_17 (\u001b[38;5;33mDense\u001b[0m)                │ (\u001b[38;5;45mNone\u001b[0m, \u001b[38;5;34m11\u001b[0m)             │         \u001b[38;5;34m1,419\u001b[0m │\n",
       "└─────────────────────────────────┴────────────────────────┴───────────────┘\n"
      ]
     },
     "metadata": {},
     "output_type": "display_data"
    },
    {
     "data": {
      "text/html": [
       "<pre style=\"white-space:pre;overflow-x:auto;line-height:normal;font-family:Menlo,'DejaVu Sans Mono',consolas,'Courier New',monospace\"><span style=\"font-weight: bold\"> Total params: </span><span style=\"color: #00af00; text-decoration-color: #00af00\">1,075,723</span> (4.10 MB)\n",
       "</pre>\n"
      ],
      "text/plain": [
       "\u001b[1m Total params: \u001b[0m\u001b[38;5;34m1,075,723\u001b[0m (4.10 MB)\n"
      ]
     },
     "metadata": {},
     "output_type": "display_data"
    },
    {
     "data": {
      "text/html": [
       "<pre style=\"white-space:pre;overflow-x:auto;line-height:normal;font-family:Menlo,'DejaVu Sans Mono',consolas,'Courier New',monospace\"><span style=\"font-weight: bold\"> Trainable params: </span><span style=\"color: #00af00; text-decoration-color: #00af00\">1,075,723</span> (4.10 MB)\n",
       "</pre>\n"
      ],
      "text/plain": [
       "\u001b[1m Trainable params: \u001b[0m\u001b[38;5;34m1,075,723\u001b[0m (4.10 MB)\n"
      ]
     },
     "metadata": {},
     "output_type": "display_data"
    },
    {
     "data": {
      "text/html": [
       "<pre style=\"white-space:pre;overflow-x:auto;line-height:normal;font-family:Menlo,'DejaVu Sans Mono',consolas,'Courier New',monospace\"><span style=\"font-weight: bold\"> Non-trainable params: </span><span style=\"color: #00af00; text-decoration-color: #00af00\">0</span> (0.00 B)\n",
       "</pre>\n"
      ],
      "text/plain": [
       "\u001b[1m Non-trainable params: \u001b[0m\u001b[38;5;34m0\u001b[0m (0.00 B)\n"
      ]
     },
     "metadata": {},
     "output_type": "display_data"
    },
    {
     "name": "stdout",
     "output_type": "stream",
     "text": [
      "Epoch 1/10\n",
      "\u001b[1m1400/1400\u001b[0m \u001b[32m━━━━━━━━━━━━━━━━━━━━\u001b[0m\u001b[37m\u001b[0m \u001b[1m28s\u001b[0m 19ms/step - accuracy: 0.8750 - loss: 0.4586 - val_accuracy: 0.9449 - val_loss: 0.2092\n",
      "Epoch 2/10\n",
      "\u001b[1m1400/1400\u001b[0m \u001b[32m━━━━━━━━━━━━━━━━━━━━\u001b[0m\u001b[37m\u001b[0m \u001b[1m26s\u001b[0m 18ms/step - accuracy: 0.9430 - loss: 0.2098 - val_accuracy: 0.9542 - val_loss: 0.1598\n",
      "Epoch 3/10\n",
      "\u001b[1m1400/1400\u001b[0m \u001b[32m━━━━━━━━━━━━━━━━━━━━\u001b[0m\u001b[37m\u001b[0m \u001b[1m26s\u001b[0m 18ms/step - accuracy: 0.9573 - loss: 0.1632 - val_accuracy: 0.9585 - val_loss: 0.1570\n",
      "Epoch 4/10\n",
      "\u001b[1m1400/1400\u001b[0m \u001b[32m━━━━━━━━━━━━━━━━━━━━\u001b[0m\u001b[37m\u001b[0m \u001b[1m26s\u001b[0m 19ms/step - accuracy: 0.9628 - loss: 0.1370 - val_accuracy: 0.9705 - val_loss: 0.1087\n",
      "Epoch 5/10\n",
      "\u001b[1m1400/1400\u001b[0m \u001b[32m━━━━━━━━━━━━━━━━━━━━\u001b[0m\u001b[37m\u001b[0m \u001b[1m26s\u001b[0m 19ms/step - accuracy: 0.9676 - loss: 0.1186 - val_accuracy: 0.9675 - val_loss: 0.1205\n",
      "Epoch 6/10\n",
      "\u001b[1m1400/1400\u001b[0m \u001b[32m━━━━━━━━━━━━━━━━━━━━\u001b[0m\u001b[37m\u001b[0m \u001b[1m26s\u001b[0m 18ms/step - accuracy: 0.9701 - loss: 0.1090 - val_accuracy: 0.9696 - val_loss: 0.1157\n",
      "Epoch 7/10\n",
      "\u001b[1m1400/1400\u001b[0m \u001b[32m━━━━━━━━━━━━━━━━━━━━\u001b[0m\u001b[37m\u001b[0m \u001b[1m26s\u001b[0m 19ms/step - accuracy: 0.9720 - loss: 0.1032 - val_accuracy: 0.9666 - val_loss: 0.1159\n",
      "Epoch 8/10\n",
      "\u001b[1m1400/1400\u001b[0m \u001b[32m━━━━━━━━━━━━━━━━━━━━\u001b[0m\u001b[37m\u001b[0m \u001b[1m26s\u001b[0m 18ms/step - accuracy: 0.9726 - loss: 0.0975 - val_accuracy: 0.9741 - val_loss: 0.1020\n",
      "Epoch 9/10\n",
      "\u001b[1m1400/1400\u001b[0m \u001b[32m━━━━━━━━━━━━━━━━━━━━\u001b[0m\u001b[37m\u001b[0m \u001b[1m26s\u001b[0m 18ms/step - accuracy: 0.9735 - loss: 0.0990 - val_accuracy: 0.9761 - val_loss: 0.0897\n",
      "Epoch 10/10\n",
      "\u001b[1m1400/1400\u001b[0m \u001b[32m━━━━━━━━━━━━━━━━━━━━\u001b[0m\u001b[37m\u001b[0m \u001b[1m26s\u001b[0m 19ms/step - accuracy: 0.9754 - loss: 0.0893 - val_accuracy: 0.9740 - val_loss: 0.1108\n",
      "\u001b[1m700/700\u001b[0m \u001b[32m━━━━━━━━━━━━━━━━━━━━\u001b[0m\u001b[37m\u001b[0m \u001b[1m5s\u001b[0m 8ms/step\n",
      "Completed training and evaluation for fold 4\n",
      "Recall for class 0 after fold 4: 0.9707\n",
      "Recall for class 1 after fold 4: 0.8020\n",
      "Recall for class 2 after fold 4: 0.9897\n",
      "Recall for class 3 after fold 4: 0.9633\n",
      "Recall for class 4 after fold 4: 0.9643\n",
      "Recall for class 5 after fold 4: 0.9739\n",
      "Recall for class 6 after fold 4: 0.9607\n",
      "Recall for class 7 after fold 4: 0.9593\n",
      "Recall for class 8 after fold 4: 0.9957\n",
      "Recall for class 9 after fold 4: 0.9565\n",
      "Recall for class 10 after fold 4: 0.9963\n",
      "Training activity model for fold 5\n"
     ]
    },
    {
     "name": "stderr",
     "output_type": "stream",
     "text": [
      "c:\\Users\\seanc\\miniconda3\\envs\\pdiot\\Lib\\site-packages\\keras\\src\\layers\\convolutional\\base_conv.py:107: UserWarning: Do not pass an `input_shape`/`input_dim` argument to a layer. When using Sequential models, prefer using an `Input(shape)` object as the first layer in the model instead.\n",
      "  super().__init__(activity_regularizer=activity_regularizer, **kwargs)\n"
     ]
    },
    {
     "data": {
      "text/html": [
       "<pre style=\"white-space:pre;overflow-x:auto;line-height:normal;font-family:Menlo,'DejaVu Sans Mono',consolas,'Courier New',monospace\"><span style=\"font-weight: bold\">Model: \"sequential_9\"</span>\n",
       "</pre>\n"
      ],
      "text/plain": [
       "\u001b[1mModel: \"sequential_9\"\u001b[0m\n"
      ]
     },
     "metadata": {},
     "output_type": "display_data"
    },
    {
     "data": {
      "text/html": [
       "<pre style=\"white-space:pre;overflow-x:auto;line-height:normal;font-family:Menlo,'DejaVu Sans Mono',consolas,'Courier New',monospace\">┏━━━━━━━━━━━━━━━━━━━━━━━━━━━━━━━━━┳━━━━━━━━━━━━━━━━━━━━━━━━┳━━━━━━━━━━━━━━━┓\n",
       "┃<span style=\"font-weight: bold\"> Layer (type)                    </span>┃<span style=\"font-weight: bold\"> Output Shape           </span>┃<span style=\"font-weight: bold\">       Param # </span>┃\n",
       "┡━━━━━━━━━━━━━━━━━━━━━━━━━━━━━━━━━╇━━━━━━━━━━━━━━━━━━━━━━━━╇━━━━━━━━━━━━━━━┩\n",
       "│ conv1d_27 (<span style=\"color: #0087ff; text-decoration-color: #0087ff\">Conv1D</span>)              │ (<span style=\"color: #00d7ff; text-decoration-color: #00d7ff\">None</span>, <span style=\"color: #00af00; text-decoration-color: #00af00\">248</span>, <span style=\"color: #00af00; text-decoration-color: #00af00\">64</span>)        │           <span style=\"color: #00af00; text-decoration-color: #00af00\">640</span> │\n",
       "├─────────────────────────────────┼────────────────────────┼───────────────┤\n",
       "│ max_pooling1d_27 (<span style=\"color: #0087ff; text-decoration-color: #0087ff\">MaxPooling1D</span>) │ (<span style=\"color: #00d7ff; text-decoration-color: #00d7ff\">None</span>, <span style=\"color: #00af00; text-decoration-color: #00af00\">124</span>, <span style=\"color: #00af00; text-decoration-color: #00af00\">64</span>)        │             <span style=\"color: #00af00; text-decoration-color: #00af00\">0</span> │\n",
       "├─────────────────────────────────┼────────────────────────┼───────────────┤\n",
       "│ conv1d_28 (<span style=\"color: #0087ff; text-decoration-color: #0087ff\">Conv1D</span>)              │ (<span style=\"color: #00d7ff; text-decoration-color: #00d7ff\">None</span>, <span style=\"color: #00af00; text-decoration-color: #00af00\">122</span>, <span style=\"color: #00af00; text-decoration-color: #00af00\">128</span>)       │        <span style=\"color: #00af00; text-decoration-color: #00af00\">24,704</span> │\n",
       "├─────────────────────────────────┼────────────────────────┼───────────────┤\n",
       "│ max_pooling1d_28 (<span style=\"color: #0087ff; text-decoration-color: #0087ff\">MaxPooling1D</span>) │ (<span style=\"color: #00d7ff; text-decoration-color: #00d7ff\">None</span>, <span style=\"color: #00af00; text-decoration-color: #00af00\">61</span>, <span style=\"color: #00af00; text-decoration-color: #00af00\">128</span>)        │             <span style=\"color: #00af00; text-decoration-color: #00af00\">0</span> │\n",
       "├─────────────────────────────────┼────────────────────────┼───────────────┤\n",
       "│ conv1d_29 (<span style=\"color: #0087ff; text-decoration-color: #0087ff\">Conv1D</span>)              │ (<span style=\"color: #00d7ff; text-decoration-color: #00d7ff\">None</span>, <span style=\"color: #00af00; text-decoration-color: #00af00\">59</span>, <span style=\"color: #00af00; text-decoration-color: #00af00\">256</span>)        │        <span style=\"color: #00af00; text-decoration-color: #00af00\">98,560</span> │\n",
       "├─────────────────────────────────┼────────────────────────┼───────────────┤\n",
       "│ max_pooling1d_29 (<span style=\"color: #0087ff; text-decoration-color: #0087ff\">MaxPooling1D</span>) │ (<span style=\"color: #00d7ff; text-decoration-color: #00d7ff\">None</span>, <span style=\"color: #00af00; text-decoration-color: #00af00\">29</span>, <span style=\"color: #00af00; text-decoration-color: #00af00\">256</span>)        │             <span style=\"color: #00af00; text-decoration-color: #00af00\">0</span> │\n",
       "├─────────────────────────────────┼────────────────────────┼───────────────┤\n",
       "│ flatten_9 (<span style=\"color: #0087ff; text-decoration-color: #0087ff\">Flatten</span>)             │ (<span style=\"color: #00d7ff; text-decoration-color: #00d7ff\">None</span>, <span style=\"color: #00af00; text-decoration-color: #00af00\">7424</span>)           │             <span style=\"color: #00af00; text-decoration-color: #00af00\">0</span> │\n",
       "├─────────────────────────────────┼────────────────────────┼───────────────┤\n",
       "│ dense_18 (<span style=\"color: #0087ff; text-decoration-color: #0087ff\">Dense</span>)                │ (<span style=\"color: #00d7ff; text-decoration-color: #00d7ff\">None</span>, <span style=\"color: #00af00; text-decoration-color: #00af00\">128</span>)            │       <span style=\"color: #00af00; text-decoration-color: #00af00\">950,400</span> │\n",
       "├─────────────────────────────────┼────────────────────────┼───────────────┤\n",
       "│ dropout_9 (<span style=\"color: #0087ff; text-decoration-color: #0087ff\">Dropout</span>)             │ (<span style=\"color: #00d7ff; text-decoration-color: #00d7ff\">None</span>, <span style=\"color: #00af00; text-decoration-color: #00af00\">128</span>)            │             <span style=\"color: #00af00; text-decoration-color: #00af00\">0</span> │\n",
       "├─────────────────────────────────┼────────────────────────┼───────────────┤\n",
       "│ dense_19 (<span style=\"color: #0087ff; text-decoration-color: #0087ff\">Dense</span>)                │ (<span style=\"color: #00d7ff; text-decoration-color: #00d7ff\">None</span>, <span style=\"color: #00af00; text-decoration-color: #00af00\">11</span>)             │         <span style=\"color: #00af00; text-decoration-color: #00af00\">1,419</span> │\n",
       "└─────────────────────────────────┴────────────────────────┴───────────────┘\n",
       "</pre>\n"
      ],
      "text/plain": [
       "┏━━━━━━━━━━━━━━━━━━━━━━━━━━━━━━━━━┳━━━━━━━━━━━━━━━━━━━━━━━━┳━━━━━━━━━━━━━━━┓\n",
       "┃\u001b[1m \u001b[0m\u001b[1mLayer (type)                   \u001b[0m\u001b[1m \u001b[0m┃\u001b[1m \u001b[0m\u001b[1mOutput Shape          \u001b[0m\u001b[1m \u001b[0m┃\u001b[1m \u001b[0m\u001b[1m      Param #\u001b[0m\u001b[1m \u001b[0m┃\n",
       "┡━━━━━━━━━━━━━━━━━━━━━━━━━━━━━━━━━╇━━━━━━━━━━━━━━━━━━━━━━━━╇━━━━━━━━━━━━━━━┩\n",
       "│ conv1d_27 (\u001b[38;5;33mConv1D\u001b[0m)              │ (\u001b[38;5;45mNone\u001b[0m, \u001b[38;5;34m248\u001b[0m, \u001b[38;5;34m64\u001b[0m)        │           \u001b[38;5;34m640\u001b[0m │\n",
       "├─────────────────────────────────┼────────────────────────┼───────────────┤\n",
       "│ max_pooling1d_27 (\u001b[38;5;33mMaxPooling1D\u001b[0m) │ (\u001b[38;5;45mNone\u001b[0m, \u001b[38;5;34m124\u001b[0m, \u001b[38;5;34m64\u001b[0m)        │             \u001b[38;5;34m0\u001b[0m │\n",
       "├─────────────────────────────────┼────────────────────────┼───────────────┤\n",
       "│ conv1d_28 (\u001b[38;5;33mConv1D\u001b[0m)              │ (\u001b[38;5;45mNone\u001b[0m, \u001b[38;5;34m122\u001b[0m, \u001b[38;5;34m128\u001b[0m)       │        \u001b[38;5;34m24,704\u001b[0m │\n",
       "├─────────────────────────────────┼────────────────────────┼───────────────┤\n",
       "│ max_pooling1d_28 (\u001b[38;5;33mMaxPooling1D\u001b[0m) │ (\u001b[38;5;45mNone\u001b[0m, \u001b[38;5;34m61\u001b[0m, \u001b[38;5;34m128\u001b[0m)        │             \u001b[38;5;34m0\u001b[0m │\n",
       "├─────────────────────────────────┼────────────────────────┼───────────────┤\n",
       "│ conv1d_29 (\u001b[38;5;33mConv1D\u001b[0m)              │ (\u001b[38;5;45mNone\u001b[0m, \u001b[38;5;34m59\u001b[0m, \u001b[38;5;34m256\u001b[0m)        │        \u001b[38;5;34m98,560\u001b[0m │\n",
       "├─────────────────────────────────┼────────────────────────┼───────────────┤\n",
       "│ max_pooling1d_29 (\u001b[38;5;33mMaxPooling1D\u001b[0m) │ (\u001b[38;5;45mNone\u001b[0m, \u001b[38;5;34m29\u001b[0m, \u001b[38;5;34m256\u001b[0m)        │             \u001b[38;5;34m0\u001b[0m │\n",
       "├─────────────────────────────────┼────────────────────────┼───────────────┤\n",
       "│ flatten_9 (\u001b[38;5;33mFlatten\u001b[0m)             │ (\u001b[38;5;45mNone\u001b[0m, \u001b[38;5;34m7424\u001b[0m)           │             \u001b[38;5;34m0\u001b[0m │\n",
       "├─────────────────────────────────┼────────────────────────┼───────────────┤\n",
       "│ dense_18 (\u001b[38;5;33mDense\u001b[0m)                │ (\u001b[38;5;45mNone\u001b[0m, \u001b[38;5;34m128\u001b[0m)            │       \u001b[38;5;34m950,400\u001b[0m │\n",
       "├─────────────────────────────────┼────────────────────────┼───────────────┤\n",
       "│ dropout_9 (\u001b[38;5;33mDropout\u001b[0m)             │ (\u001b[38;5;45mNone\u001b[0m, \u001b[38;5;34m128\u001b[0m)            │             \u001b[38;5;34m0\u001b[0m │\n",
       "├─────────────────────────────────┼────────────────────────┼───────────────┤\n",
       "│ dense_19 (\u001b[38;5;33mDense\u001b[0m)                │ (\u001b[38;5;45mNone\u001b[0m, \u001b[38;5;34m11\u001b[0m)             │         \u001b[38;5;34m1,419\u001b[0m │\n",
       "└─────────────────────────────────┴────────────────────────┴───────────────┘\n"
      ]
     },
     "metadata": {},
     "output_type": "display_data"
    },
    {
     "data": {
      "text/html": [
       "<pre style=\"white-space:pre;overflow-x:auto;line-height:normal;font-family:Menlo,'DejaVu Sans Mono',consolas,'Courier New',monospace\"><span style=\"font-weight: bold\"> Total params: </span><span style=\"color: #00af00; text-decoration-color: #00af00\">1,075,723</span> (4.10 MB)\n",
       "</pre>\n"
      ],
      "text/plain": [
       "\u001b[1m Total params: \u001b[0m\u001b[38;5;34m1,075,723\u001b[0m (4.10 MB)\n"
      ]
     },
     "metadata": {},
     "output_type": "display_data"
    },
    {
     "data": {
      "text/html": [
       "<pre style=\"white-space:pre;overflow-x:auto;line-height:normal;font-family:Menlo,'DejaVu Sans Mono',consolas,'Courier New',monospace\"><span style=\"font-weight: bold\"> Trainable params: </span><span style=\"color: #00af00; text-decoration-color: #00af00\">1,075,723</span> (4.10 MB)\n",
       "</pre>\n"
      ],
      "text/plain": [
       "\u001b[1m Trainable params: \u001b[0m\u001b[38;5;34m1,075,723\u001b[0m (4.10 MB)\n"
      ]
     },
     "metadata": {},
     "output_type": "display_data"
    },
    {
     "data": {
      "text/html": [
       "<pre style=\"white-space:pre;overflow-x:auto;line-height:normal;font-family:Menlo,'DejaVu Sans Mono',consolas,'Courier New',monospace\"><span style=\"font-weight: bold\"> Non-trainable params: </span><span style=\"color: #00af00; text-decoration-color: #00af00\">0</span> (0.00 B)\n",
       "</pre>\n"
      ],
      "text/plain": [
       "\u001b[1m Non-trainable params: \u001b[0m\u001b[38;5;34m0\u001b[0m (0.00 B)\n"
      ]
     },
     "metadata": {},
     "output_type": "display_data"
    },
    {
     "name": "stdout",
     "output_type": "stream",
     "text": [
      "Epoch 1/10\n",
      "\u001b[1m1400/1400\u001b[0m \u001b[32m━━━━━━━━━━━━━━━━━━━━\u001b[0m\u001b[37m\u001b[0m \u001b[1m27s\u001b[0m 18ms/step - accuracy: 0.8810 - loss: 0.4451 - val_accuracy: 0.9367 - val_loss: 0.2177\n",
      "Epoch 2/10\n",
      "\u001b[1m1400/1400\u001b[0m \u001b[32m━━━━━━━━━━━━━━━━━━━━\u001b[0m\u001b[37m\u001b[0m \u001b[1m26s\u001b[0m 18ms/step - accuracy: 0.9442 - loss: 0.2094 - val_accuracy: 0.9596 - val_loss: 0.1537\n",
      "Epoch 3/10\n",
      "\u001b[1m1400/1400\u001b[0m \u001b[32m━━━━━━━━━━━━━━━━━━━━\u001b[0m\u001b[37m\u001b[0m \u001b[1m26s\u001b[0m 18ms/step - accuracy: 0.9580 - loss: 0.1586 - val_accuracy: 0.9612 - val_loss: 0.1432\n",
      "Epoch 4/10\n",
      "\u001b[1m1400/1400\u001b[0m \u001b[32m━━━━━━━━━━━━━━━━━━━━\u001b[0m\u001b[37m\u001b[0m \u001b[1m26s\u001b[0m 18ms/step - accuracy: 0.9634 - loss: 0.1369 - val_accuracy: 0.9645 - val_loss: 0.1337\n",
      "Epoch 5/10\n",
      "\u001b[1m1400/1400\u001b[0m \u001b[32m━━━━━━━━━━━━━━━━━━━━\u001b[0m\u001b[37m\u001b[0m \u001b[1m26s\u001b[0m 18ms/step - accuracy: 0.9694 - loss: 0.1160 - val_accuracy: 0.9690 - val_loss: 0.1109\n",
      "Epoch 6/10\n",
      "\u001b[1m1400/1400\u001b[0m \u001b[32m━━━━━━━━━━━━━━━━━━━━\u001b[0m\u001b[37m\u001b[0m \u001b[1m26s\u001b[0m 19ms/step - accuracy: 0.9729 - loss: 0.1026 - val_accuracy: 0.9715 - val_loss: 0.1073\n",
      "Epoch 7/10\n",
      "\u001b[1m1400/1400\u001b[0m \u001b[32m━━━━━━━━━━━━━━━━━━━━\u001b[0m\u001b[37m\u001b[0m \u001b[1m26s\u001b[0m 18ms/step - accuracy: 0.9737 - loss: 0.1016 - val_accuracy: 0.9708 - val_loss: 0.1081\n",
      "Epoch 8/10\n",
      "\u001b[1m1400/1400\u001b[0m \u001b[32m━━━━━━━━━━━━━━━━━━━━\u001b[0m\u001b[37m\u001b[0m \u001b[1m26s\u001b[0m 18ms/step - accuracy: 0.9750 - loss: 0.0937 - val_accuracy: 0.9689 - val_loss: 0.1069\n",
      "Epoch 9/10\n",
      "\u001b[1m1400/1400\u001b[0m \u001b[32m━━━━━━━━━━━━━━━━━━━━\u001b[0m\u001b[37m\u001b[0m \u001b[1m26s\u001b[0m 18ms/step - accuracy: 0.9761 - loss: 0.0886 - val_accuracy: 0.9722 - val_loss: 0.0976\n",
      "Epoch 10/10\n",
      "\u001b[1m1400/1400\u001b[0m \u001b[32m━━━━━━━━━━━━━━━━━━━━\u001b[0m\u001b[37m\u001b[0m \u001b[1m26s\u001b[0m 19ms/step - accuracy: 0.9765 - loss: 0.0871 - val_accuracy: 0.9757 - val_loss: 0.0921\n",
      "\u001b[1m700/700\u001b[0m \u001b[32m━━━━━━━━━━━━━━━━━━━━\u001b[0m\u001b[37m\u001b[0m \u001b[1m6s\u001b[0m 8ms/step\n",
      "Completed training and evaluation for fold 5\n",
      "Recall for class 0 after fold 5: 0.9606\n",
      "Recall for class 1 after fold 5: 0.9536\n",
      "Recall for class 2 after fold 5: 0.9903\n",
      "Recall for class 3 after fold 5: 0.9494\n",
      "Recall for class 4 after fold 5: 0.9866\n",
      "Recall for class 5 after fold 5: 0.9685\n",
      "Recall for class 6 after fold 5: 0.9614\n",
      "Recall for class 7 after fold 5: 0.9586\n",
      "Recall for class 8 after fold 5: 0.9855\n",
      "Recall for class 9 after fold 5: 0.9714\n",
      "Recall for class 10 after fold 5: 1.0000\n",
      "Average accuracy for activity model: 0.9739\n",
      "The 5-fold cross validation recall of class 0 is 0.9661\n",
      "The 5-fold cross validation recall of class 1 is 0.8924\n",
      "The 5-fold cross validation recall of class 2 is 0.9898\n",
      "The 5-fold cross validation recall of class 3 is 0.9583\n",
      "The 5-fold cross validation recall of class 4 is 0.9629\n",
      "The 5-fold cross validation recall of class 5 is 0.9735\n",
      "The 5-fold cross validation recall of class 6 is 0.9598\n",
      "The 5-fold cross validation recall of class 7 is 0.9516\n",
      "The 5-fold cross validation recall of class 8 is 0.9877\n",
      "The 5-fold cross validation recall of class 9 is 0.9777\n",
      "The 5-fold cross validation recall of class 10 is 0.9969\n"
     ]
    }
   ],
   "source": [
    "# Train and Evaluate activity model\n",
    "fold_no = 1\n",
    "for train_index, val_index in kfold.split(X_activity):\n",
    "    print(f\"Training activity model for fold {fold_no}\")\n",
    "\n",
    "    # Split the data for this fold\n",
    "    X_train_fold_activity, X_val_fold_activity = X_activity[train_index], X_activity[val_index]\n",
    "    y_train_fold_activity, y_val_fold_activity = y_activity_one_hot[train_index], y_activity_one_hot[val_index]\n",
    "\n",
    "    # Reinitialise the activity model for each fold\n",
    "    activity_model = build_1d_cnn_model(input_shape_activity, num_activity_classes)\n",
    "\n",
    "    history = activity_model.fit(X_train_fold_activity, y_train_fold_activity, \n",
    "                                 epochs=10, batch_size=64, \n",
    "                                 validation_data=(X_val_fold_activity, y_val_fold_activity), \n",
    "                                 verbose=1)\n",
    "    \n",
    "    # Predictions and evaluation for activity model\n",
    "    y_pred_probs_activity = activity_model.predict(X_val_fold_activity)\n",
    "    y_pred_activity = np.argmax(y_pred_probs_activity, axis=1)\n",
    "    y_true_activity = np.argmax(y_val_fold_activity, axis=1)\n",
    "\n",
    "    activity_report = classification_report(y_true_activity, y_pred_activity, output_dict=True)\n",
    "    for i in range(num_activity_classes):\n",
    "        recall_per_class_per_fold_activity[i].append(activity_report[str(i)]['recall'])\n",
    "    activity_accuracy_list.append(accuracy_score(y_true_activity, y_pred_activity))\n",
    "\n",
    "    # Collect predictions and true social signal labels for confusion matrix\n",
    "    all_y_true_activity.extend(y_true_activity)\n",
    "    all_y_pred_activity.extend(y_pred_activity)\n",
    "\n",
    "    print(f\"Completed training and evaluation for fold {fold_no}\")\n",
    "\n",
    "     # Print recall for each class after each fold\n",
    "    for i in range(num_activity_classes):\n",
    "        print(f\"Recall for class {i} after fold {fold_no}: {recall_per_class_per_fold_activity[i][-1]:.4f}\")\n",
    "    fold_no += 1\n",
    "    \n",
    "average_activity_accuracy = np.mean(activity_accuracy_list)\n",
    "print(f\"Average accuracy for activity model: {average_activity_accuracy:.4f}\")\n",
    "\n",
    "average_recall_per_class_activity = {i: np.mean(recall_per_class_per_fold_activity[i]) for i in range(num_activity_classes)}\n",
    "\n",
    "for i in range(num_activity_classes):\n",
    "    print(f\"The 5-fold cross validation recall of class {i} is {average_recall_per_class_activity[i]:.4f}\")"
   ]
  },
  {
   "cell_type": "markdown",
   "metadata": {},
   "source": [
    "# Confusion matrix for activity model"
   ]
  },
  {
   "cell_type": "code",
   "execution_count": 21,
   "metadata": {},
   "outputs": [
    {
     "data": {
      "image/png": "[encoded data removed]",
      "text/plain": [
       "<Figure size 1000x1000 with 2 Axes>"
      ]
     },
     "metadata": {},
     "output_type": "display_data"
    }
   ],
   "source": [
    "import matplotlib.pyplot as plt\n",
    "import numpy as np\n",
    "from sklearn.metrics import ConfusionMatrixDisplay, confusion_matrix\n",
    "\n",
    "# Convert the lists for the confusion matrix to numpy arrays\n",
    "all_y_true_activity = np.array(all_y_true_activity)\n",
    "all_y_pred_activity = np.array(all_y_pred_activity)\n",
    "\n",
    "# Generate confusion matrix\n",
    "cm = confusion_matrix(all_y_true_activity, all_y_pred_activity)\n",
    "disp = ConfusionMatrixDisplay(cm, display_labels=activity_labels)\n",
    "\n",
    "# Plot the confusion matrix\n",
    "fig, ax = plt.subplots(figsize=(10, 10))  # Adjust figure size as needed\n",
    "disp.plot(ax=ax, cmap='viridis')\n",
    "\n",
    "# Rotate the x-axis labels and adjust spacing\n",
    "plt.xticks(rotation=45, ha='right')\n",
    "plt.tight_layout()\n",
    "plt.show()\n"
   ]
  },
  {
   "cell_type": "markdown",
   "metadata": {
    "id": "TrSPBPh4KcBn"
   },
   "source": [
    "## Step 4: Evaluate the Model\n",
    "After training, you can evaluate the model on the test set:"
   ]
  },
  {
   "cell_type": "code",
   "execution_count": 22,
   "metadata": {
    "colab": {
     "base_uri": "https://localhost:8080/"
    },
    "id": "UB2Bi7ieKelv",
    "outputId": "de615d87-81e5-45df-f50b-60b21139fdd0"
   },
   "outputs": [
    {
     "data": {
      "text/plain": [
       "'\\n# Get predicted probabilities for the test set\\ny_pred_probs = model.predict(X_test)\\n\\n# Convert the predicted probabilities to class labels (taking the argmax of the probabilities)\\ny_pred_classes = np.argmax(y_pred_probs, axis=1)\\n\\n# Convert the true test labels from one-hot encoding back to class labels\\ny_true_classes = np.argmax(y_test_one_hot, axis=1)\\n\\n# Generate the classification report\\nreport = classification_report(y_true_classes, y_pred_classes, digits=4)\\n\\n# Print the classification report\\nprint(report)\\n'"
      ]
     },
     "execution_count": 22,
     "metadata": {},
     "output_type": "execute_result"
    }
   ],
   "source": [
    "'''\n",
    "# Get predicted probabilities for the test set\n",
    "y_pred_probs = model.predict(X_test)\n",
    "\n",
    "# Convert the predicted probabilities to class labels (taking the argmax of the probabilities)\n",
    "y_pred_classes = np.argmax(y_pred_probs, axis=1)\n",
    "\n",
    "# Convert the true test labels from one-hot encoding back to class labels\n",
    "y_true_classes = np.argmax(y_test_one_hot, axis=1)\n",
    "\n",
    "# Generate the classification report\n",
    "report = classification_report(y_true_classes, y_pred_classes, digits=4)\n",
    "\n",
    "# Print the classification report\n",
    "print(report)\n",
    "'''"
   ]
  },
  {
   "cell_type": "markdown",
   "metadata": {
    "id": "3QXKh8ritRbw"
   },
   "source": [
    "As you can see from the model performance results, the classification performance isn't exactly impressive. For Coursework 3, your group should explore and experiment with various models, parameters, and techniques in order to improve your model's performance."
   ]
  },
  {
   "cell_type": "markdown",
   "metadata": {
    "id": "iHNzGOHDtnQ4"
   },
   "source": [
    "# Exporting your model to TFLite\n",
    "\n",
    "You can use the TFLiteConverter class provided by TensorFlow to convert your trained model into the TensorFlow Lite format. We export models to TensorFlow Lite (TFLite) for several reasons, primarily because TFLite is designed for deployment on edge devices, such as mobile phones, embedded systems, IoT devices, and microcontrollers, where computational resources and power are limited. This is necessary as you will be running your ML models on your Android devices to perform live classification."
   ]
  },
  {
   "cell_type": "code",
   "execution_count": 23,
   "metadata": {
    "colab": {
     "base_uri": "https://localhost:8080/"
    },
    "id": "3_QKoJtmufDa",
    "outputId": "48d281ab-4ed3-4ee1-fd47-30f7f4c10b96"
   },
   "outputs": [
    {
     "name": "stdout",
     "output_type": "stream",
     "text": [
      "INFO:tensorflow:Assets written to: C:\\Users\\seanc\\AppData\\Local\\Temp\\tmptqxd1sr9\\assets\n"
     ]
    },
    {
     "name": "stderr",
     "output_type": "stream",
     "text": [
      "INFO:tensorflow:Assets written to: C:\\Users\\seanc\\AppData\\Local\\Temp\\tmptqxd1sr9\\assets\n"
     ]
    },
    {
     "name": "stdout",
     "output_type": "stream",
     "text": [
      "Saved artifact at 'C:\\Users\\seanc\\AppData\\Local\\Temp\\tmptqxd1sr9'. The following endpoints are available:\n",
      "\n",
      "* Endpoint 'serve'\n",
      "  args_0 (POSITIONAL_ONLY): TensorSpec(shape=(None, 250, 3), dtype=tf.float32, name='keras_tensor_504')\n",
      "Output Type:\n",
      "  TensorSpec(shape=(None, 11), dtype=tf.float32, name=None)\n",
      "Captures:\n",
      "  2226453721936: TensorSpec(shape=(), dtype=tf.resource, name=None)\n",
      "  2226453720208: TensorSpec(shape=(), dtype=tf.resource, name=None)\n",
      "  2226453724048: TensorSpec(shape=(), dtype=tf.resource, name=None)\n",
      "  2226453708880: TensorSpec(shape=(), dtype=tf.resource, name=None)\n",
      "  2226453722320: TensorSpec(shape=(), dtype=tf.resource, name=None)\n",
      "  2226607457488: TensorSpec(shape=(), dtype=tf.resource, name=None)\n",
      "  2226607457104: TensorSpec(shape=(), dtype=tf.resource, name=None)\n",
      "  2226607472080: TensorSpec(shape=(), dtype=tf.resource, name=None)\n",
      "  2226607471120: TensorSpec(shape=(), dtype=tf.resource, name=None)\n",
      "  2226607471504: TensorSpec(shape=(), dtype=tf.resource, name=None)\n",
      "INFO:tensorflow:Assets written to: C:\\Users\\seanc\\AppData\\Local\\Temp\\tmpi21o3b2p\\assets\n"
     ]
    },
    {
     "name": "stderr",
     "output_type": "stream",
     "text": [
      "INFO:tensorflow:Assets written to: C:\\Users\\seanc\\AppData\\Local\\Temp\\tmpi21o3b2p\\assets\n"
     ]
    },
    {
     "name": "stdout",
     "output_type": "stream",
     "text": [
      "Saved artifact at 'C:\\Users\\seanc\\AppData\\Local\\Temp\\tmpi21o3b2p'. The following endpoints are available:\n",
      "\n",
      "* Endpoint 'serve'\n",
      "  args_0 (POSITIONAL_ONLY): TensorSpec(shape=(None, 200, 3), dtype=tf.float32, name='keras_tensor_224')\n",
      "Output Type:\n",
      "  TensorSpec(shape=(None, 4), dtype=tf.float32, name=None)\n",
      "Captures:\n",
      "  2224934729872: TensorSpec(shape=(), dtype=tf.resource, name=None)\n",
      "  2224934722960: TensorSpec(shape=(), dtype=tf.resource, name=None)\n",
      "  2224934724304: TensorSpec(shape=(), dtype=tf.resource, name=None)\n",
      "  2224934729488: TensorSpec(shape=(), dtype=tf.resource, name=None)\n",
      "  2224934727568: TensorSpec(shape=(), dtype=tf.resource, name=None)\n",
      "  2224934722768: TensorSpec(shape=(), dtype=tf.resource, name=None)\n",
      "  2224934721424: TensorSpec(shape=(), dtype=tf.resource, name=None)\n",
      "  2224934726224: TensorSpec(shape=(), dtype=tf.resource, name=None)\n",
      "  2224116704720: TensorSpec(shape=(), dtype=tf.resource, name=None)\n",
      "  2224116707216: TensorSpec(shape=(), dtype=tf.resource, name=None)\n",
      "Activity model saved to activity_model.tflite\n",
      "Social signal model saved to social_signal_model.tflite\n"
     ]
    }
   ],
   "source": [
    "# Convert the trained Keras model to TensorFlow Lite format\n",
    "activity_converter = tf.lite.TFLiteConverter.from_keras_model(activity_model)  # model is your trained Keras model\n",
    "tflite_activity_model = activity_converter.convert()\n",
    "\n",
    "social_signal_converter = tf.lite.TFLiteConverter.from_keras_model(social_signal_model)  # model is your trained Keras model\n",
    "tflite_social_signal_model = social_signal_converter.convert()\n",
    "\n",
    "\n",
    "# Save the converted model to a .tflite file\n",
    "with open('activity_model.tflite', 'wb') as f:\n",
    "    f.write(tflite_activity_model)\n",
    "\n",
    "print(\"Activity model saved to activity_model.tflite\")\n",
    "\n",
    "with open('social_signal_model.tflite', 'wb') as f:\n",
    "    f.write(tflite_social_signal_model)\n",
    "\n",
    "print(\"Social signal model saved to social_signal_model.tflite\")"
   ]
  },
  {
   "cell_type": "markdown",
   "metadata": {
    "id": "FGOj682D0PfS"
   },
   "source": [
    "# Good job!\n",
    "This is the end of Lab 3. In the next lab, you will focus on deploying your machine learning model onto your Android App in order to classify activities in real-time."
   ]
  },
  {
   "cell_type": "markdown",
   "metadata": {},
   "source": []
  },
  {
   "cell_type": "code",
   "execution_count": 24,
   "metadata": {},
   "outputs": [],
   "source": [
    "import tensorflow as tf\n",
    "import numpy as np\n",
    "from sklearn.metrics import accuracy_score, classification_report\n",
    "\n",
    "def evaluate_tflite_model(tflite_model_path, X_val, y_val_one_hot):\n",
    "    # Load TFLite model and allocate tensors\n",
    "    interpreter = tf.lite.Interpreter(model_path=tflite_model_path)\n",
    "    interpreter.allocate_tensors()\n",
    "    \n",
    "    # Get input and output details\n",
    "    input_details = interpreter.get_input_details()\n",
    "    output_details = interpreter.get_output_details()\n",
    "    \n",
    "    # Run inference on each validation sample\n",
    "    predictions = []\n",
    "    for i in range(len(X_val)):\n",
    "        # Preprocess input\n",
    "        input_data = np.expand_dims(X_val[i], axis=0).astype(np.float32)\n",
    "        \n",
    "        # Set the input tensor\n",
    "        interpreter.set_tensor(input_details[0]['index'], input_data)\n",
    "        \n",
    "        # Run the inference\n",
    "        interpreter.invoke()\n",
    "        \n",
    "        # Get the output tensor and store the prediction\n",
    "        output_data = interpreter.get_tensor(output_details[0]['index'])\n",
    "        pred_class = np.argmax(output_data)\n",
    "        predictions.append(pred_class)\n",
    "    \n",
    "    # Convert one-hot encoded labels to class labels\n",
    "    y_true = np.argmax(y_val_one_hot, axis=1)\n",
    "    \n",
    "    # Calculate accuracy\n",
    "    accuracy = accuracy_score(y_true, predictions)\n",
    "    \n",
    "    # Print the classification report\n",
    "    report = classification_report(y_true, predictions, digits=4)\n",
    "    \n",
    "    return accuracy, report\n"
   ]
  },
  {
   "cell_type": "code",
   "execution_count": 25,
   "metadata": {},
   "outputs": [
    {
     "name": "stdout",
     "output_type": "stream",
     "text": [
      "INFO:tensorflow:Assets written to: C:\\Users\\seanc\\AppData\\Local\\Temp\\tmpyei5c5it\\assets\n"
     ]
    },
    {
     "name": "stderr",
     "output_type": "stream",
     "text": [
      "INFO:tensorflow:Assets written to: C:\\Users\\seanc\\AppData\\Local\\Temp\\tmpyei5c5it\\assets\n"
     ]
    },
    {
     "name": "stdout",
     "output_type": "stream",
     "text": [
      "Saved artifact at 'C:\\Users\\seanc\\AppData\\Local\\Temp\\tmpyei5c5it'. The following endpoints are available:\n",
      "\n",
      "* Endpoint 'serve'\n",
      "  args_0 (POSITIONAL_ONLY): TensorSpec(shape=(None, 250, 3), dtype=tf.float32, name='keras_tensor_504')\n",
      "Output Type:\n",
      "  TensorSpec(shape=(None, 11), dtype=tf.float32, name=None)\n",
      "Captures:\n",
      "  2226453721936: TensorSpec(shape=(), dtype=tf.resource, name=None)\n",
      "  2226453720208: TensorSpec(shape=(), dtype=tf.resource, name=None)\n",
      "  2226453724048: TensorSpec(shape=(), dtype=tf.resource, name=None)\n",
      "  2226453708880: TensorSpec(shape=(), dtype=tf.resource, name=None)\n",
      "  2226453722320: TensorSpec(shape=(), dtype=tf.resource, name=None)\n",
      "  2226607457488: TensorSpec(shape=(), dtype=tf.resource, name=None)\n",
      "  2226607457104: TensorSpec(shape=(), dtype=tf.resource, name=None)\n",
      "  2226607472080: TensorSpec(shape=(), dtype=tf.resource, name=None)\n",
      "  2226607471120: TensorSpec(shape=(), dtype=tf.resource, name=None)\n",
      "  2226607471504: TensorSpec(shape=(), dtype=tf.resource, name=None)\n",
      "Fold 1 - Activity Model Accuracy: 0.9806\n",
      "              precision    recall  f1-score   support\n",
      "\n",
      "           0     0.9925    0.9869    0.9897       535\n",
      "           1     0.9937    0.9695    0.9814       491\n",
      "           2     0.9969    0.9939    0.9954      7191\n",
      "           3     0.9668    0.9980    0.9821       496\n",
      "           4     0.9944    0.9981    0.9962       530\n",
      "           5     0.9815    0.9707    0.9761      3008\n",
      "           6     0.9580    0.9612    0.9596      3065\n",
      "           7     0.9620    0.9597    0.9608      3004\n",
      "           8     0.9726    0.9891    0.9808      3017\n",
      "           9     0.9927    0.9890    0.9908       547\n",
      "          10     1.0000    1.0000    1.0000       502\n",
      "\n",
      "    accuracy                         0.9806     22386\n",
      "   macro avg     0.9828    0.9833    0.9830     22386\n",
      "weighted avg     0.9806    0.9806    0.9806     22386\n",
      "\n",
      "INFO:tensorflow:Assets written to: C:\\Users\\seanc\\AppData\\Local\\Temp\\tmp16s3gclw\\assets\n"
     ]
    },
    {
     "name": "stderr",
     "output_type": "stream",
     "text": [
      "INFO:tensorflow:Assets written to: C:\\Users\\seanc\\AppData\\Local\\Temp\\tmp16s3gclw\\assets\n"
     ]
    },
    {
     "name": "stdout",
     "output_type": "stream",
     "text": [
      "Saved artifact at 'C:\\Users\\seanc\\AppData\\Local\\Temp\\tmp16s3gclw'. The following endpoints are available:\n",
      "\n",
      "* Endpoint 'serve'\n",
      "  args_0 (POSITIONAL_ONLY): TensorSpec(shape=(None, 250, 3), dtype=tf.float32, name='keras_tensor_504')\n",
      "Output Type:\n",
      "  TensorSpec(shape=(None, 11), dtype=tf.float32, name=None)\n",
      "Captures:\n",
      "  2226453721936: TensorSpec(shape=(), dtype=tf.resource, name=None)\n",
      "  2226453720208: TensorSpec(shape=(), dtype=tf.resource, name=None)\n",
      "  2226453724048: TensorSpec(shape=(), dtype=tf.resource, name=None)\n",
      "  2226453708880: TensorSpec(shape=(), dtype=tf.resource, name=None)\n",
      "  2226453722320: TensorSpec(shape=(), dtype=tf.resource, name=None)\n",
      "  2226607457488: TensorSpec(shape=(), dtype=tf.resource, name=None)\n",
      "  2226607457104: TensorSpec(shape=(), dtype=tf.resource, name=None)\n",
      "  2226607472080: TensorSpec(shape=(), dtype=tf.resource, name=None)\n",
      "  2226607471120: TensorSpec(shape=(), dtype=tf.resource, name=None)\n",
      "  2226607471504: TensorSpec(shape=(), dtype=tf.resource, name=None)\n",
      "Fold 2 - Activity Model Accuracy: 0.9799\n",
      "              precision    recall  f1-score   support\n",
      "\n",
      "           0     0.9943    0.9887    0.9915       531\n",
      "           1     0.9978    0.9720    0.9847       465\n",
      "           2     0.9963    0.9938    0.9951      7106\n",
      "           3     0.9811    0.9905    0.9858       524\n",
      "           4     0.9936    1.0000    0.9968       469\n",
      "           5     0.9796    0.9657    0.9726      3031\n",
      "           6     0.9593    0.9608    0.9601      3090\n",
      "           7     0.9537    0.9614    0.9575      3084\n",
      "           8     0.9775    0.9896    0.9835      3074\n",
      "           9     0.9907    0.9907    0.9907       537\n",
      "          10     1.0000    1.0000    1.0000       475\n",
      "\n",
      "    accuracy                         0.9799     22386\n",
      "   macro avg     0.9840    0.9830    0.9835     22386\n",
      "weighted avg     0.9800    0.9799    0.9800     22386\n",
      "\n",
      "INFO:tensorflow:Assets written to: C:\\Users\\seanc\\AppData\\Local\\Temp\\tmpavyf6usl\\assets\n"
     ]
    },
    {
     "name": "stderr",
     "output_type": "stream",
     "text": [
      "INFO:tensorflow:Assets written to: C:\\Users\\seanc\\AppData\\Local\\Temp\\tmpavyf6usl\\assets\n"
     ]
    },
    {
     "name": "stdout",
     "output_type": "stream",
     "text": [
      "Saved artifact at 'C:\\Users\\seanc\\AppData\\Local\\Temp\\tmpavyf6usl'. The following endpoints are available:\n",
      "\n",
      "* Endpoint 'serve'\n",
      "  args_0 (POSITIONAL_ONLY): TensorSpec(shape=(None, 250, 3), dtype=tf.float32, name='keras_tensor_504')\n",
      "Output Type:\n",
      "  TensorSpec(shape=(None, 11), dtype=tf.float32, name=None)\n",
      "Captures:\n",
      "  2226453721936: TensorSpec(shape=(), dtype=tf.resource, name=None)\n",
      "  2226453720208: TensorSpec(shape=(), dtype=tf.resource, name=None)\n",
      "  2226453724048: TensorSpec(shape=(), dtype=tf.resource, name=None)\n",
      "  2226453708880: TensorSpec(shape=(), dtype=tf.resource, name=None)\n",
      "  2226453722320: TensorSpec(shape=(), dtype=tf.resource, name=None)\n",
      "  2226607457488: TensorSpec(shape=(), dtype=tf.resource, name=None)\n",
      "  2226607457104: TensorSpec(shape=(), dtype=tf.resource, name=None)\n",
      "  2226607472080: TensorSpec(shape=(), dtype=tf.resource, name=None)\n",
      "  2226607471120: TensorSpec(shape=(), dtype=tf.resource, name=None)\n",
      "  2226607471504: TensorSpec(shape=(), dtype=tf.resource, name=None)\n",
      "Fold 3 - Activity Model Accuracy: 0.9800\n",
      "              precision    recall  f1-score   support\n",
      "\n",
      "           0     0.9962    0.9759    0.9860       540\n",
      "           1     0.9941    0.9509    0.9720       530\n",
      "           2     0.9955    0.9951    0.9953      7102\n",
      "           3     0.9752    0.9942    0.9846       514\n",
      "           4     0.9926    0.9963    0.9944       538\n",
      "           5     0.9838    0.9640    0.9738      3026\n",
      "           6     0.9583    0.9675    0.9629      3042\n",
      "           7     0.9624    0.9618    0.9621      2984\n",
      "           8     0.9687    0.9870    0.9778      3077\n",
      "           9     0.9846    0.9865    0.9856       519\n",
      "          10     1.0000    1.0000    1.0000       514\n",
      "\n",
      "    accuracy                         0.9800     22386\n",
      "   macro avg     0.9829    0.9799    0.9813     22386\n",
      "weighted avg     0.9801    0.9800    0.9800     22386\n",
      "\n",
      "INFO:tensorflow:Assets written to: C:\\Users\\seanc\\AppData\\Local\\Temp\\tmpis_xv_gi\\assets\n"
     ]
    },
    {
     "name": "stderr",
     "output_type": "stream",
     "text": [
      "INFO:tensorflow:Assets written to: C:\\Users\\seanc\\AppData\\Local\\Temp\\tmpis_xv_gi\\assets\n"
     ]
    },
    {
     "name": "stdout",
     "output_type": "stream",
     "text": [
      "Saved artifact at 'C:\\Users\\seanc\\AppData\\Local\\Temp\\tmpis_xv_gi'. The following endpoints are available:\n",
      "\n",
      "* Endpoint 'serve'\n",
      "  args_0 (POSITIONAL_ONLY): TensorSpec(shape=(None, 250, 3), dtype=tf.float32, name='keras_tensor_504')\n",
      "Output Type:\n",
      "  TensorSpec(shape=(None, 11), dtype=tf.float32, name=None)\n",
      "Captures:\n",
      "  2226453721936: TensorSpec(shape=(), dtype=tf.resource, name=None)\n",
      "  2226453720208: TensorSpec(shape=(), dtype=tf.resource, name=None)\n",
      "  2226453724048: TensorSpec(shape=(), dtype=tf.resource, name=None)\n",
      "  2226453708880: TensorSpec(shape=(), dtype=tf.resource, name=None)\n",
      "  2226453722320: TensorSpec(shape=(), dtype=tf.resource, name=None)\n",
      "  2226607457488: TensorSpec(shape=(), dtype=tf.resource, name=None)\n",
      "  2226607457104: TensorSpec(shape=(), dtype=tf.resource, name=None)\n",
      "  2226607472080: TensorSpec(shape=(), dtype=tf.resource, name=None)\n",
      "  2226607471120: TensorSpec(shape=(), dtype=tf.resource, name=None)\n",
      "  2226607471504: TensorSpec(shape=(), dtype=tf.resource, name=None)\n",
      "Fold 4 - Activity Model Accuracy: 0.9806\n",
      "              precision    recall  f1-score   support\n",
      "\n",
      "           0     0.9981    0.9781    0.9880       547\n",
      "           1     0.9938    0.9660    0.9797       500\n",
      "           2     0.9950    0.9926    0.9938      7164\n",
      "           3     0.9699    0.9961    0.9829       518\n",
      "           4     0.9960    0.9960    0.9960       504\n",
      "           5     0.9840    0.9694    0.9766      3106\n",
      "           6     0.9586    0.9630    0.9608      3003\n",
      "           7     0.9617    0.9647    0.9632      2971\n",
      "           8     0.9736    0.9899    0.9817      3055\n",
      "           9     0.9855    0.9855    0.9855       483\n",
      "          10     1.0000    1.0000    1.0000       534\n",
      "\n",
      "    accuracy                         0.9806     22385\n",
      "   macro avg     0.9833    0.9819    0.9826     22385\n",
      "weighted avg     0.9806    0.9806    0.9806     22385\n",
      "\n",
      "INFO:tensorflow:Assets written to: C:\\Users\\seanc\\AppData\\Local\\Temp\\tmpidm1nrud\\assets\n"
     ]
    },
    {
     "name": "stderr",
     "output_type": "stream",
     "text": [
      "INFO:tensorflow:Assets written to: C:\\Users\\seanc\\AppData\\Local\\Temp\\tmpidm1nrud\\assets\n"
     ]
    },
    {
     "name": "stdout",
     "output_type": "stream",
     "text": [
      "Saved artifact at 'C:\\Users\\seanc\\AppData\\Local\\Temp\\tmpidm1nrud'. The following endpoints are available:\n",
      "\n",
      "* Endpoint 'serve'\n",
      "  args_0 (POSITIONAL_ONLY): TensorSpec(shape=(None, 250, 3), dtype=tf.float32, name='keras_tensor_504')\n",
      "Output Type:\n",
      "  TensorSpec(shape=(None, 11), dtype=tf.float32, name=None)\n",
      "Captures:\n",
      "  2226453721936: TensorSpec(shape=(), dtype=tf.resource, name=None)\n",
      "  2226453720208: TensorSpec(shape=(), dtype=tf.resource, name=None)\n",
      "  2226453724048: TensorSpec(shape=(), dtype=tf.resource, name=None)\n",
      "  2226453708880: TensorSpec(shape=(), dtype=tf.resource, name=None)\n",
      "  2226453722320: TensorSpec(shape=(), dtype=tf.resource, name=None)\n",
      "  2226607457488: TensorSpec(shape=(), dtype=tf.resource, name=None)\n",
      "  2226607457104: TensorSpec(shape=(), dtype=tf.resource, name=None)\n",
      "  2226607472080: TensorSpec(shape=(), dtype=tf.resource, name=None)\n",
      "  2226607471120: TensorSpec(shape=(), dtype=tf.resource, name=None)\n",
      "  2226607471504: TensorSpec(shape=(), dtype=tf.resource, name=None)\n",
      "Fold 5 - Activity Model Accuracy: 0.9757\n",
      "              precision    recall  f1-score   support\n",
      "\n",
      "           0     0.9799    0.9606    0.9702       508\n",
      "           1     0.9610    0.9536    0.9573       517\n",
      "           2     0.9962    0.9903    0.9932      7189\n",
      "           3     0.9459    0.9494    0.9477       534\n",
      "           4     0.9680    0.9866    0.9772       521\n",
      "           5     0.9809    0.9685    0.9747      3078\n",
      "           6     0.9507    0.9614    0.9560      3006\n",
      "           7     0.9612    0.9586    0.9599      2974\n",
      "           8     0.9688    0.9855    0.9771      3026\n",
      "           9     0.9733    0.9714    0.9724       525\n",
      "          10     0.9864    1.0000    0.9931       507\n",
      "\n",
      "    accuracy                         0.9757     22385\n",
      "   macro avg     0.9702    0.9714    0.9708     22385\n",
      "weighted avg     0.9758    0.9757    0.9758     22385\n",
      "\n",
      "Average Activity Model Accuracy across folds: 0.9794\n"
     ]
    }
   ],
   "source": [
    "fold_no = 1\n",
    "activity_accuracies = []\n",
    "kfold = KFold(n_splits=5, shuffle=True, random_state=42)\n",
    "\n",
    "# Evaluate the activity TFLite model for each fold\n",
    "for train_index, val_index in kfold.split(X_activity):\n",
    "    # Split the validation set for this fold\n",
    "    X_val_fold_activity, y_val_fold_activity = X_activity[val_index], y_activity_one_hot[val_index]\n",
    "    \n",
    "    # Export and evaluate TFLite model for activity classification\n",
    "    activity_tflite_path = f'activity_model_fold_{fold_no}.tflite'\n",
    "    activity_converter = tf.lite.TFLiteConverter.from_keras_model(activity_model)\n",
    "    tflite_activity_model = activity_converter.convert()\n",
    "    with open(activity_tflite_path, 'wb') as f:\n",
    "        f.write(tflite_activity_model)\n",
    "        \n",
    "    # Test accuracy of the activity TFLite model\n",
    "    activity_accuracy, activity_report = evaluate_tflite_model(activity_tflite_path, X_val_fold_activity, y_val_fold_activity)\n",
    "    activity_accuracies.append(activity_accuracy)\n",
    "    print(f'Fold {fold_no} - Activity Model Accuracy: {activity_accuracy:.4f}')\n",
    "    print(activity_report)\n",
    "    \n",
    "    fold_no += 1\n",
    "\n",
    "average_activity_accuracy = np.mean(activity_accuracies)\n",
    "print(f'Average Activity Model Accuracy across folds: {average_activity_accuracy:.4f}')\n"
   ]
  },
  {
   "cell_type": "code",
   "execution_count": 26,
   "metadata": {},
   "outputs": [
    {
     "name": "stdout",
     "output_type": "stream",
     "text": [
      "INFO:tensorflow:Assets written to: C:\\Users\\seanc\\AppData\\Local\\Temp\\tmpwtvvj2dy\\assets\n"
     ]
    },
    {
     "name": "stderr",
     "output_type": "stream",
     "text": [
      "INFO:tensorflow:Assets written to: C:\\Users\\seanc\\AppData\\Local\\Temp\\tmpwtvvj2dy\\assets\n"
     ]
    },
    {
     "name": "stdout",
     "output_type": "stream",
     "text": [
      "Saved artifact at 'C:\\Users\\seanc\\AppData\\Local\\Temp\\tmpwtvvj2dy'. The following endpoints are available:\n",
      "\n",
      "* Endpoint 'serve'\n",
      "  args_0 (POSITIONAL_ONLY): TensorSpec(shape=(None, 200, 3), dtype=tf.float32, name='keras_tensor_224')\n",
      "Output Type:\n",
      "  TensorSpec(shape=(None, 4), dtype=tf.float32, name=None)\n",
      "Captures:\n",
      "  2224934729872: TensorSpec(shape=(), dtype=tf.resource, name=None)\n",
      "  2224934722960: TensorSpec(shape=(), dtype=tf.resource, name=None)\n",
      "  2224934724304: TensorSpec(shape=(), dtype=tf.resource, name=None)\n",
      "  2224934729488: TensorSpec(shape=(), dtype=tf.resource, name=None)\n",
      "  2224934727568: TensorSpec(shape=(), dtype=tf.resource, name=None)\n",
      "  2224934722768: TensorSpec(shape=(), dtype=tf.resource, name=None)\n",
      "  2224934721424: TensorSpec(shape=(), dtype=tf.resource, name=None)\n",
      "  2224934726224: TensorSpec(shape=(), dtype=tf.resource, name=None)\n",
      "  2224116704720: TensorSpec(shape=(), dtype=tf.resource, name=None)\n",
      "  2224116707216: TensorSpec(shape=(), dtype=tf.resource, name=None)\n",
      "Fold 1 - Social Signal Model Accuracy: 0.8547\n",
      "              precision    recall  f1-score   support\n",
      "\n",
      "           0     0.8962    0.8554    0.8754     16747\n",
      "           1     0.8788    0.9109    0.8946      8286\n",
      "           2     0.8380    0.7014    0.7637      8179\n",
      "           3     0.8287    0.8829    0.8549     27370\n",
      "\n",
      "    accuracy                         0.8547     60582\n",
      "   macro avg     0.8604    0.8377    0.8471     60582\n",
      "weighted avg     0.8555    0.8547    0.8537     60582\n",
      "\n",
      "INFO:tensorflow:Assets written to: C:\\Users\\seanc\\AppData\\Local\\Temp\\tmp_oo12ieh\\assets\n"
     ]
    },
    {
     "name": "stderr",
     "output_type": "stream",
     "text": [
      "INFO:tensorflow:Assets written to: C:\\Users\\seanc\\AppData\\Local\\Temp\\tmp_oo12ieh\\assets\n"
     ]
    },
    {
     "name": "stdout",
     "output_type": "stream",
     "text": [
      "Saved artifact at 'C:\\Users\\seanc\\AppData\\Local\\Temp\\tmp_oo12ieh'. The following endpoints are available:\n",
      "\n",
      "* Endpoint 'serve'\n",
      "  args_0 (POSITIONAL_ONLY): TensorSpec(shape=(None, 200, 3), dtype=tf.float32, name='keras_tensor_224')\n",
      "Output Type:\n",
      "  TensorSpec(shape=(None, 4), dtype=tf.float32, name=None)\n",
      "Captures:\n",
      "  2224934729872: TensorSpec(shape=(), dtype=tf.resource, name=None)\n",
      "  2224934722960: TensorSpec(shape=(), dtype=tf.resource, name=None)\n",
      "  2224934724304: TensorSpec(shape=(), dtype=tf.resource, name=None)\n",
      "  2224934729488: TensorSpec(shape=(), dtype=tf.resource, name=None)\n",
      "  2224934727568: TensorSpec(shape=(), dtype=tf.resource, name=None)\n",
      "  2224934722768: TensorSpec(shape=(), dtype=tf.resource, name=None)\n",
      "  2224934721424: TensorSpec(shape=(), dtype=tf.resource, name=None)\n",
      "  2224934726224: TensorSpec(shape=(), dtype=tf.resource, name=None)\n",
      "  2224116704720: TensorSpec(shape=(), dtype=tf.resource, name=None)\n",
      "  2224116707216: TensorSpec(shape=(), dtype=tf.resource, name=None)\n",
      "Fold 2 - Social Signal Model Accuracy: 0.8544\n",
      "              precision    recall  f1-score   support\n",
      "\n",
      "           0     0.8949    0.8538    0.8739     16869\n",
      "           1     0.8806    0.9073    0.8938      8094\n",
      "           2     0.8378    0.7010    0.7633      8171\n",
      "           3     0.8287    0.8849    0.8559     27448\n",
      "\n",
      "    accuracy                         0.8544     60582\n",
      "   macro avg     0.8605    0.8368    0.8467     60582\n",
      "weighted avg     0.8553    0.8544    0.8535     60582\n",
      "\n",
      "INFO:tensorflow:Assets written to: C:\\Users\\seanc\\AppData\\Local\\Temp\\tmpxhplzlbf\\assets\n"
     ]
    },
    {
     "name": "stderr",
     "output_type": "stream",
     "text": [
      "INFO:tensorflow:Assets written to: C:\\Users\\seanc\\AppData\\Local\\Temp\\tmpxhplzlbf\\assets\n"
     ]
    },
    {
     "name": "stdout",
     "output_type": "stream",
     "text": [
      "Saved artifact at 'C:\\Users\\seanc\\AppData\\Local\\Temp\\tmpxhplzlbf'. The following endpoints are available:\n",
      "\n",
      "* Endpoint 'serve'\n",
      "  args_0 (POSITIONAL_ONLY): TensorSpec(shape=(None, 200, 3), dtype=tf.float32, name='keras_tensor_224')\n",
      "Output Type:\n",
      "  TensorSpec(shape=(None, 4), dtype=tf.float32, name=None)\n",
      "Captures:\n",
      "  2224934729872: TensorSpec(shape=(), dtype=tf.resource, name=None)\n",
      "  2224934722960: TensorSpec(shape=(), dtype=tf.resource, name=None)\n",
      "  2224934724304: TensorSpec(shape=(), dtype=tf.resource, name=None)\n",
      "  2224934729488: TensorSpec(shape=(), dtype=tf.resource, name=None)\n",
      "  2224934727568: TensorSpec(shape=(), dtype=tf.resource, name=None)\n",
      "  2224934722768: TensorSpec(shape=(), dtype=tf.resource, name=None)\n",
      "  2224934721424: TensorSpec(shape=(), dtype=tf.resource, name=None)\n",
      "  2224934726224: TensorSpec(shape=(), dtype=tf.resource, name=None)\n",
      "  2224116704720: TensorSpec(shape=(), dtype=tf.resource, name=None)\n",
      "  2224116707216: TensorSpec(shape=(), dtype=tf.resource, name=None)\n",
      "Fold 3 - Social Signal Model Accuracy: 0.8565\n",
      "              precision    recall  f1-score   support\n",
      "\n",
      "           0     0.8998    0.8587    0.8788     16907\n",
      "           1     0.8816    0.9111    0.8961      8156\n",
      "           2     0.8347    0.7084    0.7664      8249\n",
      "           3     0.8303    0.8835    0.8561     27270\n",
      "\n",
      "    accuracy                         0.8565     60582\n",
      "   macro avg     0.8616    0.8404    0.8494     60582\n",
      "weighted avg     0.8572    0.8565    0.8556     60582\n",
      "\n",
      "INFO:tensorflow:Assets written to: C:\\Users\\seanc\\AppData\\Local\\Temp\\tmpmel99sfk\\assets\n"
     ]
    },
    {
     "name": "stderr",
     "output_type": "stream",
     "text": [
      "INFO:tensorflow:Assets written to: C:\\Users\\seanc\\AppData\\Local\\Temp\\tmpmel99sfk\\assets\n"
     ]
    },
    {
     "name": "stdout",
     "output_type": "stream",
     "text": [
      "Saved artifact at 'C:\\Users\\seanc\\AppData\\Local\\Temp\\tmpmel99sfk'. The following endpoints are available:\n",
      "\n",
      "* Endpoint 'serve'\n",
      "  args_0 (POSITIONAL_ONLY): TensorSpec(shape=(None, 200, 3), dtype=tf.float32, name='keras_tensor_224')\n",
      "Output Type:\n",
      "  TensorSpec(shape=(None, 4), dtype=tf.float32, name=None)\n",
      "Captures:\n",
      "  2224934729872: TensorSpec(shape=(), dtype=tf.resource, name=None)\n",
      "  2224934722960: TensorSpec(shape=(), dtype=tf.resource, name=None)\n",
      "  2224934724304: TensorSpec(shape=(), dtype=tf.resource, name=None)\n",
      "  2224934729488: TensorSpec(shape=(), dtype=tf.resource, name=None)\n",
      "  2224934727568: TensorSpec(shape=(), dtype=tf.resource, name=None)\n",
      "  2224934722768: TensorSpec(shape=(), dtype=tf.resource, name=None)\n",
      "  2224934721424: TensorSpec(shape=(), dtype=tf.resource, name=None)\n",
      "  2224934726224: TensorSpec(shape=(), dtype=tf.resource, name=None)\n",
      "  2224116704720: TensorSpec(shape=(), dtype=tf.resource, name=None)\n",
      "  2224116707216: TensorSpec(shape=(), dtype=tf.resource, name=None)\n",
      "Fold 4 - Social Signal Model Accuracy: 0.8552\n",
      "              precision    recall  f1-score   support\n",
      "\n",
      "           0     0.8969    0.8558    0.8759     16801\n",
      "           1     0.8847    0.9097    0.8970      8238\n",
      "           2     0.8315    0.7019    0.7612      8231\n",
      "           3     0.8294    0.8847    0.8561     27312\n",
      "\n",
      "    accuracy                         0.8552     60582\n",
      "   macro avg     0.8606    0.8380    0.8476     60582\n",
      "weighted avg     0.8559    0.8552    0.8543     60582\n",
      "\n",
      "INFO:tensorflow:Assets written to: C:\\Users\\seanc\\AppData\\Local\\Temp\\tmpdqvfrown\\assets\n"
     ]
    },
    {
     "name": "stderr",
     "output_type": "stream",
     "text": [
      "INFO:tensorflow:Assets written to: C:\\Users\\seanc\\AppData\\Local\\Temp\\tmpdqvfrown\\assets\n"
     ]
    },
    {
     "name": "stdout",
     "output_type": "stream",
     "text": [
      "Saved artifact at 'C:\\Users\\seanc\\AppData\\Local\\Temp\\tmpdqvfrown'. The following endpoints are available:\n",
      "\n",
      "* Endpoint 'serve'\n",
      "  args_0 (POSITIONAL_ONLY): TensorSpec(shape=(None, 200, 3), dtype=tf.float32, name='keras_tensor_224')\n",
      "Output Type:\n",
      "  TensorSpec(shape=(None, 4), dtype=tf.float32, name=None)\n",
      "Captures:\n",
      "  2224934729872: TensorSpec(shape=(), dtype=tf.resource, name=None)\n",
      "  2224934722960: TensorSpec(shape=(), dtype=tf.resource, name=None)\n",
      "  2224934724304: TensorSpec(shape=(), dtype=tf.resource, name=None)\n",
      "  2224934729488: TensorSpec(shape=(), dtype=tf.resource, name=None)\n",
      "  2224934727568: TensorSpec(shape=(), dtype=tf.resource, name=None)\n",
      "  2224934722768: TensorSpec(shape=(), dtype=tf.resource, name=None)\n",
      "  2224934721424: TensorSpec(shape=(), dtype=tf.resource, name=None)\n",
      "  2224934726224: TensorSpec(shape=(), dtype=tf.resource, name=None)\n",
      "  2224116704720: TensorSpec(shape=(), dtype=tf.resource, name=None)\n",
      "  2224116707216: TensorSpec(shape=(), dtype=tf.resource, name=None)\n",
      "Fold 5 - Social Signal Model Accuracy: 0.8482\n",
      "              precision    recall  f1-score   support\n",
      "\n",
      "           0     0.8921    0.8529    0.8721     16732\n",
      "           1     0.8650    0.8994    0.8819      8184\n",
      "           2     0.8252    0.6934    0.7536      8326\n",
      "           3     0.8246    0.8771    0.8501     27339\n",
      "\n",
      "    accuracy                         0.8482     60581\n",
      "   macro avg     0.8517    0.8307    0.8394     60581\n",
      "weighted avg     0.8488    0.8482    0.8472     60581\n",
      "\n",
      "Average Social Signal Model Accuracy across folds: 0.8538\n"
     ]
    }
   ],
   "source": [
    "fold_no = 1\n",
    "social_signal_accuracies = []\n",
    "\n",
    "# Evaluate the social signal TFLite model for each fold\n",
    "for train_index, val_index in kfold.split(X_social_signal):\n",
    "    # Split the validation set for this fold\n",
    "    X_val_fold_social_signal, y_val_fold_social_signal = X_social_signal[val_index], y_social_signal_one_hot[val_index]\n",
    "    \n",
    "    # Export and evaluate TFLite model for social signal classification\n",
    "    social_signal_tflite_path = f'social_signal_model_fold_{fold_no}.tflite'\n",
    "    social_signal_converter = tf.lite.TFLiteConverter.from_keras_model(social_signal_model)\n",
    "    tflite_social_signal_model = social_signal_converter.convert()\n",
    "    with open(social_signal_tflite_path, 'wb') as f:\n",
    "        f.write(tflite_social_signal_model)\n",
    "        \n",
    "    # Test accuracy of the social signal TFLite model\n",
    "    social_signal_accuracy, social_signal_report = evaluate_tflite_model(social_signal_tflite_path, X_val_fold_social_signal, y_val_fold_social_signal)\n",
    "    social_signal_accuracies.append(social_signal_accuracy)\n",
    "    print(f'Fold {fold_no} - Social Signal Model Accuracy: {social_signal_accuracy:.4f}')\n",
    "    print(social_signal_report)\n",
    "    \n",
    "    fold_no += 1\n",
    "\n",
    "average_social_signal_accuracy = np.mean(social_signal_accuracies)\n",
    "print(f'Average Social Signal Model Accuracy across folds: {average_social_signal_accuracy:.4f}')\n"
   ]
  },
  {
   "cell_type": "code",
   "execution_count": 2,
   "metadata": {},
   "outputs": [
    {
     "ename": "ValueError",
     "evalue": "Model provided must have at least 7 bytes to hold identifier.\n",
     "output_type": "error",
     "traceback": [
      "\u001b[1;31m---------------------------------------------------------------------------\u001b[0m",
      "\u001b[1;31mValueError\u001b[0m                                Traceback (most recent call last)",
      "Cell \u001b[1;32mIn[2], line 9\u001b[0m\n\u001b[0;32m      6\u001b[0m social_signal_model_path \u001b[38;5;241m=\u001b[39m \u001b[38;5;124m'\u001b[39m\u001b[38;5;124m./app/src/main/assets/social_signal_model.tflite\u001b[39m\u001b[38;5;124m'\u001b[39m\n\u001b[0;32m      8\u001b[0m \u001b[38;5;66;03m# Load the TFLite models\u001b[39;00m\n\u001b[1;32m----> 9\u001b[0m activity_interpreter \u001b[38;5;241m=\u001b[39m \u001b[43mtf\u001b[49m\u001b[38;5;241;43m.\u001b[39;49m\u001b[43mlite\u001b[49m\u001b[38;5;241;43m.\u001b[39;49m\u001b[43mInterpreter\u001b[49m\u001b[43m(\u001b[49m\u001b[43mmodel_path\u001b[49m\u001b[38;5;241;43m=\u001b[39;49m\u001b[43mactivity_model_path\u001b[49m\u001b[43m)\u001b[49m\n\u001b[0;32m     10\u001b[0m social_signal_interpreter \u001b[38;5;241m=\u001b[39m tf\u001b[38;5;241m.\u001b[39mlite\u001b[38;5;241m.\u001b[39mInterpreter(model_path\u001b[38;5;241m=\u001b[39msocial_signal_model_path)\n\u001b[0;32m     12\u001b[0m \u001b[38;5;66;03m# Allocate tensors for both models\u001b[39;00m\n",
      "File \u001b[1;32mc:\\Users\\seanc\\miniconda3\\envs\\pdiot\\Lib\\site-packages\\tensorflow\\lite\\python\\interpreter.py:473\u001b[0m, in \u001b[0;36mInterpreter.__init__\u001b[1;34m(self, model_path, model_content, experimental_delegates, num_threads, experimental_op_resolver_type, experimental_preserve_all_tensors, experimental_disable_delegate_clustering, experimental_default_delegate_latest_features)\u001b[0m\n\u001b[0;32m    467\u001b[0m custom_op_registerers_by_name \u001b[38;5;241m=\u001b[39m [\n\u001b[0;32m    468\u001b[0m     x \u001b[38;5;28;01mfor\u001b[39;00m x \u001b[38;5;129;01min\u001b[39;00m \u001b[38;5;28mself\u001b[39m\u001b[38;5;241m.\u001b[39m_custom_op_registerers \u001b[38;5;28;01mif\u001b[39;00m \u001b[38;5;28misinstance\u001b[39m(x, \u001b[38;5;28mstr\u001b[39m)\n\u001b[0;32m    469\u001b[0m ]\n\u001b[0;32m    470\u001b[0m custom_op_registerers_by_func \u001b[38;5;241m=\u001b[39m [\n\u001b[0;32m    471\u001b[0m     x \u001b[38;5;28;01mfor\u001b[39;00m x \u001b[38;5;129;01min\u001b[39;00m \u001b[38;5;28mself\u001b[39m\u001b[38;5;241m.\u001b[39m_custom_op_registerers \u001b[38;5;28;01mif\u001b[39;00m \u001b[38;5;129;01mnot\u001b[39;00m \u001b[38;5;28misinstance\u001b[39m(x, \u001b[38;5;28mstr\u001b[39m)\n\u001b[0;32m    472\u001b[0m ]\n\u001b[1;32m--> 473\u001b[0m \u001b[38;5;28mself\u001b[39m\u001b[38;5;241m.\u001b[39m_interpreter \u001b[38;5;241m=\u001b[39m \u001b[43m_interpreter_wrapper\u001b[49m\u001b[38;5;241;43m.\u001b[39;49m\u001b[43mCreateWrapperFromFile\u001b[49m\u001b[43m(\u001b[49m\n\u001b[0;32m    474\u001b[0m \u001b[43m    \u001b[49m\u001b[43mmodel_path\u001b[49m\u001b[43m,\u001b[49m\n\u001b[0;32m    475\u001b[0m \u001b[43m    \u001b[49m\u001b[43mop_resolver_id\u001b[49m\u001b[43m,\u001b[49m\n\u001b[0;32m    476\u001b[0m \u001b[43m    \u001b[49m\u001b[43mcustom_op_registerers_by_name\u001b[49m\u001b[43m,\u001b[49m\n\u001b[0;32m    477\u001b[0m \u001b[43m    \u001b[49m\u001b[43mcustom_op_registerers_by_func\u001b[49m\u001b[43m,\u001b[49m\n\u001b[0;32m    478\u001b[0m \u001b[43m    \u001b[49m\u001b[43mexperimental_preserve_all_tensors\u001b[49m\u001b[43m,\u001b[49m\n\u001b[0;32m    479\u001b[0m \u001b[43m    \u001b[49m\u001b[43mexperimental_disable_delegate_clustering\u001b[49m\u001b[43m,\u001b[49m\n\u001b[0;32m    480\u001b[0m \u001b[43m    \u001b[49m\u001b[38;5;28;43mint\u001b[39;49m\u001b[43m(\u001b[49m\u001b[43mnum_threads\u001b[49m\u001b[43m \u001b[49m\u001b[38;5;129;43;01mor\u001b[39;49;00m\u001b[43m \u001b[49m\u001b[38;5;241;43m1\u001b[39;49m\u001b[43m)\u001b[49m\u001b[43m,\u001b[49m\n\u001b[0;32m    481\u001b[0m \u001b[43m    \u001b[49m\u001b[43mexperimental_default_delegate_latest_features\u001b[49m\u001b[43m,\u001b[49m\n\u001b[0;32m    482\u001b[0m \u001b[43m\u001b[49m\u001b[43m)\u001b[49m\n\u001b[0;32m    483\u001b[0m \u001b[38;5;28;01mif\u001b[39;00m \u001b[38;5;129;01mnot\u001b[39;00m \u001b[38;5;28mself\u001b[39m\u001b[38;5;241m.\u001b[39m_interpreter:\n\u001b[0;32m    484\u001b[0m   \u001b[38;5;28;01mraise\u001b[39;00m \u001b[38;5;167;01mValueError\u001b[39;00m(\u001b[38;5;124m'\u001b[39m\u001b[38;5;124mFailed to open \u001b[39m\u001b[38;5;132;01m{}\u001b[39;00m\u001b[38;5;124m'\u001b[39m\u001b[38;5;241m.\u001b[39mformat(model_path))\n",
      "\u001b[1;31mValueError\u001b[0m: Model provided must have at least 7 bytes to hold identifier.\n"
     ]
    }
   ],
   "source": [
    "import tensorflow as tf\n",
    "import numpy as np\n",
    "\n",
    "# Paths to the TFLite models\n",
    "activity_model_path = './app/src/main/assets/activity_model.tflite'\n",
    "social_signal_model_path = './app/src/main/assets/social_signal_model.tflite'\n",
    "\n",
    "# Load the TFLite models\n",
    "activity_interpreter = tf.lite.Interpreter(model_path=activity_model_path)\n",
    "social_signal_interpreter = tf.lite.Interpreter(model_path=social_signal_model_path)\n",
    "\n",
    "# Allocate tensors for both models\n",
    "activity_interpreter.allocate_tensors()\n",
    "social_signal_interpreter.allocate_tensors()\n",
    "\n",
    "# Retrieve input and output details for each model\n",
    "activity_input_details = activity_interpreter.get_input_details()\n",
    "activity_output_details = activity_interpreter.get_output_details()\n",
    "social_signal_input_details = social_signal_interpreter.get_input_details()\n",
    "social_signal_output_details = social_signal_interpreter.get_output_details()\n",
    "\n",
    "# Check input and output shapes\n",
    "activity_input_shape = activity_input_details[0]['shape']\n",
    "social_signal_input_shape = social_signal_input_details[0]['shape']\n",
    "\n",
    "# Generate random input data with the required shapes for each model\n",
    "activity_input_data = np.random.rand(*activity_input_shape).astype(np.float32)\n",
    "social_signal_input_data = np.random.rand(*social_signal_input_shape).astype(np.float32)\n",
    "\n",
    "# Run inference on the activity model\n",
    "activity_interpreter.set_tensor(activity_input_details[0]['index'], activity_input_data)\n",
    "activity_interpreter.invoke()\n",
    "activity_output_data = activity_interpreter.get_tensor(activity_output_details[0]['index'])\n",
    "\n",
    "# Run inference on the social signal model\n",
    "social_signal_interpreter.set_tensor(social_signal_input_details[0]['index'], social_signal_input_data)\n",
    "social_signal_interpreter.invoke()\n",
    "social_signal_output_data = social_signal_interpreter.get_tensor(social_signal_output_details[0]['index'])\n",
    "\n",
    "print(\"Activity Model Output:\", activity_output_data)\n",
    "print(\"Social Signal Model Output:\", social_signal_output_data)\n"
   ]
  },
  {
   "cell_type": "code",
   "execution_count": null,
   "metadata": {},
   "outputs": [],
   "source": []
  },
  {
   "cell_type": "markdown",
   "metadata": {},
   "source": []
  }
 ],
 "metadata": {
  "colab": {
   "provenance": []
  },
  "kernelspec": {
   "display_name": "pdiot",
   "language": "python",
   "name": "python3"
  },
  "language_info": {
   "codemirror_mode": {
    "name": "ipython",
    "version": 3
   },
   "file_extension": ".py",
   "mimetype": "text/x-python",
   "name": "python",
   "nbconvert_exporter": "python",
   "pygments_lexer": "ipython3",
   "version": "3.12.5"
  }
 },
 "nbformat": 4,
 "nbformat_minor": 4
}
